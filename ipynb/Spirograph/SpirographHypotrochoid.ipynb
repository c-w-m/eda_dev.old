{
 "cells": [
  {
   "cell_type": "markdown",
   "metadata": {},
   "source": [
    "# [Python Turtle Spirograph](https://www.101computing.net/python-turtle-spirograph/)\n",
    "\n",
    "A **hypotrochoid** is a type of curve traced by a point attached to a circle of radius r rolling around the inside of a fixed circle of radius R, where the point is a distance d from the center of the interior circle.\n",
    "The parametric equations for a hypotrochoid are:\n",
    "hypotrochoid-formulas\n",
    "\n",
    "![](images/hypotrochoid-formulas.png)\n",
    "\n",
    "Where θ (theta) is the angle formed by the horizontal and the center of the rolling circle.\n",
    "\n",
    "Source: https://en.wikipedia.org/wiki/Hypotrochoid\n",
    "\n",
    "You can tweak the Python code provided below to change the three key parameters: R, r and d to see their impacts on the hypotrochoid curve."
   ]
  },
  {
   "cell_type": "code",
   "execution_count": 9,
   "metadata": {},
   "outputs": [
    {
     "ename": "AttributeError",
     "evalue": "'Turtle' object has no attribute 'tracer'",
     "output_type": "error",
     "traceback": [
      "\u001b[0;31m---------------------------------------------------------------------------\u001b[0m",
      "\u001b[0;31mAttributeError\u001b[0m                            Traceback (most recent call last)",
      "\u001b[0;32m<ipython-input-9-83074c05faa6>\u001b[0m in \u001b[0;36m<module>\u001b[0;34m()\u001b[0m\n\u001b[1;32m      9\u001b[0m \u001b[0mmySpirograph\u001b[0m \u001b[0;34m=\u001b[0m \u001b[0mturtle\u001b[0m\u001b[0;34m.\u001b[0m\u001b[0mTurtle\u001b[0m\u001b[0;34m(\u001b[0m\u001b[0;34m)\u001b[0m\u001b[0;34m\u001b[0m\u001b[0;34m\u001b[0m\u001b[0m\n\u001b[1;32m     10\u001b[0m \u001b[0mmySpirograph\u001b[0m\u001b[0;34m.\u001b[0m\u001b[0mhideturtle\u001b[0m\u001b[0;34m(\u001b[0m\u001b[0;34m)\u001b[0m\u001b[0;34m\u001b[0m\u001b[0;34m\u001b[0m\u001b[0m\n\u001b[0;32m---> 11\u001b[0;31m \u001b[0mmySpirograph\u001b[0m\u001b[0;34m.\u001b[0m\u001b[0mtracer\u001b[0m\u001b[0;34m(\u001b[0m\u001b[0;36m0\u001b[0m\u001b[0;34m)\u001b[0m\u001b[0;34m\u001b[0m\u001b[0;34m\u001b[0m\u001b[0m\n\u001b[0m\u001b[1;32m     12\u001b[0m \u001b[0mmySpirograph\u001b[0m\u001b[0;34m.\u001b[0m\u001b[0mspeed\u001b[0m\u001b[0;34m(\u001b[0m\u001b[0;36m0\u001b[0m\u001b[0;34m)\u001b[0m\u001b[0;34m\u001b[0m\u001b[0;34m\u001b[0m\u001b[0m\n\u001b[1;32m     13\u001b[0m \u001b[0mmySpirograph\u001b[0m\u001b[0;34m.\u001b[0m\u001b[0mpensize\u001b[0m\u001b[0;34m(\u001b[0m\u001b[0;36m2\u001b[0m\u001b[0;34m)\u001b[0m\u001b[0;34m\u001b[0m\u001b[0;34m\u001b[0m\u001b[0m\n",
      "\u001b[0;31mAttributeError\u001b[0m: 'Turtle' object has no attribute 'tracer'"
     ]
    }
   ],
   "source": [
    "#Python Turtle - Spirograph - www.101computing.net/python-turtle-spirograph/\n",
    "import turtle\n",
    "from math import cos,sin\n",
    "from time import sleep\n",
    "\n",
    "window = turtle.Screen()\n",
    "window.bgcolor(\"#FFFFFF\")\n",
    "\n",
    "mySpirograph = turtle.Turtle()\n",
    "mySpirograph.hideturtle()\n",
    "mySpirograph.tracer(0)\n",
    "mySpirograph.speed(0)\n",
    "mySpirograph.pensize(2)\n",
    "\n",
    "myPen = turtle.Turtle()\n",
    "myPen.hideturtle()\n",
    "myPen.tracer(0)\n",
    "myPen.speed(0)\n",
    "myPen.pensize(3)\n",
    "myPen.color(\"#AA00AA\")\n",
    "\n",
    "R = 125\n",
    "r = 75\n",
    "d = 125\n",
    "\n",
    "angle = 0\n",
    "\n",
    "myPen.penup()\n",
    "myPen.goto(R-r+d,0)\n",
    "myPen.pendown()\n",
    "\n",
    "theta = 0.2\n",
    "steps = int(6*3.14/theta)\n",
    "\n",
    "for t in range(0,steps):\n",
    "    mySpirograph.clear()\n",
    "    mySpirograph.penup()\n",
    "    mySpirograph.setheading(0)\n",
    "    mySpirograph.goto(0,-R)\n",
    "    mySpirograph.color(\"#999999\")\n",
    "    mySpirograph.pendown()\n",
    "    mySpirograph.circle(R)\n",
    "    angle+=theta\n",
    "    \n",
    "    x = (R - r) * cos(angle)\n",
    "    y = (R - r) * sin(angle)\n",
    "    mySpirograph.penup()\n",
    "    mySpirograph.goto(x,y-r)\n",
    "    mySpirograph.color(\"#222222\")\n",
    "    mySpirograph.pendown()\n",
    "    mySpirograph.circle(r)\n",
    "    mySpirograph.penup()\n",
    "    mySpirograph.goto(x,y)\n",
    "    mySpirograph.dot(5)\n",
    "    \n",
    "    x = (R - r) * cos(angle) + d * cos(((R-r)/r)*angle)\n",
    "    y = (R - r) * sin(angle) - d * sin(((R-r)/r)*angle)\n",
    "    mySpirograph.pendown()\n",
    "    mySpirograph.goto(x,y)\n",
    "    #mySpirograph.setheading((R-r)*degrees(angle)/r)\n",
    "    #mySpirograph.forward(d)\n",
    "    mySpirograph.dot(5)\n",
    "    myPen.goto(mySpirograph.pos())\n",
    "    \n",
    "    mySpirograph.getscreen().update() \n",
    "    sleep(0.05)\n",
    "\n",
    "sleep(0.5)\n",
    "#Hide Spirograph\n",
    "mySpirograph.clear()\n",
    "mySpirograph.getscreen().update()"
   ]
  },
  {
   "cell_type": "code",
   "execution_count": null,
   "metadata": {},
   "outputs": [],
   "source": []
  }
 ],
 "metadata": {
  "kernelspec": {
   "display_name": "Environment (conda_py36)",
   "language": "python",
   "name": "conda_py36"
  },
  "language_info": {
   "codemirror_mode": {
    "name": "ipython",
    "version": 3
   },
   "file_extension": ".py",
   "mimetype": "text/x-python",
   "name": "python",
   "nbconvert_exporter": "python",
   "pygments_lexer": "ipython3",
   "version": "3.6.7"
  }
 },
 "nbformat": 4,
 "nbformat_minor": 2
}
