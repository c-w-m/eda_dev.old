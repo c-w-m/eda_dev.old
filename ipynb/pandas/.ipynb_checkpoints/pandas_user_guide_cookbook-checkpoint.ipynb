{
 "cells": [
  {
   "cell_type": "markdown",
   "metadata": {},
   "source": [
    "##### Pandas - Getting started\n",
    "[link](https://pandas.pydata.org/pandas-docs/stable/user_guide/cookbook.html#cookbook)\n",
    "\n",
    "# Cookbook\n",
    "This is a repository for short and sweet examples and links for useful pandas recipes. We encourage users to add to this documentation.\n",
    "\n",
    "Adding interesting links and/or inline examples to this section is a great First Pull Request.\n",
    "\n",
    "Simplified, condensed, new-user friendly, in-line examples have been inserted where possible to augment the Stack-Overflow and GitHub links. Many of the links contain expanded information, above what the in-line examples offer.\n",
    "\n",
    "Pandas (pd) and Numpy (np) are the only two abbreviated imported modules. The rest are kept explicitly imported for newer users.\n",
    "\n",
    "These examples are written for Python 3. Minor tweaks might be necessary for earlier python versions.\n",
    "\n",
    "## Idioms\n",
    "These are some neat pandas idioms\n",
    "if-then/if-then-else on one column, and assignment to another one or more columns:"
   ]
  },
  {
   "cell_type": "code",
   "execution_count": null,
   "metadata": {},
   "outputs": [],
   "source": []
  }
 ],
 "metadata": {
  "kernelspec": {
   "display_name": "eda_dev39",
   "language": "python",
   "name": "eda_dev39"
  },
  "language_info": {
   "codemirror_mode": {
    "name": "ipython",
    "version": 3
   },
   "file_extension": ".py",
   "mimetype": "text/x-python",
   "name": "python",
   "nbconvert_exporter": "python",
   "pygments_lexer": "ipython3",
   "version": "3.9.4"
  }
 },
 "nbformat": 4,
 "nbformat_minor": 4
}
