{
 "cells": [
  {
   "cell_type": "markdown",
   "id": "2e7dc668-46c5-4657-adf7-9578f05bae7a",
   "metadata": {},
   "source": [
    "# [User Guide](https://pandas.pydata.org/pandas-docs/stable/user_guide/index.html)\n",
    "\n",
    "Links to User Guide documentation and corresponding Jupyter notebooks.\n",
    "\n",
    "| User Guide Document | Jupyter Notebook |\n",
    "|---------------------|------------------|\n",
    "| 1. [10 minutes to pandas](https://pandas.pydata.org/pandas-docs/stable/user_guide/10min.html) | [01_10_minutes_to_pandas.ipynb](01_10_minutes_to_pandas.ipynb) |\n",
    "| 2. [Intro to data structures](https://pandas.pydata.org/pandas-docs/stable/user_guide/dsintro.html) | [02_intro_to_data_structures.ipynb](02_intro_to_data_structures.ipynb) |\n",
    "| 3. [Essential basic functionality](https://pandas.pydata.org/pandas-docs/stable/user_guide/basics.html) | [03_essential_basic_functionality.ipynb](03_essential_basic_functionality.ipynb) |\n",
    "|  4. [IO tools (text, CSV, HDF5, …)](https://pandas.pydata.org/pandas-docs/stable/user_guide/io.html) | []() |\n",
    "|  5. [Indexing and selecting data](https://pandas.pydata.org/pandas-docs/stable/user_guide/indexing.html) | []() |\n",
    "|  6. [MultiIndex / advanced indexing](https://pandas.pydata.org/pandas-docs/stable/user_guide/advanced.html) | []() |\n",
    "|  7. [Merge, join, concatenate and compare](https://pandas.pydata.org/pandas-docs/stable/user_guide/merging.html) | []() |\n",
    "|  8. [Reshaping and pivot tables](https://pandas.pydata.org/pandas-docs/stable/user_guide/reshaping.html) | []() |\n",
    "|  9. [Working with text data](https://pandas.pydata.org/pandas-docs/stable/user_guide/text.html) | []() |\n",
    "| 10. [Working with missing data](https://pandas.pydata.org/pandas-docs/stable/user_guide/missing_data.html) | []() |\n",
    "| 11. [Duplicate Labels](https://pandas.pydata.org/pandas-docs/stable/user_guide/duplicates.html) | []() |\n",
    "| 12. [Categorical data](https://pandas.pydata.org/pandas-docs/stable/user_guide/categorical.html) | []() |\n",
    "| 13. [Nullable integer data type](https://pandas.pydata.org/pandas-docs/stable/user_guide/integer_na.html) | []() |\n",
    "| 14. [Nullable Boolean data type](https://pandas.pydata.org/pandas-docs/stable/user_guide/boolean.html) | []() |\n",
    "| 15. [Visualization](https://pandas.pydata.org/pandas-docs/stable/user_guide/visualization.html) | []() |\n",
    "| 16. [Computational tools](https://pandas.pydata.org/pandas-docs/stable/user_guide/computation.html) | []() |\n",
    "| 17. [Group by: split-apply-combine](https://pandas.pydata.org/pandas-docs/stable/user_guide/groupby.html) | []() |\n",
    "| 18. [Windowing Operations](https://pandas.pydata.org/pandas-docs/stable/user_guide/window.html) | []() |\n",
    "| 19. [Time series / date functionality](https://pandas.pydata.org/pandas-docs/stable/user_guide/timeseries.html) | []() |\n",
    "| 20. [Time deltas](https://pandas.pydata.org/pandas-docs/stable/user_guide/timedeltas.html) | []() |\n",
    "| 21. [Styling](https://pandas.pydata.org/pandas-docs/stable/user_guide/style.html) | []() |\n",
    "| 22. [Options and settings](https://pandas.pydata.org/pandas-docs/stable/user_guide/options.html) | []() |\n",
    "| 23. [Enhancing performance](https://pandas.pydata.org/pandas-docs/stable/user_guide/enhancingperf.html) | []() |\n",
    "| 24. [Scaling to large datasets](https://pandas.pydata.org/pandas-docs/stable/user_guide/scale.html) | []() |\n",
    "| 25. [Sparse data structures](https://pandas.pydata.org/pandas-docs/stable/user_guide/sparse.html) | []() |\n",
    "| 26. [Frequently Asked Questions (FAQ)](https://pandas.pydata.org/pandas-docs/stable/user_guide/gotchas.html) | []() |\n",
    "| 27. [Cookbook](https://pandas.pydata.org/pandas-docs/stable/user_guide/cookbook.html#) | []() |"
   ]
  }
 ],
 "metadata": {
  "kernelspec": {
   "display_name": "eda_dev39",
   "language": "python",
   "name": "eda_dev39"
  },
  "language_info": {
   "codemirror_mode": {
    "name": "ipython",
    "version": 3
   },
   "file_extension": ".py",
   "mimetype": "text/x-python",
   "name": "python",
   "nbconvert_exporter": "python",
   "pygments_lexer": "ipython3",
   "version": "3.9.4"
  }
 },
 "nbformat": 4,
 "nbformat_minor": 5
}
