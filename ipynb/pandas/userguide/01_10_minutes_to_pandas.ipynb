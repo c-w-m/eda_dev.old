{
 "cells": [
  {
   "cell_type": "markdown",
   "id": "b11c8c94-ea25-4807-9f3e-80501a74a653",
   "metadata": {},
   "source": [
    "# [10 minutes to pandas](https://pandas.pydata.org/pandas-docs/stable/user_guide/10min.html)\n",
    "This is a short introduction to pandas, geared mainly for new users. You can see more complex recipes in the Cookbook.\n",
    "\n",
    "Customarily, we import as follows:"
   ]
  },
  {
   "cell_type": "code",
   "execution_count": 1,
   "id": "e17564ee-f347-436b-95d2-50439e2f1f35",
   "metadata": {},
   "outputs": [],
   "source": [
    "import numpy as np\n",
    "import pandas as pd"
   ]
  },
  {
   "cell_type": "markdown",
   "id": "447ea630-f9e0-4b2f-a719-32a2717579f8",
   "metadata": {},
   "source": [
    "## Object creation\n",
    "See the Data Structure Intro section.\n",
    "\n",
    "Creating a Series by passing a list of values, letting pandas create a default integer index:"
   ]
  },
  {
   "cell_type": "code",
   "execution_count": 2,
   "id": "651f20fe-f3a9-4ff1-8dde-d4f0be252355",
   "metadata": {},
   "outputs": [
    {
     "name": "stdout",
     "output_type": "stream",
     "text": [
      "0    1.0\n",
      "1    3.0\n",
      "2    5.0\n",
      "3    NaN\n",
      "4    6.0\n",
      "5    8.0\n",
      "dtype: float64\n"
     ]
    }
   ],
   "source": [
    "s = pd.Series([1, 3, 5, np.nan, 6, 8])\n",
    "print(s)"
   ]
  },
  {
   "cell_type": "markdown",
   "id": "31feac33-33cd-4c5b-92c6-9320e57977c3",
   "metadata": {},
   "source": [
    "Creating a DataFrame by passing a NumPy array, with a datetime index and labeled columns:"
   ]
  },
  {
   "cell_type": "code",
   "execution_count": 3,
   "id": "6a56bb14-0bd4-4d5a-b8e8-52149fd57b51",
   "metadata": {},
   "outputs": [
    {
     "name": "stdout",
     "output_type": "stream",
     "text": [
      "DatetimeIndex(['2013-01-01', '2013-01-02', '2013-01-03', '2013-01-04',\n",
      "               '2013-01-05', '2013-01-06'],\n",
      "              dtype='datetime64[ns]', freq='D')\n"
     ]
    }
   ],
   "source": [
    "dates = pd.date_range(\"20130101\", periods=6)\n",
    "print(dates)"
   ]
  },
  {
   "cell_type": "code",
   "execution_count": 4,
   "id": "252db748-ab49-4750-8756-84c21e6448df",
   "metadata": {},
   "outputs": [
    {
     "name": "stdout",
     "output_type": "stream",
     "text": [
      "                   A         B         C         D\n",
      "2013-01-01 -0.479549 -0.026886  0.093867 -1.550461\n",
      "2013-01-02 -0.984945  0.667843 -0.891149  1.239040\n",
      "2013-01-03  0.156382  0.883110 -1.170481 -0.209165\n",
      "2013-01-04 -1.866800 -0.370600 -1.368356  0.083444\n",
      "2013-01-05 -1.187673 -1.113137  0.716594  0.237083\n",
      "2013-01-06  1.110699  0.954859  1.495033 -0.237437\n"
     ]
    }
   ],
   "source": [
    "df = pd.DataFrame(np.random.randn(6, 4), index=dates, columns=list(\"ABCD\"))\n",
    "print(df)"
   ]
  },
  {
   "cell_type": "markdown",
   "id": "49b35db2-a1fd-44a7-840f-3c5ec3d1fa3b",
   "metadata": {},
   "source": [
    "Creating a DataFrame by passing a dict of objects that can be converted to series-like."
   ]
  },
  {
   "cell_type": "code",
   "execution_count": 5,
   "id": "a5e4e6eb-31f7-4150-ad58-491da88a41a1",
   "metadata": {},
   "outputs": [
    {
     "name": "stdout",
     "output_type": "stream",
     "text": [
      "     A          B    C  D      E    F\n",
      "0  1.0 2013-01-02  1.0  3   test  foo\n",
      "1  1.0 2013-01-02  1.0  3  train  foo\n",
      "2  1.0 2013-01-02  1.0  3   test  foo\n",
      "3  1.0 2013-01-02  1.0  3  train  foo\n"
     ]
    }
   ],
   "source": [
    "df2 = pd.DataFrame(\n",
    "    {\n",
    "        \"A\": 1.0,\n",
    "        \"B\": pd.Timestamp(\"20130102\"),\n",
    "        \"C\": pd.Series(1, index=list(range(4)), dtype=\"float32\"),\n",
    "        \"D\": np.array([3] * 4, dtype=\"int32\"),\n",
    "        \"E\": pd.Categorical([\"test\", \"train\", \"test\", \"train\"]),\n",
    "        \"F\": \"foo\",\n",
    "    }\n",
    ")\n",
    "print(df2)"
   ]
  },
  {
   "cell_type": "markdown",
   "id": "1fc41777-af71-415e-87b2-ded451df1711",
   "metadata": {},
   "source": [
    "The columns of the resulting DataFrame have different dtypes."
   ]
  },
  {
   "cell_type": "markdown",
   "id": "02f24d34-86d1-4228-8f92-9487babeb73a",
   "metadata": {},
   "source": [
    "The columns of the resulting DataFrame have different dtypes."
   ]
  },
  {
   "cell_type": "code",
   "execution_count": 6,
   "id": "aa66b9f6-8cec-4aa5-81cb-0f429612c621",
   "metadata": {},
   "outputs": [
    {
     "data": {
      "text/plain": [
       "A           float64\n",
       "B    datetime64[ns]\n",
       "C           float32\n",
       "D             int32\n",
       "E          category\n",
       "F            object\n",
       "dtype: object"
      ]
     },
     "execution_count": 6,
     "metadata": {},
     "output_type": "execute_result"
    }
   ],
   "source": [
    "df2.dtypes"
   ]
  },
  {
   "cell_type": "markdown",
   "id": "2be83c3d-ca22-4381-8130-8b000c777101",
   "metadata": {},
   "source": [
    "If you’re using IPython, tab completion for column names (as well as public attributes) is automatically enabled. Here’s a subset of the attributes that will be completed:\n",
    "![df2.<TAB>](img/df2_tab.png)\n",
    "\n",
    "As you can see, the columns A, B, C, and D are automatically tab completed. E and F are there as well; the rest of the attributes have been truncated for brevity.\n",
    "\n",
    "## Viewing data\n",
    "See the Basics section.\n",
    "\n",
    "Here is how to view the top and bottom rows of the frame:"
   ]
  },
  {
   "cell_type": "code",
   "execution_count": 7,
   "id": "00e27ec4-d2a7-40a8-beee-e226588dfff5",
   "metadata": {},
   "outputs": [
    {
     "data": {
      "text/html": [
       "<div>\n",
       "<style scoped>\n",
       "    .dataframe tbody tr th:only-of-type {\n",
       "        vertical-align: middle;\n",
       "    }\n",
       "\n",
       "    .dataframe tbody tr th {\n",
       "        vertical-align: top;\n",
       "    }\n",
       "\n",
       "    .dataframe thead th {\n",
       "        text-align: right;\n",
       "    }\n",
       "</style>\n",
       "<table border=\"1\" class=\"dataframe\">\n",
       "  <thead>\n",
       "    <tr style=\"text-align: right;\">\n",
       "      <th></th>\n",
       "      <th>A</th>\n",
       "      <th>B</th>\n",
       "      <th>C</th>\n",
       "      <th>D</th>\n",
       "    </tr>\n",
       "  </thead>\n",
       "  <tbody>\n",
       "    <tr>\n",
       "      <th>2013-01-01</th>\n",
       "      <td>-0.479549</td>\n",
       "      <td>-0.026886</td>\n",
       "      <td>0.093867</td>\n",
       "      <td>-1.550461</td>\n",
       "    </tr>\n",
       "    <tr>\n",
       "      <th>2013-01-02</th>\n",
       "      <td>-0.984945</td>\n",
       "      <td>0.667843</td>\n",
       "      <td>-0.891149</td>\n",
       "      <td>1.239040</td>\n",
       "    </tr>\n",
       "    <tr>\n",
       "      <th>2013-01-03</th>\n",
       "      <td>0.156382</td>\n",
       "      <td>0.883110</td>\n",
       "      <td>-1.170481</td>\n",
       "      <td>-0.209165</td>\n",
       "    </tr>\n",
       "    <tr>\n",
       "      <th>2013-01-04</th>\n",
       "      <td>-1.866800</td>\n",
       "      <td>-0.370600</td>\n",
       "      <td>-1.368356</td>\n",
       "      <td>0.083444</td>\n",
       "    </tr>\n",
       "    <tr>\n",
       "      <th>2013-01-05</th>\n",
       "      <td>-1.187673</td>\n",
       "      <td>-1.113137</td>\n",
       "      <td>0.716594</td>\n",
       "      <td>0.237083</td>\n",
       "    </tr>\n",
       "  </tbody>\n",
       "</table>\n",
       "</div>"
      ],
      "text/plain": [
       "                   A         B         C         D\n",
       "2013-01-01 -0.479549 -0.026886  0.093867 -1.550461\n",
       "2013-01-02 -0.984945  0.667843 -0.891149  1.239040\n",
       "2013-01-03  0.156382  0.883110 -1.170481 -0.209165\n",
       "2013-01-04 -1.866800 -0.370600 -1.368356  0.083444\n",
       "2013-01-05 -1.187673 -1.113137  0.716594  0.237083"
      ]
     },
     "execution_count": 7,
     "metadata": {},
     "output_type": "execute_result"
    }
   ],
   "source": [
    "df.head()"
   ]
  },
  {
   "cell_type": "code",
   "execution_count": 8,
   "id": "deef4d19-6923-4e0a-b3d7-1d1cae199976",
   "metadata": {},
   "outputs": [
    {
     "data": {
      "text/html": [
       "<div>\n",
       "<style scoped>\n",
       "    .dataframe tbody tr th:only-of-type {\n",
       "        vertical-align: middle;\n",
       "    }\n",
       "\n",
       "    .dataframe tbody tr th {\n",
       "        vertical-align: top;\n",
       "    }\n",
       "\n",
       "    .dataframe thead th {\n",
       "        text-align: right;\n",
       "    }\n",
       "</style>\n",
       "<table border=\"1\" class=\"dataframe\">\n",
       "  <thead>\n",
       "    <tr style=\"text-align: right;\">\n",
       "      <th></th>\n",
       "      <th>A</th>\n",
       "      <th>B</th>\n",
       "      <th>C</th>\n",
       "      <th>D</th>\n",
       "    </tr>\n",
       "  </thead>\n",
       "  <tbody>\n",
       "    <tr>\n",
       "      <th>2013-01-04</th>\n",
       "      <td>-1.866800</td>\n",
       "      <td>-0.370600</td>\n",
       "      <td>-1.368356</td>\n",
       "      <td>0.083444</td>\n",
       "    </tr>\n",
       "    <tr>\n",
       "      <th>2013-01-05</th>\n",
       "      <td>-1.187673</td>\n",
       "      <td>-1.113137</td>\n",
       "      <td>0.716594</td>\n",
       "      <td>0.237083</td>\n",
       "    </tr>\n",
       "    <tr>\n",
       "      <th>2013-01-06</th>\n",
       "      <td>1.110699</td>\n",
       "      <td>0.954859</td>\n",
       "      <td>1.495033</td>\n",
       "      <td>-0.237437</td>\n",
       "    </tr>\n",
       "  </tbody>\n",
       "</table>\n",
       "</div>"
      ],
      "text/plain": [
       "                   A         B         C         D\n",
       "2013-01-04 -1.866800 -0.370600 -1.368356  0.083444\n",
       "2013-01-05 -1.187673 -1.113137  0.716594  0.237083\n",
       "2013-01-06  1.110699  0.954859  1.495033 -0.237437"
      ]
     },
     "execution_count": 8,
     "metadata": {},
     "output_type": "execute_result"
    }
   ],
   "source": [
    "df.tail(3)"
   ]
  },
  {
   "cell_type": "markdown",
   "id": "2c5209b5-dbd8-4743-8f4d-5cbb2ba1eafd",
   "metadata": {},
   "source": [
    "Display the index, columns:"
   ]
  },
  {
   "cell_type": "markdown",
   "id": "b702a8d7-5c33-49ca-95e9-a77e75368747",
   "metadata": {},
   "source": [
    "Display the index, columns:"
   ]
  },
  {
   "cell_type": "code",
   "execution_count": 9,
   "id": "2d913ca3-0f85-4172-aa7f-a9e8a3c5202c",
   "metadata": {},
   "outputs": [
    {
     "data": {
      "text/plain": [
       "DatetimeIndex(['2013-01-01', '2013-01-02', '2013-01-03', '2013-01-04',\n",
       "               '2013-01-05', '2013-01-06'],\n",
       "              dtype='datetime64[ns]', freq='D')"
      ]
     },
     "execution_count": 9,
     "metadata": {},
     "output_type": "execute_result"
    }
   ],
   "source": [
    "df.index"
   ]
  },
  {
   "cell_type": "code",
   "execution_count": 10,
   "id": "3dab15cf-abe3-47ac-a0dd-068cca4835c9",
   "metadata": {},
   "outputs": [
    {
     "data": {
      "text/plain": [
       "Index(['A', 'B', 'C', 'D'], dtype='object')"
      ]
     },
     "execution_count": 10,
     "metadata": {},
     "output_type": "execute_result"
    }
   ],
   "source": [
    "df.columns"
   ]
  },
  {
   "cell_type": "markdown",
   "id": "6e56c8be-59a7-49f5-bd9c-392e387e7d91",
   "metadata": {},
   "source": [
    "DataFrame.to_numpy() gives a NumPy representation of the underlying data. Note that this can be an expensive operation when your DataFrame has columns with different data types, which comes down to a fundamental difference between pandas and **NumPy: NumPy arrays have one dtype for the entire array, while pandas DataFrames have one dtype per column**. When you call DataFrame.to_numpy(), pandas will find the NumPy dtype that can hold all of the dtypes in the DataFrame. This may end up being object, which requires casting every value to a Python object.\n",
    "\n",
    "For df, our DataFrame of all floating-point values, DataFrame.to_numpy() is fast and doesn’t require copying data."
   ]
  },
  {
   "cell_type": "code",
   "execution_count": 11,
   "id": "cb12fc23-6eda-4f61-8f6a-ad6397d5e22e",
   "metadata": {},
   "outputs": [
    {
     "data": {
      "text/plain": [
       "array([[-0.4795491 , -0.02688608,  0.09386666, -1.55046067],\n",
       "       [-0.98494466,  0.66784343, -0.8911486 ,  1.23903958],\n",
       "       [ 0.15638166,  0.88310954, -1.17048053, -0.2091647 ],\n",
       "       [-1.86679993, -0.37060007, -1.36835561,  0.0834445 ],\n",
       "       [-1.18767334, -1.11313744,  0.7165937 ,  0.23708255],\n",
       "       [ 1.11069877,  0.95485929,  1.49503251, -0.23743665]])"
      ]
     },
     "execution_count": 11,
     "metadata": {},
     "output_type": "execute_result"
    }
   ],
   "source": [
    "df.to_numpy()"
   ]
  },
  {
   "cell_type": "markdown",
   "id": "24f56b5d-018a-4a0b-9143-03e4da4971dd",
   "metadata": {},
   "source": [
    "For df2, the DataFrame with multiple dtypes, DataFrame.to_numpy() is relatively expensive."
   ]
  },
  {
   "cell_type": "code",
   "execution_count": 12,
   "id": "ca18db35-d719-4875-a326-055f53b6052d",
   "metadata": {},
   "outputs": [
    {
     "data": {
      "text/plain": [
       "array([[1.0, Timestamp('2013-01-02 00:00:00'), 1.0, 3, 'test', 'foo'],\n",
       "       [1.0, Timestamp('2013-01-02 00:00:00'), 1.0, 3, 'train', 'foo'],\n",
       "       [1.0, Timestamp('2013-01-02 00:00:00'), 1.0, 3, 'test', 'foo'],\n",
       "       [1.0, Timestamp('2013-01-02 00:00:00'), 1.0, 3, 'train', 'foo']],\n",
       "      dtype=object)"
      ]
     },
     "execution_count": 12,
     "metadata": {},
     "output_type": "execute_result"
    }
   ],
   "source": [
    "df2.to_numpy()"
   ]
  },
  {
   "cell_type": "markdown",
   "id": "0761fc37-33cb-403a-a56a-b920a8c52909",
   "metadata": {},
   "source": [
    ">**Note**\n",
    "> DataFrame.to_numpy() does not include the index or column labels in the output.\n",
    "\n",
    "describe() shows a quick statistic summary of your data:"
   ]
  },
  {
   "cell_type": "code",
   "execution_count": 13,
   "id": "decc1c8c-d4f6-44be-bcb6-006d639d147f",
   "metadata": {},
   "outputs": [
    {
     "data": {
      "text/html": [
       "<div>\n",
       "<style scoped>\n",
       "    .dataframe tbody tr th:only-of-type {\n",
       "        vertical-align: middle;\n",
       "    }\n",
       "\n",
       "    .dataframe tbody tr th {\n",
       "        vertical-align: top;\n",
       "    }\n",
       "\n",
       "    .dataframe thead th {\n",
       "        text-align: right;\n",
       "    }\n",
       "</style>\n",
       "<table border=\"1\" class=\"dataframe\">\n",
       "  <thead>\n",
       "    <tr style=\"text-align: right;\">\n",
       "      <th></th>\n",
       "      <th>A</th>\n",
       "      <th>B</th>\n",
       "      <th>C</th>\n",
       "      <th>D</th>\n",
       "    </tr>\n",
       "  </thead>\n",
       "  <tbody>\n",
       "    <tr>\n",
       "      <th>count</th>\n",
       "      <td>6.000000</td>\n",
       "      <td>6.000000</td>\n",
       "      <td>6.000000</td>\n",
       "      <td>6.000000</td>\n",
       "    </tr>\n",
       "    <tr>\n",
       "      <th>mean</th>\n",
       "      <td>-0.541981</td>\n",
       "      <td>0.165865</td>\n",
       "      <td>-0.187415</td>\n",
       "      <td>-0.072916</td>\n",
       "    </tr>\n",
       "    <tr>\n",
       "      <th>std</th>\n",
       "      <td>1.057472</td>\n",
       "      <td>0.818502</td>\n",
       "      <td>1.147455</td>\n",
       "      <td>0.902280</td>\n",
       "    </tr>\n",
       "    <tr>\n",
       "      <th>min</th>\n",
       "      <td>-1.866800</td>\n",
       "      <td>-1.113137</td>\n",
       "      <td>-1.368356</td>\n",
       "      <td>-1.550461</td>\n",
       "    </tr>\n",
       "    <tr>\n",
       "      <th>25%</th>\n",
       "      <td>-1.136991</td>\n",
       "      <td>-0.284672</td>\n",
       "      <td>-1.100648</td>\n",
       "      <td>-0.230369</td>\n",
       "    </tr>\n",
       "    <tr>\n",
       "      <th>50%</th>\n",
       "      <td>-0.732247</td>\n",
       "      <td>0.320479</td>\n",
       "      <td>-0.398641</td>\n",
       "      <td>-0.062860</td>\n",
       "    </tr>\n",
       "    <tr>\n",
       "      <th>75%</th>\n",
       "      <td>-0.002601</td>\n",
       "      <td>0.829293</td>\n",
       "      <td>0.560912</td>\n",
       "      <td>0.198673</td>\n",
       "    </tr>\n",
       "    <tr>\n",
       "      <th>max</th>\n",
       "      <td>1.110699</td>\n",
       "      <td>0.954859</td>\n",
       "      <td>1.495033</td>\n",
       "      <td>1.239040</td>\n",
       "    </tr>\n",
       "  </tbody>\n",
       "</table>\n",
       "</div>"
      ],
      "text/plain": [
       "              A         B         C         D\n",
       "count  6.000000  6.000000  6.000000  6.000000\n",
       "mean  -0.541981  0.165865 -0.187415 -0.072916\n",
       "std    1.057472  0.818502  1.147455  0.902280\n",
       "min   -1.866800 -1.113137 -1.368356 -1.550461\n",
       "25%   -1.136991 -0.284672 -1.100648 -0.230369\n",
       "50%   -0.732247  0.320479 -0.398641 -0.062860\n",
       "75%   -0.002601  0.829293  0.560912  0.198673\n",
       "max    1.110699  0.954859  1.495033  1.239040"
      ]
     },
     "execution_count": 13,
     "metadata": {},
     "output_type": "execute_result"
    }
   ],
   "source": [
    "df.describe()"
   ]
  },
  {
   "cell_type": "markdown",
   "id": "a578c5d9-47dd-4ee1-87a4-ae1b15899ffd",
   "metadata": {},
   "source": [
    "Transposing your data:"
   ]
  },
  {
   "cell_type": "code",
   "execution_count": 14,
   "id": "1aa13c44-ec8c-4146-9a10-4458e7675ab6",
   "metadata": {},
   "outputs": [
    {
     "data": {
      "text/html": [
       "<div>\n",
       "<style scoped>\n",
       "    .dataframe tbody tr th:only-of-type {\n",
       "        vertical-align: middle;\n",
       "    }\n",
       "\n",
       "    .dataframe tbody tr th {\n",
       "        vertical-align: top;\n",
       "    }\n",
       "\n",
       "    .dataframe thead th {\n",
       "        text-align: right;\n",
       "    }\n",
       "</style>\n",
       "<table border=\"1\" class=\"dataframe\">\n",
       "  <thead>\n",
       "    <tr style=\"text-align: right;\">\n",
       "      <th></th>\n",
       "      <th>2013-01-01</th>\n",
       "      <th>2013-01-02</th>\n",
       "      <th>2013-01-03</th>\n",
       "      <th>2013-01-04</th>\n",
       "      <th>2013-01-05</th>\n",
       "      <th>2013-01-06</th>\n",
       "    </tr>\n",
       "  </thead>\n",
       "  <tbody>\n",
       "    <tr>\n",
       "      <th>A</th>\n",
       "      <td>-0.479549</td>\n",
       "      <td>-0.984945</td>\n",
       "      <td>0.156382</td>\n",
       "      <td>-1.866800</td>\n",
       "      <td>-1.187673</td>\n",
       "      <td>1.110699</td>\n",
       "    </tr>\n",
       "    <tr>\n",
       "      <th>B</th>\n",
       "      <td>-0.026886</td>\n",
       "      <td>0.667843</td>\n",
       "      <td>0.883110</td>\n",
       "      <td>-0.370600</td>\n",
       "      <td>-1.113137</td>\n",
       "      <td>0.954859</td>\n",
       "    </tr>\n",
       "    <tr>\n",
       "      <th>C</th>\n",
       "      <td>0.093867</td>\n",
       "      <td>-0.891149</td>\n",
       "      <td>-1.170481</td>\n",
       "      <td>-1.368356</td>\n",
       "      <td>0.716594</td>\n",
       "      <td>1.495033</td>\n",
       "    </tr>\n",
       "    <tr>\n",
       "      <th>D</th>\n",
       "      <td>-1.550461</td>\n",
       "      <td>1.239040</td>\n",
       "      <td>-0.209165</td>\n",
       "      <td>0.083444</td>\n",
       "      <td>0.237083</td>\n",
       "      <td>-0.237437</td>\n",
       "    </tr>\n",
       "  </tbody>\n",
       "</table>\n",
       "</div>"
      ],
      "text/plain": [
       "   2013-01-01  2013-01-02  2013-01-03  2013-01-04  2013-01-05  2013-01-06\n",
       "A   -0.479549   -0.984945    0.156382   -1.866800   -1.187673    1.110699\n",
       "B   -0.026886    0.667843    0.883110   -0.370600   -1.113137    0.954859\n",
       "C    0.093867   -0.891149   -1.170481   -1.368356    0.716594    1.495033\n",
       "D   -1.550461    1.239040   -0.209165    0.083444    0.237083   -0.237437"
      ]
     },
     "execution_count": 14,
     "metadata": {},
     "output_type": "execute_result"
    }
   ],
   "source": [
    "df.T"
   ]
  },
  {
   "cell_type": "markdown",
   "id": "07ce84b9-20e8-4462-bd56-f16229f1a27d",
   "metadata": {},
   "source": [
    "Sorting by an axis:"
   ]
  },
  {
   "cell_type": "code",
   "execution_count": 15,
   "id": "ec826942-88c2-4bcb-b1cd-024b5609ff53",
   "metadata": {},
   "outputs": [
    {
     "data": {
      "text/html": [
       "<div>\n",
       "<style scoped>\n",
       "    .dataframe tbody tr th:only-of-type {\n",
       "        vertical-align: middle;\n",
       "    }\n",
       "\n",
       "    .dataframe tbody tr th {\n",
       "        vertical-align: top;\n",
       "    }\n",
       "\n",
       "    .dataframe thead th {\n",
       "        text-align: right;\n",
       "    }\n",
       "</style>\n",
       "<table border=\"1\" class=\"dataframe\">\n",
       "  <thead>\n",
       "    <tr style=\"text-align: right;\">\n",
       "      <th></th>\n",
       "      <th>D</th>\n",
       "      <th>C</th>\n",
       "      <th>B</th>\n",
       "      <th>A</th>\n",
       "    </tr>\n",
       "  </thead>\n",
       "  <tbody>\n",
       "    <tr>\n",
       "      <th>2013-01-01</th>\n",
       "      <td>-1.550461</td>\n",
       "      <td>0.093867</td>\n",
       "      <td>-0.026886</td>\n",
       "      <td>-0.479549</td>\n",
       "    </tr>\n",
       "    <tr>\n",
       "      <th>2013-01-02</th>\n",
       "      <td>1.239040</td>\n",
       "      <td>-0.891149</td>\n",
       "      <td>0.667843</td>\n",
       "      <td>-0.984945</td>\n",
       "    </tr>\n",
       "    <tr>\n",
       "      <th>2013-01-03</th>\n",
       "      <td>-0.209165</td>\n",
       "      <td>-1.170481</td>\n",
       "      <td>0.883110</td>\n",
       "      <td>0.156382</td>\n",
       "    </tr>\n",
       "    <tr>\n",
       "      <th>2013-01-04</th>\n",
       "      <td>0.083444</td>\n",
       "      <td>-1.368356</td>\n",
       "      <td>-0.370600</td>\n",
       "      <td>-1.866800</td>\n",
       "    </tr>\n",
       "    <tr>\n",
       "      <th>2013-01-05</th>\n",
       "      <td>0.237083</td>\n",
       "      <td>0.716594</td>\n",
       "      <td>-1.113137</td>\n",
       "      <td>-1.187673</td>\n",
       "    </tr>\n",
       "    <tr>\n",
       "      <th>2013-01-06</th>\n",
       "      <td>-0.237437</td>\n",
       "      <td>1.495033</td>\n",
       "      <td>0.954859</td>\n",
       "      <td>1.110699</td>\n",
       "    </tr>\n",
       "  </tbody>\n",
       "</table>\n",
       "</div>"
      ],
      "text/plain": [
       "                   D         C         B         A\n",
       "2013-01-01 -1.550461  0.093867 -0.026886 -0.479549\n",
       "2013-01-02  1.239040 -0.891149  0.667843 -0.984945\n",
       "2013-01-03 -0.209165 -1.170481  0.883110  0.156382\n",
       "2013-01-04  0.083444 -1.368356 -0.370600 -1.866800\n",
       "2013-01-05  0.237083  0.716594 -1.113137 -1.187673\n",
       "2013-01-06 -0.237437  1.495033  0.954859  1.110699"
      ]
     },
     "execution_count": 15,
     "metadata": {},
     "output_type": "execute_result"
    }
   ],
   "source": [
    "df.sort_index(axis=1, ascending=False)"
   ]
  },
  {
   "cell_type": "markdown",
   "id": "bfb392a5-c106-4b52-a93a-17402c0714d2",
   "metadata": {},
   "source": [
    "Sorting by values:"
   ]
  },
  {
   "cell_type": "code",
   "execution_count": 16,
   "id": "f307de96-8695-4b3e-9c0a-e5262e408438",
   "metadata": {},
   "outputs": [
    {
     "data": {
      "text/html": [
       "<div>\n",
       "<style scoped>\n",
       "    .dataframe tbody tr th:only-of-type {\n",
       "        vertical-align: middle;\n",
       "    }\n",
       "\n",
       "    .dataframe tbody tr th {\n",
       "        vertical-align: top;\n",
       "    }\n",
       "\n",
       "    .dataframe thead th {\n",
       "        text-align: right;\n",
       "    }\n",
       "</style>\n",
       "<table border=\"1\" class=\"dataframe\">\n",
       "  <thead>\n",
       "    <tr style=\"text-align: right;\">\n",
       "      <th></th>\n",
       "      <th>A</th>\n",
       "      <th>B</th>\n",
       "      <th>C</th>\n",
       "      <th>D</th>\n",
       "    </tr>\n",
       "  </thead>\n",
       "  <tbody>\n",
       "    <tr>\n",
       "      <th>2013-01-05</th>\n",
       "      <td>-1.187673</td>\n",
       "      <td>-1.113137</td>\n",
       "      <td>0.716594</td>\n",
       "      <td>0.237083</td>\n",
       "    </tr>\n",
       "    <tr>\n",
       "      <th>2013-01-04</th>\n",
       "      <td>-1.866800</td>\n",
       "      <td>-0.370600</td>\n",
       "      <td>-1.368356</td>\n",
       "      <td>0.083444</td>\n",
       "    </tr>\n",
       "    <tr>\n",
       "      <th>2013-01-01</th>\n",
       "      <td>-0.479549</td>\n",
       "      <td>-0.026886</td>\n",
       "      <td>0.093867</td>\n",
       "      <td>-1.550461</td>\n",
       "    </tr>\n",
       "    <tr>\n",
       "      <th>2013-01-02</th>\n",
       "      <td>-0.984945</td>\n",
       "      <td>0.667843</td>\n",
       "      <td>-0.891149</td>\n",
       "      <td>1.239040</td>\n",
       "    </tr>\n",
       "    <tr>\n",
       "      <th>2013-01-03</th>\n",
       "      <td>0.156382</td>\n",
       "      <td>0.883110</td>\n",
       "      <td>-1.170481</td>\n",
       "      <td>-0.209165</td>\n",
       "    </tr>\n",
       "    <tr>\n",
       "      <th>2013-01-06</th>\n",
       "      <td>1.110699</td>\n",
       "      <td>0.954859</td>\n",
       "      <td>1.495033</td>\n",
       "      <td>-0.237437</td>\n",
       "    </tr>\n",
       "  </tbody>\n",
       "</table>\n",
       "</div>"
      ],
      "text/plain": [
       "                   A         B         C         D\n",
       "2013-01-05 -1.187673 -1.113137  0.716594  0.237083\n",
       "2013-01-04 -1.866800 -0.370600 -1.368356  0.083444\n",
       "2013-01-01 -0.479549 -0.026886  0.093867 -1.550461\n",
       "2013-01-02 -0.984945  0.667843 -0.891149  1.239040\n",
       "2013-01-03  0.156382  0.883110 -1.170481 -0.209165\n",
       "2013-01-06  1.110699  0.954859  1.495033 -0.237437"
      ]
     },
     "execution_count": 16,
     "metadata": {},
     "output_type": "execute_result"
    }
   ],
   "source": [
    "df.sort_values(by=\"B\")"
   ]
  },
  {
   "cell_type": "markdown",
   "id": "57c0544e-b2d6-437f-8935-9cc433ba83fc",
   "metadata": {},
   "source": [
    "## Selection\n",
    "\n",
    ">**Note**\n",
    ">While standard Python / Numpy expressions for selecting and setting are intuitive and come in handy for interactive work, for production code, we recommend the optimized pandas data access methods, .at, .iat, .loc and .iloc.\n",
    "\n",
    "See the indexing documentation Indexing and Selecting Data and MultiIndex / Advanced Indexing.\n",
    "\n",
    "### Getting\n",
    "Selecting a single column, which yields a Series, equivalent to df.A:"
   ]
  },
  {
   "cell_type": "code",
   "execution_count": 17,
   "id": "f8cedc3a-a2eb-41e7-8b29-c3df89c6146c",
   "metadata": {},
   "outputs": [
    {
     "data": {
      "text/plain": [
       "2013-01-01   -0.479549\n",
       "2013-01-02   -0.984945\n",
       "2013-01-03    0.156382\n",
       "2013-01-04   -1.866800\n",
       "2013-01-05   -1.187673\n",
       "2013-01-06    1.110699\n",
       "Freq: D, Name: A, dtype: float64"
      ]
     },
     "execution_count": 17,
     "metadata": {},
     "output_type": "execute_result"
    }
   ],
   "source": [
    "df[\"A\"]"
   ]
  },
  {
   "cell_type": "markdown",
   "id": "3ff137c1-1a3d-42d8-a1c4-70a005563e28",
   "metadata": {},
   "source": [
    "Selecting via [], which slices the rows."
   ]
  },
  {
   "cell_type": "code",
   "execution_count": 18,
   "id": "118a91ef-257c-4220-b3ef-de0986a473bb",
   "metadata": {},
   "outputs": [
    {
     "data": {
      "text/html": [
       "<div>\n",
       "<style scoped>\n",
       "    .dataframe tbody tr th:only-of-type {\n",
       "        vertical-align: middle;\n",
       "    }\n",
       "\n",
       "    .dataframe tbody tr th {\n",
       "        vertical-align: top;\n",
       "    }\n",
       "\n",
       "    .dataframe thead th {\n",
       "        text-align: right;\n",
       "    }\n",
       "</style>\n",
       "<table border=\"1\" class=\"dataframe\">\n",
       "  <thead>\n",
       "    <tr style=\"text-align: right;\">\n",
       "      <th></th>\n",
       "      <th>A</th>\n",
       "      <th>B</th>\n",
       "      <th>C</th>\n",
       "      <th>D</th>\n",
       "    </tr>\n",
       "  </thead>\n",
       "  <tbody>\n",
       "    <tr>\n",
       "      <th>2013-01-01</th>\n",
       "      <td>-0.479549</td>\n",
       "      <td>-0.026886</td>\n",
       "      <td>0.093867</td>\n",
       "      <td>-1.550461</td>\n",
       "    </tr>\n",
       "    <tr>\n",
       "      <th>2013-01-02</th>\n",
       "      <td>-0.984945</td>\n",
       "      <td>0.667843</td>\n",
       "      <td>-0.891149</td>\n",
       "      <td>1.239040</td>\n",
       "    </tr>\n",
       "    <tr>\n",
       "      <th>2013-01-03</th>\n",
       "      <td>0.156382</td>\n",
       "      <td>0.883110</td>\n",
       "      <td>-1.170481</td>\n",
       "      <td>-0.209165</td>\n",
       "    </tr>\n",
       "  </tbody>\n",
       "</table>\n",
       "</div>"
      ],
      "text/plain": [
       "                   A         B         C         D\n",
       "2013-01-01 -0.479549 -0.026886  0.093867 -1.550461\n",
       "2013-01-02 -0.984945  0.667843 -0.891149  1.239040\n",
       "2013-01-03  0.156382  0.883110 -1.170481 -0.209165"
      ]
     },
     "execution_count": 18,
     "metadata": {},
     "output_type": "execute_result"
    }
   ],
   "source": [
    "df[0:3]"
   ]
  },
  {
   "cell_type": "code",
   "execution_count": 19,
   "id": "ae48ae2d-5f90-4d39-8e21-263e5208514d",
   "metadata": {},
   "outputs": [
    {
     "data": {
      "text/html": [
       "<div>\n",
       "<style scoped>\n",
       "    .dataframe tbody tr th:only-of-type {\n",
       "        vertical-align: middle;\n",
       "    }\n",
       "\n",
       "    .dataframe tbody tr th {\n",
       "        vertical-align: top;\n",
       "    }\n",
       "\n",
       "    .dataframe thead th {\n",
       "        text-align: right;\n",
       "    }\n",
       "</style>\n",
       "<table border=\"1\" class=\"dataframe\">\n",
       "  <thead>\n",
       "    <tr style=\"text-align: right;\">\n",
       "      <th></th>\n",
       "      <th>A</th>\n",
       "      <th>B</th>\n",
       "      <th>C</th>\n",
       "      <th>D</th>\n",
       "    </tr>\n",
       "  </thead>\n",
       "  <tbody>\n",
       "    <tr>\n",
       "      <th>2013-01-02</th>\n",
       "      <td>-0.984945</td>\n",
       "      <td>0.667843</td>\n",
       "      <td>-0.891149</td>\n",
       "      <td>1.239040</td>\n",
       "    </tr>\n",
       "    <tr>\n",
       "      <th>2013-01-03</th>\n",
       "      <td>0.156382</td>\n",
       "      <td>0.883110</td>\n",
       "      <td>-1.170481</td>\n",
       "      <td>-0.209165</td>\n",
       "    </tr>\n",
       "    <tr>\n",
       "      <th>2013-01-04</th>\n",
       "      <td>-1.866800</td>\n",
       "      <td>-0.370600</td>\n",
       "      <td>-1.368356</td>\n",
       "      <td>0.083444</td>\n",
       "    </tr>\n",
       "  </tbody>\n",
       "</table>\n",
       "</div>"
      ],
      "text/plain": [
       "                   A         B         C         D\n",
       "2013-01-02 -0.984945  0.667843 -0.891149  1.239040\n",
       "2013-01-03  0.156382  0.883110 -1.170481 -0.209165\n",
       "2013-01-04 -1.866800 -0.370600 -1.368356  0.083444"
      ]
     },
     "execution_count": 19,
     "metadata": {},
     "output_type": "execute_result"
    }
   ],
   "source": [
    "df[\"20130102\":\"20130104\"]"
   ]
  },
  {
   "cell_type": "markdown",
   "id": "ac2c6e9c-5cfa-4702-aff2-29d3902b0c32",
   "metadata": {},
   "source": [
    "### Selection by label\n",
    "See more in Selection by Label.\n",
    "\n",
    "For getting a cross section using a label:"
   ]
  },
  {
   "cell_type": "code",
   "execution_count": 20,
   "id": "828fc89a-1789-4890-a217-5014ee6d15ed",
   "metadata": {},
   "outputs": [
    {
     "data": {
      "text/plain": [
       "A   -0.479549\n",
       "B   -0.026886\n",
       "C    0.093867\n",
       "D   -1.550461\n",
       "Name: 2013-01-01 00:00:00, dtype: float64"
      ]
     },
     "execution_count": 20,
     "metadata": {},
     "output_type": "execute_result"
    }
   ],
   "source": [
    "df.loc[dates[0]]"
   ]
  },
  {
   "cell_type": "markdown",
   "id": "82c5cd31-e2d5-4cad-b70c-0355501bde88",
   "metadata": {},
   "source": [
    "Selecting on a multi-axis by label:"
   ]
  },
  {
   "cell_type": "code",
   "execution_count": 21,
   "id": "05161279-18cd-4ec9-9f11-f56b0820e45b",
   "metadata": {},
   "outputs": [
    {
     "data": {
      "text/html": [
       "<div>\n",
       "<style scoped>\n",
       "    .dataframe tbody tr th:only-of-type {\n",
       "        vertical-align: middle;\n",
       "    }\n",
       "\n",
       "    .dataframe tbody tr th {\n",
       "        vertical-align: top;\n",
       "    }\n",
       "\n",
       "    .dataframe thead th {\n",
       "        text-align: right;\n",
       "    }\n",
       "</style>\n",
       "<table border=\"1\" class=\"dataframe\">\n",
       "  <thead>\n",
       "    <tr style=\"text-align: right;\">\n",
       "      <th></th>\n",
       "      <th>A</th>\n",
       "      <th>B</th>\n",
       "    </tr>\n",
       "  </thead>\n",
       "  <tbody>\n",
       "    <tr>\n",
       "      <th>2013-01-01</th>\n",
       "      <td>-0.479549</td>\n",
       "      <td>-0.026886</td>\n",
       "    </tr>\n",
       "    <tr>\n",
       "      <th>2013-01-02</th>\n",
       "      <td>-0.984945</td>\n",
       "      <td>0.667843</td>\n",
       "    </tr>\n",
       "    <tr>\n",
       "      <th>2013-01-03</th>\n",
       "      <td>0.156382</td>\n",
       "      <td>0.883110</td>\n",
       "    </tr>\n",
       "    <tr>\n",
       "      <th>2013-01-04</th>\n",
       "      <td>-1.866800</td>\n",
       "      <td>-0.370600</td>\n",
       "    </tr>\n",
       "    <tr>\n",
       "      <th>2013-01-05</th>\n",
       "      <td>-1.187673</td>\n",
       "      <td>-1.113137</td>\n",
       "    </tr>\n",
       "    <tr>\n",
       "      <th>2013-01-06</th>\n",
       "      <td>1.110699</td>\n",
       "      <td>0.954859</td>\n",
       "    </tr>\n",
       "  </tbody>\n",
       "</table>\n",
       "</div>"
      ],
      "text/plain": [
       "                   A         B\n",
       "2013-01-01 -0.479549 -0.026886\n",
       "2013-01-02 -0.984945  0.667843\n",
       "2013-01-03  0.156382  0.883110\n",
       "2013-01-04 -1.866800 -0.370600\n",
       "2013-01-05 -1.187673 -1.113137\n",
       "2013-01-06  1.110699  0.954859"
      ]
     },
     "execution_count": 21,
     "metadata": {},
     "output_type": "execute_result"
    }
   ],
   "source": [
    "df.loc[:, [\"A\", \"B\"]]"
   ]
  },
  {
   "cell_type": "markdown",
   "id": "16d22356-039c-4285-adbb-edb47c0d376c",
   "metadata": {},
   "source": [
    "Showing label slicing, both endpoints are included:"
   ]
  },
  {
   "cell_type": "code",
   "execution_count": 22,
   "id": "0332d1b7-811a-4313-b2e6-1111de0e7095",
   "metadata": {},
   "outputs": [
    {
     "data": {
      "text/html": [
       "<div>\n",
       "<style scoped>\n",
       "    .dataframe tbody tr th:only-of-type {\n",
       "        vertical-align: middle;\n",
       "    }\n",
       "\n",
       "    .dataframe tbody tr th {\n",
       "        vertical-align: top;\n",
       "    }\n",
       "\n",
       "    .dataframe thead th {\n",
       "        text-align: right;\n",
       "    }\n",
       "</style>\n",
       "<table border=\"1\" class=\"dataframe\">\n",
       "  <thead>\n",
       "    <tr style=\"text-align: right;\">\n",
       "      <th></th>\n",
       "      <th>A</th>\n",
       "      <th>B</th>\n",
       "    </tr>\n",
       "  </thead>\n",
       "  <tbody>\n",
       "    <tr>\n",
       "      <th>2013-01-02</th>\n",
       "      <td>-0.984945</td>\n",
       "      <td>0.667843</td>\n",
       "    </tr>\n",
       "    <tr>\n",
       "      <th>2013-01-03</th>\n",
       "      <td>0.156382</td>\n",
       "      <td>0.883110</td>\n",
       "    </tr>\n",
       "    <tr>\n",
       "      <th>2013-01-04</th>\n",
       "      <td>-1.866800</td>\n",
       "      <td>-0.370600</td>\n",
       "    </tr>\n",
       "  </tbody>\n",
       "</table>\n",
       "</div>"
      ],
      "text/plain": [
       "                   A         B\n",
       "2013-01-02 -0.984945  0.667843\n",
       "2013-01-03  0.156382  0.883110\n",
       "2013-01-04 -1.866800 -0.370600"
      ]
     },
     "execution_count": 22,
     "metadata": {},
     "output_type": "execute_result"
    }
   ],
   "source": [
    "df.loc[\"20130102\":\"20130104\", [\"A\", \"B\"]]"
   ]
  },
  {
   "cell_type": "markdown",
   "id": "ea906194-d327-4511-b911-d429c01092e9",
   "metadata": {},
   "source": [
    "Reduction in the dimensions of the returned object:"
   ]
  },
  {
   "cell_type": "code",
   "execution_count": 23,
   "id": "92b8a746-844e-4289-ba84-b3eab7028bc6",
   "metadata": {},
   "outputs": [
    {
     "data": {
      "text/plain": [
       "A   -0.984945\n",
       "B    0.667843\n",
       "Name: 2013-01-02 00:00:00, dtype: float64"
      ]
     },
     "execution_count": 23,
     "metadata": {},
     "output_type": "execute_result"
    }
   ],
   "source": [
    "df.loc[\"20130102\", [\"A\", \"B\"]]"
   ]
  },
  {
   "cell_type": "markdown",
   "id": "aad39adb-8e71-4b6a-ac72-1b7a6566d7eb",
   "metadata": {},
   "source": [
    "For getting a scalar value:"
   ]
  },
  {
   "cell_type": "code",
   "execution_count": 24,
   "id": "7b8adcd3-fc60-4d52-bd43-53252e74c858",
   "metadata": {},
   "outputs": [
    {
     "data": {
      "text/plain": [
       "-0.4795490998167699"
      ]
     },
     "execution_count": 24,
     "metadata": {},
     "output_type": "execute_result"
    }
   ],
   "source": [
    "df.loc[dates[0], \"A\"]"
   ]
  },
  {
   "cell_type": "markdown",
   "id": "665087ad-2dca-4619-9291-30482bd7cead",
   "metadata": {},
   "source": [
    "For getting fast access to a scalar (equivalent to the prior method):"
   ]
  },
  {
   "cell_type": "code",
   "execution_count": 25,
   "id": "dce6ee9c-16b2-4e22-9d69-28350fdaed7c",
   "metadata": {},
   "outputs": [
    {
     "data": {
      "text/plain": [
       "-0.4795490998167699"
      ]
     },
     "execution_count": 25,
     "metadata": {},
     "output_type": "execute_result"
    }
   ],
   "source": [
    "df.at[dates[0], \"A\"]"
   ]
  },
  {
   "cell_type": "markdown",
   "id": "336e2ce7-d41a-4962-9385-75b4f1bfcbbf",
   "metadata": {},
   "source": [
    "### Selection by position\n",
    "See more in Selection by Position.\n",
    "\n",
    "Select via the position of the passed integers:"
   ]
  },
  {
   "cell_type": "code",
   "execution_count": 26,
   "id": "bbbbc2ee-94c7-42c8-8a20-b52fd2e98385",
   "metadata": {},
   "outputs": [
    {
     "data": {
      "text/plain": [
       "A   -1.866800\n",
       "B   -0.370600\n",
       "C   -1.368356\n",
       "D    0.083444\n",
       "Name: 2013-01-04 00:00:00, dtype: float64"
      ]
     },
     "execution_count": 26,
     "metadata": {},
     "output_type": "execute_result"
    }
   ],
   "source": [
    "df.iloc[3]"
   ]
  },
  {
   "cell_type": "markdown",
   "id": "411d771e-401f-46d0-9855-c2e6c8eb365b",
   "metadata": {},
   "source": [
    "By integer slices, acting similar to numpy/Python:"
   ]
  },
  {
   "cell_type": "code",
   "execution_count": 27,
   "id": "6b0a7c8e-4606-49c0-a0c1-5ced0c741d16",
   "metadata": {},
   "outputs": [
    {
     "data": {
      "text/html": [
       "<div>\n",
       "<style scoped>\n",
       "    .dataframe tbody tr th:only-of-type {\n",
       "        vertical-align: middle;\n",
       "    }\n",
       "\n",
       "    .dataframe tbody tr th {\n",
       "        vertical-align: top;\n",
       "    }\n",
       "\n",
       "    .dataframe thead th {\n",
       "        text-align: right;\n",
       "    }\n",
       "</style>\n",
       "<table border=\"1\" class=\"dataframe\">\n",
       "  <thead>\n",
       "    <tr style=\"text-align: right;\">\n",
       "      <th></th>\n",
       "      <th>A</th>\n",
       "      <th>B</th>\n",
       "    </tr>\n",
       "  </thead>\n",
       "  <tbody>\n",
       "    <tr>\n",
       "      <th>2013-01-04</th>\n",
       "      <td>-1.866800</td>\n",
       "      <td>-0.370600</td>\n",
       "    </tr>\n",
       "    <tr>\n",
       "      <th>2013-01-05</th>\n",
       "      <td>-1.187673</td>\n",
       "      <td>-1.113137</td>\n",
       "    </tr>\n",
       "  </tbody>\n",
       "</table>\n",
       "</div>"
      ],
      "text/plain": [
       "                   A         B\n",
       "2013-01-04 -1.866800 -0.370600\n",
       "2013-01-05 -1.187673 -1.113137"
      ]
     },
     "execution_count": 27,
     "metadata": {},
     "output_type": "execute_result"
    }
   ],
   "source": [
    "df.iloc[3:5, 0:2]"
   ]
  },
  {
   "cell_type": "markdown",
   "id": "ab2b720d-c89a-4531-a925-b029543ff819",
   "metadata": {},
   "source": [
    "By lists of integer position locations, similar to the NumPy/Python style:"
   ]
  },
  {
   "cell_type": "code",
   "execution_count": 28,
   "id": "72d07a73-44c3-4e2a-9d02-481de7def800",
   "metadata": {},
   "outputs": [
    {
     "data": {
      "text/html": [
       "<div>\n",
       "<style scoped>\n",
       "    .dataframe tbody tr th:only-of-type {\n",
       "        vertical-align: middle;\n",
       "    }\n",
       "\n",
       "    .dataframe tbody tr th {\n",
       "        vertical-align: top;\n",
       "    }\n",
       "\n",
       "    .dataframe thead th {\n",
       "        text-align: right;\n",
       "    }\n",
       "</style>\n",
       "<table border=\"1\" class=\"dataframe\">\n",
       "  <thead>\n",
       "    <tr style=\"text-align: right;\">\n",
       "      <th></th>\n",
       "      <th>A</th>\n",
       "      <th>C</th>\n",
       "    </tr>\n",
       "  </thead>\n",
       "  <tbody>\n",
       "    <tr>\n",
       "      <th>2013-01-02</th>\n",
       "      <td>-0.984945</td>\n",
       "      <td>-0.891149</td>\n",
       "    </tr>\n",
       "    <tr>\n",
       "      <th>2013-01-03</th>\n",
       "      <td>0.156382</td>\n",
       "      <td>-1.170481</td>\n",
       "    </tr>\n",
       "    <tr>\n",
       "      <th>2013-01-05</th>\n",
       "      <td>-1.187673</td>\n",
       "      <td>0.716594</td>\n",
       "    </tr>\n",
       "  </tbody>\n",
       "</table>\n",
       "</div>"
      ],
      "text/plain": [
       "                   A         C\n",
       "2013-01-02 -0.984945 -0.891149\n",
       "2013-01-03  0.156382 -1.170481\n",
       "2013-01-05 -1.187673  0.716594"
      ]
     },
     "execution_count": 28,
     "metadata": {},
     "output_type": "execute_result"
    }
   ],
   "source": [
    "df.iloc[[1, 2, 4], [0, 2]]"
   ]
  },
  {
   "cell_type": "markdown",
   "id": "4534654d-5436-4036-90b1-eb49dacab795",
   "metadata": {},
   "source": [
    "For slicing rows explicitly:"
   ]
  },
  {
   "cell_type": "code",
   "execution_count": 29,
   "id": "e0471106-e339-423d-998c-e73ed179201c",
   "metadata": {},
   "outputs": [
    {
     "data": {
      "text/html": [
       "<div>\n",
       "<style scoped>\n",
       "    .dataframe tbody tr th:only-of-type {\n",
       "        vertical-align: middle;\n",
       "    }\n",
       "\n",
       "    .dataframe tbody tr th {\n",
       "        vertical-align: top;\n",
       "    }\n",
       "\n",
       "    .dataframe thead th {\n",
       "        text-align: right;\n",
       "    }\n",
       "</style>\n",
       "<table border=\"1\" class=\"dataframe\">\n",
       "  <thead>\n",
       "    <tr style=\"text-align: right;\">\n",
       "      <th></th>\n",
       "      <th>A</th>\n",
       "      <th>B</th>\n",
       "      <th>C</th>\n",
       "      <th>D</th>\n",
       "    </tr>\n",
       "  </thead>\n",
       "  <tbody>\n",
       "    <tr>\n",
       "      <th>2013-01-02</th>\n",
       "      <td>-0.984945</td>\n",
       "      <td>0.667843</td>\n",
       "      <td>-0.891149</td>\n",
       "      <td>1.239040</td>\n",
       "    </tr>\n",
       "    <tr>\n",
       "      <th>2013-01-03</th>\n",
       "      <td>0.156382</td>\n",
       "      <td>0.883110</td>\n",
       "      <td>-1.170481</td>\n",
       "      <td>-0.209165</td>\n",
       "    </tr>\n",
       "  </tbody>\n",
       "</table>\n",
       "</div>"
      ],
      "text/plain": [
       "                   A         B         C         D\n",
       "2013-01-02 -0.984945  0.667843 -0.891149  1.239040\n",
       "2013-01-03  0.156382  0.883110 -1.170481 -0.209165"
      ]
     },
     "execution_count": 29,
     "metadata": {},
     "output_type": "execute_result"
    }
   ],
   "source": [
    "df.iloc[1:3, :]"
   ]
  },
  {
   "cell_type": "markdown",
   "id": "71973c64-10a8-4032-b6ed-809933b8d6ba",
   "metadata": {},
   "source": [
    "For slicing columns explicitly:"
   ]
  },
  {
   "cell_type": "code",
   "execution_count": 30,
   "id": "195fa121-7018-47d5-a455-d2ff94a1639e",
   "metadata": {},
   "outputs": [
    {
     "data": {
      "text/html": [
       "<div>\n",
       "<style scoped>\n",
       "    .dataframe tbody tr th:only-of-type {\n",
       "        vertical-align: middle;\n",
       "    }\n",
       "\n",
       "    .dataframe tbody tr th {\n",
       "        vertical-align: top;\n",
       "    }\n",
       "\n",
       "    .dataframe thead th {\n",
       "        text-align: right;\n",
       "    }\n",
       "</style>\n",
       "<table border=\"1\" class=\"dataframe\">\n",
       "  <thead>\n",
       "    <tr style=\"text-align: right;\">\n",
       "      <th></th>\n",
       "      <th>B</th>\n",
       "      <th>C</th>\n",
       "    </tr>\n",
       "  </thead>\n",
       "  <tbody>\n",
       "    <tr>\n",
       "      <th>2013-01-01</th>\n",
       "      <td>-0.026886</td>\n",
       "      <td>0.093867</td>\n",
       "    </tr>\n",
       "    <tr>\n",
       "      <th>2013-01-02</th>\n",
       "      <td>0.667843</td>\n",
       "      <td>-0.891149</td>\n",
       "    </tr>\n",
       "    <tr>\n",
       "      <th>2013-01-03</th>\n",
       "      <td>0.883110</td>\n",
       "      <td>-1.170481</td>\n",
       "    </tr>\n",
       "    <tr>\n",
       "      <th>2013-01-04</th>\n",
       "      <td>-0.370600</td>\n",
       "      <td>-1.368356</td>\n",
       "    </tr>\n",
       "    <tr>\n",
       "      <th>2013-01-05</th>\n",
       "      <td>-1.113137</td>\n",
       "      <td>0.716594</td>\n",
       "    </tr>\n",
       "    <tr>\n",
       "      <th>2013-01-06</th>\n",
       "      <td>0.954859</td>\n",
       "      <td>1.495033</td>\n",
       "    </tr>\n",
       "  </tbody>\n",
       "</table>\n",
       "</div>"
      ],
      "text/plain": [
       "                   B         C\n",
       "2013-01-01 -0.026886  0.093867\n",
       "2013-01-02  0.667843 -0.891149\n",
       "2013-01-03  0.883110 -1.170481\n",
       "2013-01-04 -0.370600 -1.368356\n",
       "2013-01-05 -1.113137  0.716594\n",
       "2013-01-06  0.954859  1.495033"
      ]
     },
     "execution_count": 30,
     "metadata": {},
     "output_type": "execute_result"
    }
   ],
   "source": [
    "df.iloc[:, 1:3]"
   ]
  },
  {
   "cell_type": "markdown",
   "id": "43743b1e-a589-4a23-99fd-e2193e4e307e",
   "metadata": {},
   "source": [
    "For getting a value explicitly:"
   ]
  },
  {
   "cell_type": "code",
   "execution_count": 31,
   "id": "a447d0f4-c690-4eef-b3c2-47b787268f59",
   "metadata": {},
   "outputs": [
    {
     "data": {
      "text/plain": [
       "0.6678434332647019"
      ]
     },
     "execution_count": 31,
     "metadata": {},
     "output_type": "execute_result"
    }
   ],
   "source": [
    "df.iloc[1, 1]"
   ]
  },
  {
   "cell_type": "markdown",
   "id": "6107912b-454b-4e1c-b77e-8313f28f8fab",
   "metadata": {},
   "source": [
    "For getting fast access to a scalar (equivalent to the prior method):"
   ]
  },
  {
   "cell_type": "code",
   "execution_count": 32,
   "id": "31210fd6-f3ea-43b5-808a-234a7a1f9df7",
   "metadata": {},
   "outputs": [
    {
     "data": {
      "text/plain": [
       "0.6678434332647019"
      ]
     },
     "execution_count": 32,
     "metadata": {},
     "output_type": "execute_result"
    }
   ],
   "source": [
    "df.iat[1, 1]"
   ]
  },
  {
   "cell_type": "markdown",
   "id": "3e3f7a34-b404-45f2-a24b-02029e43ad04",
   "metadata": {},
   "source": [
    "### Boolean indexing\n",
    "Using a single column’s values to select data."
   ]
  },
  {
   "cell_type": "code",
   "execution_count": 33,
   "id": "77b3d361-f25a-4728-84bd-a47f954dca45",
   "metadata": {},
   "outputs": [
    {
     "data": {
      "text/html": [
       "<div>\n",
       "<style scoped>\n",
       "    .dataframe tbody tr th:only-of-type {\n",
       "        vertical-align: middle;\n",
       "    }\n",
       "\n",
       "    .dataframe tbody tr th {\n",
       "        vertical-align: top;\n",
       "    }\n",
       "\n",
       "    .dataframe thead th {\n",
       "        text-align: right;\n",
       "    }\n",
       "</style>\n",
       "<table border=\"1\" class=\"dataframe\">\n",
       "  <thead>\n",
       "    <tr style=\"text-align: right;\">\n",
       "      <th></th>\n",
       "      <th>A</th>\n",
       "      <th>B</th>\n",
       "      <th>C</th>\n",
       "      <th>D</th>\n",
       "    </tr>\n",
       "  </thead>\n",
       "  <tbody>\n",
       "    <tr>\n",
       "      <th>2013-01-03</th>\n",
       "      <td>0.156382</td>\n",
       "      <td>0.883110</td>\n",
       "      <td>-1.170481</td>\n",
       "      <td>-0.209165</td>\n",
       "    </tr>\n",
       "    <tr>\n",
       "      <th>2013-01-06</th>\n",
       "      <td>1.110699</td>\n",
       "      <td>0.954859</td>\n",
       "      <td>1.495033</td>\n",
       "      <td>-0.237437</td>\n",
       "    </tr>\n",
       "  </tbody>\n",
       "</table>\n",
       "</div>"
      ],
      "text/plain": [
       "                   A         B         C         D\n",
       "2013-01-03  0.156382  0.883110 -1.170481 -0.209165\n",
       "2013-01-06  1.110699  0.954859  1.495033 -0.237437"
      ]
     },
     "execution_count": 33,
     "metadata": {},
     "output_type": "execute_result"
    }
   ],
   "source": [
    "df[df[\"A\"] > 0]"
   ]
  },
  {
   "cell_type": "markdown",
   "id": "d6b509ce-f55b-4d62-849a-90487c7f352b",
   "metadata": {},
   "source": [
    "Selecting values from a DataFrame where a boolean condition is met."
   ]
  },
  {
   "cell_type": "code",
   "execution_count": 34,
   "id": "835fe6aa-91b9-4e2e-85a5-7bff6b01f217",
   "metadata": {},
   "outputs": [
    {
     "data": {
      "text/html": [
       "<div>\n",
       "<style scoped>\n",
       "    .dataframe tbody tr th:only-of-type {\n",
       "        vertical-align: middle;\n",
       "    }\n",
       "\n",
       "    .dataframe tbody tr th {\n",
       "        vertical-align: top;\n",
       "    }\n",
       "\n",
       "    .dataframe thead th {\n",
       "        text-align: right;\n",
       "    }\n",
       "</style>\n",
       "<table border=\"1\" class=\"dataframe\">\n",
       "  <thead>\n",
       "    <tr style=\"text-align: right;\">\n",
       "      <th></th>\n",
       "      <th>A</th>\n",
       "      <th>B</th>\n",
       "      <th>C</th>\n",
       "      <th>D</th>\n",
       "    </tr>\n",
       "  </thead>\n",
       "  <tbody>\n",
       "    <tr>\n",
       "      <th>2013-01-01</th>\n",
       "      <td>NaN</td>\n",
       "      <td>NaN</td>\n",
       "      <td>0.093867</td>\n",
       "      <td>NaN</td>\n",
       "    </tr>\n",
       "    <tr>\n",
       "      <th>2013-01-02</th>\n",
       "      <td>NaN</td>\n",
       "      <td>0.667843</td>\n",
       "      <td>NaN</td>\n",
       "      <td>1.239040</td>\n",
       "    </tr>\n",
       "    <tr>\n",
       "      <th>2013-01-03</th>\n",
       "      <td>0.156382</td>\n",
       "      <td>0.883110</td>\n",
       "      <td>NaN</td>\n",
       "      <td>NaN</td>\n",
       "    </tr>\n",
       "    <tr>\n",
       "      <th>2013-01-04</th>\n",
       "      <td>NaN</td>\n",
       "      <td>NaN</td>\n",
       "      <td>NaN</td>\n",
       "      <td>0.083444</td>\n",
       "    </tr>\n",
       "    <tr>\n",
       "      <th>2013-01-05</th>\n",
       "      <td>NaN</td>\n",
       "      <td>NaN</td>\n",
       "      <td>0.716594</td>\n",
       "      <td>0.237083</td>\n",
       "    </tr>\n",
       "    <tr>\n",
       "      <th>2013-01-06</th>\n",
       "      <td>1.110699</td>\n",
       "      <td>0.954859</td>\n",
       "      <td>1.495033</td>\n",
       "      <td>NaN</td>\n",
       "    </tr>\n",
       "  </tbody>\n",
       "</table>\n",
       "</div>"
      ],
      "text/plain": [
       "                   A         B         C         D\n",
       "2013-01-01       NaN       NaN  0.093867       NaN\n",
       "2013-01-02       NaN  0.667843       NaN  1.239040\n",
       "2013-01-03  0.156382  0.883110       NaN       NaN\n",
       "2013-01-04       NaN       NaN       NaN  0.083444\n",
       "2013-01-05       NaN       NaN  0.716594  0.237083\n",
       "2013-01-06  1.110699  0.954859  1.495033       NaN"
      ]
     },
     "execution_count": 34,
     "metadata": {},
     "output_type": "execute_result"
    }
   ],
   "source": [
    "df[df > 0]"
   ]
  },
  {
   "cell_type": "markdown",
   "id": "113c25e1-e225-48c0-8e9f-3c341e6fffec",
   "metadata": {},
   "source": [
    "Using the isin() method for filtering:"
   ]
  },
  {
   "cell_type": "code",
   "execution_count": 35,
   "id": "ddf3677a-db42-45ff-8292-792658603d07",
   "metadata": {},
   "outputs": [
    {
     "data": {
      "text/html": [
       "<div>\n",
       "<style scoped>\n",
       "    .dataframe tbody tr th:only-of-type {\n",
       "        vertical-align: middle;\n",
       "    }\n",
       "\n",
       "    .dataframe tbody tr th {\n",
       "        vertical-align: top;\n",
       "    }\n",
       "\n",
       "    .dataframe thead th {\n",
       "        text-align: right;\n",
       "    }\n",
       "</style>\n",
       "<table border=\"1\" class=\"dataframe\">\n",
       "  <thead>\n",
       "    <tr style=\"text-align: right;\">\n",
       "      <th></th>\n",
       "      <th>A</th>\n",
       "      <th>B</th>\n",
       "      <th>C</th>\n",
       "      <th>D</th>\n",
       "      <th>E</th>\n",
       "    </tr>\n",
       "  </thead>\n",
       "  <tbody>\n",
       "    <tr>\n",
       "      <th>2013-01-01</th>\n",
       "      <td>-0.479549</td>\n",
       "      <td>-0.026886</td>\n",
       "      <td>0.093867</td>\n",
       "      <td>-1.550461</td>\n",
       "      <td>one</td>\n",
       "    </tr>\n",
       "    <tr>\n",
       "      <th>2013-01-02</th>\n",
       "      <td>-0.984945</td>\n",
       "      <td>0.667843</td>\n",
       "      <td>-0.891149</td>\n",
       "      <td>1.239040</td>\n",
       "      <td>one</td>\n",
       "    </tr>\n",
       "    <tr>\n",
       "      <th>2013-01-03</th>\n",
       "      <td>0.156382</td>\n",
       "      <td>0.883110</td>\n",
       "      <td>-1.170481</td>\n",
       "      <td>-0.209165</td>\n",
       "      <td>two</td>\n",
       "    </tr>\n",
       "    <tr>\n",
       "      <th>2013-01-04</th>\n",
       "      <td>-1.866800</td>\n",
       "      <td>-0.370600</td>\n",
       "      <td>-1.368356</td>\n",
       "      <td>0.083444</td>\n",
       "      <td>three</td>\n",
       "    </tr>\n",
       "    <tr>\n",
       "      <th>2013-01-05</th>\n",
       "      <td>-1.187673</td>\n",
       "      <td>-1.113137</td>\n",
       "      <td>0.716594</td>\n",
       "      <td>0.237083</td>\n",
       "      <td>four</td>\n",
       "    </tr>\n",
       "    <tr>\n",
       "      <th>2013-01-06</th>\n",
       "      <td>1.110699</td>\n",
       "      <td>0.954859</td>\n",
       "      <td>1.495033</td>\n",
       "      <td>-0.237437</td>\n",
       "      <td>three</td>\n",
       "    </tr>\n",
       "  </tbody>\n",
       "</table>\n",
       "</div>"
      ],
      "text/plain": [
       "                   A         B         C         D      E\n",
       "2013-01-01 -0.479549 -0.026886  0.093867 -1.550461    one\n",
       "2013-01-02 -0.984945  0.667843 -0.891149  1.239040    one\n",
       "2013-01-03  0.156382  0.883110 -1.170481 -0.209165    two\n",
       "2013-01-04 -1.866800 -0.370600 -1.368356  0.083444  three\n",
       "2013-01-05 -1.187673 -1.113137  0.716594  0.237083   four\n",
       "2013-01-06  1.110699  0.954859  1.495033 -0.237437  three"
      ]
     },
     "execution_count": 35,
     "metadata": {},
     "output_type": "execute_result"
    }
   ],
   "source": [
    "df2 = df.copy()\n",
    "df2[\"E\"] = [\"one\", \"one\", \"two\", \"three\", \"four\", \"three\"]\n",
    "df2"
   ]
  },
  {
   "cell_type": "code",
   "execution_count": 36,
   "id": "42665007-e011-4360-8a1f-f914b3a610c7",
   "metadata": {},
   "outputs": [
    {
     "data": {
      "text/html": [
       "<div>\n",
       "<style scoped>\n",
       "    .dataframe tbody tr th:only-of-type {\n",
       "        vertical-align: middle;\n",
       "    }\n",
       "\n",
       "    .dataframe tbody tr th {\n",
       "        vertical-align: top;\n",
       "    }\n",
       "\n",
       "    .dataframe thead th {\n",
       "        text-align: right;\n",
       "    }\n",
       "</style>\n",
       "<table border=\"1\" class=\"dataframe\">\n",
       "  <thead>\n",
       "    <tr style=\"text-align: right;\">\n",
       "      <th></th>\n",
       "      <th>A</th>\n",
       "      <th>B</th>\n",
       "      <th>C</th>\n",
       "      <th>D</th>\n",
       "      <th>E</th>\n",
       "    </tr>\n",
       "  </thead>\n",
       "  <tbody>\n",
       "    <tr>\n",
       "      <th>2013-01-03</th>\n",
       "      <td>0.156382</td>\n",
       "      <td>0.883110</td>\n",
       "      <td>-1.170481</td>\n",
       "      <td>-0.209165</td>\n",
       "      <td>two</td>\n",
       "    </tr>\n",
       "    <tr>\n",
       "      <th>2013-01-05</th>\n",
       "      <td>-1.187673</td>\n",
       "      <td>-1.113137</td>\n",
       "      <td>0.716594</td>\n",
       "      <td>0.237083</td>\n",
       "      <td>four</td>\n",
       "    </tr>\n",
       "  </tbody>\n",
       "</table>\n",
       "</div>"
      ],
      "text/plain": [
       "                   A         B         C         D     E\n",
       "2013-01-03  0.156382  0.883110 -1.170481 -0.209165   two\n",
       "2013-01-05 -1.187673 -1.113137  0.716594  0.237083  four"
      ]
     },
     "execution_count": 36,
     "metadata": {},
     "output_type": "execute_result"
    }
   ],
   "source": [
    "df2[df2[\"E\"].isin([\"two\", \"four\"])]"
   ]
  },
  {
   "cell_type": "markdown",
   "id": "9b9fe25e-b15a-4ff1-8fec-090c4ede10a8",
   "metadata": {},
   "source": [
    "## Setting\n",
    "Setting a new column automatically aligns the data by the indexes."
   ]
  },
  {
   "cell_type": "code",
   "execution_count": 37,
   "id": "c8029935-8b8a-4af2-a59c-a01f1a462324",
   "metadata": {},
   "outputs": [
    {
     "name": "stdout",
     "output_type": "stream",
     "text": [
      "2013-01-02    1\n",
      "2013-01-03    2\n",
      "2013-01-04    3\n",
      "2013-01-05    4\n",
      "2013-01-06    5\n",
      "2013-01-07    6\n",
      "Freq: D, dtype: int64\n"
     ]
    }
   ],
   "source": [
    "s1 = pd.Series([1, 2, 3, 4, 5, 6], index=pd.date_range(\"20130102\", periods=6))\n",
    "print(s1)"
   ]
  },
  {
   "cell_type": "code",
   "execution_count": 38,
   "id": "ad6dc9ef-9662-4bd0-84b1-9f1ffbb3871d",
   "metadata": {},
   "outputs": [],
   "source": [
    "df[\"F\"] = s1"
   ]
  },
  {
   "cell_type": "markdown",
   "id": "c2683b48-3cf2-492e-bdda-639fa51c0aa9",
   "metadata": {},
   "source": [
    "Setting values by label:"
   ]
  },
  {
   "cell_type": "code",
   "execution_count": 39,
   "id": "38a371dd-3fb8-45fa-ac77-0e95fb6b5457",
   "metadata": {},
   "outputs": [],
   "source": [
    "df.at[dates[0], \"A\"] = 0"
   ]
  },
  {
   "cell_type": "markdown",
   "id": "3c67a7b9-163e-4201-a6bc-c14cc704b97a",
   "metadata": {},
   "source": [
    "Setting values by position:"
   ]
  },
  {
   "cell_type": "code",
   "execution_count": 40,
   "id": "f83e2eb9-97d0-4412-8da8-c721184de0d2",
   "metadata": {},
   "outputs": [],
   "source": [
    "df.iat[0, 1] = 0"
   ]
  },
  {
   "cell_type": "markdown",
   "id": "a2c098d5-5bc6-4d2d-984c-4d330f486bab",
   "metadata": {},
   "source": [
    "Setting by assigning with a NumPy array:"
   ]
  },
  {
   "cell_type": "code",
   "execution_count": 41,
   "id": "bb86e367-d7b7-4aaf-b1f8-7095398d645e",
   "metadata": {},
   "outputs": [],
   "source": [
    "df.loc[:, \"D\"] = np.array([5] * len(df))"
   ]
  },
  {
   "cell_type": "markdown",
   "id": "d1ddffd3-3d14-46ee-8e91-24eb837b91a3",
   "metadata": {},
   "source": [
    "The result of the prior setting operations."
   ]
  },
  {
   "cell_type": "code",
   "execution_count": 42,
   "id": "190575e6-ceab-4b8d-91c1-6b673fe9dcf6",
   "metadata": {},
   "outputs": [
    {
     "data": {
      "text/html": [
       "<div>\n",
       "<style scoped>\n",
       "    .dataframe tbody tr th:only-of-type {\n",
       "        vertical-align: middle;\n",
       "    }\n",
       "\n",
       "    .dataframe tbody tr th {\n",
       "        vertical-align: top;\n",
       "    }\n",
       "\n",
       "    .dataframe thead th {\n",
       "        text-align: right;\n",
       "    }\n",
       "</style>\n",
       "<table border=\"1\" class=\"dataframe\">\n",
       "  <thead>\n",
       "    <tr style=\"text-align: right;\">\n",
       "      <th></th>\n",
       "      <th>A</th>\n",
       "      <th>B</th>\n",
       "      <th>C</th>\n",
       "      <th>D</th>\n",
       "      <th>F</th>\n",
       "    </tr>\n",
       "  </thead>\n",
       "  <tbody>\n",
       "    <tr>\n",
       "      <th>2013-01-01</th>\n",
       "      <td>0.000000</td>\n",
       "      <td>0.000000</td>\n",
       "      <td>0.093867</td>\n",
       "      <td>5</td>\n",
       "      <td>NaN</td>\n",
       "    </tr>\n",
       "    <tr>\n",
       "      <th>2013-01-02</th>\n",
       "      <td>-0.984945</td>\n",
       "      <td>0.667843</td>\n",
       "      <td>-0.891149</td>\n",
       "      <td>5</td>\n",
       "      <td>1.0</td>\n",
       "    </tr>\n",
       "    <tr>\n",
       "      <th>2013-01-03</th>\n",
       "      <td>0.156382</td>\n",
       "      <td>0.883110</td>\n",
       "      <td>-1.170481</td>\n",
       "      <td>5</td>\n",
       "      <td>2.0</td>\n",
       "    </tr>\n",
       "    <tr>\n",
       "      <th>2013-01-04</th>\n",
       "      <td>-1.866800</td>\n",
       "      <td>-0.370600</td>\n",
       "      <td>-1.368356</td>\n",
       "      <td>5</td>\n",
       "      <td>3.0</td>\n",
       "    </tr>\n",
       "    <tr>\n",
       "      <th>2013-01-05</th>\n",
       "      <td>-1.187673</td>\n",
       "      <td>-1.113137</td>\n",
       "      <td>0.716594</td>\n",
       "      <td>5</td>\n",
       "      <td>4.0</td>\n",
       "    </tr>\n",
       "    <tr>\n",
       "      <th>2013-01-06</th>\n",
       "      <td>1.110699</td>\n",
       "      <td>0.954859</td>\n",
       "      <td>1.495033</td>\n",
       "      <td>5</td>\n",
       "      <td>5.0</td>\n",
       "    </tr>\n",
       "  </tbody>\n",
       "</table>\n",
       "</div>"
      ],
      "text/plain": [
       "                   A         B         C  D    F\n",
       "2013-01-01  0.000000  0.000000  0.093867  5  NaN\n",
       "2013-01-02 -0.984945  0.667843 -0.891149  5  1.0\n",
       "2013-01-03  0.156382  0.883110 -1.170481  5  2.0\n",
       "2013-01-04 -1.866800 -0.370600 -1.368356  5  3.0\n",
       "2013-01-05 -1.187673 -1.113137  0.716594  5  4.0\n",
       "2013-01-06  1.110699  0.954859  1.495033  5  5.0"
      ]
     },
     "execution_count": 42,
     "metadata": {},
     "output_type": "execute_result"
    }
   ],
   "source": [
    "df"
   ]
  },
  {
   "cell_type": "markdown",
   "id": "052612ea-c959-407b-b549-f33457bb4cd8",
   "metadata": {},
   "source": [
    "A where operation with setting."
   ]
  },
  {
   "cell_type": "code",
   "execution_count": 43,
   "id": "1db16eca-14bf-4a56-ba21-e2c975568468",
   "metadata": {},
   "outputs": [
    {
     "data": {
      "text/html": [
       "<div>\n",
       "<style scoped>\n",
       "    .dataframe tbody tr th:only-of-type {\n",
       "        vertical-align: middle;\n",
       "    }\n",
       "\n",
       "    .dataframe tbody tr th {\n",
       "        vertical-align: top;\n",
       "    }\n",
       "\n",
       "    .dataframe thead th {\n",
       "        text-align: right;\n",
       "    }\n",
       "</style>\n",
       "<table border=\"1\" class=\"dataframe\">\n",
       "  <thead>\n",
       "    <tr style=\"text-align: right;\">\n",
       "      <th></th>\n",
       "      <th>A</th>\n",
       "      <th>B</th>\n",
       "      <th>C</th>\n",
       "      <th>D</th>\n",
       "      <th>F</th>\n",
       "    </tr>\n",
       "  </thead>\n",
       "  <tbody>\n",
       "    <tr>\n",
       "      <th>2013-01-01</th>\n",
       "      <td>0.000000</td>\n",
       "      <td>0.000000</td>\n",
       "      <td>-0.093867</td>\n",
       "      <td>-5</td>\n",
       "      <td>NaN</td>\n",
       "    </tr>\n",
       "    <tr>\n",
       "      <th>2013-01-02</th>\n",
       "      <td>-0.984945</td>\n",
       "      <td>-0.667843</td>\n",
       "      <td>-0.891149</td>\n",
       "      <td>-5</td>\n",
       "      <td>-1.0</td>\n",
       "    </tr>\n",
       "    <tr>\n",
       "      <th>2013-01-03</th>\n",
       "      <td>-0.156382</td>\n",
       "      <td>-0.883110</td>\n",
       "      <td>-1.170481</td>\n",
       "      <td>-5</td>\n",
       "      <td>-2.0</td>\n",
       "    </tr>\n",
       "    <tr>\n",
       "      <th>2013-01-04</th>\n",
       "      <td>-1.866800</td>\n",
       "      <td>-0.370600</td>\n",
       "      <td>-1.368356</td>\n",
       "      <td>-5</td>\n",
       "      <td>-3.0</td>\n",
       "    </tr>\n",
       "    <tr>\n",
       "      <th>2013-01-05</th>\n",
       "      <td>-1.187673</td>\n",
       "      <td>-1.113137</td>\n",
       "      <td>-0.716594</td>\n",
       "      <td>-5</td>\n",
       "      <td>-4.0</td>\n",
       "    </tr>\n",
       "    <tr>\n",
       "      <th>2013-01-06</th>\n",
       "      <td>-1.110699</td>\n",
       "      <td>-0.954859</td>\n",
       "      <td>-1.495033</td>\n",
       "      <td>-5</td>\n",
       "      <td>-5.0</td>\n",
       "    </tr>\n",
       "  </tbody>\n",
       "</table>\n",
       "</div>"
      ],
      "text/plain": [
       "                   A         B         C  D    F\n",
       "2013-01-01  0.000000  0.000000 -0.093867 -5  NaN\n",
       "2013-01-02 -0.984945 -0.667843 -0.891149 -5 -1.0\n",
       "2013-01-03 -0.156382 -0.883110 -1.170481 -5 -2.0\n",
       "2013-01-04 -1.866800 -0.370600 -1.368356 -5 -3.0\n",
       "2013-01-05 -1.187673 -1.113137 -0.716594 -5 -4.0\n",
       "2013-01-06 -1.110699 -0.954859 -1.495033 -5 -5.0"
      ]
     },
     "execution_count": 43,
     "metadata": {},
     "output_type": "execute_result"
    }
   ],
   "source": [
    "df2 = df.copy()\n",
    "df2[df2 > 0] = -df2\n",
    "df2"
   ]
  },
  {
   "cell_type": "markdown",
   "id": "18d0fe8d-160a-451e-a601-d586c2ce3fdd",
   "metadata": {},
   "source": [
    "## Missing data\n",
    "pandas primarily uses the value np.nan to represent missing data. It is by default not included in computations. See the Missing Data section.\n",
    "\n",
    "Reindexing allows you to change/add/delete the index on a specified axis. This returns a copy of the data."
   ]
  },
  {
   "cell_type": "code",
   "execution_count": 44,
   "id": "7bafb1e1-15db-42ef-99bb-a0b065d7c40e",
   "metadata": {},
   "outputs": [
    {
     "name": "stdout",
     "output_type": "stream",
     "text": [
      "                   A         B         C  D    F    E\n",
      "2013-01-01  0.000000  0.000000  0.093867  5  NaN  1.0\n",
      "2013-01-02 -0.984945  0.667843 -0.891149  5  1.0  1.0\n",
      "2013-01-03  0.156382  0.883110 -1.170481  5  2.0  NaN\n",
      "2013-01-04 -1.866800 -0.370600 -1.368356  5  3.0  NaN\n"
     ]
    }
   ],
   "source": [
    "df1 = df.reindex(index=dates[0:4], columns=list(df.columns) + [\"E\"])\n",
    "df1.loc[dates[0] : dates[1], \"E\"] = 1\n",
    "print(df1)"
   ]
  },
  {
   "cell_type": "markdown",
   "id": "c7c07600-92e3-4834-8efd-edc4a00aa2e8",
   "metadata": {},
   "source": [
    "To drop any rows that have missing data."
   ]
  },
  {
   "cell_type": "code",
   "execution_count": 45,
   "id": "2957a224-4074-4c5c-9299-e258fe1ed199",
   "metadata": {},
   "outputs": [
    {
     "data": {
      "text/html": [
       "<div>\n",
       "<style scoped>\n",
       "    .dataframe tbody tr th:only-of-type {\n",
       "        vertical-align: middle;\n",
       "    }\n",
       "\n",
       "    .dataframe tbody tr th {\n",
       "        vertical-align: top;\n",
       "    }\n",
       "\n",
       "    .dataframe thead th {\n",
       "        text-align: right;\n",
       "    }\n",
       "</style>\n",
       "<table border=\"1\" class=\"dataframe\">\n",
       "  <thead>\n",
       "    <tr style=\"text-align: right;\">\n",
       "      <th></th>\n",
       "      <th>A</th>\n",
       "      <th>B</th>\n",
       "      <th>C</th>\n",
       "      <th>D</th>\n",
       "      <th>F</th>\n",
       "      <th>E</th>\n",
       "    </tr>\n",
       "  </thead>\n",
       "  <tbody>\n",
       "    <tr>\n",
       "      <th>2013-01-02</th>\n",
       "      <td>-0.984945</td>\n",
       "      <td>0.667843</td>\n",
       "      <td>-0.891149</td>\n",
       "      <td>5</td>\n",
       "      <td>1.0</td>\n",
       "      <td>1.0</td>\n",
       "    </tr>\n",
       "  </tbody>\n",
       "</table>\n",
       "</div>"
      ],
      "text/plain": [
       "                   A         B         C  D    F    E\n",
       "2013-01-02 -0.984945  0.667843 -0.891149  5  1.0  1.0"
      ]
     },
     "execution_count": 45,
     "metadata": {},
     "output_type": "execute_result"
    }
   ],
   "source": [
    "df1.dropna(how=\"any\")"
   ]
  },
  {
   "cell_type": "markdown",
   "id": "9f8a9bcc-6d9b-4c01-b6aa-8dde8c252e56",
   "metadata": {},
   "source": [
    "Filling missing data."
   ]
  },
  {
   "cell_type": "code",
   "execution_count": 46,
   "id": "3b0e81ae-06a2-4dbb-a431-aa1321d6daed",
   "metadata": {},
   "outputs": [
    {
     "data": {
      "text/html": [
       "<div>\n",
       "<style scoped>\n",
       "    .dataframe tbody tr th:only-of-type {\n",
       "        vertical-align: middle;\n",
       "    }\n",
       "\n",
       "    .dataframe tbody tr th {\n",
       "        vertical-align: top;\n",
       "    }\n",
       "\n",
       "    .dataframe thead th {\n",
       "        text-align: right;\n",
       "    }\n",
       "</style>\n",
       "<table border=\"1\" class=\"dataframe\">\n",
       "  <thead>\n",
       "    <tr style=\"text-align: right;\">\n",
       "      <th></th>\n",
       "      <th>A</th>\n",
       "      <th>B</th>\n",
       "      <th>C</th>\n",
       "      <th>D</th>\n",
       "      <th>F</th>\n",
       "      <th>E</th>\n",
       "    </tr>\n",
       "  </thead>\n",
       "  <tbody>\n",
       "    <tr>\n",
       "      <th>2013-01-01</th>\n",
       "      <td>0.000000</td>\n",
       "      <td>0.000000</td>\n",
       "      <td>0.093867</td>\n",
       "      <td>5</td>\n",
       "      <td>5.0</td>\n",
       "      <td>1.0</td>\n",
       "    </tr>\n",
       "    <tr>\n",
       "      <th>2013-01-02</th>\n",
       "      <td>-0.984945</td>\n",
       "      <td>0.667843</td>\n",
       "      <td>-0.891149</td>\n",
       "      <td>5</td>\n",
       "      <td>1.0</td>\n",
       "      <td>1.0</td>\n",
       "    </tr>\n",
       "    <tr>\n",
       "      <th>2013-01-03</th>\n",
       "      <td>0.156382</td>\n",
       "      <td>0.883110</td>\n",
       "      <td>-1.170481</td>\n",
       "      <td>5</td>\n",
       "      <td>2.0</td>\n",
       "      <td>5.0</td>\n",
       "    </tr>\n",
       "    <tr>\n",
       "      <th>2013-01-04</th>\n",
       "      <td>-1.866800</td>\n",
       "      <td>-0.370600</td>\n",
       "      <td>-1.368356</td>\n",
       "      <td>5</td>\n",
       "      <td>3.0</td>\n",
       "      <td>5.0</td>\n",
       "    </tr>\n",
       "  </tbody>\n",
       "</table>\n",
       "</div>"
      ],
      "text/plain": [
       "                   A         B         C  D    F    E\n",
       "2013-01-01  0.000000  0.000000  0.093867  5  5.0  1.0\n",
       "2013-01-02 -0.984945  0.667843 -0.891149  5  1.0  1.0\n",
       "2013-01-03  0.156382  0.883110 -1.170481  5  2.0  5.0\n",
       "2013-01-04 -1.866800 -0.370600 -1.368356  5  3.0  5.0"
      ]
     },
     "execution_count": 46,
     "metadata": {},
     "output_type": "execute_result"
    }
   ],
   "source": [
    "df1.fillna(value=5)"
   ]
  },
  {
   "cell_type": "markdown",
   "id": "e522e43f-3b2e-4698-bd56-cc0dc14d90cf",
   "metadata": {},
   "source": [
    "To get the boolean mask where values are nan."
   ]
  },
  {
   "cell_type": "code",
   "execution_count": 47,
   "id": "7b59aaed-38dd-431d-914b-9540bffd3a94",
   "metadata": {},
   "outputs": [
    {
     "data": {
      "text/html": [
       "<div>\n",
       "<style scoped>\n",
       "    .dataframe tbody tr th:only-of-type {\n",
       "        vertical-align: middle;\n",
       "    }\n",
       "\n",
       "    .dataframe tbody tr th {\n",
       "        vertical-align: top;\n",
       "    }\n",
       "\n",
       "    .dataframe thead th {\n",
       "        text-align: right;\n",
       "    }\n",
       "</style>\n",
       "<table border=\"1\" class=\"dataframe\">\n",
       "  <thead>\n",
       "    <tr style=\"text-align: right;\">\n",
       "      <th></th>\n",
       "      <th>A</th>\n",
       "      <th>B</th>\n",
       "      <th>C</th>\n",
       "      <th>D</th>\n",
       "      <th>F</th>\n",
       "      <th>E</th>\n",
       "    </tr>\n",
       "  </thead>\n",
       "  <tbody>\n",
       "    <tr>\n",
       "      <th>2013-01-01</th>\n",
       "      <td>False</td>\n",
       "      <td>False</td>\n",
       "      <td>False</td>\n",
       "      <td>False</td>\n",
       "      <td>True</td>\n",
       "      <td>False</td>\n",
       "    </tr>\n",
       "    <tr>\n",
       "      <th>2013-01-02</th>\n",
       "      <td>False</td>\n",
       "      <td>False</td>\n",
       "      <td>False</td>\n",
       "      <td>False</td>\n",
       "      <td>False</td>\n",
       "      <td>False</td>\n",
       "    </tr>\n",
       "    <tr>\n",
       "      <th>2013-01-03</th>\n",
       "      <td>False</td>\n",
       "      <td>False</td>\n",
       "      <td>False</td>\n",
       "      <td>False</td>\n",
       "      <td>False</td>\n",
       "      <td>True</td>\n",
       "    </tr>\n",
       "    <tr>\n",
       "      <th>2013-01-04</th>\n",
       "      <td>False</td>\n",
       "      <td>False</td>\n",
       "      <td>False</td>\n",
       "      <td>False</td>\n",
       "      <td>False</td>\n",
       "      <td>True</td>\n",
       "    </tr>\n",
       "  </tbody>\n",
       "</table>\n",
       "</div>"
      ],
      "text/plain": [
       "                A      B      C      D      F      E\n",
       "2013-01-01  False  False  False  False   True  False\n",
       "2013-01-02  False  False  False  False  False  False\n",
       "2013-01-03  False  False  False  False  False   True\n",
       "2013-01-04  False  False  False  False  False   True"
      ]
     },
     "execution_count": 47,
     "metadata": {},
     "output_type": "execute_result"
    }
   ],
   "source": [
    "pd.isna(df1)"
   ]
  },
  {
   "cell_type": "markdown",
   "id": "ada0c04e-4fbf-41f4-b2d5-90b840843dfd",
   "metadata": {},
   "source": [
    "## Operations\n",
    "See the Basic section on Binary Ops.\n",
    "\n",
    "### Stats\n",
    "Operations in general exclude missing data.\n",
    "\n",
    "Performing a descriptive statistic:"
   ]
  },
  {
   "cell_type": "code",
   "execution_count": 48,
   "id": "5fceea1d-a38c-458c-84f9-76285dbb0e01",
   "metadata": {},
   "outputs": [
    {
     "data": {
      "text/plain": [
       "A   -0.462056\n",
       "B    0.170346\n",
       "C   -0.187415\n",
       "D    5.000000\n",
       "F    3.000000\n",
       "dtype: float64"
      ]
     },
     "execution_count": 48,
     "metadata": {},
     "output_type": "execute_result"
    }
   ],
   "source": [
    "df.mean()"
   ]
  },
  {
   "cell_type": "markdown",
   "id": "45c03354-30db-47bc-9edc-800375c93e39",
   "metadata": {},
   "source": [
    "Same operation on the other axis:"
   ]
  },
  {
   "cell_type": "code",
   "execution_count": 49,
   "id": "ec883114-f060-481a-91f9-a35c22128196",
   "metadata": {},
   "outputs": [
    {
     "data": {
      "text/plain": [
       "2013-01-01    1.273467\n",
       "2013-01-02    0.958350\n",
       "2013-01-03    1.373802\n",
       "2013-01-04    0.878849\n",
       "2013-01-05    1.483157\n",
       "2013-01-06    2.712118\n",
       "Freq: D, dtype: float64"
      ]
     },
     "execution_count": 49,
     "metadata": {},
     "output_type": "execute_result"
    }
   ],
   "source": [
    "df.mean(1)"
   ]
  },
  {
   "cell_type": "markdown",
   "id": "1815cd53-6ef1-4a1b-a75b-76eefe25ff55",
   "metadata": {},
   "source": [
    "Operating with objects that have different dimensionality and need alignment. In addition, pandas automatically broadcasts along the specified dimension."
   ]
  },
  {
   "cell_type": "code",
   "execution_count": 50,
   "id": "05165bd1-9ee5-49f6-86d9-8cc618b88ba7",
   "metadata": {},
   "outputs": [
    {
     "data": {
      "text/plain": [
       "2013-01-01    NaN\n",
       "2013-01-02    NaN\n",
       "2013-01-03    1.0\n",
       "2013-01-04    3.0\n",
       "2013-01-05    5.0\n",
       "2013-01-06    NaN\n",
       "Freq: D, dtype: float64"
      ]
     },
     "execution_count": 50,
     "metadata": {},
     "output_type": "execute_result"
    }
   ],
   "source": [
    "s = pd.Series([1, 3, 5, np.nan, 6, 8], index=dates).shift(2)\n",
    "s"
   ]
  },
  {
   "cell_type": "code",
   "execution_count": 51,
   "id": "ab2eb799-30c0-488e-a627-f7b72d6b9d29",
   "metadata": {},
   "outputs": [
    {
     "data": {
      "text/html": [
       "<div>\n",
       "<style scoped>\n",
       "    .dataframe tbody tr th:only-of-type {\n",
       "        vertical-align: middle;\n",
       "    }\n",
       "\n",
       "    .dataframe tbody tr th {\n",
       "        vertical-align: top;\n",
       "    }\n",
       "\n",
       "    .dataframe thead th {\n",
       "        text-align: right;\n",
       "    }\n",
       "</style>\n",
       "<table border=\"1\" class=\"dataframe\">\n",
       "  <thead>\n",
       "    <tr style=\"text-align: right;\">\n",
       "      <th></th>\n",
       "      <th>A</th>\n",
       "      <th>B</th>\n",
       "      <th>C</th>\n",
       "      <th>D</th>\n",
       "      <th>F</th>\n",
       "    </tr>\n",
       "  </thead>\n",
       "  <tbody>\n",
       "    <tr>\n",
       "      <th>2013-01-01</th>\n",
       "      <td>NaN</td>\n",
       "      <td>NaN</td>\n",
       "      <td>NaN</td>\n",
       "      <td>NaN</td>\n",
       "      <td>NaN</td>\n",
       "    </tr>\n",
       "    <tr>\n",
       "      <th>2013-01-02</th>\n",
       "      <td>NaN</td>\n",
       "      <td>NaN</td>\n",
       "      <td>NaN</td>\n",
       "      <td>NaN</td>\n",
       "      <td>NaN</td>\n",
       "    </tr>\n",
       "    <tr>\n",
       "      <th>2013-01-03</th>\n",
       "      <td>-0.843618</td>\n",
       "      <td>-0.116890</td>\n",
       "      <td>-2.170481</td>\n",
       "      <td>4.0</td>\n",
       "      <td>1.0</td>\n",
       "    </tr>\n",
       "    <tr>\n",
       "      <th>2013-01-04</th>\n",
       "      <td>-4.866800</td>\n",
       "      <td>-3.370600</td>\n",
       "      <td>-4.368356</td>\n",
       "      <td>2.0</td>\n",
       "      <td>0.0</td>\n",
       "    </tr>\n",
       "    <tr>\n",
       "      <th>2013-01-05</th>\n",
       "      <td>-6.187673</td>\n",
       "      <td>-6.113137</td>\n",
       "      <td>-4.283406</td>\n",
       "      <td>0.0</td>\n",
       "      <td>-1.0</td>\n",
       "    </tr>\n",
       "    <tr>\n",
       "      <th>2013-01-06</th>\n",
       "      <td>NaN</td>\n",
       "      <td>NaN</td>\n",
       "      <td>NaN</td>\n",
       "      <td>NaN</td>\n",
       "      <td>NaN</td>\n",
       "    </tr>\n",
       "  </tbody>\n",
       "</table>\n",
       "</div>"
      ],
      "text/plain": [
       "                   A         B         C    D    F\n",
       "2013-01-01       NaN       NaN       NaN  NaN  NaN\n",
       "2013-01-02       NaN       NaN       NaN  NaN  NaN\n",
       "2013-01-03 -0.843618 -0.116890 -2.170481  4.0  1.0\n",
       "2013-01-04 -4.866800 -3.370600 -4.368356  2.0  0.0\n",
       "2013-01-05 -6.187673 -6.113137 -4.283406  0.0 -1.0\n",
       "2013-01-06       NaN       NaN       NaN  NaN  NaN"
      ]
     },
     "execution_count": 51,
     "metadata": {},
     "output_type": "execute_result"
    }
   ],
   "source": [
    "df.sub(s, axis=\"index\")"
   ]
  },
  {
   "cell_type": "markdown",
   "id": "85aea088-3002-43e4-a1af-b2400e33637c",
   "metadata": {},
   "source": [
    "### Apply\n",
    "Applying functions to the data:"
   ]
  },
  {
   "cell_type": "code",
   "execution_count": 52,
   "id": "c387cace-cff1-4fb9-99f0-cf59a3a06afc",
   "metadata": {},
   "outputs": [
    {
     "data": {
      "text/html": [
       "<div>\n",
       "<style scoped>\n",
       "    .dataframe tbody tr th:only-of-type {\n",
       "        vertical-align: middle;\n",
       "    }\n",
       "\n",
       "    .dataframe tbody tr th {\n",
       "        vertical-align: top;\n",
       "    }\n",
       "\n",
       "    .dataframe thead th {\n",
       "        text-align: right;\n",
       "    }\n",
       "</style>\n",
       "<table border=\"1\" class=\"dataframe\">\n",
       "  <thead>\n",
       "    <tr style=\"text-align: right;\">\n",
       "      <th></th>\n",
       "      <th>A</th>\n",
       "      <th>B</th>\n",
       "      <th>C</th>\n",
       "      <th>D</th>\n",
       "      <th>F</th>\n",
       "    </tr>\n",
       "  </thead>\n",
       "  <tbody>\n",
       "    <tr>\n",
       "      <th>2013-01-01</th>\n",
       "      <td>0.000000</td>\n",
       "      <td>0.000000</td>\n",
       "      <td>0.093867</td>\n",
       "      <td>5</td>\n",
       "      <td>NaN</td>\n",
       "    </tr>\n",
       "    <tr>\n",
       "      <th>2013-01-02</th>\n",
       "      <td>-0.984945</td>\n",
       "      <td>0.667843</td>\n",
       "      <td>-0.797282</td>\n",
       "      <td>10</td>\n",
       "      <td>1.0</td>\n",
       "    </tr>\n",
       "    <tr>\n",
       "      <th>2013-01-03</th>\n",
       "      <td>-0.828563</td>\n",
       "      <td>1.550953</td>\n",
       "      <td>-1.967762</td>\n",
       "      <td>15</td>\n",
       "      <td>3.0</td>\n",
       "    </tr>\n",
       "    <tr>\n",
       "      <th>2013-01-04</th>\n",
       "      <td>-2.695363</td>\n",
       "      <td>1.180353</td>\n",
       "      <td>-3.336118</td>\n",
       "      <td>20</td>\n",
       "      <td>6.0</td>\n",
       "    </tr>\n",
       "    <tr>\n",
       "      <th>2013-01-05</th>\n",
       "      <td>-3.883036</td>\n",
       "      <td>0.067215</td>\n",
       "      <td>-2.619524</td>\n",
       "      <td>25</td>\n",
       "      <td>10.0</td>\n",
       "    </tr>\n",
       "    <tr>\n",
       "      <th>2013-01-06</th>\n",
       "      <td>-2.772338</td>\n",
       "      <td>1.022075</td>\n",
       "      <td>-1.124492</td>\n",
       "      <td>30</td>\n",
       "      <td>15.0</td>\n",
       "    </tr>\n",
       "  </tbody>\n",
       "</table>\n",
       "</div>"
      ],
      "text/plain": [
       "                   A         B         C   D     F\n",
       "2013-01-01  0.000000  0.000000  0.093867   5   NaN\n",
       "2013-01-02 -0.984945  0.667843 -0.797282  10   1.0\n",
       "2013-01-03 -0.828563  1.550953 -1.967762  15   3.0\n",
       "2013-01-04 -2.695363  1.180353 -3.336118  20   6.0\n",
       "2013-01-05 -3.883036  0.067215 -2.619524  25  10.0\n",
       "2013-01-06 -2.772338  1.022075 -1.124492  30  15.0"
      ]
     },
     "execution_count": 52,
     "metadata": {},
     "output_type": "execute_result"
    }
   ],
   "source": [
    "df.apply(np.cumsum)"
   ]
  },
  {
   "cell_type": "code",
   "execution_count": 53,
   "id": "934a8852-59f4-457b-b04a-ae84d9ddb4ef",
   "metadata": {},
   "outputs": [
    {
     "data": {
      "text/plain": [
       "A    2.977499\n",
       "B    2.067997\n",
       "C    2.863388\n",
       "D    0.000000\n",
       "F    4.000000\n",
       "dtype: float64"
      ]
     },
     "execution_count": 53,
     "metadata": {},
     "output_type": "execute_result"
    }
   ],
   "source": [
    "df.apply(lambda x: x.max() - x.min())"
   ]
  },
  {
   "cell_type": "markdown",
   "id": "eb2644c0-7d67-445f-9ea5-b87ac5401b3c",
   "metadata": {},
   "source": [
    "## Histogramming\n",
    "See more at Histogramming and Discretization."
   ]
  },
  {
   "cell_type": "code",
   "execution_count": 54,
   "id": "242ef5a7-851b-40f5-a6b1-964a2f6c50aa",
   "metadata": {},
   "outputs": [
    {
     "name": "stdout",
     "output_type": "stream",
     "text": [
      "0    6\n",
      "1    3\n",
      "2    3\n",
      "3    6\n",
      "4    6\n",
      "5    6\n",
      "6    2\n",
      "7    3\n",
      "8    2\n",
      "9    0\n",
      "dtype: int32\n"
     ]
    }
   ],
   "source": [
    " s = pd.Series(np.random.randint(0, 7, size=10))\n",
    "print(s)"
   ]
  },
  {
   "cell_type": "code",
   "execution_count": 55,
   "id": "d5980d98-7f92-438f-afa6-506a97461e9f",
   "metadata": {},
   "outputs": [
    {
     "data": {
      "text/plain": [
       "6    4\n",
       "3    3\n",
       "2    2\n",
       "0    1\n",
       "dtype: int64"
      ]
     },
     "execution_count": 55,
     "metadata": {},
     "output_type": "execute_result"
    }
   ],
   "source": [
    "s.value_counts()"
   ]
  },
  {
   "cell_type": "markdown",
   "id": "d428e42b-dc8f-4644-bc51-16df111fc441",
   "metadata": {},
   "source": [
    "## String Methods\n",
    "Series is equipped with a set of string processing methods in the str attribute that make it easy to operate on each element of the array, as in the code snippet below. Note that pattern-matching in str generally uses regular expressions by default (and in some cases always uses them). See more at Vectorized String Methods.\n"
   ]
  },
  {
   "cell_type": "code",
   "execution_count": 56,
   "id": "106c4488-39a1-4975-a90e-452c3ecf33d5",
   "metadata": {},
   "outputs": [
    {
     "data": {
      "text/plain": [
       "0       a\n",
       "1       b\n",
       "2       c\n",
       "3    aaba\n",
       "4    baca\n",
       "5     NaN\n",
       "6    caba\n",
       "7     dog\n",
       "8     cat\n",
       "dtype: object"
      ]
     },
     "execution_count": 56,
     "metadata": {},
     "output_type": "execute_result"
    }
   ],
   "source": [
    "s = pd.Series([\"A\", \"B\", \"C\", \"Aaba\", \"Baca\", np.nan, \"CABA\", \"dog\", \"cat\"])\n",
    "s.str.lower()"
   ]
  },
  {
   "cell_type": "markdown",
   "id": "3a5e78ec-1fce-43d0-ac29-a679e2ad8bdf",
   "metadata": {},
   "source": [
    "## Merge\n",
    "### Concat\n",
    "pandas provides various facilities for easily combining together Series and DataFrame objects with various kinds of set logic for the indexes and relational algebra functionality in the case of join / merge-type operations.\n",
    "\n",
    "See the Merging section.\n",
    "\n",
    "Concatenating pandas objects together with concat():"
   ]
  },
  {
   "cell_type": "code",
   "execution_count": 57,
   "id": "bcc0750d-d8ec-4f1b-8100-3062a49c6842",
   "metadata": {},
   "outputs": [
    {
     "data": {
      "text/html": [
       "<div>\n",
       "<style scoped>\n",
       "    .dataframe tbody tr th:only-of-type {\n",
       "        vertical-align: middle;\n",
       "    }\n",
       "\n",
       "    .dataframe tbody tr th {\n",
       "        vertical-align: top;\n",
       "    }\n",
       "\n",
       "    .dataframe thead th {\n",
       "        text-align: right;\n",
       "    }\n",
       "</style>\n",
       "<table border=\"1\" class=\"dataframe\">\n",
       "  <thead>\n",
       "    <tr style=\"text-align: right;\">\n",
       "      <th></th>\n",
       "      <th>0</th>\n",
       "      <th>1</th>\n",
       "      <th>2</th>\n",
       "      <th>3</th>\n",
       "    </tr>\n",
       "  </thead>\n",
       "  <tbody>\n",
       "    <tr>\n",
       "      <th>0</th>\n",
       "      <td>0.084776</td>\n",
       "      <td>-0.390101</td>\n",
       "      <td>-0.303696</td>\n",
       "      <td>0.093379</td>\n",
       "    </tr>\n",
       "    <tr>\n",
       "      <th>1</th>\n",
       "      <td>-1.045367</td>\n",
       "      <td>-0.423962</td>\n",
       "      <td>0.456433</td>\n",
       "      <td>-0.699108</td>\n",
       "    </tr>\n",
       "    <tr>\n",
       "      <th>2</th>\n",
       "      <td>1.361498</td>\n",
       "      <td>-1.015694</td>\n",
       "      <td>2.136178</td>\n",
       "      <td>-1.176355</td>\n",
       "    </tr>\n",
       "    <tr>\n",
       "      <th>3</th>\n",
       "      <td>0.333606</td>\n",
       "      <td>1.028225</td>\n",
       "      <td>-0.949420</td>\n",
       "      <td>1.054838</td>\n",
       "    </tr>\n",
       "    <tr>\n",
       "      <th>4</th>\n",
       "      <td>0.192030</td>\n",
       "      <td>-0.841731</td>\n",
       "      <td>-1.263280</td>\n",
       "      <td>0.120028</td>\n",
       "    </tr>\n",
       "    <tr>\n",
       "      <th>5</th>\n",
       "      <td>0.387546</td>\n",
       "      <td>1.485063</td>\n",
       "      <td>0.843122</td>\n",
       "      <td>0.391988</td>\n",
       "    </tr>\n",
       "    <tr>\n",
       "      <th>6</th>\n",
       "      <td>-0.551960</td>\n",
       "      <td>0.251121</td>\n",
       "      <td>0.956415</td>\n",
       "      <td>0.227327</td>\n",
       "    </tr>\n",
       "    <tr>\n",
       "      <th>7</th>\n",
       "      <td>-0.317434</td>\n",
       "      <td>0.288500</td>\n",
       "      <td>-0.495254</td>\n",
       "      <td>-1.042919</td>\n",
       "    </tr>\n",
       "    <tr>\n",
       "      <th>8</th>\n",
       "      <td>0.904007</td>\n",
       "      <td>1.016085</td>\n",
       "      <td>0.572040</td>\n",
       "      <td>1.141788</td>\n",
       "    </tr>\n",
       "    <tr>\n",
       "      <th>9</th>\n",
       "      <td>-0.183182</td>\n",
       "      <td>1.644201</td>\n",
       "      <td>-1.187236</td>\n",
       "      <td>0.500620</td>\n",
       "    </tr>\n",
       "  </tbody>\n",
       "</table>\n",
       "</div>"
      ],
      "text/plain": [
       "          0         1         2         3\n",
       "0  0.084776 -0.390101 -0.303696  0.093379\n",
       "1 -1.045367 -0.423962  0.456433 -0.699108\n",
       "2  1.361498 -1.015694  2.136178 -1.176355\n",
       "3  0.333606  1.028225 -0.949420  1.054838\n",
       "4  0.192030 -0.841731 -1.263280  0.120028\n",
       "5  0.387546  1.485063  0.843122  0.391988\n",
       "6 -0.551960  0.251121  0.956415  0.227327\n",
       "7 -0.317434  0.288500 -0.495254 -1.042919\n",
       "8  0.904007  1.016085  0.572040  1.141788\n",
       "9 -0.183182  1.644201 -1.187236  0.500620"
      ]
     },
     "execution_count": 57,
     "metadata": {},
     "output_type": "execute_result"
    }
   ],
   "source": [
    "df = pd.DataFrame(np.random.randn(10, 4))\n",
    "df"
   ]
  },
  {
   "cell_type": "code",
   "execution_count": 58,
   "id": "233f9378-de04-4d0e-9095-6798a4df6a5d",
   "metadata": {},
   "outputs": [
    {
     "data": {
      "text/html": [
       "<div>\n",
       "<style scoped>\n",
       "    .dataframe tbody tr th:only-of-type {\n",
       "        vertical-align: middle;\n",
       "    }\n",
       "\n",
       "    .dataframe tbody tr th {\n",
       "        vertical-align: top;\n",
       "    }\n",
       "\n",
       "    .dataframe thead th {\n",
       "        text-align: right;\n",
       "    }\n",
       "</style>\n",
       "<table border=\"1\" class=\"dataframe\">\n",
       "  <thead>\n",
       "    <tr style=\"text-align: right;\">\n",
       "      <th></th>\n",
       "      <th>0</th>\n",
       "      <th>1</th>\n",
       "      <th>2</th>\n",
       "      <th>3</th>\n",
       "    </tr>\n",
       "  </thead>\n",
       "  <tbody>\n",
       "    <tr>\n",
       "      <th>0</th>\n",
       "      <td>0.084776</td>\n",
       "      <td>-0.390101</td>\n",
       "      <td>-0.303696</td>\n",
       "      <td>0.093379</td>\n",
       "    </tr>\n",
       "    <tr>\n",
       "      <th>1</th>\n",
       "      <td>-1.045367</td>\n",
       "      <td>-0.423962</td>\n",
       "      <td>0.456433</td>\n",
       "      <td>-0.699108</td>\n",
       "    </tr>\n",
       "    <tr>\n",
       "      <th>2</th>\n",
       "      <td>1.361498</td>\n",
       "      <td>-1.015694</td>\n",
       "      <td>2.136178</td>\n",
       "      <td>-1.176355</td>\n",
       "    </tr>\n",
       "    <tr>\n",
       "      <th>3</th>\n",
       "      <td>0.333606</td>\n",
       "      <td>1.028225</td>\n",
       "      <td>-0.949420</td>\n",
       "      <td>1.054838</td>\n",
       "    </tr>\n",
       "    <tr>\n",
       "      <th>4</th>\n",
       "      <td>0.192030</td>\n",
       "      <td>-0.841731</td>\n",
       "      <td>-1.263280</td>\n",
       "      <td>0.120028</td>\n",
       "    </tr>\n",
       "    <tr>\n",
       "      <th>5</th>\n",
       "      <td>0.387546</td>\n",
       "      <td>1.485063</td>\n",
       "      <td>0.843122</td>\n",
       "      <td>0.391988</td>\n",
       "    </tr>\n",
       "    <tr>\n",
       "      <th>6</th>\n",
       "      <td>-0.551960</td>\n",
       "      <td>0.251121</td>\n",
       "      <td>0.956415</td>\n",
       "      <td>0.227327</td>\n",
       "    </tr>\n",
       "    <tr>\n",
       "      <th>7</th>\n",
       "      <td>-0.317434</td>\n",
       "      <td>0.288500</td>\n",
       "      <td>-0.495254</td>\n",
       "      <td>-1.042919</td>\n",
       "    </tr>\n",
       "    <tr>\n",
       "      <th>8</th>\n",
       "      <td>0.904007</td>\n",
       "      <td>1.016085</td>\n",
       "      <td>0.572040</td>\n",
       "      <td>1.141788</td>\n",
       "    </tr>\n",
       "    <tr>\n",
       "      <th>9</th>\n",
       "      <td>-0.183182</td>\n",
       "      <td>1.644201</td>\n",
       "      <td>-1.187236</td>\n",
       "      <td>0.500620</td>\n",
       "    </tr>\n",
       "  </tbody>\n",
       "</table>\n",
       "</div>"
      ],
      "text/plain": [
       "          0         1         2         3\n",
       "0  0.084776 -0.390101 -0.303696  0.093379\n",
       "1 -1.045367 -0.423962  0.456433 -0.699108\n",
       "2  1.361498 -1.015694  2.136178 -1.176355\n",
       "3  0.333606  1.028225 -0.949420  1.054838\n",
       "4  0.192030 -0.841731 -1.263280  0.120028\n",
       "5  0.387546  1.485063  0.843122  0.391988\n",
       "6 -0.551960  0.251121  0.956415  0.227327\n",
       "7 -0.317434  0.288500 -0.495254 -1.042919\n",
       "8  0.904007  1.016085  0.572040  1.141788\n",
       "9 -0.183182  1.644201 -1.187236  0.500620"
      ]
     },
     "execution_count": 58,
     "metadata": {},
     "output_type": "execute_result"
    }
   ],
   "source": [
    "# break it into pieces\n",
    "pieces = [df[:3], df[3:7], df[7:]]\n",
    "pd.concat(pieces)"
   ]
  },
  {
   "cell_type": "markdown",
   "id": "beeb2ff5-6150-4340-b814-7f330e017d8f",
   "metadata": {},
   "source": [
    ">**Note**\n",
    ">\n",
    ">Adding a column to a DataFrame is relatively fast. However, adding a row requires a copy, and may be expensive. We recommend passing a pre-built list of records to the DataFrame constructor instead of building a DataFrame by iteratively appending records to it. See Appending to dataframe for more.\n",
    "\n",
    "#### Join\n",
    "SQL style merges. See the Database style joining section."
   ]
  },
  {
   "cell_type": "code",
   "execution_count": 59,
   "id": "9ee65a5c-04c9-4977-9f62-4fb7bda5f74d",
   "metadata": {},
   "outputs": [
    {
     "data": {
      "text/html": [
       "<div>\n",
       "<style scoped>\n",
       "    .dataframe tbody tr th:only-of-type {\n",
       "        vertical-align: middle;\n",
       "    }\n",
       "\n",
       "    .dataframe tbody tr th {\n",
       "        vertical-align: top;\n",
       "    }\n",
       "\n",
       "    .dataframe thead th {\n",
       "        text-align: right;\n",
       "    }\n",
       "</style>\n",
       "<table border=\"1\" class=\"dataframe\">\n",
       "  <thead>\n",
       "    <tr style=\"text-align: right;\">\n",
       "      <th></th>\n",
       "      <th>key</th>\n",
       "      <th>lval</th>\n",
       "    </tr>\n",
       "  </thead>\n",
       "  <tbody>\n",
       "    <tr>\n",
       "      <th>0</th>\n",
       "      <td>foo</td>\n",
       "      <td>1</td>\n",
       "    </tr>\n",
       "    <tr>\n",
       "      <th>1</th>\n",
       "      <td>foo</td>\n",
       "      <td>2</td>\n",
       "    </tr>\n",
       "  </tbody>\n",
       "</table>\n",
       "</div>"
      ],
      "text/plain": [
       "   key  lval\n",
       "0  foo     1\n",
       "1  foo     2"
      ]
     },
     "execution_count": 59,
     "metadata": {},
     "output_type": "execute_result"
    }
   ],
   "source": [
    "left = pd.DataFrame({\"key\": [\"foo\", \"foo\"], \"lval\": [1, 2]})\n",
    "right = pd.DataFrame({\"key\": [\"foo\", \"foo\"], \"rval\": [4, 5]})\n",
    "left"
   ]
  },
  {
   "cell_type": "code",
   "execution_count": 60,
   "id": "ff2ffa61-a01e-4ef5-9814-2aa789ca5db6",
   "metadata": {},
   "outputs": [
    {
     "data": {
      "text/html": [
       "<div>\n",
       "<style scoped>\n",
       "    .dataframe tbody tr th:only-of-type {\n",
       "        vertical-align: middle;\n",
       "    }\n",
       "\n",
       "    .dataframe tbody tr th {\n",
       "        vertical-align: top;\n",
       "    }\n",
       "\n",
       "    .dataframe thead th {\n",
       "        text-align: right;\n",
       "    }\n",
       "</style>\n",
       "<table border=\"1\" class=\"dataframe\">\n",
       "  <thead>\n",
       "    <tr style=\"text-align: right;\">\n",
       "      <th></th>\n",
       "      <th>key</th>\n",
       "      <th>rval</th>\n",
       "    </tr>\n",
       "  </thead>\n",
       "  <tbody>\n",
       "    <tr>\n",
       "      <th>0</th>\n",
       "      <td>foo</td>\n",
       "      <td>4</td>\n",
       "    </tr>\n",
       "    <tr>\n",
       "      <th>1</th>\n",
       "      <td>foo</td>\n",
       "      <td>5</td>\n",
       "    </tr>\n",
       "  </tbody>\n",
       "</table>\n",
       "</div>"
      ],
      "text/plain": [
       "   key  rval\n",
       "0  foo     4\n",
       "1  foo     5"
      ]
     },
     "execution_count": 60,
     "metadata": {},
     "output_type": "execute_result"
    }
   ],
   "source": [
    "right"
   ]
  },
  {
   "cell_type": "code",
   "execution_count": 61,
   "id": "ea37b6ed-9618-4788-a9c2-687045352d2b",
   "metadata": {},
   "outputs": [
    {
     "data": {
      "text/html": [
       "<div>\n",
       "<style scoped>\n",
       "    .dataframe tbody tr th:only-of-type {\n",
       "        vertical-align: middle;\n",
       "    }\n",
       "\n",
       "    .dataframe tbody tr th {\n",
       "        vertical-align: top;\n",
       "    }\n",
       "\n",
       "    .dataframe thead th {\n",
       "        text-align: right;\n",
       "    }\n",
       "</style>\n",
       "<table border=\"1\" class=\"dataframe\">\n",
       "  <thead>\n",
       "    <tr style=\"text-align: right;\">\n",
       "      <th></th>\n",
       "      <th>key</th>\n",
       "      <th>lval</th>\n",
       "      <th>rval</th>\n",
       "    </tr>\n",
       "  </thead>\n",
       "  <tbody>\n",
       "    <tr>\n",
       "      <th>0</th>\n",
       "      <td>foo</td>\n",
       "      <td>1</td>\n",
       "      <td>4</td>\n",
       "    </tr>\n",
       "    <tr>\n",
       "      <th>1</th>\n",
       "      <td>foo</td>\n",
       "      <td>1</td>\n",
       "      <td>5</td>\n",
       "    </tr>\n",
       "    <tr>\n",
       "      <th>2</th>\n",
       "      <td>foo</td>\n",
       "      <td>2</td>\n",
       "      <td>4</td>\n",
       "    </tr>\n",
       "    <tr>\n",
       "      <th>3</th>\n",
       "      <td>foo</td>\n",
       "      <td>2</td>\n",
       "      <td>5</td>\n",
       "    </tr>\n",
       "  </tbody>\n",
       "</table>\n",
       "</div>"
      ],
      "text/plain": [
       "   key  lval  rval\n",
       "0  foo     1     4\n",
       "1  foo     1     5\n",
       "2  foo     2     4\n",
       "3  foo     2     5"
      ]
     },
     "execution_count": 61,
     "metadata": {},
     "output_type": "execute_result"
    }
   ],
   "source": [
    "pd.merge(left, right, on=\"key\")"
   ]
  },
  {
   "cell_type": "markdown",
   "id": "8a3e8258-c3ad-49bc-8650-6872504420f1",
   "metadata": {},
   "source": [
    "Another example that can be given is:"
   ]
  },
  {
   "cell_type": "code",
   "execution_count": 62,
   "id": "fae8ed2a-c134-4d09-8f9f-9304968554b7",
   "metadata": {},
   "outputs": [
    {
     "data": {
      "text/html": [
       "<div>\n",
       "<style scoped>\n",
       "    .dataframe tbody tr th:only-of-type {\n",
       "        vertical-align: middle;\n",
       "    }\n",
       "\n",
       "    .dataframe tbody tr th {\n",
       "        vertical-align: top;\n",
       "    }\n",
       "\n",
       "    .dataframe thead th {\n",
       "        text-align: right;\n",
       "    }\n",
       "</style>\n",
       "<table border=\"1\" class=\"dataframe\">\n",
       "  <thead>\n",
       "    <tr style=\"text-align: right;\">\n",
       "      <th></th>\n",
       "      <th>key</th>\n",
       "      <th>lval</th>\n",
       "    </tr>\n",
       "  </thead>\n",
       "  <tbody>\n",
       "    <tr>\n",
       "      <th>0</th>\n",
       "      <td>foo</td>\n",
       "      <td>1</td>\n",
       "    </tr>\n",
       "    <tr>\n",
       "      <th>1</th>\n",
       "      <td>bar</td>\n",
       "      <td>2</td>\n",
       "    </tr>\n",
       "  </tbody>\n",
       "</table>\n",
       "</div>"
      ],
      "text/plain": [
       "   key  lval\n",
       "0  foo     1\n",
       "1  bar     2"
      ]
     },
     "execution_count": 62,
     "metadata": {},
     "output_type": "execute_result"
    }
   ],
   "source": [
    "left = pd.DataFrame({\"key\": [\"foo\", \"bar\"], \"lval\": [1, 2]})\n",
    "right = pd.DataFrame({\"key\": [\"foo\", \"bar\"], \"rval\": [4, 5]})\n",
    "left"
   ]
  },
  {
   "cell_type": "code",
   "execution_count": 63,
   "id": "750b430d-9895-4664-b85e-f592e406aeb0",
   "metadata": {},
   "outputs": [
    {
     "data": {
      "text/html": [
       "<div>\n",
       "<style scoped>\n",
       "    .dataframe tbody tr th:only-of-type {\n",
       "        vertical-align: middle;\n",
       "    }\n",
       "\n",
       "    .dataframe tbody tr th {\n",
       "        vertical-align: top;\n",
       "    }\n",
       "\n",
       "    .dataframe thead th {\n",
       "        text-align: right;\n",
       "    }\n",
       "</style>\n",
       "<table border=\"1\" class=\"dataframe\">\n",
       "  <thead>\n",
       "    <tr style=\"text-align: right;\">\n",
       "      <th></th>\n",
       "      <th>key</th>\n",
       "      <th>rval</th>\n",
       "    </tr>\n",
       "  </thead>\n",
       "  <tbody>\n",
       "    <tr>\n",
       "      <th>0</th>\n",
       "      <td>foo</td>\n",
       "      <td>4</td>\n",
       "    </tr>\n",
       "    <tr>\n",
       "      <th>1</th>\n",
       "      <td>bar</td>\n",
       "      <td>5</td>\n",
       "    </tr>\n",
       "  </tbody>\n",
       "</table>\n",
       "</div>"
      ],
      "text/plain": [
       "   key  rval\n",
       "0  foo     4\n",
       "1  bar     5"
      ]
     },
     "execution_count": 63,
     "metadata": {},
     "output_type": "execute_result"
    }
   ],
   "source": [
    "right"
   ]
  },
  {
   "cell_type": "code",
   "execution_count": 64,
   "id": "6e4953e5-865b-4f77-8a46-91f10580ccbf",
   "metadata": {},
   "outputs": [
    {
     "data": {
      "text/html": [
       "<div>\n",
       "<style scoped>\n",
       "    .dataframe tbody tr th:only-of-type {\n",
       "        vertical-align: middle;\n",
       "    }\n",
       "\n",
       "    .dataframe tbody tr th {\n",
       "        vertical-align: top;\n",
       "    }\n",
       "\n",
       "    .dataframe thead th {\n",
       "        text-align: right;\n",
       "    }\n",
       "</style>\n",
       "<table border=\"1\" class=\"dataframe\">\n",
       "  <thead>\n",
       "    <tr style=\"text-align: right;\">\n",
       "      <th></th>\n",
       "      <th>key</th>\n",
       "      <th>lval</th>\n",
       "      <th>rval</th>\n",
       "    </tr>\n",
       "  </thead>\n",
       "  <tbody>\n",
       "    <tr>\n",
       "      <th>0</th>\n",
       "      <td>foo</td>\n",
       "      <td>1</td>\n",
       "      <td>4</td>\n",
       "    </tr>\n",
       "    <tr>\n",
       "      <th>1</th>\n",
       "      <td>bar</td>\n",
       "      <td>2</td>\n",
       "      <td>5</td>\n",
       "    </tr>\n",
       "  </tbody>\n",
       "</table>\n",
       "</div>"
      ],
      "text/plain": [
       "   key  lval  rval\n",
       "0  foo     1     4\n",
       "1  bar     2     5"
      ]
     },
     "execution_count": 64,
     "metadata": {},
     "output_type": "execute_result"
    }
   ],
   "source": [
    "pd.merge(left, right, on=\"key\")"
   ]
  },
  {
   "cell_type": "markdown",
   "id": "35f2445a-3cbb-48ed-b1d7-2b8051d7c165",
   "metadata": {},
   "source": [
    "## Grouping\n",
    "By “group by” we are referring to a process involving one or more of the following steps:\n",
    "\n",
    "* **Splitting** the data into groups based on some criteria\n",
    "* **Applying** a function to each group independently\n",
    "* **Combining** the results into a data structure\n",
    "\n",
    "See the Grouping section."
   ]
  },
  {
   "cell_type": "code",
   "execution_count": 65,
   "id": "d4dc9364-a122-4ff4-b75c-cc8a2542eb08",
   "metadata": {},
   "outputs": [
    {
     "name": "stdout",
     "output_type": "stream",
     "text": [
      "     A      B         C         D\n",
      "0  foo    one -1.800616  1.255784\n",
      "1  bar    one -1.705835  0.424233\n",
      "2  foo    two -0.676660  0.638368\n",
      "3  bar  three  0.634714  0.469236\n",
      "4  foo    two -0.257464  0.672910\n",
      "5  bar    two  1.665314  0.967807\n",
      "6  foo    one -0.134918 -0.960986\n",
      "7  foo  three  0.301037  0.634759\n"
     ]
    }
   ],
   "source": [
    "df = pd.DataFrame(\n",
    "    {\n",
    "        \"A\": [\"foo\", \"bar\", \"foo\", \"bar\", \"foo\", \"bar\", \"foo\", \"foo\"],\n",
    "        \"B\": [\"one\", \"one\", \"two\", \"three\", \"two\", \"two\", \"one\", \"three\"],\n",
    "        \"C\": np.random.randn(8),\n",
    "        \"D\": np.random.randn(8),\n",
    "    }\n",
    ")\n",
    "print(df)"
   ]
  },
  {
   "cell_type": "markdown",
   "id": "c9104192-8df2-464f-b195-6e4865dbec12",
   "metadata": {},
   "source": [
    "Grouping and then applying the sum() function to the resulting groups."
   ]
  },
  {
   "cell_type": "code",
   "execution_count": 66,
   "id": "19ee418b-98e0-4664-a1ba-ad16c6993d1e",
   "metadata": {},
   "outputs": [
    {
     "data": {
      "text/html": [
       "<div>\n",
       "<style scoped>\n",
       "    .dataframe tbody tr th:only-of-type {\n",
       "        vertical-align: middle;\n",
       "    }\n",
       "\n",
       "    .dataframe tbody tr th {\n",
       "        vertical-align: top;\n",
       "    }\n",
       "\n",
       "    .dataframe thead th {\n",
       "        text-align: right;\n",
       "    }\n",
       "</style>\n",
       "<table border=\"1\" class=\"dataframe\">\n",
       "  <thead>\n",
       "    <tr style=\"text-align: right;\">\n",
       "      <th></th>\n",
       "      <th>C</th>\n",
       "      <th>D</th>\n",
       "    </tr>\n",
       "    <tr>\n",
       "      <th>A</th>\n",
       "      <th></th>\n",
       "      <th></th>\n",
       "    </tr>\n",
       "  </thead>\n",
       "  <tbody>\n",
       "    <tr>\n",
       "      <th>bar</th>\n",
       "      <td>0.594193</td>\n",
       "      <td>1.861276</td>\n",
       "    </tr>\n",
       "    <tr>\n",
       "      <th>foo</th>\n",
       "      <td>-2.568621</td>\n",
       "      <td>2.240834</td>\n",
       "    </tr>\n",
       "  </tbody>\n",
       "</table>\n",
       "</div>"
      ],
      "text/plain": [
       "            C         D\n",
       "A                      \n",
       "bar  0.594193  1.861276\n",
       "foo -2.568621  2.240834"
      ]
     },
     "execution_count": 66,
     "metadata": {},
     "output_type": "execute_result"
    }
   ],
   "source": [
    "df.groupby(\"A\").sum()"
   ]
  },
  {
   "cell_type": "markdown",
   "id": "7e0e6378-80ed-4af3-a8c9-74cf2c3a96b9",
   "metadata": {},
   "source": [
    "Grouping by multiple columns forms a hierarchical index, and again we can apply the sum() function."
   ]
  },
  {
   "cell_type": "code",
   "execution_count": 67,
   "id": "d5c60762-a9ec-42c6-a113-fb4ed487e87c",
   "metadata": {},
   "outputs": [
    {
     "data": {
      "text/html": [
       "<div>\n",
       "<style scoped>\n",
       "    .dataframe tbody tr th:only-of-type {\n",
       "        vertical-align: middle;\n",
       "    }\n",
       "\n",
       "    .dataframe tbody tr th {\n",
       "        vertical-align: top;\n",
       "    }\n",
       "\n",
       "    .dataframe thead th {\n",
       "        text-align: right;\n",
       "    }\n",
       "</style>\n",
       "<table border=\"1\" class=\"dataframe\">\n",
       "  <thead>\n",
       "    <tr style=\"text-align: right;\">\n",
       "      <th></th>\n",
       "      <th></th>\n",
       "      <th>C</th>\n",
       "      <th>D</th>\n",
       "    </tr>\n",
       "    <tr>\n",
       "      <th>A</th>\n",
       "      <th>B</th>\n",
       "      <th></th>\n",
       "      <th></th>\n",
       "    </tr>\n",
       "  </thead>\n",
       "  <tbody>\n",
       "    <tr>\n",
       "      <th rowspan=\"3\" valign=\"top\">bar</th>\n",
       "      <th>one</th>\n",
       "      <td>-1.705835</td>\n",
       "      <td>0.424233</td>\n",
       "    </tr>\n",
       "    <tr>\n",
       "      <th>three</th>\n",
       "      <td>0.634714</td>\n",
       "      <td>0.469236</td>\n",
       "    </tr>\n",
       "    <tr>\n",
       "      <th>two</th>\n",
       "      <td>1.665314</td>\n",
       "      <td>0.967807</td>\n",
       "    </tr>\n",
       "    <tr>\n",
       "      <th rowspan=\"3\" valign=\"top\">foo</th>\n",
       "      <th>one</th>\n",
       "      <td>-1.935535</td>\n",
       "      <td>0.294798</td>\n",
       "    </tr>\n",
       "    <tr>\n",
       "      <th>three</th>\n",
       "      <td>0.301037</td>\n",
       "      <td>0.634759</td>\n",
       "    </tr>\n",
       "    <tr>\n",
       "      <th>two</th>\n",
       "      <td>-0.934124</td>\n",
       "      <td>1.311277</td>\n",
       "    </tr>\n",
       "  </tbody>\n",
       "</table>\n",
       "</div>"
      ],
      "text/plain": [
       "                  C         D\n",
       "A   B                        \n",
       "bar one   -1.705835  0.424233\n",
       "    three  0.634714  0.469236\n",
       "    two    1.665314  0.967807\n",
       "foo one   -1.935535  0.294798\n",
       "    three  0.301037  0.634759\n",
       "    two   -0.934124  1.311277"
      ]
     },
     "execution_count": 67,
     "metadata": {},
     "output_type": "execute_result"
    }
   ],
   "source": [
    "df.groupby([\"A\", \"B\"]).sum()"
   ]
  },
  {
   "cell_type": "markdown",
   "id": "327dab5e-e289-4354-a899-dcf654429a33",
   "metadata": {},
   "source": [
    "## Reshaping\n",
    "See the sections on Hierarchical Indexing and Reshaping.\n",
    "\n",
    "### Stack"
   ]
  },
  {
   "cell_type": "code",
   "execution_count": 68,
   "id": "d6204545-e34e-4196-b564-de3511c6202c",
   "metadata": {},
   "outputs": [
    {
     "name": "stdout",
     "output_type": "stream",
     "text": [
      "                     A         B\n",
      "first second                    \n",
      "bar   one     0.760149  1.425417\n",
      "      two    -0.891519  0.260039\n",
      "baz   one     0.677096 -0.133867\n",
      "      two    -1.164950  0.288795\n"
     ]
    }
   ],
   "source": [
    "tuples = list(\n",
    "    zip(\n",
    "        *[\n",
    "            [\"bar\", \"bar\", \"baz\", \"baz\", \"foo\", \"foo\", \"qux\", \"qux\"],\n",
    "            [\"one\", \"two\", \"one\", \"two\", \"one\", \"two\", \"one\", \"two\"],\n",
    "        ]\n",
    "    )\n",
    ")\n",
    "\n",
    "index = pd.MultiIndex.from_tuples(tuples, names=[\"first\", \"second\"])\n",
    "df = pd.DataFrame(np.random.randn(8, 2), index=index, columns=[\"A\", \"B\"])\n",
    "df2 = df[:4]\n",
    "print(df2)"
   ]
  },
  {
   "cell_type": "markdown",
   "id": "f386b409-4cd6-4f6e-aa24-c4d052eb2dfa",
   "metadata": {},
   "source": [
    "The stack() method “compresses” a level in the DataFrame’s columns."
   ]
  },
  {
   "cell_type": "code",
   "execution_count": 69,
   "id": "72287812-42a4-4806-b41a-9d7d72126f37",
   "metadata": {},
   "outputs": [
    {
     "name": "stdout",
     "output_type": "stream",
     "text": [
      "first  second   \n",
      "bar    one     A    0.760149\n",
      "               B    1.425417\n",
      "       two     A   -0.891519\n",
      "               B    0.260039\n",
      "baz    one     A    0.677096\n",
      "               B   -0.133867\n",
      "       two     A   -1.164950\n",
      "               B    0.288795\n",
      "dtype: float64\n"
     ]
    }
   ],
   "source": [
    "stacked = df2.stack()\n",
    "print(stacked)"
   ]
  },
  {
   "cell_type": "markdown",
   "id": "17a921d6-e645-4195-9515-8e3d278c8b36",
   "metadata": {},
   "source": [
    "With a “stacked” DataFrame or Series (having a MultiIndex as the index), the inverse operation of stack() is unstack(), which by default unstacks the **last level**:"
   ]
  },
  {
   "cell_type": "code",
   "execution_count": 70,
   "id": "c8a48e5a-a86d-47b8-8acb-80d624048ef2",
   "metadata": {},
   "outputs": [
    {
     "data": {
      "text/html": [
       "<div>\n",
       "<style scoped>\n",
       "    .dataframe tbody tr th:only-of-type {\n",
       "        vertical-align: middle;\n",
       "    }\n",
       "\n",
       "    .dataframe tbody tr th {\n",
       "        vertical-align: top;\n",
       "    }\n",
       "\n",
       "    .dataframe thead th {\n",
       "        text-align: right;\n",
       "    }\n",
       "</style>\n",
       "<table border=\"1\" class=\"dataframe\">\n",
       "  <thead>\n",
       "    <tr style=\"text-align: right;\">\n",
       "      <th></th>\n",
       "      <th></th>\n",
       "      <th>A</th>\n",
       "      <th>B</th>\n",
       "    </tr>\n",
       "    <tr>\n",
       "      <th>first</th>\n",
       "      <th>second</th>\n",
       "      <th></th>\n",
       "      <th></th>\n",
       "    </tr>\n",
       "  </thead>\n",
       "  <tbody>\n",
       "    <tr>\n",
       "      <th rowspan=\"2\" valign=\"top\">bar</th>\n",
       "      <th>one</th>\n",
       "      <td>0.760149</td>\n",
       "      <td>1.425417</td>\n",
       "    </tr>\n",
       "    <tr>\n",
       "      <th>two</th>\n",
       "      <td>-0.891519</td>\n",
       "      <td>0.260039</td>\n",
       "    </tr>\n",
       "    <tr>\n",
       "      <th rowspan=\"2\" valign=\"top\">baz</th>\n",
       "      <th>one</th>\n",
       "      <td>0.677096</td>\n",
       "      <td>-0.133867</td>\n",
       "    </tr>\n",
       "    <tr>\n",
       "      <th>two</th>\n",
       "      <td>-1.164950</td>\n",
       "      <td>0.288795</td>\n",
       "    </tr>\n",
       "  </tbody>\n",
       "</table>\n",
       "</div>"
      ],
      "text/plain": [
       "                     A         B\n",
       "first second                    \n",
       "bar   one     0.760149  1.425417\n",
       "      two    -0.891519  0.260039\n",
       "baz   one     0.677096 -0.133867\n",
       "      two    -1.164950  0.288795"
      ]
     },
     "execution_count": 70,
     "metadata": {},
     "output_type": "execute_result"
    }
   ],
   "source": [
    "stacked.unstack()"
   ]
  },
  {
   "cell_type": "code",
   "execution_count": 71,
   "id": "9b0182bf-f329-4568-a345-7b493de2f7d2",
   "metadata": {},
   "outputs": [
    {
     "data": {
      "text/html": [
       "<div>\n",
       "<style scoped>\n",
       "    .dataframe tbody tr th:only-of-type {\n",
       "        vertical-align: middle;\n",
       "    }\n",
       "\n",
       "    .dataframe tbody tr th {\n",
       "        vertical-align: top;\n",
       "    }\n",
       "\n",
       "    .dataframe thead th {\n",
       "        text-align: right;\n",
       "    }\n",
       "</style>\n",
       "<table border=\"1\" class=\"dataframe\">\n",
       "  <thead>\n",
       "    <tr style=\"text-align: right;\">\n",
       "      <th></th>\n",
       "      <th>second</th>\n",
       "      <th>one</th>\n",
       "      <th>two</th>\n",
       "    </tr>\n",
       "    <tr>\n",
       "      <th>first</th>\n",
       "      <th></th>\n",
       "      <th></th>\n",
       "      <th></th>\n",
       "    </tr>\n",
       "  </thead>\n",
       "  <tbody>\n",
       "    <tr>\n",
       "      <th rowspan=\"2\" valign=\"top\">bar</th>\n",
       "      <th>A</th>\n",
       "      <td>0.760149</td>\n",
       "      <td>-0.891519</td>\n",
       "    </tr>\n",
       "    <tr>\n",
       "      <th>B</th>\n",
       "      <td>1.425417</td>\n",
       "      <td>0.260039</td>\n",
       "    </tr>\n",
       "    <tr>\n",
       "      <th rowspan=\"2\" valign=\"top\">baz</th>\n",
       "      <th>A</th>\n",
       "      <td>0.677096</td>\n",
       "      <td>-1.164950</td>\n",
       "    </tr>\n",
       "    <tr>\n",
       "      <th>B</th>\n",
       "      <td>-0.133867</td>\n",
       "      <td>0.288795</td>\n",
       "    </tr>\n",
       "  </tbody>\n",
       "</table>\n",
       "</div>"
      ],
      "text/plain": [
       "second        one       two\n",
       "first                      \n",
       "bar   A  0.760149 -0.891519\n",
       "      B  1.425417  0.260039\n",
       "baz   A  0.677096 -1.164950\n",
       "      B -0.133867  0.288795"
      ]
     },
     "execution_count": 71,
     "metadata": {},
     "output_type": "execute_result"
    }
   ],
   "source": [
    "stacked.unstack(1)"
   ]
  },
  {
   "cell_type": "code",
   "execution_count": 72,
   "id": "4ce4658d-72cf-452c-a365-e929cd52f5a0",
   "metadata": {},
   "outputs": [
    {
     "data": {
      "text/html": [
       "<div>\n",
       "<style scoped>\n",
       "    .dataframe tbody tr th:only-of-type {\n",
       "        vertical-align: middle;\n",
       "    }\n",
       "\n",
       "    .dataframe tbody tr th {\n",
       "        vertical-align: top;\n",
       "    }\n",
       "\n",
       "    .dataframe thead th {\n",
       "        text-align: right;\n",
       "    }\n",
       "</style>\n",
       "<table border=\"1\" class=\"dataframe\">\n",
       "  <thead>\n",
       "    <tr style=\"text-align: right;\">\n",
       "      <th></th>\n",
       "      <th>first</th>\n",
       "      <th>bar</th>\n",
       "      <th>baz</th>\n",
       "    </tr>\n",
       "    <tr>\n",
       "      <th>second</th>\n",
       "      <th></th>\n",
       "      <th></th>\n",
       "      <th></th>\n",
       "    </tr>\n",
       "  </thead>\n",
       "  <tbody>\n",
       "    <tr>\n",
       "      <th rowspan=\"2\" valign=\"top\">one</th>\n",
       "      <th>A</th>\n",
       "      <td>0.760149</td>\n",
       "      <td>0.677096</td>\n",
       "    </tr>\n",
       "    <tr>\n",
       "      <th>B</th>\n",
       "      <td>1.425417</td>\n",
       "      <td>-0.133867</td>\n",
       "    </tr>\n",
       "    <tr>\n",
       "      <th rowspan=\"2\" valign=\"top\">two</th>\n",
       "      <th>A</th>\n",
       "      <td>-0.891519</td>\n",
       "      <td>-1.164950</td>\n",
       "    </tr>\n",
       "    <tr>\n",
       "      <th>B</th>\n",
       "      <td>0.260039</td>\n",
       "      <td>0.288795</td>\n",
       "    </tr>\n",
       "  </tbody>\n",
       "</table>\n",
       "</div>"
      ],
      "text/plain": [
       "first          bar       baz\n",
       "second                      \n",
       "one    A  0.760149  0.677096\n",
       "       B  1.425417 -0.133867\n",
       "two    A -0.891519 -1.164950\n",
       "       B  0.260039  0.288795"
      ]
     },
     "execution_count": 72,
     "metadata": {},
     "output_type": "execute_result"
    }
   ],
   "source": [
    "stacked.unstack(0)"
   ]
  },
  {
   "cell_type": "markdown",
   "id": "bca4be99-e39b-4726-8f20-59dfc20739c4",
   "metadata": {},
   "source": [
    "### Pivot tables\n",
    "See the section on Pivot Tables."
   ]
  },
  {
   "cell_type": "code",
   "execution_count": 73,
   "id": "de5f0ab8-7093-407c-ba52-837aac80be74",
   "metadata": {},
   "outputs": [
    {
     "name": "stdout",
     "output_type": "stream",
     "text": [
      "        A  B    C         D         E\n",
      "0     one  A  foo  0.397278 -1.578057\n",
      "1     one  B  foo  1.344262  0.345378\n",
      "2     two  C  foo -0.955287 -0.080987\n",
      "3   three  A  bar  2.667066 -1.268033\n",
      "4     one  B  bar -0.071990 -0.440626\n",
      "5     one  C  bar -1.404377  0.186837\n",
      "6     two  A  foo -0.158962  0.788308\n",
      "7   three  B  foo -0.497302  0.012043\n",
      "8     one  C  foo -0.364352 -2.267312\n",
      "9     one  A  bar -0.210242  0.072095\n",
      "10    two  B  bar -0.633978 -1.754388\n",
      "11  three  C  bar -0.402286 -0.467832\n"
     ]
    }
   ],
   "source": [
    "df = pd.DataFrame(\n",
    "    {\n",
    "        \"A\": [\"one\", \"one\", \"two\", \"three\"] * 3,\n",
    "        \"B\": [\"A\", \"B\", \"C\"] * 4,\n",
    "        \"C\": [\"foo\", \"foo\", \"foo\", \"bar\", \"bar\", \"bar\"] * 2,\n",
    "        \"D\": np.random.randn(12),\n",
    "        \"E\": np.random.randn(12),\n",
    "    }\n",
    ")\n",
    "print(df)"
   ]
  },
  {
   "cell_type": "markdown",
   "id": "ad4b860b-74d9-40c7-8bad-e6917b08afee",
   "metadata": {},
   "source": [
    "We can produce pivot tables from this data very easily:"
   ]
  },
  {
   "cell_type": "code",
   "execution_count": 74,
   "id": "61e2fedf-53ee-4824-92a1-4e8a66accb05",
   "metadata": {},
   "outputs": [
    {
     "data": {
      "text/html": [
       "<div>\n",
       "<style scoped>\n",
       "    .dataframe tbody tr th:only-of-type {\n",
       "        vertical-align: middle;\n",
       "    }\n",
       "\n",
       "    .dataframe tbody tr th {\n",
       "        vertical-align: top;\n",
       "    }\n",
       "\n",
       "    .dataframe thead th {\n",
       "        text-align: right;\n",
       "    }\n",
       "</style>\n",
       "<table border=\"1\" class=\"dataframe\">\n",
       "  <thead>\n",
       "    <tr style=\"text-align: right;\">\n",
       "      <th></th>\n",
       "      <th>C</th>\n",
       "      <th>bar</th>\n",
       "      <th>foo</th>\n",
       "    </tr>\n",
       "    <tr>\n",
       "      <th>A</th>\n",
       "      <th>B</th>\n",
       "      <th></th>\n",
       "      <th></th>\n",
       "    </tr>\n",
       "  </thead>\n",
       "  <tbody>\n",
       "    <tr>\n",
       "      <th rowspan=\"3\" valign=\"top\">one</th>\n",
       "      <th>A</th>\n",
       "      <td>-0.210242</td>\n",
       "      <td>0.397278</td>\n",
       "    </tr>\n",
       "    <tr>\n",
       "      <th>B</th>\n",
       "      <td>-0.071990</td>\n",
       "      <td>1.344262</td>\n",
       "    </tr>\n",
       "    <tr>\n",
       "      <th>C</th>\n",
       "      <td>-1.404377</td>\n",
       "      <td>-0.364352</td>\n",
       "    </tr>\n",
       "    <tr>\n",
       "      <th rowspan=\"3\" valign=\"top\">three</th>\n",
       "      <th>A</th>\n",
       "      <td>2.667066</td>\n",
       "      <td>NaN</td>\n",
       "    </tr>\n",
       "    <tr>\n",
       "      <th>B</th>\n",
       "      <td>NaN</td>\n",
       "      <td>-0.497302</td>\n",
       "    </tr>\n",
       "    <tr>\n",
       "      <th>C</th>\n",
       "      <td>-0.402286</td>\n",
       "      <td>NaN</td>\n",
       "    </tr>\n",
       "    <tr>\n",
       "      <th rowspan=\"3\" valign=\"top\">two</th>\n",
       "      <th>A</th>\n",
       "      <td>NaN</td>\n",
       "      <td>-0.158962</td>\n",
       "    </tr>\n",
       "    <tr>\n",
       "      <th>B</th>\n",
       "      <td>-0.633978</td>\n",
       "      <td>NaN</td>\n",
       "    </tr>\n",
       "    <tr>\n",
       "      <th>C</th>\n",
       "      <td>NaN</td>\n",
       "      <td>-0.955287</td>\n",
       "    </tr>\n",
       "  </tbody>\n",
       "</table>\n",
       "</div>"
      ],
      "text/plain": [
       "C             bar       foo\n",
       "A     B                    \n",
       "one   A -0.210242  0.397278\n",
       "      B -0.071990  1.344262\n",
       "      C -1.404377 -0.364352\n",
       "three A  2.667066       NaN\n",
       "      B       NaN -0.497302\n",
       "      C -0.402286       NaN\n",
       "two   A       NaN -0.158962\n",
       "      B -0.633978       NaN\n",
       "      C       NaN -0.955287"
      ]
     },
     "execution_count": 74,
     "metadata": {},
     "output_type": "execute_result"
    }
   ],
   "source": [
    "pd.pivot_table(df, values=\"D\", index=[\"A\", \"B\"], columns=[\"C\"])"
   ]
  },
  {
   "cell_type": "markdown",
   "id": "21e511fe-fbb7-48c7-a2a0-1ebdcbcc6b6d",
   "metadata": {},
   "source": [
    "## Time series\n",
    "pandas has simple, powerful, and efficient functionality for performing resampling operations during frequency conversion (e.g., converting secondly data into 5-minutely data). This is extremely common in, but not limited to, financial applications. See the Time Series section.\n"
   ]
  },
  {
   "cell_type": "code",
   "execution_count": 75,
   "id": "d8e139f5-81e3-4b71-b580-2234d576836a",
   "metadata": {},
   "outputs": [
    {
     "data": {
      "text/plain": [
       "2012-01-01    25960\n",
       "Freq: 5T, dtype: int32"
      ]
     },
     "execution_count": 75,
     "metadata": {},
     "output_type": "execute_result"
    }
   ],
   "source": [
    "rng = pd.date_range(\"1/1/2012\", periods=100, freq=\"S\")\n",
    "ts = pd.Series(np.random.randint(0, 500, len(rng)), index=rng)\n",
    "ts.resample(\"5Min\").sum()"
   ]
  },
  {
   "cell_type": "markdown",
   "id": "75a71893-f061-4c83-a453-cbcf3ad94667",
   "metadata": {},
   "source": [
    "Time zone representation:"
   ]
  },
  {
   "cell_type": "code",
   "execution_count": 76,
   "id": "8bb21069-4b57-4d3b-8fb9-4f623ccf1ed1",
   "metadata": {},
   "outputs": [
    {
     "name": "stdout",
     "output_type": "stream",
     "text": [
      "2012-03-06   -0.291876\n",
      "2012-03-07   -0.185667\n",
      "2012-03-08    0.303917\n",
      "2012-03-09    1.675014\n",
      "2012-03-10    0.179416\n",
      "Freq: D, dtype: float64\n"
     ]
    }
   ],
   "source": [
    "rng = pd.date_range(\"3/6/2012 00:00\", periods=5, freq=\"D\")\n",
    "ts = pd.Series(np.random.randn(len(rng)), rng)\n",
    "print(ts)"
   ]
  },
  {
   "cell_type": "code",
   "execution_count": 77,
   "id": "848acd03-2cfa-42ed-a69a-19fe1118a5db",
   "metadata": {},
   "outputs": [
    {
     "name": "stdout",
     "output_type": "stream",
     "text": [
      "2012-03-06 00:00:00+00:00   -0.291876\n",
      "2012-03-07 00:00:00+00:00   -0.185667\n",
      "2012-03-08 00:00:00+00:00    0.303917\n",
      "2012-03-09 00:00:00+00:00    1.675014\n",
      "2012-03-10 00:00:00+00:00    0.179416\n",
      "Freq: D, dtype: float64\n"
     ]
    }
   ],
   "source": [
    "ts_utc = ts.tz_localize(\"UTC\")\n",
    "print(ts_utc)"
   ]
  },
  {
   "cell_type": "markdown",
   "id": "2e232459-d2b5-4aaf-8f12-8f76e8bef6df",
   "metadata": {},
   "source": [
    "Converting to another time zone:"
   ]
  },
  {
   "cell_type": "code",
   "execution_count": 78,
   "id": "66db188e-2e83-47a0-9f37-dea4b7d114af",
   "metadata": {},
   "outputs": [
    {
     "data": {
      "text/plain": [
       "2012-03-05 19:00:00-05:00   -0.291876\n",
       "2012-03-06 19:00:00-05:00   -0.185667\n",
       "2012-03-07 19:00:00-05:00    0.303917\n",
       "2012-03-08 19:00:00-05:00    1.675014\n",
       "2012-03-09 19:00:00-05:00    0.179416\n",
       "Freq: D, dtype: float64"
      ]
     },
     "execution_count": 78,
     "metadata": {},
     "output_type": "execute_result"
    }
   ],
   "source": [
    "ts_utc.tz_convert(\"US/Eastern\")"
   ]
  },
  {
   "cell_type": "markdown",
   "id": "027863b1-da07-4b6d-af3c-4f0f7fc037ca",
   "metadata": {},
   "source": [
    "Converting between time span representations:"
   ]
  },
  {
   "cell_type": "code",
   "execution_count": 79,
   "id": "ca966f5a-41ed-47c9-a437-aa8a3eb30c63",
   "metadata": {},
   "outputs": [
    {
     "name": "stdout",
     "output_type": "stream",
     "text": [
      "2012-01-31   -0.115400\n",
      "2012-02-29    0.277265\n",
      "2012-03-31   -0.638888\n",
      "2012-04-30    0.150653\n",
      "2012-05-31   -0.344098\n",
      "Freq: M, dtype: float64\n"
     ]
    }
   ],
   "source": [
    "rng = pd.date_range(\"1/1/2012\", periods=5, freq=\"M\")\n",
    "ts = pd.Series(np.random.randn(len(rng)), index=rng)\n",
    "print(ts)"
   ]
  },
  {
   "cell_type": "code",
   "execution_count": 80,
   "id": "6bf35d81-44b4-45e8-9e88-857b2db71023",
   "metadata": {},
   "outputs": [
    {
     "name": "stdout",
     "output_type": "stream",
     "text": [
      "2012-01   -0.115400\n",
      "2012-02    0.277265\n",
      "2012-03   -0.638888\n",
      "2012-04    0.150653\n",
      "2012-05   -0.344098\n",
      "Freq: M, dtype: float64\n"
     ]
    }
   ],
   "source": [
    "ps = ts.to_period()\n",
    "print(ps)"
   ]
  },
  {
   "cell_type": "code",
   "execution_count": 81,
   "id": "3af095de-459f-48bb-8b74-e3a429731776",
   "metadata": {},
   "outputs": [
    {
     "data": {
      "text/plain": [
       "2012-01-01   -0.115400\n",
       "2012-02-01    0.277265\n",
       "2012-03-01   -0.638888\n",
       "2012-04-01    0.150653\n",
       "2012-05-01   -0.344098\n",
       "Freq: MS, dtype: float64"
      ]
     },
     "execution_count": 81,
     "metadata": {},
     "output_type": "execute_result"
    }
   ],
   "source": [
    "ps.to_timestamp()"
   ]
  },
  {
   "cell_type": "markdown",
   "id": "67d14766-2bec-4e9e-82e2-29cb8317b4a5",
   "metadata": {},
   "source": [
    "Converting between period and timestamp enables some convenient arithmetic functions to be used. In the following example, we convert a quarterly frequency with year ending in November to 9am of the end of the month following the quarter end:"
   ]
  },
  {
   "cell_type": "code",
   "execution_count": 82,
   "id": "53ebd71d-b1b5-4a39-a56c-e07f49f045af",
   "metadata": {},
   "outputs": [
    {
     "name": "stdout",
     "output_type": "stream",
     "text": [
      "1990-03-01 09:00    1.909668\n",
      "1990-06-01 09:00    1.274069\n",
      "1990-09-01 09:00    0.685127\n",
      "1990-12-01 09:00   -0.803420\n",
      "1991-03-01 09:00    0.736874\n",
      "Freq: H, dtype: float64\n"
     ]
    }
   ],
   "source": [
    "prng = pd.period_range(\"1990Q1\", \"2000Q4\", freq=\"Q-NOV\")\n",
    "ts = pd.Series(np.random.randn(len(prng)), prng)\n",
    "ts.index = (prng.asfreq(\"M\", \"e\") + 1).asfreq(\"H\", \"s\") + 9\n",
    "print(ts.head())"
   ]
  },
  {
   "cell_type": "markdown",
   "id": "edc4508e-2a37-4725-b33c-2b3129aa3342",
   "metadata": {},
   "source": [
    "## Categoricals\n",
    "pandas can include categorical data in a DataFrame. For full docs, see the categorical introduction and the API documentation."
   ]
  },
  {
   "cell_type": "code",
   "execution_count": 83,
   "id": "178dcd1b-6238-47c7-b842-094211c02ebc",
   "metadata": {},
   "outputs": [],
   "source": [
    "df = pd.DataFrame(\n",
    "    {\"id\": [1, 2, 3, 4, 5, 6], \"raw_grade\": [\"a\", \"b\", \"b\", \"a\", \"a\", \"e\"]}\n",
    ")"
   ]
  },
  {
   "cell_type": "markdown",
   "id": "d8b242a2-26a2-4385-a74d-2ab892be492d",
   "metadata": {},
   "source": [
    "Convert the raw grades to a categorical data type."
   ]
  },
  {
   "cell_type": "code",
   "execution_count": 84,
   "id": "eca1a2d3-95da-4009-8b04-77cff8679f79",
   "metadata": {},
   "outputs": [
    {
     "name": "stdout",
     "output_type": "stream",
     "text": [
      "0    a\n",
      "1    b\n",
      "2    b\n",
      "3    a\n",
      "4    a\n",
      "5    e\n",
      "Name: grade, dtype: category\n",
      "Categories (3, object): ['a', 'b', 'e']\n"
     ]
    }
   ],
   "source": [
    "df[\"grade\"] = df[\"raw_grade\"].astype(\"category\")\n",
    "print(df[\"grade\"])"
   ]
  },
  {
   "cell_type": "markdown",
   "id": "52843f6a-358e-46f2-b388-14c5702cd17d",
   "metadata": {},
   "source": [
    "Rename the categories to more meaningful names (assigning to Series.cat.categories() is in place!)."
   ]
  },
  {
   "cell_type": "code",
   "execution_count": 85,
   "id": "d7c9d746-e98f-4e27-95c0-8d6aa82deff2",
   "metadata": {},
   "outputs": [],
   "source": [
    "df[\"grade\"].cat.categories = [\"very good\", \"good\", \"very bad\"]"
   ]
  },
  {
   "cell_type": "markdown",
   "id": "51628aff-a8a7-49a2-a649-3ada67762f85",
   "metadata": {},
   "source": [
    "Reorder the categories and simultaneously add the missing categories (methods under Series.cat() return a new Series by default)."
   ]
  },
  {
   "cell_type": "code",
   "execution_count": 86,
   "id": "ff799b0b-7e78-4a0a-8a4e-6c4e977258a0",
   "metadata": {},
   "outputs": [
    {
     "data": {
      "text/plain": [
       "0    very good\n",
       "1         good\n",
       "2         good\n",
       "3    very good\n",
       "4    very good\n",
       "5     very bad\n",
       "Name: grade, dtype: category\n",
       "Categories (5, object): ['very bad', 'bad', 'medium', 'good', 'very good']"
      ]
     },
     "execution_count": 86,
     "metadata": {},
     "output_type": "execute_result"
    }
   ],
   "source": [
    "df[\"grade\"] = df[\"grade\"].cat.set_categories(\n",
    "    [\"very bad\", \"bad\", \"medium\", \"good\", \"very good\"]\n",
    ")\n",
    "df[\"grade\"]"
   ]
  },
  {
   "cell_type": "markdown",
   "id": "7dc840e6-5bcb-461c-a19b-461ac7caa3cf",
   "metadata": {},
   "source": [
    "Sorting is per order in the categories, not lexical order."
   ]
  },
  {
   "cell_type": "code",
   "execution_count": 87,
   "id": "4c644914-72ac-4de1-ae0c-6f4aa9a14564",
   "metadata": {},
   "outputs": [
    {
     "data": {
      "text/html": [
       "<div>\n",
       "<style scoped>\n",
       "    .dataframe tbody tr th:only-of-type {\n",
       "        vertical-align: middle;\n",
       "    }\n",
       "\n",
       "    .dataframe tbody tr th {\n",
       "        vertical-align: top;\n",
       "    }\n",
       "\n",
       "    .dataframe thead th {\n",
       "        text-align: right;\n",
       "    }\n",
       "</style>\n",
       "<table border=\"1\" class=\"dataframe\">\n",
       "  <thead>\n",
       "    <tr style=\"text-align: right;\">\n",
       "      <th></th>\n",
       "      <th>id</th>\n",
       "      <th>raw_grade</th>\n",
       "      <th>grade</th>\n",
       "    </tr>\n",
       "  </thead>\n",
       "  <tbody>\n",
       "    <tr>\n",
       "      <th>5</th>\n",
       "      <td>6</td>\n",
       "      <td>e</td>\n",
       "      <td>very bad</td>\n",
       "    </tr>\n",
       "    <tr>\n",
       "      <th>1</th>\n",
       "      <td>2</td>\n",
       "      <td>b</td>\n",
       "      <td>good</td>\n",
       "    </tr>\n",
       "    <tr>\n",
       "      <th>2</th>\n",
       "      <td>3</td>\n",
       "      <td>b</td>\n",
       "      <td>good</td>\n",
       "    </tr>\n",
       "    <tr>\n",
       "      <th>0</th>\n",
       "      <td>1</td>\n",
       "      <td>a</td>\n",
       "      <td>very good</td>\n",
       "    </tr>\n",
       "    <tr>\n",
       "      <th>3</th>\n",
       "      <td>4</td>\n",
       "      <td>a</td>\n",
       "      <td>very good</td>\n",
       "    </tr>\n",
       "    <tr>\n",
       "      <th>4</th>\n",
       "      <td>5</td>\n",
       "      <td>a</td>\n",
       "      <td>very good</td>\n",
       "    </tr>\n",
       "  </tbody>\n",
       "</table>\n",
       "</div>"
      ],
      "text/plain": [
       "   id raw_grade      grade\n",
       "5   6         e   very bad\n",
       "1   2         b       good\n",
       "2   3         b       good\n",
       "0   1         a  very good\n",
       "3   4         a  very good\n",
       "4   5         a  very good"
      ]
     },
     "execution_count": 87,
     "metadata": {},
     "output_type": "execute_result"
    }
   ],
   "source": [
    "df.sort_values(by=\"grade\")"
   ]
  },
  {
   "cell_type": "markdown",
   "id": "bec4ef97-3b69-4288-b896-8e5056a4506d",
   "metadata": {},
   "source": [
    "Grouping by a categorical column also shows empty categories."
   ]
  },
  {
   "cell_type": "code",
   "execution_count": 88,
   "id": "69a57806-3e07-41d6-ba85-7fa45dcd08f3",
   "metadata": {},
   "outputs": [
    {
     "data": {
      "text/plain": [
       "grade\n",
       "very bad     1\n",
       "bad          0\n",
       "medium       0\n",
       "good         2\n",
       "very good    3\n",
       "dtype: int64"
      ]
     },
     "execution_count": 88,
     "metadata": {},
     "output_type": "execute_result"
    }
   ],
   "source": [
    "df.groupby(\"grade\").size()"
   ]
  },
  {
   "cell_type": "markdown",
   "id": "6e494098-5353-4814-82ae-3b70a4d0190b",
   "metadata": {},
   "source": [
    "## Plotting\n",
    "See the Plotting docs.\n",
    "\n",
    "We use the standard convention for referencing the matplotlib API:\n"
   ]
  },
  {
   "cell_type": "code",
   "execution_count": 89,
   "id": "47acb437-87c9-497c-875f-e509638a61ae",
   "metadata": {},
   "outputs": [],
   "source": [
    "import matplotlib.pyplot as plt\n",
    "plt.close(\"all\")"
   ]
  },
  {
   "cell_type": "code",
   "execution_count": 90,
   "id": "7a558d05-e9a8-4eae-b6d3-9eb468b26bf1",
   "metadata": {},
   "outputs": [
    {
     "data": {
      "text/plain": [
       "<AxesSubplot:>"
      ]
     },
     "execution_count": 90,
     "metadata": {},
     "output_type": "execute_result"
    },
    {
     "data": {
      "image/png": "[encoded data removed]",
      "text/plain": [
       "<Figure size 432x288 with 1 Axes>"
      ]
     },
     "metadata": {
      "needs_background": "light"
     },
     "output_type": "display_data"
    }
   ],
   "source": [
    "ts = pd.Series(np.random.randn(1000), index=pd.date_range(\"1/1/2000\", periods=1000))\n",
    "ts = ts.cumsum()\n",
    "ts.plot()"
   ]
  },
  {
   "cell_type": "code",
   "execution_count": 91,
   "id": "3d5dd942-64b0-4024-b316-2d2c6775a4dc",
   "metadata": {},
   "outputs": [
    {
     "data": {
      "text/plain": [
       "<matplotlib.legend.Legend at 0x24eb5c41310>"
      ]
     },
     "execution_count": 91,
     "metadata": {},
     "output_type": "execute_result"
    },
    {
     "data": {
      "text/plain": [
       "<Figure size 432x288 with 0 Axes>"
      ]
     },
     "metadata": {},
     "output_type": "display_data"
    },
    {
     "data": {
      "image/png": "[encoded data removed]",
      "text/plain": [
       "<Figure size 432x288 with 1 Axes>"
      ]
     },
     "metadata": {
      "needs_background": "light"
     },
     "output_type": "display_data"
    }
   ],
   "source": [
    "df = pd.DataFrame(\n",
    "    np.random.randn(1000, 4), index=ts.index, columns=[\"A\", \"B\", \"C\", \"D\"]\n",
    ")\n",
    "df = df.cumsum()\n",
    "plt.figure()\n",
    "df.plot()\n",
    "plt.legend(loc='best')"
   ]
  },
  {
   "cell_type": "markdown",
   "id": "5514892a-0374-44d1-ae03-022959df1e67",
   "metadata": {},
   "source": [
    "## Getting data in/out\n",
    "### CSV\n",
    "Writing to a csv file."
   ]
  },
  {
   "cell_type": "code",
   "execution_count": 92,
   "id": "4171c78e-6285-41d7-845d-56ff6912392c",
   "metadata": {},
   "outputs": [],
   "source": [
    "df.to_csv(\"data/file01_01.csv\")"
   ]
  },
  {
   "cell_type": "markdown",
   "id": "c7db4062-ec99-45c9-a60f-031f6d616602",
   "metadata": {},
   "source": [
    "Reading from a csv file."
   ]
  },
  {
   "cell_type": "code",
   "execution_count": 93,
   "id": "1613b591-91a1-4adf-9470-299ca63dfadd",
   "metadata": {},
   "outputs": [
    {
     "data": {
      "text/html": [
       "<div>\n",
       "<style scoped>\n",
       "    .dataframe tbody tr th:only-of-type {\n",
       "        vertical-align: middle;\n",
       "    }\n",
       "\n",
       "    .dataframe tbody tr th {\n",
       "        vertical-align: top;\n",
       "    }\n",
       "\n",
       "    .dataframe thead th {\n",
       "        text-align: right;\n",
       "    }\n",
       "</style>\n",
       "<table border=\"1\" class=\"dataframe\">\n",
       "  <thead>\n",
       "    <tr style=\"text-align: right;\">\n",
       "      <th></th>\n",
       "      <th>Unnamed: 0</th>\n",
       "      <th>A</th>\n",
       "      <th>B</th>\n",
       "      <th>C</th>\n",
       "      <th>D</th>\n",
       "    </tr>\n",
       "  </thead>\n",
       "  <tbody>\n",
       "    <tr>\n",
       "      <th>0</th>\n",
       "      <td>2000-01-01</td>\n",
       "      <td>0.829138</td>\n",
       "      <td>0.495345</td>\n",
       "      <td>-0.940581</td>\n",
       "      <td>0.728194</td>\n",
       "    </tr>\n",
       "    <tr>\n",
       "      <th>1</th>\n",
       "      <td>2000-01-02</td>\n",
       "      <td>2.324015</td>\n",
       "      <td>0.178648</td>\n",
       "      <td>0.094250</td>\n",
       "      <td>-3.557360</td>\n",
       "    </tr>\n",
       "    <tr>\n",
       "      <th>2</th>\n",
       "      <td>2000-01-03</td>\n",
       "      <td>1.704821</td>\n",
       "      <td>-0.253607</td>\n",
       "      <td>-0.962868</td>\n",
       "      <td>-3.914540</td>\n",
       "    </tr>\n",
       "    <tr>\n",
       "      <th>3</th>\n",
       "      <td>2000-01-04</td>\n",
       "      <td>1.498936</td>\n",
       "      <td>-0.373237</td>\n",
       "      <td>0.202079</td>\n",
       "      <td>-4.160883</td>\n",
       "    </tr>\n",
       "    <tr>\n",
       "      <th>4</th>\n",
       "      <td>2000-01-05</td>\n",
       "      <td>2.102690</td>\n",
       "      <td>0.519090</td>\n",
       "      <td>0.694931</td>\n",
       "      <td>-4.528201</td>\n",
       "    </tr>\n",
       "    <tr>\n",
       "      <th>...</th>\n",
       "      <td>...</td>\n",
       "      <td>...</td>\n",
       "      <td>...</td>\n",
       "      <td>...</td>\n",
       "      <td>...</td>\n",
       "    </tr>\n",
       "    <tr>\n",
       "      <th>995</th>\n",
       "      <td>2002-09-22</td>\n",
       "      <td>63.497428</td>\n",
       "      <td>67.303045</td>\n",
       "      <td>28.330004</td>\n",
       "      <td>-13.359515</td>\n",
       "    </tr>\n",
       "    <tr>\n",
       "      <th>996</th>\n",
       "      <td>2002-09-23</td>\n",
       "      <td>62.643262</td>\n",
       "      <td>65.969610</td>\n",
       "      <td>26.837154</td>\n",
       "      <td>-13.938585</td>\n",
       "    </tr>\n",
       "    <tr>\n",
       "      <th>997</th>\n",
       "      <td>2002-09-24</td>\n",
       "      <td>62.569557</td>\n",
       "      <td>66.967750</td>\n",
       "      <td>26.687060</td>\n",
       "      <td>-14.986819</td>\n",
       "    </tr>\n",
       "    <tr>\n",
       "      <th>998</th>\n",
       "      <td>2002-09-25</td>\n",
       "      <td>62.732966</td>\n",
       "      <td>67.593970</td>\n",
       "      <td>27.316328</td>\n",
       "      <td>-15.439690</td>\n",
       "    </tr>\n",
       "    <tr>\n",
       "      <th>999</th>\n",
       "      <td>2002-09-26</td>\n",
       "      <td>63.976038</td>\n",
       "      <td>67.094101</td>\n",
       "      <td>28.635657</td>\n",
       "      <td>-14.983353</td>\n",
       "    </tr>\n",
       "  </tbody>\n",
       "</table>\n",
       "<p>1000 rows × 5 columns</p>\n",
       "</div>"
      ],
      "text/plain": [
       "     Unnamed: 0          A          B          C          D\n",
       "0    2000-01-01   0.829138   0.495345  -0.940581   0.728194\n",
       "1    2000-01-02   2.324015   0.178648   0.094250  -3.557360\n",
       "2    2000-01-03   1.704821  -0.253607  -0.962868  -3.914540\n",
       "3    2000-01-04   1.498936  -0.373237   0.202079  -4.160883\n",
       "4    2000-01-05   2.102690   0.519090   0.694931  -4.528201\n",
       "..          ...        ...        ...        ...        ...\n",
       "995  2002-09-22  63.497428  67.303045  28.330004 -13.359515\n",
       "996  2002-09-23  62.643262  65.969610  26.837154 -13.938585\n",
       "997  2002-09-24  62.569557  66.967750  26.687060 -14.986819\n",
       "998  2002-09-25  62.732966  67.593970  27.316328 -15.439690\n",
       "999  2002-09-26  63.976038  67.094101  28.635657 -14.983353\n",
       "\n",
       "[1000 rows x 5 columns]"
      ]
     },
     "execution_count": 93,
     "metadata": {},
     "output_type": "execute_result"
    }
   ],
   "source": [
    "pd.read_csv(\"data/file01_01.csv\")"
   ]
  },
  {
   "cell_type": "markdown",
   "id": "4ec1f8dc-3986-4cae-a2eb-ede415605698",
   "metadata": {},
   "source": [
    "### HDF5\n",
    "Reading and writing to [HDFStores](https://pandas.pydata.org/pandas-docs/stable/user_guide/io.html#io-hdf5).\n",
    "\n",
    "> Note: You'll need to install `hdf5` and `pytables` before running the following code.\n",
    "```shell\n",
    "(eda_dev39) $ conda install hdf5\n",
    "(eda_dev39) $ conda install pytables\n",
    "```\n",
    "\n",
    "Writing to a HDF5 Store."
   ]
  },
  {
   "cell_type": "code",
   "execution_count": 94,
   "id": "675e45e4-0354-4ab2-9429-56f48d04194b",
   "metadata": {},
   "outputs": [],
   "source": [
    "df.to_hdf(\"data/file01_02.h5\", \"df\")"
   ]
  },
  {
   "cell_type": "markdown",
   "id": "8e3ea521-03ed-4c28-afc7-98bd2229ff05",
   "metadata": {},
   "source": [
    "Reading from a HDF5 Store."
   ]
  },
  {
   "cell_type": "code",
   "execution_count": 95,
   "id": "e5a3b5f7-b194-409e-b675-a31ff7c6382a",
   "metadata": {},
   "outputs": [
    {
     "data": {
      "text/html": [
       "<div>\n",
       "<style scoped>\n",
       "    .dataframe tbody tr th:only-of-type {\n",
       "        vertical-align: middle;\n",
       "    }\n",
       "\n",
       "    .dataframe tbody tr th {\n",
       "        vertical-align: top;\n",
       "    }\n",
       "\n",
       "    .dataframe thead th {\n",
       "        text-align: right;\n",
       "    }\n",
       "</style>\n",
       "<table border=\"1\" class=\"dataframe\">\n",
       "  <thead>\n",
       "    <tr style=\"text-align: right;\">\n",
       "      <th></th>\n",
       "      <th>A</th>\n",
       "      <th>B</th>\n",
       "      <th>C</th>\n",
       "      <th>D</th>\n",
       "    </tr>\n",
       "  </thead>\n",
       "  <tbody>\n",
       "    <tr>\n",
       "      <th>2000-01-01</th>\n",
       "      <td>0.829138</td>\n",
       "      <td>0.495345</td>\n",
       "      <td>-0.940581</td>\n",
       "      <td>0.728194</td>\n",
       "    </tr>\n",
       "    <tr>\n",
       "      <th>2000-01-02</th>\n",
       "      <td>2.324015</td>\n",
       "      <td>0.178648</td>\n",
       "      <td>0.094250</td>\n",
       "      <td>-3.557360</td>\n",
       "    </tr>\n",
       "    <tr>\n",
       "      <th>2000-01-03</th>\n",
       "      <td>1.704821</td>\n",
       "      <td>-0.253607</td>\n",
       "      <td>-0.962868</td>\n",
       "      <td>-3.914540</td>\n",
       "    </tr>\n",
       "    <tr>\n",
       "      <th>2000-01-04</th>\n",
       "      <td>1.498936</td>\n",
       "      <td>-0.373237</td>\n",
       "      <td>0.202079</td>\n",
       "      <td>-4.160883</td>\n",
       "    </tr>\n",
       "    <tr>\n",
       "      <th>2000-01-05</th>\n",
       "      <td>2.102690</td>\n",
       "      <td>0.519090</td>\n",
       "      <td>0.694931</td>\n",
       "      <td>-4.528201</td>\n",
       "    </tr>\n",
       "    <tr>\n",
       "      <th>...</th>\n",
       "      <td>...</td>\n",
       "      <td>...</td>\n",
       "      <td>...</td>\n",
       "      <td>...</td>\n",
       "    </tr>\n",
       "    <tr>\n",
       "      <th>2002-09-22</th>\n",
       "      <td>63.497428</td>\n",
       "      <td>67.303045</td>\n",
       "      <td>28.330004</td>\n",
       "      <td>-13.359515</td>\n",
       "    </tr>\n",
       "    <tr>\n",
       "      <th>2002-09-23</th>\n",
       "      <td>62.643262</td>\n",
       "      <td>65.969610</td>\n",
       "      <td>26.837154</td>\n",
       "      <td>-13.938585</td>\n",
       "    </tr>\n",
       "    <tr>\n",
       "      <th>2002-09-24</th>\n",
       "      <td>62.569557</td>\n",
       "      <td>66.967750</td>\n",
       "      <td>26.687060</td>\n",
       "      <td>-14.986819</td>\n",
       "    </tr>\n",
       "    <tr>\n",
       "      <th>2002-09-25</th>\n",
       "      <td>62.732966</td>\n",
       "      <td>67.593970</td>\n",
       "      <td>27.316328</td>\n",
       "      <td>-15.439690</td>\n",
       "    </tr>\n",
       "    <tr>\n",
       "      <th>2002-09-26</th>\n",
       "      <td>63.976038</td>\n",
       "      <td>67.094101</td>\n",
       "      <td>28.635657</td>\n",
       "      <td>-14.983353</td>\n",
       "    </tr>\n",
       "  </tbody>\n",
       "</table>\n",
       "<p>1000 rows × 4 columns</p>\n",
       "</div>"
      ],
      "text/plain": [
       "                    A          B          C          D\n",
       "2000-01-01   0.829138   0.495345  -0.940581   0.728194\n",
       "2000-01-02   2.324015   0.178648   0.094250  -3.557360\n",
       "2000-01-03   1.704821  -0.253607  -0.962868  -3.914540\n",
       "2000-01-04   1.498936  -0.373237   0.202079  -4.160883\n",
       "2000-01-05   2.102690   0.519090   0.694931  -4.528201\n",
       "...               ...        ...        ...        ...\n",
       "2002-09-22  63.497428  67.303045  28.330004 -13.359515\n",
       "2002-09-23  62.643262  65.969610  26.837154 -13.938585\n",
       "2002-09-24  62.569557  66.967750  26.687060 -14.986819\n",
       "2002-09-25  62.732966  67.593970  27.316328 -15.439690\n",
       "2002-09-26  63.976038  67.094101  28.635657 -14.983353\n",
       "\n",
       "[1000 rows x 4 columns]"
      ]
     },
     "execution_count": 95,
     "metadata": {},
     "output_type": "execute_result"
    }
   ],
   "source": [
    "pd.read_hdf(\"data/file01_02.h5\", \"df\")"
   ]
  },
  {
   "cell_type": "markdown",
   "id": "7b0e33d9-928c-4dcf-8aa3-cae294e208e5",
   "metadata": {},
   "source": [
    "### Excel Reading and writing to MS Excel.\n",
    "\n",
    "> Note: You'll need to install `openpyxl`, `xlrd` and `pyxlsb` before running the following code.\n",
    "```shell\n",
    "(eda_dev39) $ conda install -c anaconda openpyxl\n",
    "(eda_dev39) $ conda install -c anaconda xlrd\n",
    "(eda_dev39) $ conda install -c conda-forge pyxlsb\n",
    "```\n",
    "\n",
    "Writing to an excel file."
   ]
  },
  {
   "cell_type": "code",
   "execution_count": 96,
   "id": "fd339f44-648c-47e2-9e3c-c1035ac39b43",
   "metadata": {},
   "outputs": [],
   "source": [
    "df.to_excel(\"data/file01_03.xlsx\", sheet_name=\"Sheet1\")"
   ]
  },
  {
   "cell_type": "markdown",
   "id": "69d8b540-a7ed-4f73-b109-54c8fac28cfa",
   "metadata": {},
   "source": [
    "Reading from an excel file."
   ]
  },
  {
   "cell_type": "code",
   "execution_count": 97,
   "id": "62b22811-10ae-4f99-ad65-0185e9ed046f",
   "metadata": {},
   "outputs": [
    {
     "data": {
      "text/html": [
       "<div>\n",
       "<style scoped>\n",
       "    .dataframe tbody tr th:only-of-type {\n",
       "        vertical-align: middle;\n",
       "    }\n",
       "\n",
       "    .dataframe tbody tr th {\n",
       "        vertical-align: top;\n",
       "    }\n",
       "\n",
       "    .dataframe thead th {\n",
       "        text-align: right;\n",
       "    }\n",
       "</style>\n",
       "<table border=\"1\" class=\"dataframe\">\n",
       "  <thead>\n",
       "    <tr style=\"text-align: right;\">\n",
       "      <th></th>\n",
       "      <th>Unnamed: 0</th>\n",
       "      <th>A</th>\n",
       "      <th>B</th>\n",
       "      <th>C</th>\n",
       "      <th>D</th>\n",
       "    </tr>\n",
       "  </thead>\n",
       "  <tbody>\n",
       "    <tr>\n",
       "      <th>0</th>\n",
       "      <td>2000-01-01</td>\n",
       "      <td>0.829138</td>\n",
       "      <td>0.495345</td>\n",
       "      <td>-0.940581</td>\n",
       "      <td>0.728194</td>\n",
       "    </tr>\n",
       "    <tr>\n",
       "      <th>1</th>\n",
       "      <td>2000-01-02</td>\n",
       "      <td>2.324015</td>\n",
       "      <td>0.178648</td>\n",
       "      <td>0.094250</td>\n",
       "      <td>-3.557360</td>\n",
       "    </tr>\n",
       "    <tr>\n",
       "      <th>2</th>\n",
       "      <td>2000-01-03</td>\n",
       "      <td>1.704821</td>\n",
       "      <td>-0.253607</td>\n",
       "      <td>-0.962868</td>\n",
       "      <td>-3.914540</td>\n",
       "    </tr>\n",
       "    <tr>\n",
       "      <th>3</th>\n",
       "      <td>2000-01-04</td>\n",
       "      <td>1.498936</td>\n",
       "      <td>-0.373237</td>\n",
       "      <td>0.202079</td>\n",
       "      <td>-4.160883</td>\n",
       "    </tr>\n",
       "    <tr>\n",
       "      <th>4</th>\n",
       "      <td>2000-01-05</td>\n",
       "      <td>2.102690</td>\n",
       "      <td>0.519090</td>\n",
       "      <td>0.694931</td>\n",
       "      <td>-4.528201</td>\n",
       "    </tr>\n",
       "    <tr>\n",
       "      <th>...</th>\n",
       "      <td>...</td>\n",
       "      <td>...</td>\n",
       "      <td>...</td>\n",
       "      <td>...</td>\n",
       "      <td>...</td>\n",
       "    </tr>\n",
       "    <tr>\n",
       "      <th>995</th>\n",
       "      <td>2002-09-22</td>\n",
       "      <td>63.497428</td>\n",
       "      <td>67.303045</td>\n",
       "      <td>28.330004</td>\n",
       "      <td>-13.359515</td>\n",
       "    </tr>\n",
       "    <tr>\n",
       "      <th>996</th>\n",
       "      <td>2002-09-23</td>\n",
       "      <td>62.643262</td>\n",
       "      <td>65.969610</td>\n",
       "      <td>26.837154</td>\n",
       "      <td>-13.938585</td>\n",
       "    </tr>\n",
       "    <tr>\n",
       "      <th>997</th>\n",
       "      <td>2002-09-24</td>\n",
       "      <td>62.569557</td>\n",
       "      <td>66.967750</td>\n",
       "      <td>26.687060</td>\n",
       "      <td>-14.986819</td>\n",
       "    </tr>\n",
       "    <tr>\n",
       "      <th>998</th>\n",
       "      <td>2002-09-25</td>\n",
       "      <td>62.732966</td>\n",
       "      <td>67.593970</td>\n",
       "      <td>27.316328</td>\n",
       "      <td>-15.439690</td>\n",
       "    </tr>\n",
       "    <tr>\n",
       "      <th>999</th>\n",
       "      <td>2002-09-26</td>\n",
       "      <td>63.976038</td>\n",
       "      <td>67.094101</td>\n",
       "      <td>28.635657</td>\n",
       "      <td>-14.983353</td>\n",
       "    </tr>\n",
       "  </tbody>\n",
       "</table>\n",
       "<p>1000 rows × 5 columns</p>\n",
       "</div>"
      ],
      "text/plain": [
       "    Unnamed: 0          A          B          C          D\n",
       "0   2000-01-01   0.829138   0.495345  -0.940581   0.728194\n",
       "1   2000-01-02   2.324015   0.178648   0.094250  -3.557360\n",
       "2   2000-01-03   1.704821  -0.253607  -0.962868  -3.914540\n",
       "3   2000-01-04   1.498936  -0.373237   0.202079  -4.160883\n",
       "4   2000-01-05   2.102690   0.519090   0.694931  -4.528201\n",
       "..         ...        ...        ...        ...        ...\n",
       "995 2002-09-22  63.497428  67.303045  28.330004 -13.359515\n",
       "996 2002-09-23  62.643262  65.969610  26.837154 -13.938585\n",
       "997 2002-09-24  62.569557  66.967750  26.687060 -14.986819\n",
       "998 2002-09-25  62.732966  67.593970  27.316328 -15.439690\n",
       "999 2002-09-26  63.976038  67.094101  28.635657 -14.983353\n",
       "\n",
       "[1000 rows x 5 columns]"
      ]
     },
     "execution_count": 97,
     "metadata": {},
     "output_type": "execute_result"
    }
   ],
   "source": [
    "pd.read_excel(\"data/file01_03.xlsx\", \"Sheet1\", index_col=None, na_values=[\"NA\"])"
   ]
  },
  {
   "cell_type": "markdown",
   "id": "daa2cbe1-7a51-42bc-b8da-66ed1d753ac5",
   "metadata": {},
   "source": [
    "### Gotchas\n",
    "If you are attempting to perform an operation you might see an exception like:"
   ]
  },
  {
   "cell_type": "code",
   "execution_count": 98,
   "id": "ca4c6649-79ec-4c3a-b408-fd880cf0cc22",
   "metadata": {},
   "outputs": [
    {
     "name": "stdout",
     "output_type": "stream",
     "text": [
      "Unexpected error: <class 'ValueError'>\n"
     ]
    }
   ],
   "source": [
    "import sys\n",
    "try:\n",
    "    if pd.Series([False, True, False]):\n",
    "        print(\"I was true\")\n",
    "except:\n",
    "        print(\"Unexpected error:\", sys.exc_info()[0])"
   ]
  },
  {
   "cell_type": "markdown",
   "id": "aa3319b5-39bc-4a50-b2ca-afea962fd411",
   "metadata": {},
   "source": [
    "See Comparisons for an explanation and what to do.\n",
    "\n",
    "See Gotchas as well."
   ]
  }
 ],
 "metadata": {
  "kernelspec": {
   "display_name": "eda_dev39",
   "language": "python",
   "name": "eda_dev39"
  },
  "language_info": {
   "codemirror_mode": {
    "name": "ipython",
    "version": 3
   },
   "file_extension": ".py",
   "mimetype": "text/x-python",
   "name": "python",
   "nbconvert_exporter": "python",
   "pygments_lexer": "ipython3",
   "version": "3.9.4"
  }
 },
 "nbformat": 4,
 "nbformat_minor": 5
}
