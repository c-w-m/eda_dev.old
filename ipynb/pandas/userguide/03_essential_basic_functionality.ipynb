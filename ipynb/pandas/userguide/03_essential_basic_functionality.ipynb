{
 "cells": [
  {
   "cell_type": "markdown",
   "id": "015a8e6a-48a3-4fe2-af1a-e32b15f77a48",
   "metadata": {},
   "source": [
    "# [Essential basic functionality](https://pandas.pydata.org/pandas-docs/stable/user_guide/basics.html)\n",
    "Here we discuss a lot of the essential functionality common to the pandas data structures. To begin, let’s create some example objects like we did in the 10 minutes to pandas section:"
   ]
  },
  {
   "cell_type": "code",
   "execution_count": 1,
   "id": "ad9c17a6-fe00-40d9-a338-91ac79389896",
   "metadata": {},
   "outputs": [],
   "source": [
    "import numpy as np\n",
    "import pandas as pd"
   ]
  },
  {
   "cell_type": "code",
   "execution_count": 2,
   "id": "05547821-81f9-4481-8dd8-34a4057c2e46",
   "metadata": {},
   "outputs": [],
   "source": [
    "index = pd.date_range(\"1/1/2000\", periods=8)\n",
    "s = pd.Series(np.random.randn(5), index=[\"a\", \"b\", \"c\", \"d\", \"e\"])\n",
    "df = pd.DataFrame(np.random.randn(8, 3), index=index, columns=[\"A\", \"B\", \"C\"])"
   ]
  },
  {
   "cell_type": "markdown",
   "id": "a71aad1a-ab5d-41f5-9405-7b2d6e918a51",
   "metadata": {},
   "source": [
    "## Head and tail\n",
    "To view a small sample of a Series or DataFrame object, use the head() and tail() methods. The default number of elements to display is five, but you may pass a custom number."
   ]
  },
  {
   "cell_type": "code",
   "execution_count": 3,
   "id": "88a76155-7c5d-4c1c-9bf2-3e759a39fb44",
   "metadata": {},
   "outputs": [
    {
     "data": {
      "text/plain": [
       "0    1.573778\n",
       "1    1.988112\n",
       "2   -1.097050\n",
       "3    0.925526\n",
       "4    1.102932\n",
       "dtype: float64"
      ]
     },
     "execution_count": 3,
     "metadata": {},
     "output_type": "execute_result"
    }
   ],
   "source": [
    "long_series = pd.Series(np.random.randn(1000))\n",
    "long_series.head()"
   ]
  },
  {
   "cell_type": "code",
   "execution_count": 4,
   "id": "d73c860e-89ff-426b-9db2-7571e275dd51",
   "metadata": {},
   "outputs": [
    {
     "data": {
      "text/plain": [
       "997   -0.736027\n",
       "998   -2.031925\n",
       "999    0.965048\n",
       "dtype: float64"
      ]
     },
     "execution_count": 4,
     "metadata": {},
     "output_type": "execute_result"
    }
   ],
   "source": [
    "long_series.tail(3)"
   ]
  },
  {
   "cell_type": "markdown",
   "id": "e08e8737-6a43-47bd-8ab4-dca1ff22e5b2",
   "metadata": {},
   "source": [
    "## Attributes and underlying data\n",
    "pandas objects have a number of attributes enabling you to access the metadata\n",
    "\n",
    "* shape: gives the axis dimensions of the object, consistent with ndarray\n",
    "* Axis labels\n",
    "  * Series: index (only axis)\n",
    "  * DataFrame: index (rows) and columns\n",
    "\n",
    "> Note, these attributes can be safely assigned to!"
   ]
  },
  {
   "cell_type": "code",
   "execution_count": 5,
   "id": "5c0e9d4f-0aba-4530-abd4-32b2e88076d8",
   "metadata": {},
   "outputs": [
    {
     "data": {
      "text/html": [
       "<div>\n",
       "<style scoped>\n",
       "    .dataframe tbody tr th:only-of-type {\n",
       "        vertical-align: middle;\n",
       "    }\n",
       "\n",
       "    .dataframe tbody tr th {\n",
       "        vertical-align: top;\n",
       "    }\n",
       "\n",
       "    .dataframe thead th {\n",
       "        text-align: right;\n",
       "    }\n",
       "</style>\n",
       "<table border=\"1\" class=\"dataframe\">\n",
       "  <thead>\n",
       "    <tr style=\"text-align: right;\">\n",
       "      <th></th>\n",
       "      <th>A</th>\n",
       "      <th>B</th>\n",
       "      <th>C</th>\n",
       "    </tr>\n",
       "  </thead>\n",
       "  <tbody>\n",
       "    <tr>\n",
       "      <th>2000-01-01</th>\n",
       "      <td>0.365628</td>\n",
       "      <td>-0.584123</td>\n",
       "      <td>-0.143777</td>\n",
       "    </tr>\n",
       "    <tr>\n",
       "      <th>2000-01-02</th>\n",
       "      <td>0.970659</td>\n",
       "      <td>-0.494979</td>\n",
       "      <td>-2.087147</td>\n",
       "    </tr>\n",
       "  </tbody>\n",
       "</table>\n",
       "</div>"
      ],
      "text/plain": [
       "                   A         B         C\n",
       "2000-01-01  0.365628 -0.584123 -0.143777\n",
       "2000-01-02  0.970659 -0.494979 -2.087147"
      ]
     },
     "execution_count": 5,
     "metadata": {},
     "output_type": "execute_result"
    }
   ],
   "source": [
    "df[:2]"
   ]
  },
  {
   "cell_type": "code",
   "execution_count": 6,
   "id": "38f989ab-9b25-4486-8d4b-378186bc07bb",
   "metadata": {},
   "outputs": [
    {
     "name": "stdout",
     "output_type": "stream",
     "text": [
      "                   a         b         c\n",
      "2000-01-01  0.365628 -0.584123 -0.143777\n",
      "2000-01-02  0.970659 -0.494979 -2.087147\n",
      "2000-01-03 -1.631569 -1.509966  0.355454\n",
      "2000-01-04 -0.247891 -0.811115 -0.122231\n",
      "2000-01-05  0.385695  1.309344 -0.379200\n",
      "2000-01-06 -0.526168  1.222118  1.023724\n",
      "2000-01-07  1.629172 -0.034269 -0.302645\n",
      "2000-01-08  1.264189 -1.168993  0.792477\n"
     ]
    }
   ],
   "source": [
    "df.columns = [x.lower() for x in df.columns]\n",
    "print(df)"
   ]
  },
  {
   "cell_type": "markdown",
   "id": "1ede68b8-28f5-4ec5-97c5-11e6759de7dc",
   "metadata": {},
   "source": [
    "pandas objects (Index, Series, DataFrame) can be thought of as containers for arrays, which hold the actual data and do the actual computation. For many types, the underlying array is a numpy.ndarray. However, pandas and 3rd party libraries may extend NumPy’s type system to add support for custom arrays (see dtypes).\n",
    "\n",
    "To get the actual data inside a Index or Series, use the .array property"
   ]
  },
  {
   "cell_type": "code",
   "execution_count": 7,
   "id": "709074dc-1b22-4702-861f-9088cff3f046",
   "metadata": {},
   "outputs": [
    {
     "data": {
      "text/plain": [
       "<PandasArray>\n",
       "[ 0.2520569370538516, -0.9162930826247955, -0.5393633811872114,\n",
       "  1.1076122465095894, -0.6259039535306633]\n",
       "Length: 5, dtype: float64"
      ]
     },
     "execution_count": 7,
     "metadata": {},
     "output_type": "execute_result"
    }
   ],
   "source": [
    "s.array"
   ]
  },
  {
   "cell_type": "code",
   "execution_count": 8,
   "id": "dcc97065-90c4-457b-ab97-3830f16ad84c",
   "metadata": {},
   "outputs": [
    {
     "data": {
      "text/plain": [
       "<PandasArray>\n",
       "['a', 'b', 'c', 'd', 'e']\n",
       "Length: 5, dtype: object"
      ]
     },
     "execution_count": 8,
     "metadata": {},
     "output_type": "execute_result"
    }
   ],
   "source": [
    "s.index.array"
   ]
  },
  {
   "cell_type": "markdown",
   "id": "30f9b7d0-3f3b-4dee-a76a-bbaec45025b8",
   "metadata": {},
   "source": [
    "array will always be an ExtensionArray. The exact details of what an ExtensionArray is and why pandas uses them are a bit beyond the scope of this introduction. See dtypes for more.\n",
    "\n",
    "If you know you need a NumPy array, use to_numpy() or numpy.asarray()."
   ]
  },
  {
   "cell_type": "code",
   "execution_count": 9,
   "id": "5334e5bb-2662-47ee-b642-947be0df5b40",
   "metadata": {},
   "outputs": [
    {
     "data": {
      "text/plain": [
       "array([ 0.25205694, -0.91629308, -0.53936338,  1.10761225, -0.62590395])"
      ]
     },
     "execution_count": 9,
     "metadata": {},
     "output_type": "execute_result"
    }
   ],
   "source": [
    "s.to_numpy()"
   ]
  },
  {
   "cell_type": "code",
   "execution_count": 10,
   "id": "70b2f72f-9141-41b8-ac01-a0afa6d81ab1",
   "metadata": {},
   "outputs": [
    {
     "data": {
      "text/plain": [
       "array([ 0.25205694, -0.91629308, -0.53936338,  1.10761225, -0.62590395])"
      ]
     },
     "execution_count": 10,
     "metadata": {},
     "output_type": "execute_result"
    }
   ],
   "source": [
    "np.asarray(s)"
   ]
  },
  {
   "cell_type": "markdown",
   "id": "f3828e00-7b51-4d3d-a992-e144d49170b3",
   "metadata": {},
   "source": [
    "When the Series or Index is backed by an ExtensionArray, to_numpy() may involve copying data and coercing values. See dtypes for more.\n",
    "\n",
    "to_numpy() gives some control over the dtype of the resulting numpy.ndarray. For example, consider datetimes with timezones. NumPy doesn’t have a dtype to represent timezone-aware datetimes, so there are two possibly useful representations:\n",
    "\n",
    "1. An object-dtype numpy.ndarray with Timestamp objects, each with the correct tz\n",
    "2. A datetime64[ns] -dtype numpy.ndarray, where the values have been converted to UTC and the timezone discarded\n",
    "\n",
    "Timezones may be preserved with dtype=object"
   ]
  },
  {
   "cell_type": "code",
   "execution_count": 11,
   "id": "6dfd0ead-adf7-4f09-a670-3135583a50e0",
   "metadata": {},
   "outputs": [
    {
     "data": {
      "text/plain": [
       "array([Timestamp('2000-01-01 00:00:00+0100', tz='CET', freq='D'),\n",
       "       Timestamp('2000-01-02 00:00:00+0100', tz='CET', freq='D')],\n",
       "      dtype=object)"
      ]
     },
     "execution_count": 11,
     "metadata": {},
     "output_type": "execute_result"
    }
   ],
   "source": [
    "ser = pd.Series(pd.date_range(\"2000\", periods=2, tz=\"CET\"))\n",
    "ser.to_numpy(dtype=object)"
   ]
  },
  {
   "cell_type": "markdown",
   "id": "965f98bd-597e-4eda-80f9-c27cc62968ac",
   "metadata": {},
   "source": [
    "Or thrown away with dtype='datetime64[ns]'"
   ]
  },
  {
   "cell_type": "code",
   "execution_count": 12,
   "id": "312ba0cf-1728-4316-b451-5700e771d74b",
   "metadata": {},
   "outputs": [
    {
     "data": {
      "text/plain": [
       "array(['1999-12-31T23:00:00.000000000', '2000-01-01T23:00:00.000000000'],\n",
       "      dtype='datetime64[ns]')"
      ]
     },
     "execution_count": 12,
     "metadata": {},
     "output_type": "execute_result"
    }
   ],
   "source": [
    "ser.to_numpy(dtype=\"datetime64[ns]\")"
   ]
  },
  {
   "cell_type": "markdown",
   "id": "4ed3f2a4-5310-4ee3-a617-61d713d57df3",
   "metadata": {},
   "source": [
    "Getting the “raw data” inside a DataFrame is possibly a bit more complex. When your DataFrame only has a single data type for all the columns, DataFrame.to_numpy() will return the underlying data:"
   ]
  },
  {
   "cell_type": "code",
   "execution_count": 13,
   "id": "a9837eea-7dbf-4a33-becb-65dc8d574a9a",
   "metadata": {},
   "outputs": [
    {
     "data": {
      "text/plain": [
       "array([[ 0.36562842, -0.58412345, -0.14377717],\n",
       "       [ 0.97065928, -0.49497881, -2.08714682],\n",
       "       [-1.63156886, -1.50996641,  0.35545375],\n",
       "       [-0.24789092, -0.81111505, -0.12223088],\n",
       "       [ 0.38569456,  1.30934407, -0.3791999 ],\n",
       "       [-0.52616774,  1.22211783,  1.02372359],\n",
       "       [ 1.62917178, -0.03426921, -0.30264519],\n",
       "       [ 1.26418868, -1.16899294,  0.79247726]])"
      ]
     },
     "execution_count": 13,
     "metadata": {},
     "output_type": "execute_result"
    }
   ],
   "source": [
    "df.to_numpy()"
   ]
  },
  {
   "cell_type": "markdown",
   "id": "0786fafe-c2ba-45d8-88fb-1c46dde1e840",
   "metadata": {},
   "source": [
    "If a DataFrame contains homogeneously-typed data, the ndarray can actually be modified in-place, and the changes will be reflected in the data structure. For heterogeneous data (e.g. some of the DataFrame’s columns are not all the same dtype), this will not be the case. The values attribute itself, unlike the axis labels, cannot be assigned to.\n",
    "\n",
    ">Note\n",
    ">When working with heterogeneous data, the dtype of the resulting ndarray will be chosen to accommodate all of the data involved. For example, if strings are involved, the result will be of object dtype. If there are only floats and integers, the resulting array will be of float dtype.\n",
    "\n",
    "In the past, pandas recommended Series.values or DataFrame.values for extracting the data from a Series or DataFrame. You’ll still find references to these in old code bases and online. Going forward, we recommend avoiding .values and using .array or .to_numpy(). .values has the following drawbacks:\n",
    "\n",
    "1. When your Series contains an extension type, it’s unclear whether Series.values returns a NumPy array or the extension array. Series.array will always return an ExtensionArray, and will never copy data. Series.to_numpy() will always return a NumPy array, potentially at the cost of copying / coercing values.\n",
    "2. When your DataFrame contains a mixture of data types, DataFrame.values may involve copying data and coercing values to a common dtype, a relatively expensive operation. DataFrame.to_numpy(), being a method, makes it clearer that the returned NumPy array may not be a view on the same data in the DataFrame.\n",
    "\n",
    "## Accelerated operations\n",
    "pandas has support for accelerating certain types of binary numerical and boolean operations using the numexpr library and the bottleneck libraries.\n",
    "\n",
    "These libraries are especially useful when dealing with large data sets, and provide large speedups. numexpr uses smart chunking, caching, and multiple cores. bottleneck is a set of specialized cython routines that are especially fast when dealing with arrays that have nans.\n",
    "\n",
    "Here is a sample (using 100 column x 100,000 row DataFrames):\n",
    "\n",
    "| Operation | 0.11.0 (ms) | Prior Version (ms) | Ratio to Prior |\n",
    "|-----------|-------------|--------------------|----------------|\n",
    "| df1 > df2 | 13.32       | 125.35             | 0.1063         |\n",
    "| df1 * df2 | 21.71       | 36.63              | 0.5928         |\n",
    "| df1 + df2 | 22.04       | 36.50              | 0.6039         |\n",
    "\n",
    "You are highly encouraged to install both libraries. See the section Recommended Dependencies for more installation info.\n",
    "\n",
    "These are both enabled to be used by default, you can control this by setting the options:"
   ]
  },
  {
   "cell_type": "code",
   "execution_count": 14,
   "id": "93eb45f4-d113-46be-a579-9b9c43a7d795",
   "metadata": {},
   "outputs": [],
   "source": [
    "pd.set_option(\"compute.use_bottleneck\", False)\n",
    "pd.set_option(\"compute.use_numexpr\", False)"
   ]
  },
  {
   "cell_type": "markdown",
   "id": "d5e67708-c70d-4323-9a6b-4ee8692c9f54",
   "metadata": {},
   "source": [
    "## Flexible binary operations\n",
    "With binary operations between pandas data structures, there are two key points of interest:\n",
    "\n",
    "Broadcasting behavior between higher- (e.g. DataFrame) and lower-dimensional (e.g. Series) objects.\n",
    "\n",
    "Missing data in computations.\n",
    "\n",
    "We will demonstrate how to manage these issues independently, though they can be handled simultaneously.\n",
    "\n",
    "### Matching / broadcasting behavior\n",
    "DataFrame has the methods add(), sub(), mul(), div() and related functions radd(), rsub(), … for carrying out binary operations. For broadcasting behavior, Series input is of primary interest. Using these functions, you can use to either match on the index or columns via the axis keyword:"
   ]
  },
  {
   "cell_type": "code",
   "execution_count": 15,
   "id": "4c0e5932-1379-483d-b3e8-cb8fed0cd163",
   "metadata": {},
   "outputs": [
    {
     "name": "stdout",
     "output_type": "stream",
     "text": [
      "        one       two     three\n",
      "a  0.274727 -1.238931       NaN\n",
      "b  1.333173 -0.655718 -0.143628\n",
      "c  1.313766  0.487951  0.550513\n",
      "d       NaN  0.711664  0.294667\n"
     ]
    }
   ],
   "source": [
    "df = pd.DataFrame(\n",
    "    {\n",
    "        \"one\": pd.Series(np.random.randn(3), index=[\"a\", \"b\", \"c\"]),\n",
    "        \"two\": pd.Series(np.random.randn(4), index=[\"a\", \"b\", \"c\", \"d\"]),\n",
    "        \"three\": pd.Series(np.random.randn(3), index=[\"b\", \"c\", \"d\"]),\n",
    "    }\n",
    ")\n",
    "print(df)"
   ]
  },
  {
   "cell_type": "code",
   "execution_count": 16,
   "id": "92fdad7f-9627-4cf0-ab43-2df3aeedd2a4",
   "metadata": {},
   "outputs": [
    {
     "data": {
      "text/html": [
       "<div>\n",
       "<style scoped>\n",
       "    .dataframe tbody tr th:only-of-type {\n",
       "        vertical-align: middle;\n",
       "    }\n",
       "\n",
       "    .dataframe tbody tr th {\n",
       "        vertical-align: top;\n",
       "    }\n",
       "\n",
       "    .dataframe thead th {\n",
       "        text-align: right;\n",
       "    }\n",
       "</style>\n",
       "<table border=\"1\" class=\"dataframe\">\n",
       "  <thead>\n",
       "    <tr style=\"text-align: right;\">\n",
       "      <th></th>\n",
       "      <th>one</th>\n",
       "      <th>two</th>\n",
       "      <th>three</th>\n",
       "    </tr>\n",
       "  </thead>\n",
       "  <tbody>\n",
       "    <tr>\n",
       "      <th>a</th>\n",
       "      <td>-1.058447</td>\n",
       "      <td>-0.583214</td>\n",
       "      <td>NaN</td>\n",
       "    </tr>\n",
       "    <tr>\n",
       "      <th>b</th>\n",
       "      <td>0.000000</td>\n",
       "      <td>0.000000</td>\n",
       "      <td>0.000000</td>\n",
       "    </tr>\n",
       "    <tr>\n",
       "      <th>c</th>\n",
       "      <td>-0.019407</td>\n",
       "      <td>1.143669</td>\n",
       "      <td>0.694140</td>\n",
       "    </tr>\n",
       "    <tr>\n",
       "      <th>d</th>\n",
       "      <td>NaN</td>\n",
       "      <td>1.367381</td>\n",
       "      <td>0.438295</td>\n",
       "    </tr>\n",
       "  </tbody>\n",
       "</table>\n",
       "</div>"
      ],
      "text/plain": [
       "        one       two     three\n",
       "a -1.058447 -0.583214       NaN\n",
       "b  0.000000  0.000000  0.000000\n",
       "c -0.019407  1.143669  0.694140\n",
       "d       NaN  1.367381  0.438295"
      ]
     },
     "execution_count": 16,
     "metadata": {},
     "output_type": "execute_result"
    }
   ],
   "source": [
    "row = df.iloc[1]\n",
    "column = df[\"two\"]\n",
    "df.sub(row, axis=\"columns\")"
   ]
  },
  {
   "cell_type": "code",
   "execution_count": 17,
   "id": "34ffd463-55d2-467b-bd3f-29fa9352ac7d",
   "metadata": {},
   "outputs": [
    {
     "data": {
      "text/html": [
       "<div>\n",
       "<style scoped>\n",
       "    .dataframe tbody tr th:only-of-type {\n",
       "        vertical-align: middle;\n",
       "    }\n",
       "\n",
       "    .dataframe tbody tr th {\n",
       "        vertical-align: top;\n",
       "    }\n",
       "\n",
       "    .dataframe thead th {\n",
       "        text-align: right;\n",
       "    }\n",
       "</style>\n",
       "<table border=\"1\" class=\"dataframe\">\n",
       "  <thead>\n",
       "    <tr style=\"text-align: right;\">\n",
       "      <th></th>\n",
       "      <th>one</th>\n",
       "      <th>two</th>\n",
       "      <th>three</th>\n",
       "    </tr>\n",
       "  </thead>\n",
       "  <tbody>\n",
       "    <tr>\n",
       "      <th>a</th>\n",
       "      <td>-1.058447</td>\n",
       "      <td>-0.583214</td>\n",
       "      <td>NaN</td>\n",
       "    </tr>\n",
       "    <tr>\n",
       "      <th>b</th>\n",
       "      <td>0.000000</td>\n",
       "      <td>0.000000</td>\n",
       "      <td>0.000000</td>\n",
       "    </tr>\n",
       "    <tr>\n",
       "      <th>c</th>\n",
       "      <td>-0.019407</td>\n",
       "      <td>1.143669</td>\n",
       "      <td>0.694140</td>\n",
       "    </tr>\n",
       "    <tr>\n",
       "      <th>d</th>\n",
       "      <td>NaN</td>\n",
       "      <td>1.367381</td>\n",
       "      <td>0.438295</td>\n",
       "    </tr>\n",
       "  </tbody>\n",
       "</table>\n",
       "</div>"
      ],
      "text/plain": [
       "        one       two     three\n",
       "a -1.058447 -0.583214       NaN\n",
       "b  0.000000  0.000000  0.000000\n",
       "c -0.019407  1.143669  0.694140\n",
       "d       NaN  1.367381  0.438295"
      ]
     },
     "execution_count": 17,
     "metadata": {},
     "output_type": "execute_result"
    }
   ],
   "source": [
    "df.sub(row, axis=1)"
   ]
  },
  {
   "cell_type": "code",
   "execution_count": 18,
   "id": "6aaa1706-0e7d-4e2e-9d13-2b0067e54302",
   "metadata": {},
   "outputs": [
    {
     "data": {
      "text/html": [
       "<div>\n",
       "<style scoped>\n",
       "    .dataframe tbody tr th:only-of-type {\n",
       "        vertical-align: middle;\n",
       "    }\n",
       "\n",
       "    .dataframe tbody tr th {\n",
       "        vertical-align: top;\n",
       "    }\n",
       "\n",
       "    .dataframe thead th {\n",
       "        text-align: right;\n",
       "    }\n",
       "</style>\n",
       "<table border=\"1\" class=\"dataframe\">\n",
       "  <thead>\n",
       "    <tr style=\"text-align: right;\">\n",
       "      <th></th>\n",
       "      <th>one</th>\n",
       "      <th>two</th>\n",
       "      <th>three</th>\n",
       "    </tr>\n",
       "  </thead>\n",
       "  <tbody>\n",
       "    <tr>\n",
       "      <th>a</th>\n",
       "      <td>1.513658</td>\n",
       "      <td>0.0</td>\n",
       "      <td>NaN</td>\n",
       "    </tr>\n",
       "    <tr>\n",
       "      <th>b</th>\n",
       "      <td>1.988891</td>\n",
       "      <td>0.0</td>\n",
       "      <td>0.512090</td>\n",
       "    </tr>\n",
       "    <tr>\n",
       "      <th>c</th>\n",
       "      <td>0.825816</td>\n",
       "      <td>0.0</td>\n",
       "      <td>0.062562</td>\n",
       "    </tr>\n",
       "    <tr>\n",
       "      <th>d</th>\n",
       "      <td>NaN</td>\n",
       "      <td>0.0</td>\n",
       "      <td>-0.416997</td>\n",
       "    </tr>\n",
       "  </tbody>\n",
       "</table>\n",
       "</div>"
      ],
      "text/plain": [
       "        one  two     three\n",
       "a  1.513658  0.0       NaN\n",
       "b  1.988891  0.0  0.512090\n",
       "c  0.825816  0.0  0.062562\n",
       "d       NaN  0.0 -0.416997"
      ]
     },
     "execution_count": 18,
     "metadata": {},
     "output_type": "execute_result"
    }
   ],
   "source": [
    "df.sub(column, axis=\"index\")"
   ]
  },
  {
   "cell_type": "code",
   "execution_count": 19,
   "id": "cdda9fa8-21b9-4466-ae82-1379fbe6259c",
   "metadata": {},
   "outputs": [
    {
     "data": {
      "text/html": [
       "<div>\n",
       "<style scoped>\n",
       "    .dataframe tbody tr th:only-of-type {\n",
       "        vertical-align: middle;\n",
       "    }\n",
       "\n",
       "    .dataframe tbody tr th {\n",
       "        vertical-align: top;\n",
       "    }\n",
       "\n",
       "    .dataframe thead th {\n",
       "        text-align: right;\n",
       "    }\n",
       "</style>\n",
       "<table border=\"1\" class=\"dataframe\">\n",
       "  <thead>\n",
       "    <tr style=\"text-align: right;\">\n",
       "      <th></th>\n",
       "      <th>one</th>\n",
       "      <th>two</th>\n",
       "      <th>three</th>\n",
       "    </tr>\n",
       "  </thead>\n",
       "  <tbody>\n",
       "    <tr>\n",
       "      <th>a</th>\n",
       "      <td>1.513658</td>\n",
       "      <td>0.0</td>\n",
       "      <td>NaN</td>\n",
       "    </tr>\n",
       "    <tr>\n",
       "      <th>b</th>\n",
       "      <td>1.988891</td>\n",
       "      <td>0.0</td>\n",
       "      <td>0.512090</td>\n",
       "    </tr>\n",
       "    <tr>\n",
       "      <th>c</th>\n",
       "      <td>0.825816</td>\n",
       "      <td>0.0</td>\n",
       "      <td>0.062562</td>\n",
       "    </tr>\n",
       "    <tr>\n",
       "      <th>d</th>\n",
       "      <td>NaN</td>\n",
       "      <td>0.0</td>\n",
       "      <td>-0.416997</td>\n",
       "    </tr>\n",
       "  </tbody>\n",
       "</table>\n",
       "</div>"
      ],
      "text/plain": [
       "        one  two     three\n",
       "a  1.513658  0.0       NaN\n",
       "b  1.988891  0.0  0.512090\n",
       "c  0.825816  0.0  0.062562\n",
       "d       NaN  0.0 -0.416997"
      ]
     },
     "execution_count": 19,
     "metadata": {},
     "output_type": "execute_result"
    }
   ],
   "source": [
    "df.sub(column, axis=0)"
   ]
  },
  {
   "cell_type": "markdown",
   "id": "45f62c6e-3eca-43a5-9fd5-eacbf3017555",
   "metadata": {},
   "source": [
    "Furthermore you can align a level of a MultiIndexed DataFrame with a Series."
   ]
  },
  {
   "cell_type": "code",
   "execution_count": 20,
   "id": "aeb71e30-0120-4d8b-8a60-186f0d715974",
   "metadata": {},
   "outputs": [
    {
     "data": {
      "text/html": [
       "<div>\n",
       "<style scoped>\n",
       "    .dataframe tbody tr th:only-of-type {\n",
       "        vertical-align: middle;\n",
       "    }\n",
       "\n",
       "    .dataframe tbody tr th {\n",
       "        vertical-align: top;\n",
       "    }\n",
       "\n",
       "    .dataframe thead th {\n",
       "        text-align: right;\n",
       "    }\n",
       "</style>\n",
       "<table border=\"1\" class=\"dataframe\">\n",
       "  <thead>\n",
       "    <tr style=\"text-align: right;\">\n",
       "      <th></th>\n",
       "      <th></th>\n",
       "      <th>one</th>\n",
       "      <th>two</th>\n",
       "      <th>three</th>\n",
       "    </tr>\n",
       "    <tr>\n",
       "      <th>first</th>\n",
       "      <th>second</th>\n",
       "      <th></th>\n",
       "      <th></th>\n",
       "      <th></th>\n",
       "    </tr>\n",
       "  </thead>\n",
       "  <tbody>\n",
       "    <tr>\n",
       "      <th rowspan=\"3\" valign=\"top\">1</th>\n",
       "      <th>a</th>\n",
       "      <td>1.513658</td>\n",
       "      <td>0.000000</td>\n",
       "      <td>NaN</td>\n",
       "    </tr>\n",
       "    <tr>\n",
       "      <th>b</th>\n",
       "      <td>1.988891</td>\n",
       "      <td>0.000000</td>\n",
       "      <td>0.512090</td>\n",
       "    </tr>\n",
       "    <tr>\n",
       "      <th>c</th>\n",
       "      <td>0.825816</td>\n",
       "      <td>0.000000</td>\n",
       "      <td>0.062562</td>\n",
       "    </tr>\n",
       "    <tr>\n",
       "      <th>2</th>\n",
       "      <th>a</th>\n",
       "      <td>NaN</td>\n",
       "      <td>1.950595</td>\n",
       "      <td>1.533598</td>\n",
       "    </tr>\n",
       "  </tbody>\n",
       "</table>\n",
       "</div>"
      ],
      "text/plain": [
       "                   one       two     three\n",
       "first second                              \n",
       "1     a       1.513658  0.000000       NaN\n",
       "      b       1.988891  0.000000  0.512090\n",
       "      c       0.825816  0.000000  0.062562\n",
       "2     a            NaN  1.950595  1.533598"
      ]
     },
     "execution_count": 20,
     "metadata": {},
     "output_type": "execute_result"
    }
   ],
   "source": [
    "dfmi = df.copy()\n",
    "dfmi.index = pd.MultiIndex.from_tuples(\n",
    "    [(1, \"a\"), (1, \"b\"), (1, \"c\"), (2, \"a\")], names=[\"first\", \"second\"]\n",
    ")\n",
    "dfmi.sub(column, axis=0, level=\"second\")"
   ]
  },
  {
   "cell_type": "markdown",
   "id": "ebc23fab-5961-43fc-8641-68d18afdb41f",
   "metadata": {},
   "source": [
    "Series and Index also support the divmod() builtin. This function takes the floor division and modulo operation at the same time returning a two-tuple of the same type as the left hand side. For example:"
   ]
  },
  {
   "cell_type": "code",
   "execution_count": 21,
   "id": "4e844cb1-169d-428c-8335-46dcf97d135a",
   "metadata": {},
   "outputs": [
    {
     "name": "stdout",
     "output_type": "stream",
     "text": [
      "0    0\n",
      "1    1\n",
      "2    2\n",
      "3    3\n",
      "4    4\n",
      "5    5\n",
      "6    6\n",
      "7    7\n",
      "8    8\n",
      "9    9\n",
      "dtype: int32\n"
     ]
    }
   ],
   "source": [
    "s = pd.Series(np.arange(10))\n",
    "print(s)"
   ]
  },
  {
   "cell_type": "code",
   "execution_count": 22,
   "id": "05112f87-7ac0-4ff4-98c2-422effcc41d4",
   "metadata": {},
   "outputs": [
    {
     "name": "stdout",
     "output_type": "stream",
     "text": [
      "0    0\n",
      "1    0\n",
      "2    0\n",
      "3    1\n",
      "4    1\n",
      "5    1\n",
      "6    2\n",
      "7    2\n",
      "8    2\n",
      "9    3\n",
      "dtype: int32\n"
     ]
    }
   ],
   "source": [
    "div, rem = divmod(s, 3)\n",
    "print(div)"
   ]
  },
  {
   "cell_type": "code",
   "execution_count": 23,
   "id": "b6001de3-90b6-4033-98a1-f9a5950d04e2",
   "metadata": {},
   "outputs": [
    {
     "name": "stdout",
     "output_type": "stream",
     "text": [
      "0    0\n",
      "1    1\n",
      "2    2\n",
      "3    0\n",
      "4    1\n",
      "5    2\n",
      "6    0\n",
      "7    1\n",
      "8    2\n",
      "9    0\n",
      "dtype: int32\n"
     ]
    }
   ],
   "source": [
    "print(rem)"
   ]
  },
  {
   "cell_type": "code",
   "execution_count": 24,
   "id": "6962a656-b2b0-4e19-9d29-f1f562680d74",
   "metadata": {},
   "outputs": [
    {
     "name": "stdout",
     "output_type": "stream",
     "text": [
      "Int64Index([0, 1, 2, 3, 4, 5, 6, 7, 8, 9], dtype='int64')\n"
     ]
    }
   ],
   "source": [
    "idx = pd.Index(np.arange(10))\n",
    "print(idx)"
   ]
  },
  {
   "cell_type": "code",
   "execution_count": 25,
   "id": "39325e8d-da37-495a-b4e0-9c809acbd435",
   "metadata": {},
   "outputs": [
    {
     "name": "stdout",
     "output_type": "stream",
     "text": [
      "Int64Index([0, 0, 0, 1, 1, 1, 2, 2, 2, 3], dtype='int64')\n"
     ]
    }
   ],
   "source": [
    "div, rem = divmod(idx, 3)\n",
    "print(div)"
   ]
  },
  {
   "cell_type": "code",
   "execution_count": 26,
   "id": "6b01e9c9-e6ac-4f1c-8d12-ef99d2d1eccf",
   "metadata": {},
   "outputs": [
    {
     "name": "stdout",
     "output_type": "stream",
     "text": [
      "Int64Index([0, 1, 2, 0, 1, 2, 0, 1, 2, 0], dtype='int64')\n"
     ]
    }
   ],
   "source": [
    "print(rem)"
   ]
  },
  {
   "cell_type": "markdown",
   "id": "64168843-3711-47bc-82f7-be2b210b8b82",
   "metadata": {},
   "source": [
    "We can also do elementwise divmod():"
   ]
  },
  {
   "cell_type": "code",
   "execution_count": 27,
   "id": "49037cd3-e2e3-4e21-a061-5764d617f62c",
   "metadata": {},
   "outputs": [
    {
     "name": "stdout",
     "output_type": "stream",
     "text": [
      "0    0\n",
      "1    0\n",
      "2    0\n",
      "3    1\n",
      "4    1\n",
      "5    1\n",
      "6    1\n",
      "7    1\n",
      "8    1\n",
      "9    1\n",
      "dtype: int32\n"
     ]
    }
   ],
   "source": [
    "div, rem = divmod(s, [2, 2, 3, 3, 4, 4, 5, 5, 6, 6])\n",
    "print(div)"
   ]
  },
  {
   "cell_type": "code",
   "execution_count": 28,
   "id": "f629c6b2-e093-4dde-a09a-31b068f6e285",
   "metadata": {},
   "outputs": [
    {
     "name": "stdout",
     "output_type": "stream",
     "text": [
      "0    0\n",
      "1    1\n",
      "2    2\n",
      "3    0\n",
      "4    0\n",
      "5    1\n",
      "6    1\n",
      "7    2\n",
      "8    2\n",
      "9    3\n",
      "dtype: int32\n"
     ]
    }
   ],
   "source": [
    "print(rem)"
   ]
  },
  {
   "cell_type": "markdown",
   "id": "466d1858-edec-4027-9bae-a42b89c563f0",
   "metadata": {},
   "source": [
    "### Missing data / operations with fill values\n",
    "In Series and DataFrame, the arithmetic functions have the option of inputting a fill_value, namely a value to substitute when at most one of the values at a location are missing. For example, when adding two DataFrame objects, you may wish to treat NaN as 0 unless both DataFrames are missing that value, in which case the result will be NaN (you can later replace NaN with some other value using fillna if you wish)."
   ]
  },
  {
   "cell_type": "code",
   "execution_count": 29,
   "id": "025ab053-8d06-4ecb-8465-52e53c369efb",
   "metadata": {},
   "outputs": [
    {
     "name": "stdout",
     "output_type": "stream",
     "text": [
      "        one       two     three\n",
      "a  0.274727 -1.238931       NaN\n",
      "b  1.333173 -0.655718 -0.143628\n",
      "c  1.313766  0.487951  0.550513\n",
      "d       NaN  0.711664  0.294667\n"
     ]
    }
   ],
   "source": [
    "print(df)"
   ]
  },
  {
   "cell_type": "code",
   "execution_count": 30,
   "id": "2201c1c8-048f-4d6d-b201-87d1ca3fd41c",
   "metadata": {},
   "outputs": [
    {
     "name": "stdout",
     "output_type": "stream",
     "text": [
      "        one       two     three\n",
      "a  0.274727 -1.238931  1.000000\n",
      "b  1.333173 -0.655718 -0.143628\n",
      "c  1.313766  0.487951  0.550513\n",
      "d       NaN  0.711664  0.294667\n"
     ]
    }
   ],
   "source": [
    "df2 = df.copy()\n",
    "df2.iat[0, 2] = 1.0\n",
    "print(df2)"
   ]
  },
  {
   "cell_type": "code",
   "execution_count": 31,
   "id": "4e9bee06-fd5a-4b37-a943-bd27005603fb",
   "metadata": {},
   "outputs": [
    {
     "name": "stdout",
     "output_type": "stream",
     "text": [
      "        one       two     three\n",
      "a  0.549453 -2.477863       NaN\n",
      "b  2.666346 -1.311436 -0.287255\n",
      "c  2.627533  0.975901  1.101025\n",
      "d       NaN  1.423327  0.589334\n"
     ]
    }
   ],
   "source": [
    "print(df + df2)"
   ]
  },
  {
   "cell_type": "code",
   "execution_count": 32,
   "id": "ba2b1af8-4f21-45d0-b8f6-8d39b51aa760",
   "metadata": {},
   "outputs": [
    {
     "data": {
      "text/html": [
       "<div>\n",
       "<style scoped>\n",
       "    .dataframe tbody tr th:only-of-type {\n",
       "        vertical-align: middle;\n",
       "    }\n",
       "\n",
       "    .dataframe tbody tr th {\n",
       "        vertical-align: top;\n",
       "    }\n",
       "\n",
       "    .dataframe thead th {\n",
       "        text-align: right;\n",
       "    }\n",
       "</style>\n",
       "<table border=\"1\" class=\"dataframe\">\n",
       "  <thead>\n",
       "    <tr style=\"text-align: right;\">\n",
       "      <th></th>\n",
       "      <th>one</th>\n",
       "      <th>two</th>\n",
       "      <th>three</th>\n",
       "    </tr>\n",
       "  </thead>\n",
       "  <tbody>\n",
       "    <tr>\n",
       "      <th>a</th>\n",
       "      <td>0.549453</td>\n",
       "      <td>-2.477863</td>\n",
       "      <td>1.000000</td>\n",
       "    </tr>\n",
       "    <tr>\n",
       "      <th>b</th>\n",
       "      <td>2.666346</td>\n",
       "      <td>-1.311436</td>\n",
       "      <td>-0.287255</td>\n",
       "    </tr>\n",
       "    <tr>\n",
       "      <th>c</th>\n",
       "      <td>2.627533</td>\n",
       "      <td>0.975901</td>\n",
       "      <td>1.101025</td>\n",
       "    </tr>\n",
       "    <tr>\n",
       "      <th>d</th>\n",
       "      <td>NaN</td>\n",
       "      <td>1.423327</td>\n",
       "      <td>0.589334</td>\n",
       "    </tr>\n",
       "  </tbody>\n",
       "</table>\n",
       "</div>"
      ],
      "text/plain": [
       "        one       two     three\n",
       "a  0.549453 -2.477863  1.000000\n",
       "b  2.666346 -1.311436 -0.287255\n",
       "c  2.627533  0.975901  1.101025\n",
       "d       NaN  1.423327  0.589334"
      ]
     },
     "execution_count": 32,
     "metadata": {},
     "output_type": "execute_result"
    }
   ],
   "source": [
    "df.add(df2, fill_value=0)"
   ]
  },
  {
   "cell_type": "markdown",
   "id": "7133cfdb-f707-4583-9f1f-7daef590b092",
   "metadata": {},
   "source": [
    "### Flexible comparisons\n",
    "Series and DataFrame have the binary comparison methods eq, ne, lt, gt, le, and ge whose behavior is analogous to the binary arithmetic operations described above:"
   ]
  },
  {
   "cell_type": "code",
   "execution_count": 33,
   "id": "d3876066-6d01-413e-8459-8c922e2a256f",
   "metadata": {},
   "outputs": [
    {
     "data": {
      "text/html": [
       "<div>\n",
       "<style scoped>\n",
       "    .dataframe tbody tr th:only-of-type {\n",
       "        vertical-align: middle;\n",
       "    }\n",
       "\n",
       "    .dataframe tbody tr th {\n",
       "        vertical-align: top;\n",
       "    }\n",
       "\n",
       "    .dataframe thead th {\n",
       "        text-align: right;\n",
       "    }\n",
       "</style>\n",
       "<table border=\"1\" class=\"dataframe\">\n",
       "  <thead>\n",
       "    <tr style=\"text-align: right;\">\n",
       "      <th></th>\n",
       "      <th>one</th>\n",
       "      <th>two</th>\n",
       "      <th>three</th>\n",
       "    </tr>\n",
       "  </thead>\n",
       "  <tbody>\n",
       "    <tr>\n",
       "      <th>a</th>\n",
       "      <td>False</td>\n",
       "      <td>False</td>\n",
       "      <td>False</td>\n",
       "    </tr>\n",
       "    <tr>\n",
       "      <th>b</th>\n",
       "      <td>False</td>\n",
       "      <td>False</td>\n",
       "      <td>False</td>\n",
       "    </tr>\n",
       "    <tr>\n",
       "      <th>c</th>\n",
       "      <td>False</td>\n",
       "      <td>False</td>\n",
       "      <td>False</td>\n",
       "    </tr>\n",
       "    <tr>\n",
       "      <th>d</th>\n",
       "      <td>False</td>\n",
       "      <td>False</td>\n",
       "      <td>False</td>\n",
       "    </tr>\n",
       "  </tbody>\n",
       "</table>\n",
       "</div>"
      ],
      "text/plain": [
       "     one    two  three\n",
       "a  False  False  False\n",
       "b  False  False  False\n",
       "c  False  False  False\n",
       "d  False  False  False"
      ]
     },
     "execution_count": 33,
     "metadata": {},
     "output_type": "execute_result"
    }
   ],
   "source": [
    "df.gt(df2)"
   ]
  },
  {
   "cell_type": "code",
   "execution_count": 34,
   "id": "0de02065-a5fc-47ad-8563-4ff4269d529b",
   "metadata": {},
   "outputs": [
    {
     "data": {
      "text/html": [
       "<div>\n",
       "<style scoped>\n",
       "    .dataframe tbody tr th:only-of-type {\n",
       "        vertical-align: middle;\n",
       "    }\n",
       "\n",
       "    .dataframe tbody tr th {\n",
       "        vertical-align: top;\n",
       "    }\n",
       "\n",
       "    .dataframe thead th {\n",
       "        text-align: right;\n",
       "    }\n",
       "</style>\n",
       "<table border=\"1\" class=\"dataframe\">\n",
       "  <thead>\n",
       "    <tr style=\"text-align: right;\">\n",
       "      <th></th>\n",
       "      <th>one</th>\n",
       "      <th>two</th>\n",
       "      <th>three</th>\n",
       "    </tr>\n",
       "  </thead>\n",
       "  <tbody>\n",
       "    <tr>\n",
       "      <th>a</th>\n",
       "      <td>False</td>\n",
       "      <td>False</td>\n",
       "      <td>True</td>\n",
       "    </tr>\n",
       "    <tr>\n",
       "      <th>b</th>\n",
       "      <td>False</td>\n",
       "      <td>False</td>\n",
       "      <td>False</td>\n",
       "    </tr>\n",
       "    <tr>\n",
       "      <th>c</th>\n",
       "      <td>False</td>\n",
       "      <td>False</td>\n",
       "      <td>False</td>\n",
       "    </tr>\n",
       "    <tr>\n",
       "      <th>d</th>\n",
       "      <td>True</td>\n",
       "      <td>False</td>\n",
       "      <td>False</td>\n",
       "    </tr>\n",
       "  </tbody>\n",
       "</table>\n",
       "</div>"
      ],
      "text/plain": [
       "     one    two  three\n",
       "a  False  False   True\n",
       "b  False  False  False\n",
       "c  False  False  False\n",
       "d   True  False  False"
      ]
     },
     "execution_count": 34,
     "metadata": {},
     "output_type": "execute_result"
    }
   ],
   "source": [
    "df2.ne(df)"
   ]
  },
  {
   "cell_type": "markdown",
   "id": "68ad3b6d-c6ed-4930-a25a-fd6ff374e649",
   "metadata": {},
   "source": [
    "These operations produce a pandas object of the same type as the left-hand-side input that is of dtype bool. These boolean objects can be used in indexing operations, see the section on Boolean indexing.\n",
    "\n",
    "### Boolean reductions\n",
    "You can apply the reductions: empty, any(), all(), and bool() to provide a way to summarize a boolean result."
   ]
  },
  {
   "cell_type": "code",
   "execution_count": 35,
   "id": "3de029c1-4577-4517-84df-66bc8693ee0b",
   "metadata": {},
   "outputs": [
    {
     "data": {
      "text/plain": [
       "one      False\n",
       "two      False\n",
       "three    False\n",
       "dtype: bool"
      ]
     },
     "execution_count": 35,
     "metadata": {},
     "output_type": "execute_result"
    }
   ],
   "source": [
    "(df > 0).all()"
   ]
  },
  {
   "cell_type": "code",
   "execution_count": 36,
   "id": "393cf1e0-9260-4a05-b66c-4707ef98cd7f",
   "metadata": {},
   "outputs": [
    {
     "data": {
      "text/plain": [
       "one      True\n",
       "two      True\n",
       "three    True\n",
       "dtype: bool"
      ]
     },
     "execution_count": 36,
     "metadata": {},
     "output_type": "execute_result"
    }
   ],
   "source": [
    "(df > 0).any()"
   ]
  },
  {
   "cell_type": "markdown",
   "id": "10d136cd-8bba-4f61-b450-1a6d34083966",
   "metadata": {},
   "source": [
    "You can reduce to a final boolean value."
   ]
  },
  {
   "cell_type": "code",
   "execution_count": 37,
   "id": "0f015a93-03eb-4f5e-8678-2bf0d947b17a",
   "metadata": {},
   "outputs": [
    {
     "data": {
      "text/plain": [
       "True"
      ]
     },
     "execution_count": 37,
     "metadata": {},
     "output_type": "execute_result"
    }
   ],
   "source": [
    "(df > 0).any().any()"
   ]
  },
  {
   "cell_type": "markdown",
   "id": "0673bc4c-b754-4647-bf2f-c419c84b0923",
   "metadata": {},
   "source": [
    "You can test if a pandas object is empty, via the empty property."
   ]
  },
  {
   "cell_type": "code",
   "execution_count": 38,
   "id": "2c7276da-57b3-4671-aa31-dd74dae43ecf",
   "metadata": {},
   "outputs": [
    {
     "data": {
      "text/plain": [
       "False"
      ]
     },
     "execution_count": 38,
     "metadata": {},
     "output_type": "execute_result"
    }
   ],
   "source": [
    "df.empty"
   ]
  },
  {
   "cell_type": "code",
   "execution_count": 39,
   "id": "7188b054-7f37-44a8-83bd-34eca0284b96",
   "metadata": {},
   "outputs": [
    {
     "data": {
      "text/plain": [
       "True"
      ]
     },
     "execution_count": 39,
     "metadata": {},
     "output_type": "execute_result"
    }
   ],
   "source": [
    "pd.DataFrame(columns=list(\"ABC\")).empty"
   ]
  },
  {
   "cell_type": "markdown",
   "id": "7a464fec-e0d4-4b89-86ea-49fa780b9f59",
   "metadata": {},
   "source": [
    "To evaluate single-element pandas objects in a boolean context, use the method bool():"
   ]
  },
  {
   "cell_type": "code",
   "execution_count": 40,
   "id": "f20db9bb-bfc2-4276-ab95-9a3f922cc9fe",
   "metadata": {},
   "outputs": [
    {
     "data": {
      "text/plain": [
       "True"
      ]
     },
     "execution_count": 40,
     "metadata": {},
     "output_type": "execute_result"
    }
   ],
   "source": [
    "pd.Series([True]).bool()"
   ]
  },
  {
   "cell_type": "code",
   "execution_count": 41,
   "id": "386e9f78-9af3-4704-a766-bbaa9f4dd0cc",
   "metadata": {},
   "outputs": [
    {
     "data": {
      "text/plain": [
       "False"
      ]
     },
     "execution_count": 41,
     "metadata": {},
     "output_type": "execute_result"
    }
   ],
   "source": [
    "pd.Series([False]).bool()"
   ]
  },
  {
   "cell_type": "code",
   "execution_count": 42,
   "id": "c0aec756-e8f2-4d95-909e-8bb754e14a4b",
   "metadata": {},
   "outputs": [
    {
     "data": {
      "text/plain": [
       "True"
      ]
     },
     "execution_count": 42,
     "metadata": {},
     "output_type": "execute_result"
    }
   ],
   "source": [
    "pd.DataFrame([[True]]).bool()"
   ]
  },
  {
   "cell_type": "code",
   "execution_count": 43,
   "id": "abbe930c-a222-4451-b3f3-35719698aaee",
   "metadata": {},
   "outputs": [
    {
     "data": {
      "text/plain": [
       "False"
      ]
     },
     "execution_count": 43,
     "metadata": {},
     "output_type": "execute_result"
    }
   ],
   "source": [
    "pd.DataFrame([[False]]).bool()"
   ]
  },
  {
   "cell_type": "markdown",
   "id": "595b9218-abbe-4cbb-8f34-798e3b06b453",
   "metadata": {},
   "source": [
    ">Warning\n",
    ">\n",
    ">You might be tempted to do the following:\n",
    "```python\n",
    ">>> if df:\n",
    "...     pass\n",
    "```\n",
    "Or\n",
    "```python\n",
    ">>> df and df2\n",
    "```\n",
    "These will both raise errors, as you are trying to compare multiple values.:\n",
    "\n",
    "```python\n",
    "ValueError: The truth value of an array is ambiguous. Use a.empty, a.any() or a.all().\n",
    "```\n",
    "See gotchas for a more detailed discussion.\n",
    "\n",
    "### Comparing if objects are equivalent\n",
    "Often you may find that there is more than one way to compute the same result. As a simple example, consider df + df and df * 2. To test that these two computations produce the same result, given the tools shown above, you might imagine using (df + df == df * 2).all(). But in fact, this expression is False:"
   ]
  },
  {
   "cell_type": "code",
   "execution_count": 44,
   "id": "72443e12-fcfc-48e2-ac3b-e100a089018e",
   "metadata": {},
   "outputs": [
    {
     "data": {
      "text/html": [
       "<div>\n",
       "<style scoped>\n",
       "    .dataframe tbody tr th:only-of-type {\n",
       "        vertical-align: middle;\n",
       "    }\n",
       "\n",
       "    .dataframe tbody tr th {\n",
       "        vertical-align: top;\n",
       "    }\n",
       "\n",
       "    .dataframe thead th {\n",
       "        text-align: right;\n",
       "    }\n",
       "</style>\n",
       "<table border=\"1\" class=\"dataframe\">\n",
       "  <thead>\n",
       "    <tr style=\"text-align: right;\">\n",
       "      <th></th>\n",
       "      <th>one</th>\n",
       "      <th>two</th>\n",
       "      <th>three</th>\n",
       "    </tr>\n",
       "  </thead>\n",
       "  <tbody>\n",
       "    <tr>\n",
       "      <th>a</th>\n",
       "      <td>True</td>\n",
       "      <td>True</td>\n",
       "      <td>False</td>\n",
       "    </tr>\n",
       "    <tr>\n",
       "      <th>b</th>\n",
       "      <td>True</td>\n",
       "      <td>True</td>\n",
       "      <td>True</td>\n",
       "    </tr>\n",
       "    <tr>\n",
       "      <th>c</th>\n",
       "      <td>True</td>\n",
       "      <td>True</td>\n",
       "      <td>True</td>\n",
       "    </tr>\n",
       "    <tr>\n",
       "      <th>d</th>\n",
       "      <td>False</td>\n",
       "      <td>True</td>\n",
       "      <td>True</td>\n",
       "    </tr>\n",
       "  </tbody>\n",
       "</table>\n",
       "</div>"
      ],
      "text/plain": [
       "     one   two  three\n",
       "a   True  True  False\n",
       "b   True  True   True\n",
       "c   True  True   True\n",
       "d  False  True   True"
      ]
     },
     "execution_count": 44,
     "metadata": {},
     "output_type": "execute_result"
    }
   ],
   "source": [
    "df + df == df * 2"
   ]
  },
  {
   "cell_type": "code",
   "execution_count": 45,
   "id": "d0471ff3-f50d-4eb5-94ad-0c5e319218bd",
   "metadata": {},
   "outputs": [
    {
     "data": {
      "text/plain": [
       "one      False\n",
       "two       True\n",
       "three    False\n",
       "dtype: bool"
      ]
     },
     "execution_count": 45,
     "metadata": {},
     "output_type": "execute_result"
    }
   ],
   "source": [
    "(df + df == df * 2).all()"
   ]
  },
  {
   "cell_type": "markdown",
   "id": "7bbc16fb-5361-4321-85be-745b4c0c02c2",
   "metadata": {},
   "source": [
    "Notice that the boolean DataFrame df + df == df * 2 contains some False values! This is because NaNs do not compare as equals:"
   ]
  },
  {
   "cell_type": "code",
   "execution_count": 46,
   "id": "7728da90-398b-43b4-bd7f-058f6d32084f",
   "metadata": {},
   "outputs": [
    {
     "data": {
      "text/plain": [
       "False"
      ]
     },
     "execution_count": 46,
     "metadata": {},
     "output_type": "execute_result"
    }
   ],
   "source": [
    "np.nan == np.nan"
   ]
  },
  {
   "cell_type": "markdown",
   "id": "a27a3f6c-e4ea-4eb0-bbf3-ced405628650",
   "metadata": {},
   "source": [
    "So, NDFrames (such as Series and DataFrames) have an equals() method for testing equality, with NaNs in corresponding locations treated as equal."
   ]
  },
  {
   "cell_type": "code",
   "execution_count": 47,
   "id": "87279ecf-9b61-4fcf-819b-4b082e44c979",
   "metadata": {},
   "outputs": [
    {
     "data": {
      "text/plain": [
       "True"
      ]
     },
     "execution_count": 47,
     "metadata": {},
     "output_type": "execute_result"
    }
   ],
   "source": [
    "(df + df).equals(df * 2)"
   ]
  },
  {
   "cell_type": "markdown",
   "id": "a51b6d56-06fd-4fa2-92a1-87fd38b777cd",
   "metadata": {},
   "source": [
    "Note that the Series or DataFrame index needs to be in the same order for equality to be True:"
   ]
  },
  {
   "cell_type": "code",
   "execution_count": 48,
   "id": "184e83a9-36dd-4973-81a8-640a8db9af23",
   "metadata": {},
   "outputs": [],
   "source": [
    "df1 = pd.DataFrame({\"col\": [\"foo\", 0, np.nan]})"
   ]
  },
  {
   "cell_type": "code",
   "execution_count": 49,
   "id": "384ff535-ae69-4f1a-b9fe-3457e435594b",
   "metadata": {},
   "outputs": [],
   "source": [
    "df2 = pd.DataFrame({\"col\": [np.nan, 0, \"foo\"]}, index=[2, 1, 0])"
   ]
  },
  {
   "cell_type": "code",
   "execution_count": 50,
   "id": "d630fede-47a9-4a3f-bf9c-3f99946c404b",
   "metadata": {},
   "outputs": [
    {
     "data": {
      "text/plain": [
       "False"
      ]
     },
     "execution_count": 50,
     "metadata": {},
     "output_type": "execute_result"
    }
   ],
   "source": [
    "df1.equals(df2)"
   ]
  },
  {
   "cell_type": "code",
   "execution_count": 51,
   "id": "e1975dbd-e062-4c2f-b449-664721784f8e",
   "metadata": {},
   "outputs": [
    {
     "data": {
      "text/plain": [
       "True"
      ]
     },
     "execution_count": 51,
     "metadata": {},
     "output_type": "execute_result"
    }
   ],
   "source": [
    "df1.equals(df2.sort_index())"
   ]
  },
  {
   "cell_type": "markdown",
   "id": "8e080863-3814-4465-ac98-7c98d67489b8",
   "metadata": {},
   "source": [
    "### Comparing array-like objects\n",
    "You can conveniently perform element-wise comparisons when comparing a pandas data structure with a scalar value:"
   ]
  },
  {
   "cell_type": "code",
   "execution_count": 52,
   "id": "efd2a8b3-b2a3-4a37-847f-79ade1f7128a",
   "metadata": {},
   "outputs": [
    {
     "data": {
      "text/plain": [
       "0     True\n",
       "1    False\n",
       "2    False\n",
       "dtype: bool"
      ]
     },
     "execution_count": 52,
     "metadata": {},
     "output_type": "execute_result"
    }
   ],
   "source": [
    "pd.Series([\"foo\", \"bar\", \"baz\"]) == \"foo\""
   ]
  },
  {
   "cell_type": "code",
   "execution_count": 53,
   "id": "626b06b7-cd34-4158-a5b4-dfba88783106",
   "metadata": {},
   "outputs": [
    {
     "data": {
      "text/plain": [
       "array([ True, False, False])"
      ]
     },
     "execution_count": 53,
     "metadata": {},
     "output_type": "execute_result"
    }
   ],
   "source": [
    "pd.Index([\"foo\", \"bar\", \"baz\"]) == \"foo\""
   ]
  },
  {
   "cell_type": "markdown",
   "id": "e85e206f-90f1-499c-865c-af59aaacce9d",
   "metadata": {},
   "source": [
    "pandas also handles element-wise comparisons between different array-like objects of the same length:"
   ]
  },
  {
   "cell_type": "code",
   "execution_count": 54,
   "id": "fcf5de3d-f4e3-473a-8550-c4995fc2fd5f",
   "metadata": {},
   "outputs": [
    {
     "data": {
      "text/plain": [
       "0     True\n",
       "1     True\n",
       "2    False\n",
       "dtype: bool"
      ]
     },
     "execution_count": 54,
     "metadata": {},
     "output_type": "execute_result"
    }
   ],
   "source": [
    "pd.Series([\"foo\", \"bar\", \"baz\"]) == pd.Index([\"foo\", \"bar\", \"qux\"])"
   ]
  },
  {
   "cell_type": "code",
   "execution_count": 55,
   "id": "e5bac105-a8f6-4d25-b793-bafd4e091814",
   "metadata": {},
   "outputs": [
    {
     "data": {
      "text/plain": [
       "0     True\n",
       "1     True\n",
       "2    False\n",
       "dtype: bool"
      ]
     },
     "execution_count": 55,
     "metadata": {},
     "output_type": "execute_result"
    }
   ],
   "source": [
    "pd.Series([\"foo\", \"bar\", \"baz\"]) == np.array([\"foo\", \"bar\", \"qux\"])"
   ]
  },
  {
   "cell_type": "markdown",
   "id": "122afcb0-bcde-46fb-9e1a-6c5a3f688329",
   "metadata": {},
   "source": [
    "Trying to compare Index or Series objects of different lengths will raise a ValueError:"
   ]
  },
  {
   "cell_type": "code",
   "execution_count": 56,
   "id": "a2b36f82-0328-4468-856e-efed0c3b3bdb",
   "metadata": {},
   "outputs": [
    {
     "name": "stdout",
     "output_type": "stream",
     "text": [
      "Unexpected error: <class 'ValueError'>\n"
     ]
    }
   ],
   "source": [
    "import sys\n",
    "try:\n",
    "    pd.Series(['foo', 'bar', 'baz']) == pd.Series(['foo', 'bar'])\n",
    "except:\n",
    "    print(\"Unexpected error:\", sys.exc_info()[0])"
   ]
  },
  {
   "cell_type": "code",
   "execution_count": 57,
   "id": "a2b5a8d8-7f6a-4f41-a3c6-7e2802866c1b",
   "metadata": {},
   "outputs": [
    {
     "name": "stdout",
     "output_type": "stream",
     "text": [
      "Unexpected error: <class 'ValueError'>\n"
     ]
    }
   ],
   "source": [
    "import sys\n",
    "try:\n",
    "    pd.Series(['foo', 'bar', 'baz']) == pd.Series(['foo'])\n",
    "except:\n",
    "    print(\"Unexpected error:\", sys.exc_info()[0])"
   ]
  },
  {
   "cell_type": "markdown",
   "id": "b731c596-17a6-4873-b279-c004494a40b6",
   "metadata": {},
   "source": [
    "Note that this is different from the NumPy behavior where a comparison can be broadcast:"
   ]
  },
  {
   "cell_type": "code",
   "execution_count": 58,
   "id": "86f41667-727c-4a4c-a2ac-dfbfba1e388c",
   "metadata": {},
   "outputs": [
    {
     "data": {
      "text/plain": [
       "array([False,  True, False])"
      ]
     },
     "execution_count": 58,
     "metadata": {},
     "output_type": "execute_result"
    }
   ],
   "source": [
    "np.array([1, 2, 3]) == np.array([2])"
   ]
  },
  {
   "cell_type": "markdown",
   "id": "19f76034-165a-45db-aa8f-633704791a77",
   "metadata": {},
   "source": [
    "or it can return False if broadcasting can not be done:"
   ]
  },
  {
   "cell_type": "code",
   "execution_count": 59,
   "id": "2b8d4533-e7a3-430c-9880-b624b931635f",
   "metadata": {},
   "outputs": [
    {
     "name": "stderr",
     "output_type": "stream",
     "text": [
      "<ipython-input-59-7a76bc07877c>:1: DeprecationWarning: elementwise comparison failed; this will raise an error in the future.\n",
      "  np.array([1, 2, 3]) == np.array([1, 2])\n"
     ]
    },
    {
     "data": {
      "text/plain": [
       "False"
      ]
     },
     "execution_count": 59,
     "metadata": {},
     "output_type": "execute_result"
    }
   ],
   "source": [
    "np.array([1, 2, 3]) == np.array([1, 2])"
   ]
  },
  {
   "cell_type": "markdown",
   "id": "6cd3a26f-5790-4b7d-a3da-8c750a4abfe5",
   "metadata": {},
   "source": [
    "### Combining overlapping data sets\n",
    "A problem occasionally arising is the combination of two similar data sets where values in one are preferred over the other. An example would be two data series representing a particular economic indicator where one is considered to be of “higher quality”. However, the lower quality series might extend further back in history or have more complete data coverage. As such, we would like to combine two DataFrame objects where missing values in one DataFrame are conditionally filled with like-labeled values from the other DataFrame. The function implementing this operation is combine_first(), which we illustrate:"
   ]
  },
  {
   "cell_type": "code",
   "execution_count": 60,
   "id": "ddcd2d28-d630-4e71-8d18-4277af3cb74e",
   "metadata": {},
   "outputs": [
    {
     "name": "stdout",
     "output_type": "stream",
     "text": [
      "     A    B\n",
      "0  1.0  NaN\n",
      "1  NaN  2.0\n",
      "2  3.0  3.0\n",
      "3  5.0  NaN\n",
      "4  NaN  6.0\n"
     ]
    }
   ],
   "source": [
    "df1 = pd.DataFrame(\n",
    "    {\"A\": [1.0, np.nan, 3.0, 5.0, np.nan], \"B\": [np.nan, 2.0, 3.0, np.nan, 6.0]}\n",
    ")\n",
    "print(df1)"
   ]
  },
  {
   "cell_type": "code",
   "execution_count": 61,
   "id": "6203cb74-541e-432a-9bca-1d55ca250b7e",
   "metadata": {},
   "outputs": [
    {
     "name": "stdout",
     "output_type": "stream",
     "text": [
      "     A    B\n",
      "0  5.0  NaN\n",
      "1  2.0  NaN\n",
      "2  4.0  3.0\n",
      "3  NaN  4.0\n",
      "4  3.0  6.0\n",
      "5  7.0  8.0\n"
     ]
    }
   ],
   "source": [
    "df2 = pd.DataFrame(\n",
    "    {\n",
    "        \"A\": [5.0, 2.0, 4.0, np.nan, 3.0, 7.0],\n",
    "        \"B\": [np.nan, np.nan, 3.0, 4.0, 6.0, 8.0],        \n",
    "    }\n",
    ")\n",
    "print(df2)"
   ]
  },
  {
   "cell_type": "code",
   "execution_count": 62,
   "id": "01c3dd1a-26cc-4d8c-a765-3ccf432d9e30",
   "metadata": {},
   "outputs": [
    {
     "data": {
      "text/html": [
       "<div>\n",
       "<style scoped>\n",
       "    .dataframe tbody tr th:only-of-type {\n",
       "        vertical-align: middle;\n",
       "    }\n",
       "\n",
       "    .dataframe tbody tr th {\n",
       "        vertical-align: top;\n",
       "    }\n",
       "\n",
       "    .dataframe thead th {\n",
       "        text-align: right;\n",
       "    }\n",
       "</style>\n",
       "<table border=\"1\" class=\"dataframe\">\n",
       "  <thead>\n",
       "    <tr style=\"text-align: right;\">\n",
       "      <th></th>\n",
       "      <th>A</th>\n",
       "      <th>B</th>\n",
       "    </tr>\n",
       "  </thead>\n",
       "  <tbody>\n",
       "    <tr>\n",
       "      <th>0</th>\n",
       "      <td>1.0</td>\n",
       "      <td>NaN</td>\n",
       "    </tr>\n",
       "    <tr>\n",
       "      <th>1</th>\n",
       "      <td>2.0</td>\n",
       "      <td>2.0</td>\n",
       "    </tr>\n",
       "    <tr>\n",
       "      <th>2</th>\n",
       "      <td>3.0</td>\n",
       "      <td>3.0</td>\n",
       "    </tr>\n",
       "    <tr>\n",
       "      <th>3</th>\n",
       "      <td>5.0</td>\n",
       "      <td>4.0</td>\n",
       "    </tr>\n",
       "    <tr>\n",
       "      <th>4</th>\n",
       "      <td>3.0</td>\n",
       "      <td>6.0</td>\n",
       "    </tr>\n",
       "    <tr>\n",
       "      <th>5</th>\n",
       "      <td>7.0</td>\n",
       "      <td>8.0</td>\n",
       "    </tr>\n",
       "  </tbody>\n",
       "</table>\n",
       "</div>"
      ],
      "text/plain": [
       "     A    B\n",
       "0  1.0  NaN\n",
       "1  2.0  2.0\n",
       "2  3.0  3.0\n",
       "3  5.0  4.0\n",
       "4  3.0  6.0\n",
       "5  7.0  8.0"
      ]
     },
     "execution_count": 62,
     "metadata": {},
     "output_type": "execute_result"
    }
   ],
   "source": [
    "df1.combine_first(df2)"
   ]
  },
  {
   "cell_type": "markdown",
   "id": "73420935-aac2-4056-9a95-62ba077b960b",
   "metadata": {},
   "source": [
    "### General DataFrame combine\n",
    "The combine_first() method above calls the more general DataFrame.combine(). This method takes another DataFrame and a combiner function, aligns the input DataFrame and then passes the combiner function pairs of Series (i.e., columns whose names are the same).\n",
    "\n",
    "So, for instance, to reproduce combine_first() as above:"
   ]
  },
  {
   "cell_type": "code",
   "execution_count": 63,
   "id": "50ed12ce-25d2-4765-b031-7b4bddb6a86d",
   "metadata": {},
   "outputs": [
    {
     "data": {
      "text/html": [
       "<div>\n",
       "<style scoped>\n",
       "    .dataframe tbody tr th:only-of-type {\n",
       "        vertical-align: middle;\n",
       "    }\n",
       "\n",
       "    .dataframe tbody tr th {\n",
       "        vertical-align: top;\n",
       "    }\n",
       "\n",
       "    .dataframe thead th {\n",
       "        text-align: right;\n",
       "    }\n",
       "</style>\n",
       "<table border=\"1\" class=\"dataframe\">\n",
       "  <thead>\n",
       "    <tr style=\"text-align: right;\">\n",
       "      <th></th>\n",
       "      <th>A</th>\n",
       "      <th>B</th>\n",
       "    </tr>\n",
       "  </thead>\n",
       "  <tbody>\n",
       "    <tr>\n",
       "      <th>0</th>\n",
       "      <td>1.0</td>\n",
       "      <td>NaN</td>\n",
       "    </tr>\n",
       "    <tr>\n",
       "      <th>1</th>\n",
       "      <td>2.0</td>\n",
       "      <td>2.0</td>\n",
       "    </tr>\n",
       "    <tr>\n",
       "      <th>2</th>\n",
       "      <td>3.0</td>\n",
       "      <td>3.0</td>\n",
       "    </tr>\n",
       "    <tr>\n",
       "      <th>3</th>\n",
       "      <td>5.0</td>\n",
       "      <td>4.0</td>\n",
       "    </tr>\n",
       "    <tr>\n",
       "      <th>4</th>\n",
       "      <td>3.0</td>\n",
       "      <td>6.0</td>\n",
       "    </tr>\n",
       "    <tr>\n",
       "      <th>5</th>\n",
       "      <td>7.0</td>\n",
       "      <td>8.0</td>\n",
       "    </tr>\n",
       "  </tbody>\n",
       "</table>\n",
       "</div>"
      ],
      "text/plain": [
       "     A    B\n",
       "0  1.0  NaN\n",
       "1  2.0  2.0\n",
       "2  3.0  3.0\n",
       "3  5.0  4.0\n",
       "4  3.0  6.0\n",
       "5  7.0  8.0"
      ]
     },
     "execution_count": 63,
     "metadata": {},
     "output_type": "execute_result"
    }
   ],
   "source": [
    "def combiner(x, y):\n",
    "    return np.where(pd.isna(x), y, x)\n",
    "df1.combine(df2, combiner)"
   ]
  },
  {
   "cell_type": "markdown",
   "id": "2c867d41-0964-4c44-894e-9943626ab765",
   "metadata": {},
   "source": [
    "## Descriptive statistics\n",
    "There exists a large number of methods for computing descriptive statistics and other related operations on Series, DataFrame. Most of these are aggregations (hence producing a lower-dimensional result) like sum(), mean(), and quantile(), but some of them, like cumsum() and cumprod(), produce an object of the same size. Generally speaking, these methods take an axis argument, just like ndarray.{sum, std, …}, but the axis can be specified by name or integer:\n",
    "\n",
    "* **Series**: no axis argument needed\n",
    "* **DataFrame**: “index” (axis=0, default), “columns” (axis=1)\n",
    "\n",
    "For example:"
   ]
  },
  {
   "cell_type": "code",
   "execution_count": 64,
   "id": "d2bddad9-4852-4b3c-aeeb-ba4f67e13874",
   "metadata": {},
   "outputs": [
    {
     "data": {
      "text/html": [
       "<div>\n",
       "<style scoped>\n",
       "    .dataframe tbody tr th:only-of-type {\n",
       "        vertical-align: middle;\n",
       "    }\n",
       "\n",
       "    .dataframe tbody tr th {\n",
       "        vertical-align: top;\n",
       "    }\n",
       "\n",
       "    .dataframe thead th {\n",
       "        text-align: right;\n",
       "    }\n",
       "</style>\n",
       "<table border=\"1\" class=\"dataframe\">\n",
       "  <thead>\n",
       "    <tr style=\"text-align: right;\">\n",
       "      <th></th>\n",
       "      <th>one</th>\n",
       "      <th>two</th>\n",
       "      <th>three</th>\n",
       "    </tr>\n",
       "  </thead>\n",
       "  <tbody>\n",
       "    <tr>\n",
       "      <th>a</th>\n",
       "      <td>0.274727</td>\n",
       "      <td>-1.238931</td>\n",
       "      <td>NaN</td>\n",
       "    </tr>\n",
       "    <tr>\n",
       "      <th>b</th>\n",
       "      <td>1.333173</td>\n",
       "      <td>-0.655718</td>\n",
       "      <td>-0.143628</td>\n",
       "    </tr>\n",
       "    <tr>\n",
       "      <th>c</th>\n",
       "      <td>1.313766</td>\n",
       "      <td>0.487951</td>\n",
       "      <td>0.550513</td>\n",
       "    </tr>\n",
       "    <tr>\n",
       "      <th>d</th>\n",
       "      <td>NaN</td>\n",
       "      <td>0.711664</td>\n",
       "      <td>0.294667</td>\n",
       "    </tr>\n",
       "  </tbody>\n",
       "</table>\n",
       "</div>"
      ],
      "text/plain": [
       "        one       two     three\n",
       "a  0.274727 -1.238931       NaN\n",
       "b  1.333173 -0.655718 -0.143628\n",
       "c  1.313766  0.487951  0.550513\n",
       "d       NaN  0.711664  0.294667"
      ]
     },
     "execution_count": 64,
     "metadata": {},
     "output_type": "execute_result"
    }
   ],
   "source": [
    "df"
   ]
  },
  {
   "cell_type": "code",
   "execution_count": 65,
   "id": "d931c5d8-7531-4fa1-97ab-19b1bb58ded2",
   "metadata": {},
   "outputs": [
    {
     "data": {
      "text/plain": [
       "one      0.973889\n",
       "two     -0.173759\n",
       "three    0.233851\n",
       "dtype: float64"
      ]
     },
     "execution_count": 65,
     "metadata": {},
     "output_type": "execute_result"
    }
   ],
   "source": [
    "df.mean(0)"
   ]
  },
  {
   "cell_type": "code",
   "execution_count": 66,
   "id": "6a134dec-ac34-4c34-a672-48ce0e402734",
   "metadata": {},
   "outputs": [
    {
     "data": {
      "text/plain": [
       "a   -0.482102\n",
       "b    0.177943\n",
       "c    0.784077\n",
       "d    0.503165\n",
       "dtype: float64"
      ]
     },
     "execution_count": 66,
     "metadata": {},
     "output_type": "execute_result"
    }
   ],
   "source": [
    "df.mean(1)"
   ]
  },
  {
   "cell_type": "markdown",
   "id": "355dfe93-6461-42ce-941e-58a65c834484",
   "metadata": {},
   "source": [
    "All such methods have a skipna option signaling whether to exclude missing data (True by default):"
   ]
  },
  {
   "cell_type": "code",
   "execution_count": 67,
   "id": "40baffd9-6c0a-428a-969c-84a7ff6c06a4",
   "metadata": {},
   "outputs": [
    {
     "data": {
      "text/plain": [
       "one           NaN\n",
       "two     -0.695035\n",
       "three         NaN\n",
       "dtype: float64"
      ]
     },
     "execution_count": 67,
     "metadata": {},
     "output_type": "execute_result"
    }
   ],
   "source": [
    "df.sum(0, skipna=False)"
   ]
  },
  {
   "cell_type": "code",
   "execution_count": 68,
   "id": "ef456845-2ea0-465e-99a7-7ed86836e908",
   "metadata": {},
   "outputs": [
    {
     "data": {
      "text/plain": [
       "a   -0.964205\n",
       "b    0.533828\n",
       "c    2.352230\n",
       "d    1.006331\n",
       "dtype: float64"
      ]
     },
     "execution_count": 68,
     "metadata": {},
     "output_type": "execute_result"
    }
   ],
   "source": [
    "df.sum(axis=1, skipna=True)"
   ]
  },
  {
   "cell_type": "markdown",
   "id": "359d70cd-b4af-4571-bc89-4d77b20f52ac",
   "metadata": {},
   "source": [
    "Combined with the broadcasting / arithmetic behavior, one can describe various statistical procedures, like standardization (rendering data zero mean and standard deviation of 1), very concisely:"
   ]
  },
  {
   "cell_type": "code",
   "execution_count": 69,
   "id": "e4aaaacd-825f-44d2-b60a-14e734829b37",
   "metadata": {},
   "outputs": [
    {
     "data": {
      "text/plain": [
       "one      1.0\n",
       "two      1.0\n",
       "three    1.0\n",
       "dtype: float64"
      ]
     },
     "execution_count": 69,
     "metadata": {},
     "output_type": "execute_result"
    }
   ],
   "source": [
    "ts_stand = (df - df.mean()) / df.std()\n",
    "ts_stand.std()"
   ]
  },
  {
   "cell_type": "code",
   "execution_count": 70,
   "id": "10286839-2883-4c03-b6db-2f242b618c71",
   "metadata": {},
   "outputs": [
    {
     "data": {
      "text/plain": [
       "a    1.0\n",
       "b    1.0\n",
       "c    1.0\n",
       "d    1.0\n",
       "dtype: float64"
      ]
     },
     "execution_count": 70,
     "metadata": {},
     "output_type": "execute_result"
    }
   ],
   "source": [
    "xs_stand = df.sub(df.mean(1), axis=0).div(df.std(1), axis=0)\n",
    "xs_stand.std(1)"
   ]
  },
  {
   "cell_type": "markdown",
   "id": "8172b4bc-917f-4b27-8f85-9f5ec135312d",
   "metadata": {},
   "source": [
    "Note that methods like cumsum() and cumprod() preserve the location of NaN values. This is somewhat different from expanding() and rolling() since NaN behavior is furthermore dictated by a min_periods parameter."
   ]
  },
  {
   "cell_type": "code",
   "execution_count": 71,
   "id": "656e01f7-8649-4e56-af94-42892b82d7a4",
   "metadata": {},
   "outputs": [
    {
     "data": {
      "text/html": [
       "<div>\n",
       "<style scoped>\n",
       "    .dataframe tbody tr th:only-of-type {\n",
       "        vertical-align: middle;\n",
       "    }\n",
       "\n",
       "    .dataframe tbody tr th {\n",
       "        vertical-align: top;\n",
       "    }\n",
       "\n",
       "    .dataframe thead th {\n",
       "        text-align: right;\n",
       "    }\n",
       "</style>\n",
       "<table border=\"1\" class=\"dataframe\">\n",
       "  <thead>\n",
       "    <tr style=\"text-align: right;\">\n",
       "      <th></th>\n",
       "      <th>one</th>\n",
       "      <th>two</th>\n",
       "      <th>three</th>\n",
       "    </tr>\n",
       "  </thead>\n",
       "  <tbody>\n",
       "    <tr>\n",
       "      <th>a</th>\n",
       "      <td>0.274727</td>\n",
       "      <td>-1.238931</td>\n",
       "      <td>NaN</td>\n",
       "    </tr>\n",
       "    <tr>\n",
       "      <th>b</th>\n",
       "      <td>1.607900</td>\n",
       "      <td>-1.894649</td>\n",
       "      <td>-0.143628</td>\n",
       "    </tr>\n",
       "    <tr>\n",
       "      <th>c</th>\n",
       "      <td>2.921666</td>\n",
       "      <td>-1.406699</td>\n",
       "      <td>0.406885</td>\n",
       "    </tr>\n",
       "    <tr>\n",
       "      <th>d</th>\n",
       "      <td>NaN</td>\n",
       "      <td>-0.695035</td>\n",
       "      <td>0.701552</td>\n",
       "    </tr>\n",
       "  </tbody>\n",
       "</table>\n",
       "</div>"
      ],
      "text/plain": [
       "        one       two     three\n",
       "a  0.274727 -1.238931       NaN\n",
       "b  1.607900 -1.894649 -0.143628\n",
       "c  2.921666 -1.406699  0.406885\n",
       "d       NaN -0.695035  0.701552"
      ]
     },
     "execution_count": 71,
     "metadata": {},
     "output_type": "execute_result"
    }
   ],
   "source": [
    "df.cumsum()"
   ]
  },
  {
   "cell_type": "markdown",
   "id": "a7bc0671-d617-40bd-b77b-36856be3c105",
   "metadata": {},
   "source": [
    "Here is a quick reference summary table of common functions. Each also takes an optional level parameter which applies only if the object has a hierarchical index."
   ]
  },
  {
   "cell_type": "markdown",
   "id": "56ef2ff7-59ff-499d-bc69-7680864687cd",
   "metadata": {},
   "source": [
    "| Function | Description                                |\n",
    "|----------|--------------------------------------------|\n",
    "| count    | Number of non-NA observations              |\n",
    "| sum      | Sum of values                              |\n",
    "| mean     | Mean of values                             |\n",
    "| mad      | Mean absolute deviation                    |\n",
    "| median   | Arithmetic median of values                |\n",
    "| min      | Minimum                                    |\n",
    "| max      | Maximum                                    |\n",
    "| mode     | Mode                                       |\n",
    "| abs      | Absolute Value                             |\n",
    "| prod     | Product of values                          |\n",
    "| std      | Bessel-corrected sample standard deviation |\n",
    "| var      | Unbiased variance                          |\n",
    "| sem      | Standard error of the mean                 |\n",
    "| skew     | Sample skewness (3rd moment)               |\n",
    "| kurt     | Sample kurtosis (4th moment)               |\n",
    "| quantile | Sample quantile (value at %)               |\n",
    "| cumsum   | Cumulative sum                             |\n",
    "| cumprod  | Cumulative product                         |\n",
    "| cummax   | Cumulative maximum                         |\n",
    "| cummin   | Cumulative minimum                         |\n",
    "\n",
    "Note that by chance some NumPy methods, like mean, std, and sum, will exclude NAs on Series input by default:"
   ]
  },
  {
   "cell_type": "code",
   "execution_count": 72,
   "id": "97c5b455-3550-4d11-be94-e56957ae598b",
   "metadata": {},
   "outputs": [
    {
     "data": {
      "text/plain": [
       "0.9738887079748525"
      ]
     },
     "execution_count": 72,
     "metadata": {},
     "output_type": "execute_result"
    }
   ],
   "source": [
    "np.mean(df[\"one\"])"
   ]
  },
  {
   "cell_type": "code",
   "execution_count": 73,
   "id": "c9fd8b3c-b30c-41c6-915c-58301d401801",
   "metadata": {},
   "outputs": [
    {
     "data": {
      "text/plain": [
       "nan"
      ]
     },
     "execution_count": 73,
     "metadata": {},
     "output_type": "execute_result"
    }
   ],
   "source": [
    "np.mean(df[\"one\"].to_numpy())"
   ]
  },
  {
   "cell_type": "markdown",
   "id": "94a7c0c1-d79a-4950-af91-cd61976b3a9e",
   "metadata": {},
   "source": [
    "Series.nunique() will return the number of unique non-NA values in a Series:"
   ]
  },
  {
   "cell_type": "code",
   "execution_count": 74,
   "id": "c554a153-235e-4a20-8e73-5ad82bbb1888",
   "metadata": {},
   "outputs": [
    {
     "data": {
      "text/plain": [
       "11"
      ]
     },
     "execution_count": 74,
     "metadata": {},
     "output_type": "execute_result"
    }
   ],
   "source": [
    "series = pd.Series(np.random.randn(500))\n",
    "series[20:500] = np.nan\n",
    "series[10:20] = 5\n",
    "series.nunique()"
   ]
  },
  {
   "cell_type": "markdown",
   "id": "07b1ca97-71a4-4833-a103-c9f22b6345ab",
   "metadata": {},
   "source": [
    "### Summarizing data: describe\n",
    "There is a convenient describe() function which computes a variety of summary statistics about a Series or the columns of a DataFrame (excluding NAs of course):"
   ]
  },
  {
   "cell_type": "code",
   "execution_count": 75,
   "id": "9e2c0800-72b6-4787-b60d-4c337b3b29b6",
   "metadata": {},
   "outputs": [
    {
     "data": {
      "text/plain": [
       "count    500.000000\n",
       "mean      -0.011051\n",
       "std        1.046136\n",
       "min       -2.977575\n",
       "25%       -0.762479\n",
       "50%       -0.032424\n",
       "75%        0.699248\n",
       "max        3.199840\n",
       "dtype: float64"
      ]
     },
     "execution_count": 75,
     "metadata": {},
     "output_type": "execute_result"
    }
   ],
   "source": [
    "series = pd.Series(np.random.randn(1000))\n",
    "series[::2] = np.nan\n",
    "series.describe()"
   ]
  },
  {
   "cell_type": "code",
   "execution_count": 76,
   "id": "803357ce-3dbd-475b-ba88-17949a508983",
   "metadata": {},
   "outputs": [
    {
     "data": {
      "text/html": [
       "<div>\n",
       "<style scoped>\n",
       "    .dataframe tbody tr th:only-of-type {\n",
       "        vertical-align: middle;\n",
       "    }\n",
       "\n",
       "    .dataframe tbody tr th {\n",
       "        vertical-align: top;\n",
       "    }\n",
       "\n",
       "    .dataframe thead th {\n",
       "        text-align: right;\n",
       "    }\n",
       "</style>\n",
       "<table border=\"1\" class=\"dataframe\">\n",
       "  <thead>\n",
       "    <tr style=\"text-align: right;\">\n",
       "      <th></th>\n",
       "      <th>a</th>\n",
       "      <th>b</th>\n",
       "      <th>c</th>\n",
       "      <th>d</th>\n",
       "      <th>e</th>\n",
       "    </tr>\n",
       "  </thead>\n",
       "  <tbody>\n",
       "    <tr>\n",
       "      <th>count</th>\n",
       "      <td>500.000000</td>\n",
       "      <td>500.000000</td>\n",
       "      <td>500.000000</td>\n",
       "      <td>500.000000</td>\n",
       "      <td>500.000000</td>\n",
       "    </tr>\n",
       "    <tr>\n",
       "      <th>mean</th>\n",
       "      <td>0.017992</td>\n",
       "      <td>0.029647</td>\n",
       "      <td>0.119453</td>\n",
       "      <td>-0.035547</td>\n",
       "      <td>-0.106120</td>\n",
       "    </tr>\n",
       "    <tr>\n",
       "      <th>std</th>\n",
       "      <td>0.967282</td>\n",
       "      <td>1.029362</td>\n",
       "      <td>1.012625</td>\n",
       "      <td>1.050942</td>\n",
       "      <td>0.975553</td>\n",
       "    </tr>\n",
       "    <tr>\n",
       "      <th>min</th>\n",
       "      <td>-2.429981</td>\n",
       "      <td>-2.861498</td>\n",
       "      <td>-3.015654</td>\n",
       "      <td>-2.901902</td>\n",
       "      <td>-3.235154</td>\n",
       "    </tr>\n",
       "    <tr>\n",
       "      <th>25%</th>\n",
       "      <td>-0.700459</td>\n",
       "      <td>-0.698175</td>\n",
       "      <td>-0.555610</td>\n",
       "      <td>-0.839201</td>\n",
       "      <td>-0.749462</td>\n",
       "    </tr>\n",
       "    <tr>\n",
       "      <th>50%</th>\n",
       "      <td>-0.011764</td>\n",
       "      <td>0.028207</td>\n",
       "      <td>0.154218</td>\n",
       "      <td>-0.054118</td>\n",
       "      <td>-0.114441</td>\n",
       "    </tr>\n",
       "    <tr>\n",
       "      <th>75%</th>\n",
       "      <td>0.709106</td>\n",
       "      <td>0.725974</td>\n",
       "      <td>0.821944</td>\n",
       "      <td>0.734227</td>\n",
       "      <td>0.579586</td>\n",
       "    </tr>\n",
       "    <tr>\n",
       "      <th>max</th>\n",
       "      <td>4.200577</td>\n",
       "      <td>2.971086</td>\n",
       "      <td>3.332716</td>\n",
       "      <td>2.845864</td>\n",
       "      <td>2.948001</td>\n",
       "    </tr>\n",
       "  </tbody>\n",
       "</table>\n",
       "</div>"
      ],
      "text/plain": [
       "                a           b           c           d           e\n",
       "count  500.000000  500.000000  500.000000  500.000000  500.000000\n",
       "mean     0.017992    0.029647    0.119453   -0.035547   -0.106120\n",
       "std      0.967282    1.029362    1.012625    1.050942    0.975553\n",
       "min     -2.429981   -2.861498   -3.015654   -2.901902   -3.235154\n",
       "25%     -0.700459   -0.698175   -0.555610   -0.839201   -0.749462\n",
       "50%     -0.011764    0.028207    0.154218   -0.054118   -0.114441\n",
       "75%      0.709106    0.725974    0.821944    0.734227    0.579586\n",
       "max      4.200577    2.971086    3.332716    2.845864    2.948001"
      ]
     },
     "execution_count": 76,
     "metadata": {},
     "output_type": "execute_result"
    }
   ],
   "source": [
    "frame = pd.DataFrame(np.random.randn(1000, 5), columns=[\"a\", \"b\", \"c\", \"d\", \"e\"])\n",
    "frame.iloc[::2] = np.nan\n",
    "frame.describe()"
   ]
  },
  {
   "cell_type": "markdown",
   "id": "9cfa76db-090f-4a15-80ce-29ceb49e9933",
   "metadata": {},
   "source": [
    "You can select specific percentiles to include in the output:"
   ]
  },
  {
   "cell_type": "code",
   "execution_count": 77,
   "id": "0056ee97-4043-4e32-9801-fdc8a94603cc",
   "metadata": {},
   "outputs": [
    {
     "data": {
      "text/plain": [
       "count    500.000000\n",
       "mean      -0.011051\n",
       "std        1.046136\n",
       "min       -2.977575\n",
       "5%        -1.699031\n",
       "25%       -0.762479\n",
       "50%       -0.032424\n",
       "75%        0.699248\n",
       "95%        1.756740\n",
       "max        3.199840\n",
       "dtype: float64"
      ]
     },
     "execution_count": 77,
     "metadata": {},
     "output_type": "execute_result"
    }
   ],
   "source": [
    "series.describe(percentiles=[0.05, 0.25, 0.75, 0.95])"
   ]
  },
  {
   "cell_type": "markdown",
   "id": "f757dd78-7429-433f-9e48-8db06eff8561",
   "metadata": {},
   "source": [
    "By default, the median is always included.\n",
    "\n",
    "For a non-numerical Series object, describe() will give a simple summary of the number of unique values and most frequently occurring values:"
   ]
  },
  {
   "cell_type": "code",
   "execution_count": 78,
   "id": "7c5dee1e-781a-4d09-8913-07daf22b786a",
   "metadata": {},
   "outputs": [
    {
     "data": {
      "text/plain": [
       "count     9\n",
       "unique    4\n",
       "top       a\n",
       "freq      5\n",
       "dtype: object"
      ]
     },
     "execution_count": 78,
     "metadata": {},
     "output_type": "execute_result"
    }
   ],
   "source": [
    "s = pd.Series([\"a\", \"a\", \"b\", \"b\", \"a\", \"a\", np.nan, \"c\", \"d\", \"a\"])\n",
    "s.describe()"
   ]
  },
  {
   "cell_type": "markdown",
   "id": "bccfde81-cbd3-450b-99de-1185e4526de8",
   "metadata": {},
   "source": [
    "Note that on a mixed-type DataFrame object, describe() will restrict the summary to include only numerical columns or, if none are, only categorical columns:"
   ]
  },
  {
   "cell_type": "code",
   "execution_count": 79,
   "id": "8b3f064e-2a3f-4776-b4fa-d816358b6476",
   "metadata": {},
   "outputs": [
    {
     "data": {
      "text/html": [
       "<div>\n",
       "<style scoped>\n",
       "    .dataframe tbody tr th:only-of-type {\n",
       "        vertical-align: middle;\n",
       "    }\n",
       "\n",
       "    .dataframe tbody tr th {\n",
       "        vertical-align: top;\n",
       "    }\n",
       "\n",
       "    .dataframe thead th {\n",
       "        text-align: right;\n",
       "    }\n",
       "</style>\n",
       "<table border=\"1\" class=\"dataframe\">\n",
       "  <thead>\n",
       "    <tr style=\"text-align: right;\">\n",
       "      <th></th>\n",
       "      <th>b</th>\n",
       "    </tr>\n",
       "  </thead>\n",
       "  <tbody>\n",
       "    <tr>\n",
       "      <th>count</th>\n",
       "      <td>4.000000</td>\n",
       "    </tr>\n",
       "    <tr>\n",
       "      <th>mean</th>\n",
       "      <td>1.500000</td>\n",
       "    </tr>\n",
       "    <tr>\n",
       "      <th>std</th>\n",
       "      <td>1.290994</td>\n",
       "    </tr>\n",
       "    <tr>\n",
       "      <th>min</th>\n",
       "      <td>0.000000</td>\n",
       "    </tr>\n",
       "    <tr>\n",
       "      <th>25%</th>\n",
       "      <td>0.750000</td>\n",
       "    </tr>\n",
       "    <tr>\n",
       "      <th>50%</th>\n",
       "      <td>1.500000</td>\n",
       "    </tr>\n",
       "    <tr>\n",
       "      <th>75%</th>\n",
       "      <td>2.250000</td>\n",
       "    </tr>\n",
       "    <tr>\n",
       "      <th>max</th>\n",
       "      <td>3.000000</td>\n",
       "    </tr>\n",
       "  </tbody>\n",
       "</table>\n",
       "</div>"
      ],
      "text/plain": [
       "              b\n",
       "count  4.000000\n",
       "mean   1.500000\n",
       "std    1.290994\n",
       "min    0.000000\n",
       "25%    0.750000\n",
       "50%    1.500000\n",
       "75%    2.250000\n",
       "max    3.000000"
      ]
     },
     "execution_count": 79,
     "metadata": {},
     "output_type": "execute_result"
    }
   ],
   "source": [
    "frame = pd.DataFrame({\"a\": [\"Yes\", \"Yes\", \"No\", \"No\"], \"b\": range(4)})\n",
    "frame.describe()"
   ]
  },
  {
   "cell_type": "markdown",
   "id": "a5a15efb-7dc7-4fab-999f-253a9e8075eb",
   "metadata": {},
   "source": [
    "This behavior can be controlled by providing a list of types as include/exclude arguments. The special value all can also be used:"
   ]
  },
  {
   "cell_type": "code",
   "execution_count": 80,
   "id": "bc775b97-f6c4-4c12-b89a-c2a90b540638",
   "metadata": {},
   "outputs": [
    {
     "data": {
      "text/html": [
       "<div>\n",
       "<style scoped>\n",
       "    .dataframe tbody tr th:only-of-type {\n",
       "        vertical-align: middle;\n",
       "    }\n",
       "\n",
       "    .dataframe tbody tr th {\n",
       "        vertical-align: top;\n",
       "    }\n",
       "\n",
       "    .dataframe thead th {\n",
       "        text-align: right;\n",
       "    }\n",
       "</style>\n",
       "<table border=\"1\" class=\"dataframe\">\n",
       "  <thead>\n",
       "    <tr style=\"text-align: right;\">\n",
       "      <th></th>\n",
       "      <th>a</th>\n",
       "    </tr>\n",
       "  </thead>\n",
       "  <tbody>\n",
       "    <tr>\n",
       "      <th>count</th>\n",
       "      <td>4</td>\n",
       "    </tr>\n",
       "    <tr>\n",
       "      <th>unique</th>\n",
       "      <td>2</td>\n",
       "    </tr>\n",
       "    <tr>\n",
       "      <th>top</th>\n",
       "      <td>Yes</td>\n",
       "    </tr>\n",
       "    <tr>\n",
       "      <th>freq</th>\n",
       "      <td>2</td>\n",
       "    </tr>\n",
       "  </tbody>\n",
       "</table>\n",
       "</div>"
      ],
      "text/plain": [
       "          a\n",
       "count     4\n",
       "unique    2\n",
       "top     Yes\n",
       "freq      2"
      ]
     },
     "execution_count": 80,
     "metadata": {},
     "output_type": "execute_result"
    }
   ],
   "source": [
    "frame.describe(include=[\"object\"])"
   ]
  },
  {
   "cell_type": "code",
   "execution_count": 81,
   "id": "6e0b2e5b-2987-4a07-8ce6-3a2de545204d",
   "metadata": {},
   "outputs": [
    {
     "data": {
      "text/html": [
       "<div>\n",
       "<style scoped>\n",
       "    .dataframe tbody tr th:only-of-type {\n",
       "        vertical-align: middle;\n",
       "    }\n",
       "\n",
       "    .dataframe tbody tr th {\n",
       "        vertical-align: top;\n",
       "    }\n",
       "\n",
       "    .dataframe thead th {\n",
       "        text-align: right;\n",
       "    }\n",
       "</style>\n",
       "<table border=\"1\" class=\"dataframe\">\n",
       "  <thead>\n",
       "    <tr style=\"text-align: right;\">\n",
       "      <th></th>\n",
       "      <th>b</th>\n",
       "    </tr>\n",
       "  </thead>\n",
       "  <tbody>\n",
       "    <tr>\n",
       "      <th>count</th>\n",
       "      <td>4.000000</td>\n",
       "    </tr>\n",
       "    <tr>\n",
       "      <th>mean</th>\n",
       "      <td>1.500000</td>\n",
       "    </tr>\n",
       "    <tr>\n",
       "      <th>std</th>\n",
       "      <td>1.290994</td>\n",
       "    </tr>\n",
       "    <tr>\n",
       "      <th>min</th>\n",
       "      <td>0.000000</td>\n",
       "    </tr>\n",
       "    <tr>\n",
       "      <th>25%</th>\n",
       "      <td>0.750000</td>\n",
       "    </tr>\n",
       "    <tr>\n",
       "      <th>50%</th>\n",
       "      <td>1.500000</td>\n",
       "    </tr>\n",
       "    <tr>\n",
       "      <th>75%</th>\n",
       "      <td>2.250000</td>\n",
       "    </tr>\n",
       "    <tr>\n",
       "      <th>max</th>\n",
       "      <td>3.000000</td>\n",
       "    </tr>\n",
       "  </tbody>\n",
       "</table>\n",
       "</div>"
      ],
      "text/plain": [
       "              b\n",
       "count  4.000000\n",
       "mean   1.500000\n",
       "std    1.290994\n",
       "min    0.000000\n",
       "25%    0.750000\n",
       "50%    1.500000\n",
       "75%    2.250000\n",
       "max    3.000000"
      ]
     },
     "execution_count": 81,
     "metadata": {},
     "output_type": "execute_result"
    }
   ],
   "source": [
    "frame.describe(include=[\"number\"])"
   ]
  },
  {
   "cell_type": "code",
   "execution_count": 82,
   "id": "4ffdc0ea-24d7-4bdb-9428-03244c6987f2",
   "metadata": {},
   "outputs": [
    {
     "data": {
      "text/html": [
       "<div>\n",
       "<style scoped>\n",
       "    .dataframe tbody tr th:only-of-type {\n",
       "        vertical-align: middle;\n",
       "    }\n",
       "\n",
       "    .dataframe tbody tr th {\n",
       "        vertical-align: top;\n",
       "    }\n",
       "\n",
       "    .dataframe thead th {\n",
       "        text-align: right;\n",
       "    }\n",
       "</style>\n",
       "<table border=\"1\" class=\"dataframe\">\n",
       "  <thead>\n",
       "    <tr style=\"text-align: right;\">\n",
       "      <th></th>\n",
       "      <th>a</th>\n",
       "      <th>b</th>\n",
       "    </tr>\n",
       "  </thead>\n",
       "  <tbody>\n",
       "    <tr>\n",
       "      <th>count</th>\n",
       "      <td>4</td>\n",
       "      <td>4.000000</td>\n",
       "    </tr>\n",
       "    <tr>\n",
       "      <th>unique</th>\n",
       "      <td>2</td>\n",
       "      <td>NaN</td>\n",
       "    </tr>\n",
       "    <tr>\n",
       "      <th>top</th>\n",
       "      <td>Yes</td>\n",
       "      <td>NaN</td>\n",
       "    </tr>\n",
       "    <tr>\n",
       "      <th>freq</th>\n",
       "      <td>2</td>\n",
       "      <td>NaN</td>\n",
       "    </tr>\n",
       "    <tr>\n",
       "      <th>mean</th>\n",
       "      <td>NaN</td>\n",
       "      <td>1.500000</td>\n",
       "    </tr>\n",
       "    <tr>\n",
       "      <th>std</th>\n",
       "      <td>NaN</td>\n",
       "      <td>1.290994</td>\n",
       "    </tr>\n",
       "    <tr>\n",
       "      <th>min</th>\n",
       "      <td>NaN</td>\n",
       "      <td>0.000000</td>\n",
       "    </tr>\n",
       "    <tr>\n",
       "      <th>25%</th>\n",
       "      <td>NaN</td>\n",
       "      <td>0.750000</td>\n",
       "    </tr>\n",
       "    <tr>\n",
       "      <th>50%</th>\n",
       "      <td>NaN</td>\n",
       "      <td>1.500000</td>\n",
       "    </tr>\n",
       "    <tr>\n",
       "      <th>75%</th>\n",
       "      <td>NaN</td>\n",
       "      <td>2.250000</td>\n",
       "    </tr>\n",
       "    <tr>\n",
       "      <th>max</th>\n",
       "      <td>NaN</td>\n",
       "      <td>3.000000</td>\n",
       "    </tr>\n",
       "  </tbody>\n",
       "</table>\n",
       "</div>"
      ],
      "text/plain": [
       "          a         b\n",
       "count     4  4.000000\n",
       "unique    2       NaN\n",
       "top     Yes       NaN\n",
       "freq      2       NaN\n",
       "mean    NaN  1.500000\n",
       "std     NaN  1.290994\n",
       "min     NaN  0.000000\n",
       "25%     NaN  0.750000\n",
       "50%     NaN  1.500000\n",
       "75%     NaN  2.250000\n",
       "max     NaN  3.000000"
      ]
     },
     "execution_count": 82,
     "metadata": {},
     "output_type": "execute_result"
    }
   ],
   "source": [
    "frame.describe(include=\"all\")"
   ]
  },
  {
   "cell_type": "markdown",
   "id": "f89fedf8-ea71-4b14-87e7-481c74b7a407",
   "metadata": {},
   "source": [
    "That feature relies on select_dtypes. Refer to there for details about accepted inputs.\n",
    "\n",
    "### Index of min/max values\n",
    "The idxmin() and idxmax() functions on Series and DataFrame compute the index labels with the minimum and maximum corresponding values:\n"
   ]
  },
  {
   "cell_type": "code",
   "execution_count": 83,
   "id": "4eb48242-36bc-4f55-b2a1-2236d41b500e",
   "metadata": {},
   "outputs": [
    {
     "data": {
      "text/plain": [
       "0   -0.617947\n",
       "1    0.161637\n",
       "2    2.768923\n",
       "3    2.609905\n",
       "4    0.652803\n",
       "dtype: float64"
      ]
     },
     "execution_count": 83,
     "metadata": {},
     "output_type": "execute_result"
    }
   ],
   "source": [
    "s1 = pd.Series(np.random.randn(5))\n",
    "s1"
   ]
  },
  {
   "cell_type": "code",
   "execution_count": 84,
   "id": "7b5153a6-039a-4287-b9d9-3718fe2fa1bd",
   "metadata": {},
   "outputs": [
    {
     "data": {
      "text/plain": [
       "(0, 2)"
      ]
     },
     "execution_count": 84,
     "metadata": {},
     "output_type": "execute_result"
    }
   ],
   "source": [
    "s1.idxmin(), s1.idxmax()"
   ]
  },
  {
   "cell_type": "code",
   "execution_count": 85,
   "id": "e369d175-2fca-4c9a-8e9d-a896d531f8ad",
   "metadata": {},
   "outputs": [
    {
     "data": {
      "text/html": [
       "<div>\n",
       "<style scoped>\n",
       "    .dataframe tbody tr th:only-of-type {\n",
       "        vertical-align: middle;\n",
       "    }\n",
       "\n",
       "    .dataframe tbody tr th {\n",
       "        vertical-align: top;\n",
       "    }\n",
       "\n",
       "    .dataframe thead th {\n",
       "        text-align: right;\n",
       "    }\n",
       "</style>\n",
       "<table border=\"1\" class=\"dataframe\">\n",
       "  <thead>\n",
       "    <tr style=\"text-align: right;\">\n",
       "      <th></th>\n",
       "      <th>A</th>\n",
       "      <th>B</th>\n",
       "      <th>C</th>\n",
       "    </tr>\n",
       "  </thead>\n",
       "  <tbody>\n",
       "    <tr>\n",
       "      <th>0</th>\n",
       "      <td>-1.680214</td>\n",
       "      <td>-0.627290</td>\n",
       "      <td>0.642906</td>\n",
       "    </tr>\n",
       "    <tr>\n",
       "      <th>1</th>\n",
       "      <td>1.211502</td>\n",
       "      <td>2.170583</td>\n",
       "      <td>-0.648125</td>\n",
       "    </tr>\n",
       "    <tr>\n",
       "      <th>2</th>\n",
       "      <td>-1.845106</td>\n",
       "      <td>-0.040568</td>\n",
       "      <td>-0.293092</td>\n",
       "    </tr>\n",
       "    <tr>\n",
       "      <th>3</th>\n",
       "      <td>0.825406</td>\n",
       "      <td>-0.555496</td>\n",
       "      <td>0.091201</td>\n",
       "    </tr>\n",
       "    <tr>\n",
       "      <th>4</th>\n",
       "      <td>-0.041375</td>\n",
       "      <td>1.195944</td>\n",
       "      <td>1.180677</td>\n",
       "    </tr>\n",
       "  </tbody>\n",
       "</table>\n",
       "</div>"
      ],
      "text/plain": [
       "          A         B         C\n",
       "0 -1.680214 -0.627290  0.642906\n",
       "1  1.211502  2.170583 -0.648125\n",
       "2 -1.845106 -0.040568 -0.293092\n",
       "3  0.825406 -0.555496  0.091201\n",
       "4 -0.041375  1.195944  1.180677"
      ]
     },
     "execution_count": 85,
     "metadata": {},
     "output_type": "execute_result"
    }
   ],
   "source": [
    "df1 = pd.DataFrame(np.random.randn(5, 3), columns=[\"A\", \"B\", \"C\"])\n",
    "df1"
   ]
  },
  {
   "cell_type": "code",
   "execution_count": 86,
   "id": "ab0bc07a-6158-4e45-bce2-50067b6c8346",
   "metadata": {},
   "outputs": [
    {
     "data": {
      "text/plain": [
       "A    2\n",
       "B    0\n",
       "C    1\n",
       "dtype: int64"
      ]
     },
     "execution_count": 86,
     "metadata": {},
     "output_type": "execute_result"
    }
   ],
   "source": [
    "df1.idxmin(axis=0)"
   ]
  },
  {
   "cell_type": "code",
   "execution_count": 87,
   "id": "b855f65a-8be5-48ef-ba64-b274b0246c46",
   "metadata": {},
   "outputs": [
    {
     "data": {
      "text/plain": [
       "0    C\n",
       "1    B\n",
       "2    B\n",
       "3    A\n",
       "4    B\n",
       "dtype: object"
      ]
     },
     "execution_count": 87,
     "metadata": {},
     "output_type": "execute_result"
    }
   ],
   "source": [
    "df1.idxmax(axis=1)"
   ]
  },
  {
   "cell_type": "markdown",
   "id": "b9429241-47ac-4f03-b4d0-e878d808be7d",
   "metadata": {},
   "source": [
    "When there are multiple rows (or columns) matching the minimum or maximum value, idxmin() and idxmax() return the first matching index:"
   ]
  },
  {
   "cell_type": "code",
   "execution_count": 88,
   "id": "eef06457-8153-4bfb-9402-c89553b86c41",
   "metadata": {},
   "outputs": [
    {
     "data": {
      "text/html": [
       "<div>\n",
       "<style scoped>\n",
       "    .dataframe tbody tr th:only-of-type {\n",
       "        vertical-align: middle;\n",
       "    }\n",
       "\n",
       "    .dataframe tbody tr th {\n",
       "        vertical-align: top;\n",
       "    }\n",
       "\n",
       "    .dataframe thead th {\n",
       "        text-align: right;\n",
       "    }\n",
       "</style>\n",
       "<table border=\"1\" class=\"dataframe\">\n",
       "  <thead>\n",
       "    <tr style=\"text-align: right;\">\n",
       "      <th></th>\n",
       "      <th>A</th>\n",
       "    </tr>\n",
       "  </thead>\n",
       "  <tbody>\n",
       "    <tr>\n",
       "      <th>e</th>\n",
       "      <td>2.0</td>\n",
       "    </tr>\n",
       "    <tr>\n",
       "      <th>d</th>\n",
       "      <td>1.0</td>\n",
       "    </tr>\n",
       "    <tr>\n",
       "      <th>c</th>\n",
       "      <td>1.0</td>\n",
       "    </tr>\n",
       "    <tr>\n",
       "      <th>b</th>\n",
       "      <td>3.0</td>\n",
       "    </tr>\n",
       "    <tr>\n",
       "      <th>a</th>\n",
       "      <td>NaN</td>\n",
       "    </tr>\n",
       "  </tbody>\n",
       "</table>\n",
       "</div>"
      ],
      "text/plain": [
       "     A\n",
       "e  2.0\n",
       "d  1.0\n",
       "c  1.0\n",
       "b  3.0\n",
       "a  NaN"
      ]
     },
     "execution_count": 88,
     "metadata": {},
     "output_type": "execute_result"
    }
   ],
   "source": [
    "df3 = pd.DataFrame([2, 1, 1, 3, np.nan], columns=[\"A\"], index=list(\"edcba\"))\n",
    "df3"
   ]
  },
  {
   "cell_type": "code",
   "execution_count": 89,
   "id": "ee18d7b2-2f10-4962-939f-18a5f3da8ee2",
   "metadata": {},
   "outputs": [
    {
     "data": {
      "text/plain": [
       "'d'"
      ]
     },
     "execution_count": 89,
     "metadata": {},
     "output_type": "execute_result"
    }
   ],
   "source": [
    "df3[\"A\"].idxmin()"
   ]
  },
  {
   "cell_type": "markdown",
   "id": "9127b72f-1ef1-4289-acd8-fe3afb6dfe02",
   "metadata": {},
   "source": [
    ">Note\n",
    ">idxmin and idxmax are called argmin and argmax in NumPy.\n",
    "\n",
    "### Value counts (histogramming) / mode\n",
    "The value_counts() Series method and top-level function computes a histogram of a 1D array of values. It can also be used as a function on regular arrays:"
   ]
  },
  {
   "cell_type": "code",
   "execution_count": 90,
   "id": "7bede00d-e33f-42c7-868c-42cd7c283ac2",
   "metadata": {},
   "outputs": [
    {
     "data": {
      "text/plain": [
       "array([5, 1, 5, 3, 5, 0, 3, 3, 6, 5, 4, 4, 4, 3, 1, 0, 1, 0, 6, 2, 5, 3,\n",
       "       0, 2, 6, 1, 2, 6, 0, 4, 0, 6, 4, 4, 5, 4, 3, 4, 6, 4, 3, 5, 3, 1,\n",
       "       6, 5, 6, 5, 6, 6])"
      ]
     },
     "execution_count": 90,
     "metadata": {},
     "output_type": "execute_result"
    }
   ],
   "source": [
    "data = np.random.randint(0, 7, size=50)\n",
    "data"
   ]
  },
  {
   "cell_type": "code",
   "execution_count": 91,
   "id": "5b28322b-3e95-4517-aca2-157611ad4403",
   "metadata": {},
   "outputs": [
    {
     "data": {
      "text/plain": [
       "6    10\n",
       "4     9\n",
       "5     9\n",
       "3     8\n",
       "0     6\n",
       "1     5\n",
       "2     3\n",
       "dtype: int64"
      ]
     },
     "execution_count": 91,
     "metadata": {},
     "output_type": "execute_result"
    }
   ],
   "source": [
    "s = pd.Series(data)\n",
    "s.value_counts()"
   ]
  },
  {
   "cell_type": "code",
   "execution_count": 92,
   "id": "64881674-4c99-4bf5-b9ed-042a7ab3f65d",
   "metadata": {},
   "outputs": [
    {
     "data": {
      "text/plain": [
       "6    10\n",
       "4     9\n",
       "5     9\n",
       "3     8\n",
       "0     6\n",
       "1     5\n",
       "2     3\n",
       "dtype: int64"
      ]
     },
     "execution_count": 92,
     "metadata": {},
     "output_type": "execute_result"
    }
   ],
   "source": [
    "pd.value_counts(data)"
   ]
  },
  {
   "cell_type": "markdown",
   "id": "6269e585-3362-4532-8189-3b9e99285070",
   "metadata": {},
   "source": [
    "*New in version 1.1.0.*\n",
    "\n",
    "The value_counts() method can be used to count combinations across multiple columns. By default all columns are used but a subset can be selected using the subset argument."
   ]
  },
  {
   "cell_type": "code",
   "execution_count": 93,
   "id": "2314de0b-2efc-44fd-9b67-8ab527fd9496",
   "metadata": {},
   "outputs": [
    {
     "data": {
      "text/plain": [
       "a  b\n",
       "1  x    1\n",
       "2  x    1\n",
       "3  y    1\n",
       "4  y    1\n",
       "dtype: int64"
      ]
     },
     "execution_count": 93,
     "metadata": {},
     "output_type": "execute_result"
    }
   ],
   "source": [
    "data = {\"a\": [1, 2, 3, 4], \"b\": [\"x\", \"x\", \"y\", \"y\"]}\n",
    "frame = pd.DataFrame(data)\n",
    "frame.value_counts()"
   ]
  },
  {
   "cell_type": "markdown",
   "id": "96e8ca8f-24d9-4d1f-85b7-be11aee0b143",
   "metadata": {},
   "source": [
    "Similarly, you can get the most frequently occurring value(s), i.e. the mode, of the values in a Series or DataFrame:"
   ]
  },
  {
   "cell_type": "code",
   "execution_count": 94,
   "id": "2837b139-4ce6-4d33-a758-26dbc9e92b02",
   "metadata": {},
   "outputs": [
    {
     "data": {
      "text/plain": [
       "0    3\n",
       "1    7\n",
       "dtype: int64"
      ]
     },
     "execution_count": 94,
     "metadata": {},
     "output_type": "execute_result"
    }
   ],
   "source": [
    "s5 = pd.Series([1, 1, 3, 3, 3, 5, 5, 7, 7, 7])\n",
    "s5.mode()"
   ]
  },
  {
   "cell_type": "code",
   "execution_count": 95,
   "id": "58fd2f07-ecdb-4e9d-be6b-34474305a6a0",
   "metadata": {},
   "outputs": [
    {
     "data": {
      "text/html": [
       "<div>\n",
       "<style scoped>\n",
       "    .dataframe tbody tr th:only-of-type {\n",
       "        vertical-align: middle;\n",
       "    }\n",
       "\n",
       "    .dataframe tbody tr th {\n",
       "        vertical-align: top;\n",
       "    }\n",
       "\n",
       "    .dataframe thead th {\n",
       "        text-align: right;\n",
       "    }\n",
       "</style>\n",
       "<table border=\"1\" class=\"dataframe\">\n",
       "  <thead>\n",
       "    <tr style=\"text-align: right;\">\n",
       "      <th></th>\n",
       "      <th>A</th>\n",
       "      <th>B</th>\n",
       "    </tr>\n",
       "  </thead>\n",
       "  <tbody>\n",
       "    <tr>\n",
       "      <th>0</th>\n",
       "      <td>3.0</td>\n",
       "      <td>2</td>\n",
       "    </tr>\n",
       "    <tr>\n",
       "      <th>1</th>\n",
       "      <td>NaN</td>\n",
       "      <td>3</td>\n",
       "    </tr>\n",
       "    <tr>\n",
       "      <th>2</th>\n",
       "      <td>NaN</td>\n",
       "      <td>7</td>\n",
       "    </tr>\n",
       "  </tbody>\n",
       "</table>\n",
       "</div>"
      ],
      "text/plain": [
       "     A  B\n",
       "0  3.0  2\n",
       "1  NaN  3\n",
       "2  NaN  7"
      ]
     },
     "execution_count": 95,
     "metadata": {},
     "output_type": "execute_result"
    }
   ],
   "source": [
    "df5 = pd.DataFrame(\n",
    "    {\n",
    "        \"A\": np.random.randint(0, 7, size=50),\n",
    "        \"B\": np.random.randint(-10, 15, size=50),        \n",
    "    }\n",
    ")\n",
    "df5.mode()"
   ]
  },
  {
   "cell_type": "markdown",
   "id": "54c55788-6bbc-4aba-987b-bfed4510dba7",
   "metadata": {},
   "source": [
    "### Discretization and quantiling\n",
    "Continuous values can be discretized using the cut() (bins based on values) and qcut() (bins based on sample quantiles) functions:"
   ]
  },
  {
   "cell_type": "code",
   "execution_count": 96,
   "id": "850849bd-925a-46a4-959a-760b7374c910",
   "metadata": {},
   "outputs": [
    {
     "data": {
      "text/plain": [
       "[(-1.049, -0.221], (-1.049, -0.221], (0.606, 1.434], (0.606, 1.434], (-0.221, 0.606], ..., (-1.88, -1.049], (0.606, 1.434], (-0.221, 0.606], (-1.88, -1.049], (0.606, 1.434]]\n",
       "Length: 20\n",
       "Categories (4, interval[float64]): [(-1.88, -1.049] < (-1.049, -0.221] < (-0.221, 0.606] < (0.606, 1.434]]"
      ]
     },
     "execution_count": 96,
     "metadata": {},
     "output_type": "execute_result"
    }
   ],
   "source": [
    "arr = np.random.randn(20)\n",
    "factor = pd.cut(arr, 4)\n",
    "factor"
   ]
  },
  {
   "cell_type": "code",
   "execution_count": 97,
   "id": "809818f2-0215-404b-82e3-9395b2172405",
   "metadata": {},
   "outputs": [
    {
     "data": {
      "text/plain": [
       "[(-1, 0], (-5, -1], (1, 5], (0, 1], (-1, 0], ..., (-5, -1], (1, 5], (0, 1], (-5, -1], (0, 1]]\n",
       "Length: 20\n",
       "Categories (4, interval[int64]): [(-5, -1] < (-1, 0] < (0, 1] < (1, 5]]"
      ]
     },
     "execution_count": 97,
     "metadata": {},
     "output_type": "execute_result"
    }
   ],
   "source": [
    "factor = pd.cut(arr, [-5, -1, 0, 1, 5])\n",
    "factor"
   ]
  },
  {
   "cell_type": "markdown",
   "id": "a79e9ba4-38f6-4720-a389-1ab6621eab5d",
   "metadata": {},
   "source": [
    "qcut() computes sample quantiles. For example, we could slice up some normally distributed data into equal-size quartiles like so:"
   ]
  },
  {
   "cell_type": "code",
   "execution_count": 98,
   "id": "e2682904-64f7-4e63-9a11-44e5b36fcf91",
   "metadata": {},
   "outputs": [
    {
     "data": {
      "text/plain": [
       "[(-1.5459999999999998, -0.724], (-0.724, 0.496], (0.889, 1.823], (0.496, 0.889], (-1.5459999999999998, -0.724], ..., (-0.724, 0.496], (0.496, 0.889], (0.889, 1.823], (-0.724, 0.496], (-0.724, 0.496]]\n",
       "Length: 30\n",
       "Categories (4, interval[float64]): [(-1.5459999999999998, -0.724] < (-0.724, 0.496] < (0.496, 0.889] < (0.889, 1.823]]"
      ]
     },
     "execution_count": 98,
     "metadata": {},
     "output_type": "execute_result"
    }
   ],
   "source": [
    "arr = np.random.randn(30)\n",
    "factor = pd.qcut(arr, [0, 0.25, 0.5, 0.75, 1])\n",
    "factor"
   ]
  },
  {
   "cell_type": "code",
   "execution_count": 99,
   "id": "b0f63a52-9582-4e6f-869f-40dc0772794e",
   "metadata": {},
   "outputs": [
    {
     "data": {
      "text/plain": [
       "(-1.5459999999999998, -0.724]    8\n",
       "(0.889, 1.823]                   8\n",
       "(-0.724, 0.496]                  7\n",
       "(0.496, 0.889]                   7\n",
       "dtype: int64"
      ]
     },
     "execution_count": 99,
     "metadata": {},
     "output_type": "execute_result"
    }
   ],
   "source": [
    "pd.value_counts(factor)"
   ]
  },
  {
   "cell_type": "markdown",
   "id": "44d35477-5cd2-48d0-b8da-3d4751a01fda",
   "metadata": {},
   "source": [
    "We can also pass infinite values to define the bins:"
   ]
  },
  {
   "cell_type": "code",
   "execution_count": 100,
   "id": "e04d2afa-d9dd-4df5-adda-012fbeae5591",
   "metadata": {},
   "outputs": [
    {
     "data": {
      "text/plain": [
       "[(0.0, inf], (-inf, 0.0], (0.0, inf], (0.0, inf], (-inf, 0.0], ..., (0.0, inf], (0.0, inf], (-inf, 0.0], (-inf, 0.0], (-inf, 0.0]]\n",
       "Length: 20\n",
       "Categories (2, interval[float64]): [(-inf, 0.0] < (0.0, inf]]"
      ]
     },
     "execution_count": 100,
     "metadata": {},
     "output_type": "execute_result"
    }
   ],
   "source": [
    "arr = np.random.randn(20)\n",
    "factor = pd.cut(arr, [-np.inf, 0, np.inf])\n",
    "factor"
   ]
  },
  {
   "cell_type": "markdown",
   "id": "dd2a4778-cbcf-4f67-81bb-d5be8fc866bc",
   "metadata": {},
   "source": [
    "## Function application\n",
    "To apply your own or another library’s functions to pandas objects, you should be aware of the three methods below. The appropriate method to use depends on whether your function expects to operate on an entire DataFrame or Series, row- or column-wise, or elementwise.\n",
    "\n",
    "1. Tablewise Function Application: pipe()\n",
    "2. Row or Column-wise Function Application: apply()\n",
    "3. Aggregation API: agg() and transform()\n",
    "4. Applying Elementwise Functions: applymap()\n",
    "\n",
    "### Tablewise function application\n",
    "DataFrames and Series can be passed into functions. However, if the function needs to be called in a chain, consider using the pipe() method.\n",
    "\n",
    "First some setup:"
   ]
  },
  {
   "cell_type": "code",
   "execution_count": 101,
   "id": "58c7b4a2-49b9-435d-8856-5e4b10eb282f",
   "metadata": {},
   "outputs": [],
   "source": [
    "def extract_city_name(df):\n",
    "    \"\"\"\n",
    "    Chicago, IL -> Chicago for city_name column\n",
    "    \"\"\"\n",
    "    df[\"city_name\"] = df[\"city_and_code\"].str.split(\",\").str.get(0)\n",
    "    return df\n",
    "\n",
    "def add_country_name(df, country_name=None):\n",
    "    \"\"\"\n",
    "    Chicago -> Chicago-US for city_name column\n",
    "    \"\"\"\n",
    "    col = \"city_name\"\n",
    "    df[\"city_and_country\"] = df[col] + country_name\n",
    "    return df\n",
    "\n",
    "df_p = pd.DataFrame({\"city_and_code\": [\"Chicago, IL\"]})"
   ]
  },
  {
   "cell_type": "markdown",
   "id": "7d92e456-17e6-4b12-86dc-1b21710170d8",
   "metadata": {},
   "source": [
    "extract_city_name and add_country_name are functions taking and returning DataFrames.\n",
    "\n",
    "Now compare the following:"
   ]
  },
  {
   "cell_type": "code",
   "execution_count": 102,
   "id": "cda47b01-e7ca-46e8-864b-fa40ad5a9859",
   "metadata": {},
   "outputs": [
    {
     "data": {
      "text/html": [
       "<div>\n",
       "<style scoped>\n",
       "    .dataframe tbody tr th:only-of-type {\n",
       "        vertical-align: middle;\n",
       "    }\n",
       "\n",
       "    .dataframe tbody tr th {\n",
       "        vertical-align: top;\n",
       "    }\n",
       "\n",
       "    .dataframe thead th {\n",
       "        text-align: right;\n",
       "    }\n",
       "</style>\n",
       "<table border=\"1\" class=\"dataframe\">\n",
       "  <thead>\n",
       "    <tr style=\"text-align: right;\">\n",
       "      <th></th>\n",
       "      <th>city_and_code</th>\n",
       "      <th>city_name</th>\n",
       "      <th>city_and_country</th>\n",
       "    </tr>\n",
       "  </thead>\n",
       "  <tbody>\n",
       "    <tr>\n",
       "      <th>0</th>\n",
       "      <td>Chicago, IL</td>\n",
       "      <td>Chicago</td>\n",
       "      <td>ChicagoUS</td>\n",
       "    </tr>\n",
       "  </tbody>\n",
       "</table>\n",
       "</div>"
      ],
      "text/plain": [
       "  city_and_code city_name city_and_country\n",
       "0   Chicago, IL   Chicago        ChicagoUS"
      ]
     },
     "execution_count": 102,
     "metadata": {},
     "output_type": "execute_result"
    }
   ],
   "source": [
    "add_country_name(extract_city_name(df_p), country_name=\"US\")"
   ]
  },
  {
   "cell_type": "markdown",
   "id": "43b4f400-937f-4683-be06-97b2505464eb",
   "metadata": {
    "tags": []
   },
   "source": [
    "Is equivalent to:"
   ]
  },
  {
   "cell_type": "code",
   "execution_count": 103,
   "id": "4dd18102-c02c-47c2-83ce-dd77cd27924f",
   "metadata": {},
   "outputs": [
    {
     "data": {
      "text/html": [
       "<div>\n",
       "<style scoped>\n",
       "    .dataframe tbody tr th:only-of-type {\n",
       "        vertical-align: middle;\n",
       "    }\n",
       "\n",
       "    .dataframe tbody tr th {\n",
       "        vertical-align: top;\n",
       "    }\n",
       "\n",
       "    .dataframe thead th {\n",
       "        text-align: right;\n",
       "    }\n",
       "</style>\n",
       "<table border=\"1\" class=\"dataframe\">\n",
       "  <thead>\n",
       "    <tr style=\"text-align: right;\">\n",
       "      <th></th>\n",
       "      <th>city_and_code</th>\n",
       "      <th>city_name</th>\n",
       "      <th>city_and_country</th>\n",
       "    </tr>\n",
       "  </thead>\n",
       "  <tbody>\n",
       "    <tr>\n",
       "      <th>0</th>\n",
       "      <td>Chicago, IL</td>\n",
       "      <td>Chicago</td>\n",
       "      <td>ChicagoUS</td>\n",
       "    </tr>\n",
       "  </tbody>\n",
       "</table>\n",
       "</div>"
      ],
      "text/plain": [
       "  city_and_code city_name city_and_country\n",
       "0   Chicago, IL   Chicago        ChicagoUS"
      ]
     },
     "execution_count": 103,
     "metadata": {},
     "output_type": "execute_result"
    }
   ],
   "source": [
    "df_p.pipe(extract_city_name).pipe(add_country_name, country_name=\"US\")"
   ]
  },
  {
   "cell_type": "markdown",
   "id": "31c4e6c2-d94d-4532-8e68-5488c51a48c1",
   "metadata": {},
   "source": [
    "pandas encourages the second style, which is known as method chaining. pipe makes it easy to use your own or another library’s functions in method chains, alongside pandas’ methods.\n",
    "\n",
    "In the example above, the functions extract_city_name and add_country_name each expected a DataFrame as the first positional argument. What if the function you wish to apply takes its data as, say, the second argument? In this case, provide pipe with a tuple of (callable, data_keyword). .pipe will route the DataFrame to the argument specified in the tuple.\n",
    "\n",
    "For example, we can fit a regression using statsmodels. Their API expects a formula first and a DataFrame as the second argument, data. We pass in the function, keyword pair (sm.ols, 'data') to pipe:"
   ]
  },
  {
   "cell_type": "code",
   "execution_count": 104,
   "id": "06c357e3-7563-4d99-a823-c55138c3bc34",
   "metadata": {},
   "outputs": [
    {
     "data": {
      "text/html": [
       "<table class=\"simpletable\">\n",
       "<caption>OLS Regression Results</caption>\n",
       "<tr>\n",
       "  <th>Dep. Variable:</th>           <td>hr</td>        <th>  R-squared:         </th> <td>   0.685</td>\n",
       "</tr>\n",
       "<tr>\n",
       "  <th>Model:</th>                   <td>OLS</td>       <th>  Adj. R-squared:    </th> <td>   0.665</td>\n",
       "</tr>\n",
       "<tr>\n",
       "  <th>Method:</th>             <td>Least Squares</td>  <th>  F-statistic:       </th> <td>   34.28</td>\n",
       "</tr>\n",
       "<tr>\n",
       "  <th>Date:</th>             <td>Tue, 11 May 2021</td> <th>  Prob (F-statistic):</th> <td>3.48e-15</td>\n",
       "</tr>\n",
       "<tr>\n",
       "  <th>Time:</th>                 <td>09:54:24</td>     <th>  Log-Likelihood:    </th> <td> -205.92</td>\n",
       "</tr>\n",
       "<tr>\n",
       "  <th>No. Observations:</th>      <td>    68</td>      <th>  AIC:               </th> <td>   421.8</td>\n",
       "</tr>\n",
       "<tr>\n",
       "  <th>Df Residuals:</th>          <td>    63</td>      <th>  BIC:               </th> <td>   432.9</td>\n",
       "</tr>\n",
       "<tr>\n",
       "  <th>Df Model:</th>              <td>     4</td>      <th>                     </th>     <td> </td>   \n",
       "</tr>\n",
       "<tr>\n",
       "  <th>Covariance Type:</th>      <td>nonrobust</td>    <th>                     </th>     <td> </td>   \n",
       "</tr>\n",
       "</table>\n",
       "<table class=\"simpletable\">\n",
       "<tr>\n",
       "       <td></td>          <th>coef</th>     <th>std err</th>      <th>t</th>      <th>P>|t|</th>  <th>[0.025</th>    <th>0.975]</th>  \n",
       "</tr>\n",
       "<tr>\n",
       "  <th>Intercept</th>   <td>-8484.7720</td> <td> 4664.146</td> <td>   -1.819</td> <td> 0.074</td> <td>-1.78e+04</td> <td>  835.780</td>\n",
       "</tr>\n",
       "<tr>\n",
       "  <th>C(lg)[T.NL]</th> <td>   -2.2736</td> <td>    1.325</td> <td>   -1.716</td> <td> 0.091</td> <td>   -4.922</td> <td>    0.375</td>\n",
       "</tr>\n",
       "<tr>\n",
       "  <th>ln_h</th>        <td>   -1.3542</td> <td>    0.875</td> <td>   -1.547</td> <td> 0.127</td> <td>   -3.103</td> <td>    0.395</td>\n",
       "</tr>\n",
       "<tr>\n",
       "  <th>year</th>        <td>    4.2277</td> <td>    2.324</td> <td>    1.819</td> <td> 0.074</td> <td>   -0.417</td> <td>    8.872</td>\n",
       "</tr>\n",
       "<tr>\n",
       "  <th>g</th>           <td>    0.1841</td> <td>    0.029</td> <td>    6.258</td> <td> 0.000</td> <td>    0.125</td> <td>    0.243</td>\n",
       "</tr>\n",
       "</table>\n",
       "<table class=\"simpletable\">\n",
       "<tr>\n",
       "  <th>Omnibus:</th>       <td>10.875</td> <th>  Durbin-Watson:     </th> <td>   1.999</td>\n",
       "</tr>\n",
       "<tr>\n",
       "  <th>Prob(Omnibus):</th> <td> 0.004</td> <th>  Jarque-Bera (JB):  </th> <td>  17.298</td>\n",
       "</tr>\n",
       "<tr>\n",
       "  <th>Skew:</th>          <td> 0.537</td> <th>  Prob(JB):          </th> <td>0.000175</td>\n",
       "</tr>\n",
       "<tr>\n",
       "  <th>Kurtosis:</th>      <td> 5.225</td> <th>  Cond. No.          </th> <td>1.49e+07</td>\n",
       "</tr>\n",
       "</table><br/><br/>Notes:<br/>[1] Standard Errors assume that the covariance matrix of the errors is correctly specified.<br/>[2] The condition number is large, 1.49e+07. This might indicate that there are<br/>strong multicollinearity or other numerical problems."
      ],
      "text/plain": [
       "<class 'statsmodels.iolib.summary.Summary'>\n",
       "\"\"\"\n",
       "                            OLS Regression Results                            \n",
       "==============================================================================\n",
       "Dep. Variable:                     hr   R-squared:                       0.685\n",
       "Model:                            OLS   Adj. R-squared:                  0.665\n",
       "Method:                 Least Squares   F-statistic:                     34.28\n",
       "Date:                Tue, 11 May 2021   Prob (F-statistic):           3.48e-15\n",
       "Time:                        09:54:24   Log-Likelihood:                -205.92\n",
       "No. Observations:                  68   AIC:                             421.8\n",
       "Df Residuals:                      63   BIC:                             432.9\n",
       "Df Model:                           4                                         \n",
       "Covariance Type:            nonrobust                                         \n",
       "===============================================================================\n",
       "                  coef    std err          t      P>|t|      [0.025      0.975]\n",
       "-------------------------------------------------------------------------------\n",
       "Intercept   -8484.7720   4664.146     -1.819      0.074   -1.78e+04     835.780\n",
       "C(lg)[T.NL]    -2.2736      1.325     -1.716      0.091      -4.922       0.375\n",
       "ln_h           -1.3542      0.875     -1.547      0.127      -3.103       0.395\n",
       "year            4.2277      2.324      1.819      0.074      -0.417       8.872\n",
       "g               0.1841      0.029      6.258      0.000       0.125       0.243\n",
       "==============================================================================\n",
       "Omnibus:                       10.875   Durbin-Watson:                   1.999\n",
       "Prob(Omnibus):                  0.004   Jarque-Bera (JB):               17.298\n",
       "Skew:                           0.537   Prob(JB):                     0.000175\n",
       "Kurtosis:                       5.225   Cond. No.                     1.49e+07\n",
       "==============================================================================\n",
       "\n",
       "Notes:\n",
       "[1] Standard Errors assume that the covariance matrix of the errors is correctly specified.\n",
       "[2] The condition number is large, 1.49e+07. This might indicate that there are\n",
       "strong multicollinearity or other numerical problems.\n",
       "\"\"\""
      ]
     },
     "execution_count": 104,
     "metadata": {},
     "output_type": "execute_result"
    }
   ],
   "source": [
    "import statsmodels.formula.api as sm\n",
    "bb = pd.read_csv(\"data/baseball.csv\", index_col=\"id\")\n",
    "(\n",
    "    bb.query(\"h > 0\")\n",
    "    .assign(ln_h=lambda df: np.log(df.h))\n",
    "    .pipe((sm.ols, \"data\"), \"hr ~ ln_h + year + g + C(lg)\")\n",
    "    .fit()\n",
    "    .summary()\n",
    ")"
   ]
  },
  {
   "cell_type": "markdown",
   "id": "14fc0b9f-e1d1-4f73-a333-3a86a52532ca",
   "metadata": {},
   "source": [
    "The pipe method is inspired by unix pipes and more recently dplyr and magrittr, which have introduced the popular (%>%) (read pipe) operator for R. The implementation of pipe here is quite clean and feels right at home in Python. We encourage you to view the source code of pipe().\n",
    "\n",
    "### Row or column-wise function application\n",
    "Arbitrary functions can be applied along the axes of a DataFrame using the apply() method, which, like the descriptive statistics methods, takes an optional axis argument:"
   ]
  },
  {
   "cell_type": "code",
   "execution_count": 105,
   "id": "1f5de71c-3cd6-4597-9e64-e5f3a0d90de9",
   "metadata": {},
   "outputs": [
    {
     "data": {
      "text/plain": [
       "one      0.973889\n",
       "two     -0.173759\n",
       "three    0.233851\n",
       "dtype: float64"
      ]
     },
     "execution_count": 105,
     "metadata": {},
     "output_type": "execute_result"
    }
   ],
   "source": [
    "df.apply(np.mean)"
   ]
  },
  {
   "cell_type": "code",
   "execution_count": 106,
   "id": "f7524821-a2a5-4cc4-8203-d1e0e9899d29",
   "metadata": {},
   "outputs": [
    {
     "data": {
      "text/plain": [
       "a   -0.482102\n",
       "b    0.177943\n",
       "c    0.784077\n",
       "d    0.503165\n",
       "dtype: float64"
      ]
     },
     "execution_count": 106,
     "metadata": {},
     "output_type": "execute_result"
    }
   ],
   "source": [
    "df.apply(np.mean, axis=1)"
   ]
  },
  {
   "cell_type": "code",
   "execution_count": 107,
   "id": "b32df682-b348-48a6-bec8-c5569d72f948",
   "metadata": {},
   "outputs": [
    {
     "data": {
      "text/plain": [
       "one      1.058447\n",
       "two      1.950595\n",
       "three    0.694140\n",
       "dtype: float64"
      ]
     },
     "execution_count": 107,
     "metadata": {},
     "output_type": "execute_result"
    }
   ],
   "source": [
    "df.apply(lambda x: x.max() - x.min())"
   ]
  },
  {
   "cell_type": "code",
   "execution_count": 108,
   "id": "5f270711-e293-4cab-b613-4e71be55c28d",
   "metadata": {},
   "outputs": [
    {
     "data": {
      "text/html": [
       "<div>\n",
       "<style scoped>\n",
       "    .dataframe tbody tr th:only-of-type {\n",
       "        vertical-align: middle;\n",
       "    }\n",
       "\n",
       "    .dataframe tbody tr th {\n",
       "        vertical-align: top;\n",
       "    }\n",
       "\n",
       "    .dataframe thead th {\n",
       "        text-align: right;\n",
       "    }\n",
       "</style>\n",
       "<table border=\"1\" class=\"dataframe\">\n",
       "  <thead>\n",
       "    <tr style=\"text-align: right;\">\n",
       "      <th></th>\n",
       "      <th>one</th>\n",
       "      <th>two</th>\n",
       "      <th>three</th>\n",
       "    </tr>\n",
       "  </thead>\n",
       "  <tbody>\n",
       "    <tr>\n",
       "      <th>a</th>\n",
       "      <td>0.274727</td>\n",
       "      <td>-1.238931</td>\n",
       "      <td>NaN</td>\n",
       "    </tr>\n",
       "    <tr>\n",
       "      <th>b</th>\n",
       "      <td>1.607900</td>\n",
       "      <td>-1.894649</td>\n",
       "      <td>-0.143628</td>\n",
       "    </tr>\n",
       "    <tr>\n",
       "      <th>c</th>\n",
       "      <td>2.921666</td>\n",
       "      <td>-1.406699</td>\n",
       "      <td>0.406885</td>\n",
       "    </tr>\n",
       "    <tr>\n",
       "      <th>d</th>\n",
       "      <td>NaN</td>\n",
       "      <td>-0.695035</td>\n",
       "      <td>0.701552</td>\n",
       "    </tr>\n",
       "  </tbody>\n",
       "</table>\n",
       "</div>"
      ],
      "text/plain": [
       "        one       two     three\n",
       "a  0.274727 -1.238931       NaN\n",
       "b  1.607900 -1.894649 -0.143628\n",
       "c  2.921666 -1.406699  0.406885\n",
       "d       NaN -0.695035  0.701552"
      ]
     },
     "execution_count": 108,
     "metadata": {},
     "output_type": "execute_result"
    }
   ],
   "source": [
    "df.apply(np.cumsum)"
   ]
  },
  {
   "cell_type": "code",
   "execution_count": 109,
   "id": "07f3f0da-928a-4a13-bd7a-1abb3d572d1a",
   "metadata": {},
   "outputs": [
    {
     "data": {
      "text/html": [
       "<div>\n",
       "<style scoped>\n",
       "    .dataframe tbody tr th:only-of-type {\n",
       "        vertical-align: middle;\n",
       "    }\n",
       "\n",
       "    .dataframe tbody tr th {\n",
       "        vertical-align: top;\n",
       "    }\n",
       "\n",
       "    .dataframe thead th {\n",
       "        text-align: right;\n",
       "    }\n",
       "</style>\n",
       "<table border=\"1\" class=\"dataframe\">\n",
       "  <thead>\n",
       "    <tr style=\"text-align: right;\">\n",
       "      <th></th>\n",
       "      <th>one</th>\n",
       "      <th>two</th>\n",
       "      <th>three</th>\n",
       "    </tr>\n",
       "  </thead>\n",
       "  <tbody>\n",
       "    <tr>\n",
       "      <th>a</th>\n",
       "      <td>1.316171</td>\n",
       "      <td>0.289694</td>\n",
       "      <td>NaN</td>\n",
       "    </tr>\n",
       "    <tr>\n",
       "      <th>b</th>\n",
       "      <td>3.793060</td>\n",
       "      <td>0.519069</td>\n",
       "      <td>0.866210</td>\n",
       "    </tr>\n",
       "    <tr>\n",
       "      <th>c</th>\n",
       "      <td>3.720159</td>\n",
       "      <td>1.628975</td>\n",
       "      <td>1.734142</td>\n",
       "    </tr>\n",
       "    <tr>\n",
       "      <th>d</th>\n",
       "      <td>NaN</td>\n",
       "      <td>2.037378</td>\n",
       "      <td>1.342679</td>\n",
       "    </tr>\n",
       "  </tbody>\n",
       "</table>\n",
       "</div>"
      ],
      "text/plain": [
       "        one       two     three\n",
       "a  1.316171  0.289694       NaN\n",
       "b  3.793060  0.519069  0.866210\n",
       "c  3.720159  1.628975  1.734142\n",
       "d       NaN  2.037378  1.342679"
      ]
     },
     "execution_count": 109,
     "metadata": {},
     "output_type": "execute_result"
    }
   ],
   "source": [
    "df.apply(np.exp)"
   ]
  },
  {
   "cell_type": "markdown",
   "id": "f1d1f373-081f-44ea-be6c-ee8a06901565",
   "metadata": {},
   "source": [
    "The apply() method will also dispatch on a string method name."
   ]
  },
  {
   "cell_type": "code",
   "execution_count": 110,
   "id": "b24df12b-08a6-4b8d-b1f5-8778f6d7b1c8",
   "metadata": {},
   "outputs": [
    {
     "data": {
      "text/plain": [
       "one      0.973889\n",
       "two     -0.173759\n",
       "three    0.233851\n",
       "dtype: float64"
      ]
     },
     "execution_count": 110,
     "metadata": {},
     "output_type": "execute_result"
    }
   ],
   "source": [
    "df.apply(\"mean\")"
   ]
  },
  {
   "cell_type": "code",
   "execution_count": 111,
   "id": "0abbc6e9-330b-4428-9e71-f23e1c012f55",
   "metadata": {},
   "outputs": [
    {
     "data": {
      "text/plain": [
       "a   -0.482102\n",
       "b    0.177943\n",
       "c    0.784077\n",
       "d    0.503165\n",
       "dtype: float64"
      ]
     },
     "execution_count": 111,
     "metadata": {},
     "output_type": "execute_result"
    }
   ],
   "source": [
    "df.apply(\"mean\", axis=1)"
   ]
  },
  {
   "cell_type": "markdown",
   "id": "5768632a-43fe-4c13-8038-4c9cd7574af3",
   "metadata": {},
   "source": [
    "The return type of the function passed to apply() affects the type of the final output from DataFrame.apply for the default behaviour:\n",
    "\n",
    "* If the applied function returns a Series, the final output is a DataFrame. The columns match the index of the Series returned by the applied function.\n",
    "* If the applied function returns any other type, the final output is a Series.\n",
    "\n",
    "This default behaviour can be overridden using the result_type, which accepts three options: reduce, broadcast, and expand. These will determine how list-likes return values expand (or not) to a DataFrame.\n",
    "\n",
    "apply() combined with some cleverness can be used to answer many questions about a data set. For example, suppose we wanted to extract the date where the maximum value for each column occurred:"
   ]
  },
  {
   "cell_type": "code",
   "execution_count": 112,
   "id": "efa7f75c-c48e-48cf-b29a-4a10e340dfeb",
   "metadata": {},
   "outputs": [
    {
     "data": {
      "text/plain": [
       "A   2002-06-20\n",
       "B   2001-05-19\n",
       "C   2000-05-04\n",
       "dtype: datetime64[ns]"
      ]
     },
     "execution_count": 112,
     "metadata": {},
     "output_type": "execute_result"
    }
   ],
   "source": [
    "tsdf = pd.DataFrame(\n",
    "    np.random.randn(1000, 3),\n",
    "    columns=[\"A\", \"B\", \"C\"],\n",
    "    index=pd.date_range(\"1/1/2000\", periods=1000),\n",
    "    )\n",
    "tsdf.apply(lambda x: x.idxmax())"
   ]
  },
  {
   "cell_type": "markdown",
   "id": "7ec2b714-9e15-414d-aea4-51e533185ecd",
   "metadata": {},
   "source": [
    "You may also pass additional arguments and keyword arguments to the apply() method. For instance, consider the following function you would like to apply:"
   ]
  },
  {
   "cell_type": "code",
   "execution_count": 113,
   "id": "844b122e-2f59-4770-95e5-be7ff419fa81",
   "metadata": {},
   "outputs": [],
   "source": [
    "def subtract_and_divide(x, sub, divide=1):\n",
    "    return (x - sub) / divide"
   ]
  },
  {
   "cell_type": "markdown",
   "id": "3ab5ba5e-f063-4e57-96df-850f9a838fa1",
   "metadata": {},
   "source": [
    "You may then apply this function as follows:"
   ]
  },
  {
   "cell_type": "code",
   "execution_count": 114,
   "id": "1f2b6611-423c-4219-bd78-03f39e4baec7",
   "metadata": {},
   "outputs": [
    {
     "data": {
      "text/html": [
       "<div>\n",
       "<style scoped>\n",
       "    .dataframe tbody tr th:only-of-type {\n",
       "        vertical-align: middle;\n",
       "    }\n",
       "\n",
       "    .dataframe tbody tr th {\n",
       "        vertical-align: top;\n",
       "    }\n",
       "\n",
       "    .dataframe thead th {\n",
       "        text-align: right;\n",
       "    }\n",
       "</style>\n",
       "<table border=\"1\" class=\"dataframe\">\n",
       "  <thead>\n",
       "    <tr style=\"text-align: right;\">\n",
       "      <th></th>\n",
       "      <th>one</th>\n",
       "      <th>two</th>\n",
       "      <th>three</th>\n",
       "    </tr>\n",
       "  </thead>\n",
       "  <tbody>\n",
       "    <tr>\n",
       "      <th>a</th>\n",
       "      <td>-1.575091</td>\n",
       "      <td>-2.079644</td>\n",
       "      <td>NaN</td>\n",
       "    </tr>\n",
       "    <tr>\n",
       "      <th>b</th>\n",
       "      <td>-1.222276</td>\n",
       "      <td>-1.885239</td>\n",
       "      <td>-1.714543</td>\n",
       "    </tr>\n",
       "    <tr>\n",
       "      <th>c</th>\n",
       "      <td>-1.228745</td>\n",
       "      <td>-1.504016</td>\n",
       "      <td>-1.483162</td>\n",
       "    </tr>\n",
       "    <tr>\n",
       "      <th>d</th>\n",
       "      <td>NaN</td>\n",
       "      <td>-1.429445</td>\n",
       "      <td>-1.568444</td>\n",
       "    </tr>\n",
       "  </tbody>\n",
       "</table>\n",
       "</div>"
      ],
      "text/plain": [
       "        one       two     three\n",
       "a -1.575091 -2.079644       NaN\n",
       "b -1.222276 -1.885239 -1.714543\n",
       "c -1.228745 -1.504016 -1.483162\n",
       "d       NaN -1.429445 -1.568444"
      ]
     },
     "execution_count": 114,
     "metadata": {},
     "output_type": "execute_result"
    }
   ],
   "source": [
    "df.apply(subtract_and_divide, args=(5,), divide=3)"
   ]
  },
  {
   "cell_type": "markdown",
   "id": "525dabee-92d9-4ff3-96ea-14656cb604a6",
   "metadata": {},
   "source": [
    "Another useful feature is the ability to pass Series methods to carry out some Series operation on each column or row:"
   ]
  },
  {
   "cell_type": "code",
   "execution_count": 115,
   "id": "f48bbc50-c7fe-4406-9276-2d3fbbb5d700",
   "metadata": {},
   "outputs": [
    {
     "data": {
      "text/html": [
       "<div>\n",
       "<style scoped>\n",
       "    .dataframe tbody tr th:only-of-type {\n",
       "        vertical-align: middle;\n",
       "    }\n",
       "\n",
       "    .dataframe tbody tr th {\n",
       "        vertical-align: top;\n",
       "    }\n",
       "\n",
       "    .dataframe thead th {\n",
       "        text-align: right;\n",
       "    }\n",
       "</style>\n",
       "<table border=\"1\" class=\"dataframe\">\n",
       "  <thead>\n",
       "    <tr style=\"text-align: right;\">\n",
       "      <th></th>\n",
       "      <th>A</th>\n",
       "      <th>B</th>\n",
       "      <th>C</th>\n",
       "    </tr>\n",
       "  </thead>\n",
       "  <tbody>\n",
       "    <tr>\n",
       "      <th>2000-01-01</th>\n",
       "      <td>1.489557</td>\n",
       "      <td>-0.290653</td>\n",
       "      <td>-0.129714</td>\n",
       "    </tr>\n",
       "    <tr>\n",
       "      <th>2000-01-02</th>\n",
       "      <td>-0.733943</td>\n",
       "      <td>-0.271848</td>\n",
       "      <td>0.932860</td>\n",
       "    </tr>\n",
       "    <tr>\n",
       "      <th>2000-01-03</th>\n",
       "      <td>-0.173614</td>\n",
       "      <td>0.372245</td>\n",
       "      <td>0.500011</td>\n",
       "    </tr>\n",
       "    <tr>\n",
       "      <th>2000-01-04</th>\n",
       "      <td>-0.344712</td>\n",
       "      <td>-0.748628</td>\n",
       "      <td>-0.464836</td>\n",
       "    </tr>\n",
       "    <tr>\n",
       "      <th>2000-01-05</th>\n",
       "      <td>0.244123</td>\n",
       "      <td>2.013019</td>\n",
       "      <td>0.694168</td>\n",
       "    </tr>\n",
       "    <tr>\n",
       "      <th>...</th>\n",
       "      <td>...</td>\n",
       "      <td>...</td>\n",
       "      <td>...</td>\n",
       "    </tr>\n",
       "    <tr>\n",
       "      <th>2002-09-22</th>\n",
       "      <td>0.853829</td>\n",
       "      <td>0.249019</td>\n",
       "      <td>0.119410</td>\n",
       "    </tr>\n",
       "    <tr>\n",
       "      <th>2002-09-23</th>\n",
       "      <td>1.419423</td>\n",
       "      <td>-0.878678</td>\n",
       "      <td>-0.695699</td>\n",
       "    </tr>\n",
       "    <tr>\n",
       "      <th>2002-09-24</th>\n",
       "      <td>0.954490</td>\n",
       "      <td>0.302177</td>\n",
       "      <td>-0.501028</td>\n",
       "    </tr>\n",
       "    <tr>\n",
       "      <th>2002-09-25</th>\n",
       "      <td>1.415008</td>\n",
       "      <td>1.135138</td>\n",
       "      <td>0.643571</td>\n",
       "    </tr>\n",
       "    <tr>\n",
       "      <th>2002-09-26</th>\n",
       "      <td>0.259907</td>\n",
       "      <td>-0.771050</td>\n",
       "      <td>0.332193</td>\n",
       "    </tr>\n",
       "  </tbody>\n",
       "</table>\n",
       "<p>1000 rows × 3 columns</p>\n",
       "</div>"
      ],
      "text/plain": [
       "                   A         B         C\n",
       "2000-01-01  1.489557 -0.290653 -0.129714\n",
       "2000-01-02 -0.733943 -0.271848  0.932860\n",
       "2000-01-03 -0.173614  0.372245  0.500011\n",
       "2000-01-04 -0.344712 -0.748628 -0.464836\n",
       "2000-01-05  0.244123  2.013019  0.694168\n",
       "...              ...       ...       ...\n",
       "2002-09-22  0.853829  0.249019  0.119410\n",
       "2002-09-23  1.419423 -0.878678 -0.695699\n",
       "2002-09-24  0.954490  0.302177 -0.501028\n",
       "2002-09-25  1.415008  1.135138  0.643571\n",
       "2002-09-26  0.259907 -0.771050  0.332193\n",
       "\n",
       "[1000 rows x 3 columns]"
      ]
     },
     "execution_count": 115,
     "metadata": {},
     "output_type": "execute_result"
    }
   ],
   "source": [
    "tsdf"
   ]
  },
  {
   "cell_type": "code",
   "execution_count": 116,
   "id": "1a7df7ff-97cd-454c-a498-53d089fb9986",
   "metadata": {},
   "outputs": [
    {
     "data": {
      "text/html": [
       "<div>\n",
       "<style scoped>\n",
       "    .dataframe tbody tr th:only-of-type {\n",
       "        vertical-align: middle;\n",
       "    }\n",
       "\n",
       "    .dataframe tbody tr th {\n",
       "        vertical-align: top;\n",
       "    }\n",
       "\n",
       "    .dataframe thead th {\n",
       "        text-align: right;\n",
       "    }\n",
       "</style>\n",
       "<table border=\"1\" class=\"dataframe\">\n",
       "  <thead>\n",
       "    <tr style=\"text-align: right;\">\n",
       "      <th></th>\n",
       "      <th>A</th>\n",
       "      <th>B</th>\n",
       "      <th>C</th>\n",
       "    </tr>\n",
       "  </thead>\n",
       "  <tbody>\n",
       "    <tr>\n",
       "      <th>2000-01-01</th>\n",
       "      <td>1.489557</td>\n",
       "      <td>-0.290653</td>\n",
       "      <td>-0.129714</td>\n",
       "    </tr>\n",
       "    <tr>\n",
       "      <th>2000-01-02</th>\n",
       "      <td>-0.733943</td>\n",
       "      <td>-0.271848</td>\n",
       "      <td>0.932860</td>\n",
       "    </tr>\n",
       "    <tr>\n",
       "      <th>2000-01-03</th>\n",
       "      <td>-0.173614</td>\n",
       "      <td>0.372245</td>\n",
       "      <td>0.500011</td>\n",
       "    </tr>\n",
       "    <tr>\n",
       "      <th>2000-01-04</th>\n",
       "      <td>-0.344712</td>\n",
       "      <td>-0.748628</td>\n",
       "      <td>-0.464836</td>\n",
       "    </tr>\n",
       "    <tr>\n",
       "      <th>2000-01-05</th>\n",
       "      <td>0.244123</td>\n",
       "      <td>2.013019</td>\n",
       "      <td>0.694168</td>\n",
       "    </tr>\n",
       "    <tr>\n",
       "      <th>...</th>\n",
       "      <td>...</td>\n",
       "      <td>...</td>\n",
       "      <td>...</td>\n",
       "    </tr>\n",
       "    <tr>\n",
       "      <th>2002-09-22</th>\n",
       "      <td>0.853829</td>\n",
       "      <td>0.249019</td>\n",
       "      <td>0.119410</td>\n",
       "    </tr>\n",
       "    <tr>\n",
       "      <th>2002-09-23</th>\n",
       "      <td>1.419423</td>\n",
       "      <td>-0.878678</td>\n",
       "      <td>-0.695699</td>\n",
       "    </tr>\n",
       "    <tr>\n",
       "      <th>2002-09-24</th>\n",
       "      <td>0.954490</td>\n",
       "      <td>0.302177</td>\n",
       "      <td>-0.501028</td>\n",
       "    </tr>\n",
       "    <tr>\n",
       "      <th>2002-09-25</th>\n",
       "      <td>1.415008</td>\n",
       "      <td>1.135138</td>\n",
       "      <td>0.643571</td>\n",
       "    </tr>\n",
       "    <tr>\n",
       "      <th>2002-09-26</th>\n",
       "      <td>0.259907</td>\n",
       "      <td>-0.771050</td>\n",
       "      <td>0.332193</td>\n",
       "    </tr>\n",
       "  </tbody>\n",
       "</table>\n",
       "<p>1000 rows × 3 columns</p>\n",
       "</div>"
      ],
      "text/plain": [
       "                   A         B         C\n",
       "2000-01-01  1.489557 -0.290653 -0.129714\n",
       "2000-01-02 -0.733943 -0.271848  0.932860\n",
       "2000-01-03 -0.173614  0.372245  0.500011\n",
       "2000-01-04 -0.344712 -0.748628 -0.464836\n",
       "2000-01-05  0.244123  2.013019  0.694168\n",
       "...              ...       ...       ...\n",
       "2002-09-22  0.853829  0.249019  0.119410\n",
       "2002-09-23  1.419423 -0.878678 -0.695699\n",
       "2002-09-24  0.954490  0.302177 -0.501028\n",
       "2002-09-25  1.415008  1.135138  0.643571\n",
       "2002-09-26  0.259907 -0.771050  0.332193\n",
       "\n",
       "[1000 rows x 3 columns]"
      ]
     },
     "execution_count": 116,
     "metadata": {},
     "output_type": "execute_result"
    }
   ],
   "source": [
    "tsdf.apply(pd.Series.interpolate)"
   ]
  },
  {
   "cell_type": "markdown",
   "id": "1e4728de-8c7a-41a0-85aa-6c3beb3000aa",
   "metadata": {},
   "source": [
    "Finally, apply() takes an argument raw which is False by default, which converts each row or column into a Series before applying the function. When set to True, the passed function will instead receive an ndarray object, which has positive performance implications if you do not need the indexing functionality.\n",
    "\n",
    "### Aggregation API\n",
    "The aggregation API allows one to express possibly multiple aggregation operations in a single concise way. This API is similar across pandas objects, see groupby API, the window API, and the resample API. The entry point for aggregation is DataFrame.aggregate(), or the alias DataFrame.agg().\n",
    "\n",
    "We will use a similar starting frame from above:"
   ]
  },
  {
   "cell_type": "code",
   "execution_count": 117,
   "id": "e5e12258-7e2d-4cc8-b917-a48be96536c2",
   "metadata": {},
   "outputs": [
    {
     "data": {
      "text/html": [
       "<div>\n",
       "<style scoped>\n",
       "    .dataframe tbody tr th:only-of-type {\n",
       "        vertical-align: middle;\n",
       "    }\n",
       "\n",
       "    .dataframe tbody tr th {\n",
       "        vertical-align: top;\n",
       "    }\n",
       "\n",
       "    .dataframe thead th {\n",
       "        text-align: right;\n",
       "    }\n",
       "</style>\n",
       "<table border=\"1\" class=\"dataframe\">\n",
       "  <thead>\n",
       "    <tr style=\"text-align: right;\">\n",
       "      <th></th>\n",
       "      <th>A</th>\n",
       "      <th>B</th>\n",
       "      <th>C</th>\n",
       "    </tr>\n",
       "  </thead>\n",
       "  <tbody>\n",
       "    <tr>\n",
       "      <th>2000-01-01</th>\n",
       "      <td>2.495524</td>\n",
       "      <td>0.507289</td>\n",
       "      <td>0.607229</td>\n",
       "    </tr>\n",
       "    <tr>\n",
       "      <th>2000-01-02</th>\n",
       "      <td>-0.576224</td>\n",
       "      <td>-0.275390</td>\n",
       "      <td>-2.224818</td>\n",
       "    </tr>\n",
       "    <tr>\n",
       "      <th>2000-01-03</th>\n",
       "      <td>-1.460772</td>\n",
       "      <td>-0.232394</td>\n",
       "      <td>-0.058381</td>\n",
       "    </tr>\n",
       "    <tr>\n",
       "      <th>2000-01-04</th>\n",
       "      <td>NaN</td>\n",
       "      <td>NaN</td>\n",
       "      <td>NaN</td>\n",
       "    </tr>\n",
       "    <tr>\n",
       "      <th>2000-01-05</th>\n",
       "      <td>NaN</td>\n",
       "      <td>NaN</td>\n",
       "      <td>NaN</td>\n",
       "    </tr>\n",
       "    <tr>\n",
       "      <th>2000-01-06</th>\n",
       "      <td>NaN</td>\n",
       "      <td>NaN</td>\n",
       "      <td>NaN</td>\n",
       "    </tr>\n",
       "    <tr>\n",
       "      <th>2000-01-07</th>\n",
       "      <td>NaN</td>\n",
       "      <td>NaN</td>\n",
       "      <td>NaN</td>\n",
       "    </tr>\n",
       "    <tr>\n",
       "      <th>2000-01-08</th>\n",
       "      <td>-0.562693</td>\n",
       "      <td>-0.740238</td>\n",
       "      <td>-0.469241</td>\n",
       "    </tr>\n",
       "    <tr>\n",
       "      <th>2000-01-09</th>\n",
       "      <td>-2.440364</td>\n",
       "      <td>0.677866</td>\n",
       "      <td>-0.533459</td>\n",
       "    </tr>\n",
       "    <tr>\n",
       "      <th>2000-01-10</th>\n",
       "      <td>0.350130</td>\n",
       "      <td>-1.298666</td>\n",
       "      <td>0.862554</td>\n",
       "    </tr>\n",
       "  </tbody>\n",
       "</table>\n",
       "</div>"
      ],
      "text/plain": [
       "                   A         B         C\n",
       "2000-01-01  2.495524  0.507289  0.607229\n",
       "2000-01-02 -0.576224 -0.275390 -2.224818\n",
       "2000-01-03 -1.460772 -0.232394 -0.058381\n",
       "2000-01-04       NaN       NaN       NaN\n",
       "2000-01-05       NaN       NaN       NaN\n",
       "2000-01-06       NaN       NaN       NaN\n",
       "2000-01-07       NaN       NaN       NaN\n",
       "2000-01-08 -0.562693 -0.740238 -0.469241\n",
       "2000-01-09 -2.440364  0.677866 -0.533459\n",
       "2000-01-10  0.350130 -1.298666  0.862554"
      ]
     },
     "execution_count": 117,
     "metadata": {},
     "output_type": "execute_result"
    }
   ],
   "source": [
    "tsdf = pd.DataFrame(\n",
    "    np.random.randn(10, 3),\n",
    "    columns=[\"A\", \"B\", \"C\"],\n",
    "    index=pd.date_range(\"1/1/2000\", periods=10),\n",
    "    )\n",
    "tsdf.iloc[3:7] = np.nan\n",
    "tsdf"
   ]
  },
  {
   "cell_type": "markdown",
   "id": "88b57a81-2a76-4dfb-b751-0241417a5fb5",
   "metadata": {},
   "source": [
    "Using a single function is equivalent to apply(). You can also pass named methods as strings. These will return a Series of the aggregated output:"
   ]
  },
  {
   "cell_type": "code",
   "execution_count": 118,
   "id": "f6c3b8f9-a5f6-457d-8f19-d4a1900d501b",
   "metadata": {},
   "outputs": [
    {
     "data": {
      "text/plain": [
       "A   -2.194400\n",
       "B   -1.361533\n",
       "C   -1.816118\n",
       "dtype: float64"
      ]
     },
     "execution_count": 118,
     "metadata": {},
     "output_type": "execute_result"
    }
   ],
   "source": [
    "tsdf.agg(np.sum)"
   ]
  },
  {
   "cell_type": "code",
   "execution_count": 119,
   "id": "3db8d556-a2f1-424d-beeb-57a79f8d8d1a",
   "metadata": {},
   "outputs": [
    {
     "data": {
      "text/plain": [
       "A   -2.194400\n",
       "B   -1.361533\n",
       "C   -1.816118\n",
       "dtype: float64"
      ]
     },
     "execution_count": 119,
     "metadata": {},
     "output_type": "execute_result"
    }
   ],
   "source": [
    "tsdf.agg(\"sum\")"
   ]
  },
  {
   "cell_type": "code",
   "execution_count": 120,
   "id": "a96794f8-a309-4cd4-a450-1b13d34b0f76",
   "metadata": {},
   "outputs": [],
   "source": [
    "# these are equivalent to a ``.sum()`` because we are aggregating\n",
    "# on a single function\n",
    "In [166]: tsdf.sum()"
   ]
  },
  {
   "cell_type": "markdown",
   "id": "32702522-0d81-49d5-899c-8e04a875525f",
   "metadata": {},
   "source": [
    "Single aggregations on a Series this will return a scalar value:"
   ]
  },
  {
   "cell_type": "code",
   "execution_count": 121,
   "id": "23b371ed-2ec1-4032-b1d5-6ef987ea57d8",
   "metadata": {},
   "outputs": [
    {
     "data": {
      "text/plain": [
       "-2.1943997316866355"
      ]
     },
     "execution_count": 121,
     "metadata": {},
     "output_type": "execute_result"
    }
   ],
   "source": [
    "tsdf[\"A\"].agg(\"sum\")"
   ]
  },
  {
   "cell_type": "markdown",
   "id": "81d5a573-4b01-4b83-8099-9df8e5903e71",
   "metadata": {},
   "source": [
    "### Aggregating with multiple functions\n",
    "You can pass multiple aggregation arguments as a list. The results of each of the passed functions will be a row in the resulting DataFrame. These are naturally named from the aggregation function."
   ]
  },
  {
   "cell_type": "code",
   "execution_count": 122,
   "id": "b590bcb4-d9b8-43d4-b3ef-f8cd94c35297",
   "metadata": {},
   "outputs": [
    {
     "data": {
      "text/html": [
       "<div>\n",
       "<style scoped>\n",
       "    .dataframe tbody tr th:only-of-type {\n",
       "        vertical-align: middle;\n",
       "    }\n",
       "\n",
       "    .dataframe tbody tr th {\n",
       "        vertical-align: top;\n",
       "    }\n",
       "\n",
       "    .dataframe thead th {\n",
       "        text-align: right;\n",
       "    }\n",
       "</style>\n",
       "<table border=\"1\" class=\"dataframe\">\n",
       "  <thead>\n",
       "    <tr style=\"text-align: right;\">\n",
       "      <th></th>\n",
       "      <th>A</th>\n",
       "      <th>B</th>\n",
       "      <th>C</th>\n",
       "    </tr>\n",
       "  </thead>\n",
       "  <tbody>\n",
       "    <tr>\n",
       "      <th>sum</th>\n",
       "      <td>-2.1944</td>\n",
       "      <td>-1.361533</td>\n",
       "      <td>-1.816118</td>\n",
       "    </tr>\n",
       "  </tbody>\n",
       "</table>\n",
       "</div>"
      ],
      "text/plain": [
       "          A         B         C\n",
       "sum -2.1944 -1.361533 -1.816118"
      ]
     },
     "execution_count": 122,
     "metadata": {},
     "output_type": "execute_result"
    }
   ],
   "source": [
    "tsdf.agg([\"sum\"])"
   ]
  },
  {
   "cell_type": "markdown",
   "id": "886b2b78-0fbc-4379-b185-4483092fe970",
   "metadata": {},
   "source": [
    "Multiple functions yield multiple rows:"
   ]
  },
  {
   "cell_type": "code",
   "execution_count": 123,
   "id": "c22fb1f9-e2ed-47d6-9cb0-f7156f9d10ef",
   "metadata": {},
   "outputs": [
    {
     "data": {
      "text/html": [
       "<div>\n",
       "<style scoped>\n",
       "    .dataframe tbody tr th:only-of-type {\n",
       "        vertical-align: middle;\n",
       "    }\n",
       "\n",
       "    .dataframe tbody tr th {\n",
       "        vertical-align: top;\n",
       "    }\n",
       "\n",
       "    .dataframe thead th {\n",
       "        text-align: right;\n",
       "    }\n",
       "</style>\n",
       "<table border=\"1\" class=\"dataframe\">\n",
       "  <thead>\n",
       "    <tr style=\"text-align: right;\">\n",
       "      <th></th>\n",
       "      <th>A</th>\n",
       "      <th>B</th>\n",
       "      <th>C</th>\n",
       "    </tr>\n",
       "  </thead>\n",
       "  <tbody>\n",
       "    <tr>\n",
       "      <th>sum</th>\n",
       "      <td>-2.194400</td>\n",
       "      <td>-1.361533</td>\n",
       "      <td>-1.816118</td>\n",
       "    </tr>\n",
       "    <tr>\n",
       "      <th>mean</th>\n",
       "      <td>-0.365733</td>\n",
       "      <td>-0.226922</td>\n",
       "      <td>-0.302686</td>\n",
       "    </tr>\n",
       "  </tbody>\n",
       "</table>\n",
       "</div>"
      ],
      "text/plain": [
       "             A         B         C\n",
       "sum  -2.194400 -1.361533 -1.816118\n",
       "mean -0.365733 -0.226922 -0.302686"
      ]
     },
     "execution_count": 123,
     "metadata": {},
     "output_type": "execute_result"
    }
   ],
   "source": [
    "tsdf.agg([\"sum\", \"mean\"])"
   ]
  },
  {
   "cell_type": "markdown",
   "id": "cba586ec-a720-45bc-811d-1326f0f7f4d2",
   "metadata": {},
   "source": [
    "On a Series, multiple functions return a Series, indexed by the function names:"
   ]
  },
  {
   "cell_type": "code",
   "execution_count": 124,
   "id": "e2edaf76-f01e-4e91-a2ff-2f4b3452b412",
   "metadata": {},
   "outputs": [
    {
     "data": {
      "text/plain": [
       "sum    -2.194400\n",
       "mean   -0.365733\n",
       "Name: A, dtype: float64"
      ]
     },
     "execution_count": 124,
     "metadata": {},
     "output_type": "execute_result"
    }
   ],
   "source": [
    "tsdf[\"A\"].agg([\"sum\", \"mean\"])"
   ]
  },
  {
   "cell_type": "markdown",
   "id": "70374513-3924-4385-8a51-c95737381923",
   "metadata": {},
   "source": [
    "Passing a lambda function will yield a <lambda> named row:"
   ]
  },
  {
   "cell_type": "code",
   "execution_count": 125,
   "id": "db067336-ea6f-4ab2-9d5a-824987cb13bd",
   "metadata": {},
   "outputs": [
    {
     "data": {
      "text/plain": [
       "sum        -2.194400\n",
       "<lambda>   -0.365733\n",
       "Name: A, dtype: float64"
      ]
     },
     "execution_count": 125,
     "metadata": {},
     "output_type": "execute_result"
    }
   ],
   "source": [
    "tsdf[\"A\"].agg([\"sum\", lambda x: x.mean()])"
   ]
  },
  {
   "cell_type": "markdown",
   "id": "2622bae0-39cc-4e56-9019-3a4cc786fd53",
   "metadata": {},
   "source": [
    "Passing a named function will yield that name for the row:"
   ]
  },
  {
   "cell_type": "code",
   "execution_count": 126,
   "id": "709b7a96-34ab-4bdf-abc2-7e2dcc6632e0",
   "metadata": {},
   "outputs": [
    {
     "data": {
      "text/plain": [
       "sum      -2.194400\n",
       "mymean   -0.365733\n",
       "Name: A, dtype: float64"
      ]
     },
     "execution_count": 126,
     "metadata": {},
     "output_type": "execute_result"
    }
   ],
   "source": [
    "def mymean(x):\n",
    "    return x.mean()\n",
    "\n",
    "tsdf[\"A\"].agg([\"sum\", mymean])"
   ]
  },
  {
   "cell_type": "markdown",
   "id": "1db7ade6-bdff-4070-a0a4-20adb6a29577",
   "metadata": {},
   "source": [
    "### Aggregating with a dict\n",
    "Passing a dictionary of column names to a scalar or a list of scalars, to DataFrame.agg allows you to customize which functions are applied to which columns. Note that the results are not in any particular order, you can use an OrderedDict instead to guarantee ordering."
   ]
  },
  {
   "cell_type": "code",
   "execution_count": 127,
   "id": "43361dbb-5885-4312-8182-eb4c461669b5",
   "metadata": {},
   "outputs": [
    {
     "data": {
      "text/plain": [
       "A   -0.365733\n",
       "B   -1.361533\n",
       "dtype: float64"
      ]
     },
     "execution_count": 127,
     "metadata": {},
     "output_type": "execute_result"
    }
   ],
   "source": [
    "tsdf.agg({\"A\": \"mean\", \"B\": \"sum\"})"
   ]
  },
  {
   "cell_type": "markdown",
   "id": "9737b177-f3bc-4288-9a97-f530b8789796",
   "metadata": {},
   "source": [
    "Passing a list-like will generate a DataFrame output. You will get a matrix-like output of all of the aggregators. The output will consist of all unique functions. Those that are not noted for a particular column will be NaN:"
   ]
  },
  {
   "cell_type": "code",
   "execution_count": 128,
   "id": "8e233967-4dcf-429c-8de4-d8da079510b7",
   "metadata": {},
   "outputs": [
    {
     "data": {
      "text/html": [
       "<div>\n",
       "<style scoped>\n",
       "    .dataframe tbody tr th:only-of-type {\n",
       "        vertical-align: middle;\n",
       "    }\n",
       "\n",
       "    .dataframe tbody tr th {\n",
       "        vertical-align: top;\n",
       "    }\n",
       "\n",
       "    .dataframe thead th {\n",
       "        text-align: right;\n",
       "    }\n",
       "</style>\n",
       "<table border=\"1\" class=\"dataframe\">\n",
       "  <thead>\n",
       "    <tr style=\"text-align: right;\">\n",
       "      <th></th>\n",
       "      <th>A</th>\n",
       "      <th>B</th>\n",
       "    </tr>\n",
       "  </thead>\n",
       "  <tbody>\n",
       "    <tr>\n",
       "      <th>mean</th>\n",
       "      <td>-0.365733</td>\n",
       "      <td>NaN</td>\n",
       "    </tr>\n",
       "    <tr>\n",
       "      <th>min</th>\n",
       "      <td>-2.440364</td>\n",
       "      <td>NaN</td>\n",
       "    </tr>\n",
       "    <tr>\n",
       "      <th>sum</th>\n",
       "      <td>NaN</td>\n",
       "      <td>-1.361533</td>\n",
       "    </tr>\n",
       "  </tbody>\n",
       "</table>\n",
       "</div>"
      ],
      "text/plain": [
       "             A         B\n",
       "mean -0.365733       NaN\n",
       "min  -2.440364       NaN\n",
       "sum        NaN -1.361533"
      ]
     },
     "execution_count": 128,
     "metadata": {},
     "output_type": "execute_result"
    }
   ],
   "source": [
    "tsdf.agg({\"A\": [\"mean\", \"min\"], \"B\": \"sum\"})"
   ]
  },
  {
   "cell_type": "markdown",
   "id": "a40118f3-27b5-4a21-a367-e53c627ce209",
   "metadata": {},
   "source": [
    "### Mixed dtypes\n",
    "When presented with mixed dtypes that cannot aggregate, .agg will only take the valid aggregations. This is similar to how .groupby.agg works."
   ]
  },
  {
   "cell_type": "code",
   "execution_count": 129,
   "id": "b99ba3fd-6bbf-48a3-9872-690f5059dca4",
   "metadata": {},
   "outputs": [
    {
     "data": {
      "text/plain": [
       "A             int64\n",
       "B           float64\n",
       "C            object\n",
       "D    datetime64[ns]\n",
       "dtype: object"
      ]
     },
     "execution_count": 129,
     "metadata": {},
     "output_type": "execute_result"
    }
   ],
   "source": [
    "mdf = pd.DataFrame(\n",
    "    {\n",
    "        \"A\": [1, 2, 3],\n",
    "        \"B\": [1.0, 2.0, 3.0],\n",
    "        \"C\": [\"foo\", \"bar\", \"baz\"],\n",
    "        \"D\": pd.date_range(\"20130101\", periods=3),\n",
    "    }\n",
    ")\n",
    "mdf.dtypes"
   ]
  },
  {
   "cell_type": "code",
   "execution_count": 130,
   "id": "3a5a9bf7-8671-4244-ac76-d35c199438ee",
   "metadata": {},
   "outputs": [
    {
     "data": {
      "text/html": [
       "<div>\n",
       "<style scoped>\n",
       "    .dataframe tbody tr th:only-of-type {\n",
       "        vertical-align: middle;\n",
       "    }\n",
       "\n",
       "    .dataframe tbody tr th {\n",
       "        vertical-align: top;\n",
       "    }\n",
       "\n",
       "    .dataframe thead th {\n",
       "        text-align: right;\n",
       "    }\n",
       "</style>\n",
       "<table border=\"1\" class=\"dataframe\">\n",
       "  <thead>\n",
       "    <tr style=\"text-align: right;\">\n",
       "      <th></th>\n",
       "      <th>A</th>\n",
       "      <th>B</th>\n",
       "      <th>C</th>\n",
       "      <th>D</th>\n",
       "    </tr>\n",
       "  </thead>\n",
       "  <tbody>\n",
       "    <tr>\n",
       "      <th>min</th>\n",
       "      <td>1</td>\n",
       "      <td>1.0</td>\n",
       "      <td>bar</td>\n",
       "      <td>2013-01-01</td>\n",
       "    </tr>\n",
       "    <tr>\n",
       "      <th>sum</th>\n",
       "      <td>6</td>\n",
       "      <td>6.0</td>\n",
       "      <td>foobarbaz</td>\n",
       "      <td>NaT</td>\n",
       "    </tr>\n",
       "  </tbody>\n",
       "</table>\n",
       "</div>"
      ],
      "text/plain": [
       "     A    B          C          D\n",
       "min  1  1.0        bar 2013-01-01\n",
       "sum  6  6.0  foobarbaz        NaT"
      ]
     },
     "execution_count": 130,
     "metadata": {},
     "output_type": "execute_result"
    }
   ],
   "source": [
    "mdf.agg([\"min\", \"sum\"])"
   ]
  },
  {
   "cell_type": "markdown",
   "id": "f9b0b30b-ce4b-4a62-aaa3-c0add6b96e52",
   "metadata": {},
   "source": [
    "### Custom describe\n",
    "With .agg() it is possible to easily create a custom describe function, similar to the built in describe function."
   ]
  },
  {
   "cell_type": "code",
   "execution_count": 131,
   "id": "0446fc9e-a0da-46dd-813f-91df46087b1b",
   "metadata": {},
   "outputs": [
    {
     "data": {
      "text/html": [
       "<div>\n",
       "<style scoped>\n",
       "    .dataframe tbody tr th:only-of-type {\n",
       "        vertical-align: middle;\n",
       "    }\n",
       "\n",
       "    .dataframe tbody tr th {\n",
       "        vertical-align: top;\n",
       "    }\n",
       "\n",
       "    .dataframe thead th {\n",
       "        text-align: right;\n",
       "    }\n",
       "</style>\n",
       "<table border=\"1\" class=\"dataframe\">\n",
       "  <thead>\n",
       "    <tr style=\"text-align: right;\">\n",
       "      <th></th>\n",
       "      <th>A</th>\n",
       "      <th>B</th>\n",
       "      <th>C</th>\n",
       "    </tr>\n",
       "  </thead>\n",
       "  <tbody>\n",
       "    <tr>\n",
       "      <th>count</th>\n",
       "      <td>6.000000</td>\n",
       "      <td>6.000000</td>\n",
       "      <td>6.000000</td>\n",
       "    </tr>\n",
       "    <tr>\n",
       "      <th>mean</th>\n",
       "      <td>-0.365733</td>\n",
       "      <td>-0.226922</td>\n",
       "      <td>-0.302686</td>\n",
       "    </tr>\n",
       "    <tr>\n",
       "      <th>std</th>\n",
       "      <td>1.690299</td>\n",
       "      <td>0.744609</td>\n",
       "      <td>1.097361</td>\n",
       "    </tr>\n",
       "    <tr>\n",
       "      <th>min</th>\n",
       "      <td>-2.440364</td>\n",
       "      <td>-1.298666</td>\n",
       "      <td>-2.224818</td>\n",
       "    </tr>\n",
       "    <tr>\n",
       "      <th>25%</th>\n",
       "      <td>-1.239635</td>\n",
       "      <td>-0.624026</td>\n",
       "      <td>-0.517405</td>\n",
       "    </tr>\n",
       "    <tr>\n",
       "      <th>median</th>\n",
       "      <td>-0.569459</td>\n",
       "      <td>-0.253892</td>\n",
       "      <td>-0.263811</td>\n",
       "    </tr>\n",
       "    <tr>\n",
       "      <th>75%</th>\n",
       "      <td>0.121924</td>\n",
       "      <td>0.322368</td>\n",
       "      <td>0.440827</td>\n",
       "    </tr>\n",
       "    <tr>\n",
       "      <th>max</th>\n",
       "      <td>2.495524</td>\n",
       "      <td>0.677866</td>\n",
       "      <td>0.862554</td>\n",
       "    </tr>\n",
       "  </tbody>\n",
       "</table>\n",
       "</div>"
      ],
      "text/plain": [
       "               A         B         C\n",
       "count   6.000000  6.000000  6.000000\n",
       "mean   -0.365733 -0.226922 -0.302686\n",
       "std     1.690299  0.744609  1.097361\n",
       "min    -2.440364 -1.298666 -2.224818\n",
       "25%    -1.239635 -0.624026 -0.517405\n",
       "median -0.569459 -0.253892 -0.263811\n",
       "75%     0.121924  0.322368  0.440827\n",
       "max     2.495524  0.677866  0.862554"
      ]
     },
     "execution_count": 131,
     "metadata": {},
     "output_type": "execute_result"
    }
   ],
   "source": [
    "from functools import partial\n",
    "\n",
    "q_25 = partial(pd.Series.quantile, q=0.25)\n",
    "q_25.__name__ = \"25%\"\n",
    "q_75 = partial(pd.Series.quantile, q=0.75)\n",
    "q_75.__name__ = \"75%\"\n",
    "tsdf.agg([\"count\", \"mean\", \"std\", \"min\", q_25, \"median\", q_75, \"max\"])"
   ]
  },
  {
   "cell_type": "markdown",
   "id": "83cdfa5d-d737-4b4f-9486-21861377b66e",
   "metadata": {},
   "source": [
    "## Transform API\n",
    "The transform() method returns an object that is indexed the same (same size) as the original. This API allows you to provide multiple operations at the same time rather than one-by-one. Its API is quite similar to the .agg API.\n",
    "\n",
    "We create a frame similar to the one used in the above sections."
   ]
  },
  {
   "cell_type": "code",
   "execution_count": 132,
   "id": "1b3ae4e8-6f85-4e61-aee1-fb4465f61b0e",
   "metadata": {},
   "outputs": [
    {
     "data": {
      "text/html": [
       "<div>\n",
       "<style scoped>\n",
       "    .dataframe tbody tr th:only-of-type {\n",
       "        vertical-align: middle;\n",
       "    }\n",
       "\n",
       "    .dataframe tbody tr th {\n",
       "        vertical-align: top;\n",
       "    }\n",
       "\n",
       "    .dataframe thead th {\n",
       "        text-align: right;\n",
       "    }\n",
       "</style>\n",
       "<table border=\"1\" class=\"dataframe\">\n",
       "  <thead>\n",
       "    <tr style=\"text-align: right;\">\n",
       "      <th></th>\n",
       "      <th>A</th>\n",
       "      <th>B</th>\n",
       "      <th>C</th>\n",
       "    </tr>\n",
       "  </thead>\n",
       "  <tbody>\n",
       "    <tr>\n",
       "      <th>2000-01-01</th>\n",
       "      <td>1.127802</td>\n",
       "      <td>0.508257</td>\n",
       "      <td>-0.045769</td>\n",
       "    </tr>\n",
       "    <tr>\n",
       "      <th>2000-01-02</th>\n",
       "      <td>-0.516515</td>\n",
       "      <td>0.115133</td>\n",
       "      <td>0.866696</td>\n",
       "    </tr>\n",
       "    <tr>\n",
       "      <th>2000-01-03</th>\n",
       "      <td>1.124268</td>\n",
       "      <td>1.246086</td>\n",
       "      <td>-0.017015</td>\n",
       "    </tr>\n",
       "    <tr>\n",
       "      <th>2000-01-04</th>\n",
       "      <td>NaN</td>\n",
       "      <td>NaN</td>\n",
       "      <td>NaN</td>\n",
       "    </tr>\n",
       "    <tr>\n",
       "      <th>2000-01-05</th>\n",
       "      <td>NaN</td>\n",
       "      <td>NaN</td>\n",
       "      <td>NaN</td>\n",
       "    </tr>\n",
       "    <tr>\n",
       "      <th>2000-01-06</th>\n",
       "      <td>NaN</td>\n",
       "      <td>NaN</td>\n",
       "      <td>NaN</td>\n",
       "    </tr>\n",
       "    <tr>\n",
       "      <th>2000-01-07</th>\n",
       "      <td>NaN</td>\n",
       "      <td>NaN</td>\n",
       "      <td>NaN</td>\n",
       "    </tr>\n",
       "    <tr>\n",
       "      <th>2000-01-08</th>\n",
       "      <td>-0.236259</td>\n",
       "      <td>0.968857</td>\n",
       "      <td>-1.723036</td>\n",
       "    </tr>\n",
       "    <tr>\n",
       "      <th>2000-01-09</th>\n",
       "      <td>-1.068089</td>\n",
       "      <td>1.880266</td>\n",
       "      <td>-1.194770</td>\n",
       "    </tr>\n",
       "    <tr>\n",
       "      <th>2000-01-10</th>\n",
       "      <td>1.118140</td>\n",
       "      <td>-0.323175</td>\n",
       "      <td>0.638887</td>\n",
       "    </tr>\n",
       "  </tbody>\n",
       "</table>\n",
       "</div>"
      ],
      "text/plain": [
       "                   A         B         C\n",
       "2000-01-01  1.127802  0.508257 -0.045769\n",
       "2000-01-02 -0.516515  0.115133  0.866696\n",
       "2000-01-03  1.124268  1.246086 -0.017015\n",
       "2000-01-04       NaN       NaN       NaN\n",
       "2000-01-05       NaN       NaN       NaN\n",
       "2000-01-06       NaN       NaN       NaN\n",
       "2000-01-07       NaN       NaN       NaN\n",
       "2000-01-08 -0.236259  0.968857 -1.723036\n",
       "2000-01-09 -1.068089  1.880266 -1.194770\n",
       "2000-01-10  1.118140 -0.323175  0.638887"
      ]
     },
     "execution_count": 132,
     "metadata": {},
     "output_type": "execute_result"
    }
   ],
   "source": [
    "tsdf = pd.DataFrame(\n",
    "    np.random.randn(10, 3),\n",
    "    columns=[\"A\", \"B\", \"C\"],\n",
    "    index=pd.date_range(\"1/1/2000\", periods=10),\n",
    ")\n",
    "tsdf.iloc[3:7] = np.nan\n",
    "tsdf"
   ]
  },
  {
   "cell_type": "markdown",
   "id": "2eb13721-318c-4694-8c16-8492a4f99bab",
   "metadata": {},
   "source": [
    "Transform the entire frame. .transform() allows input functions as: a NumPy function, a string function name or a user defined function."
   ]
  },
  {
   "cell_type": "code",
   "execution_count": 133,
   "id": "f54df2ec-ba36-44da-b555-122b36ef60bd",
   "metadata": {},
   "outputs": [
    {
     "data": {
      "text/html": [
       "<div>\n",
       "<style scoped>\n",
       "    .dataframe tbody tr th:only-of-type {\n",
       "        vertical-align: middle;\n",
       "    }\n",
       "\n",
       "    .dataframe tbody tr th {\n",
       "        vertical-align: top;\n",
       "    }\n",
       "\n",
       "    .dataframe thead th {\n",
       "        text-align: right;\n",
       "    }\n",
       "</style>\n",
       "<table border=\"1\" class=\"dataframe\">\n",
       "  <thead>\n",
       "    <tr style=\"text-align: right;\">\n",
       "      <th></th>\n",
       "      <th>A</th>\n",
       "      <th>B</th>\n",
       "      <th>C</th>\n",
       "    </tr>\n",
       "  </thead>\n",
       "  <tbody>\n",
       "    <tr>\n",
       "      <th>2000-01-01</th>\n",
       "      <td>1.127802</td>\n",
       "      <td>0.508257</td>\n",
       "      <td>0.045769</td>\n",
       "    </tr>\n",
       "    <tr>\n",
       "      <th>2000-01-02</th>\n",
       "      <td>0.516515</td>\n",
       "      <td>0.115133</td>\n",
       "      <td>0.866696</td>\n",
       "    </tr>\n",
       "    <tr>\n",
       "      <th>2000-01-03</th>\n",
       "      <td>1.124268</td>\n",
       "      <td>1.246086</td>\n",
       "      <td>0.017015</td>\n",
       "    </tr>\n",
       "    <tr>\n",
       "      <th>2000-01-04</th>\n",
       "      <td>NaN</td>\n",
       "      <td>NaN</td>\n",
       "      <td>NaN</td>\n",
       "    </tr>\n",
       "    <tr>\n",
       "      <th>2000-01-05</th>\n",
       "      <td>NaN</td>\n",
       "      <td>NaN</td>\n",
       "      <td>NaN</td>\n",
       "    </tr>\n",
       "    <tr>\n",
       "      <th>2000-01-06</th>\n",
       "      <td>NaN</td>\n",
       "      <td>NaN</td>\n",
       "      <td>NaN</td>\n",
       "    </tr>\n",
       "    <tr>\n",
       "      <th>2000-01-07</th>\n",
       "      <td>NaN</td>\n",
       "      <td>NaN</td>\n",
       "      <td>NaN</td>\n",
       "    </tr>\n",
       "    <tr>\n",
       "      <th>2000-01-08</th>\n",
       "      <td>0.236259</td>\n",
       "      <td>0.968857</td>\n",
       "      <td>1.723036</td>\n",
       "    </tr>\n",
       "    <tr>\n",
       "      <th>2000-01-09</th>\n",
       "      <td>1.068089</td>\n",
       "      <td>1.880266</td>\n",
       "      <td>1.194770</td>\n",
       "    </tr>\n",
       "    <tr>\n",
       "      <th>2000-01-10</th>\n",
       "      <td>1.118140</td>\n",
       "      <td>0.323175</td>\n",
       "      <td>0.638887</td>\n",
       "    </tr>\n",
       "  </tbody>\n",
       "</table>\n",
       "</div>"
      ],
      "text/plain": [
       "                   A         B         C\n",
       "2000-01-01  1.127802  0.508257  0.045769\n",
       "2000-01-02  0.516515  0.115133  0.866696\n",
       "2000-01-03  1.124268  1.246086  0.017015\n",
       "2000-01-04       NaN       NaN       NaN\n",
       "2000-01-05       NaN       NaN       NaN\n",
       "2000-01-06       NaN       NaN       NaN\n",
       "2000-01-07       NaN       NaN       NaN\n",
       "2000-01-08  0.236259  0.968857  1.723036\n",
       "2000-01-09  1.068089  1.880266  1.194770\n",
       "2000-01-10  1.118140  0.323175  0.638887"
      ]
     },
     "execution_count": 133,
     "metadata": {},
     "output_type": "execute_result"
    }
   ],
   "source": [
    "tsdf.transform(np.abs)"
   ]
  },
  {
   "cell_type": "code",
   "execution_count": 134,
   "id": "701cb374-699d-4245-8bf1-546a9fbea470",
   "metadata": {},
   "outputs": [
    {
     "data": {
      "text/html": [
       "<div>\n",
       "<style scoped>\n",
       "    .dataframe tbody tr th:only-of-type {\n",
       "        vertical-align: middle;\n",
       "    }\n",
       "\n",
       "    .dataframe tbody tr th {\n",
       "        vertical-align: top;\n",
       "    }\n",
       "\n",
       "    .dataframe thead th {\n",
       "        text-align: right;\n",
       "    }\n",
       "</style>\n",
       "<table border=\"1\" class=\"dataframe\">\n",
       "  <thead>\n",
       "    <tr style=\"text-align: right;\">\n",
       "      <th></th>\n",
       "      <th>A</th>\n",
       "      <th>B</th>\n",
       "      <th>C</th>\n",
       "    </tr>\n",
       "  </thead>\n",
       "  <tbody>\n",
       "    <tr>\n",
       "      <th>2000-01-01</th>\n",
       "      <td>1.127802</td>\n",
       "      <td>0.508257</td>\n",
       "      <td>0.045769</td>\n",
       "    </tr>\n",
       "    <tr>\n",
       "      <th>2000-01-02</th>\n",
       "      <td>0.516515</td>\n",
       "      <td>0.115133</td>\n",
       "      <td>0.866696</td>\n",
       "    </tr>\n",
       "    <tr>\n",
       "      <th>2000-01-03</th>\n",
       "      <td>1.124268</td>\n",
       "      <td>1.246086</td>\n",
       "      <td>0.017015</td>\n",
       "    </tr>\n",
       "    <tr>\n",
       "      <th>2000-01-04</th>\n",
       "      <td>NaN</td>\n",
       "      <td>NaN</td>\n",
       "      <td>NaN</td>\n",
       "    </tr>\n",
       "    <tr>\n",
       "      <th>2000-01-05</th>\n",
       "      <td>NaN</td>\n",
       "      <td>NaN</td>\n",
       "      <td>NaN</td>\n",
       "    </tr>\n",
       "    <tr>\n",
       "      <th>2000-01-06</th>\n",
       "      <td>NaN</td>\n",
       "      <td>NaN</td>\n",
       "      <td>NaN</td>\n",
       "    </tr>\n",
       "    <tr>\n",
       "      <th>2000-01-07</th>\n",
       "      <td>NaN</td>\n",
       "      <td>NaN</td>\n",
       "      <td>NaN</td>\n",
       "    </tr>\n",
       "    <tr>\n",
       "      <th>2000-01-08</th>\n",
       "      <td>0.236259</td>\n",
       "      <td>0.968857</td>\n",
       "      <td>1.723036</td>\n",
       "    </tr>\n",
       "    <tr>\n",
       "      <th>2000-01-09</th>\n",
       "      <td>1.068089</td>\n",
       "      <td>1.880266</td>\n",
       "      <td>1.194770</td>\n",
       "    </tr>\n",
       "    <tr>\n",
       "      <th>2000-01-10</th>\n",
       "      <td>1.118140</td>\n",
       "      <td>0.323175</td>\n",
       "      <td>0.638887</td>\n",
       "    </tr>\n",
       "  </tbody>\n",
       "</table>\n",
       "</div>"
      ],
      "text/plain": [
       "                   A         B         C\n",
       "2000-01-01  1.127802  0.508257  0.045769\n",
       "2000-01-02  0.516515  0.115133  0.866696\n",
       "2000-01-03  1.124268  1.246086  0.017015\n",
       "2000-01-04       NaN       NaN       NaN\n",
       "2000-01-05       NaN       NaN       NaN\n",
       "2000-01-06       NaN       NaN       NaN\n",
       "2000-01-07       NaN       NaN       NaN\n",
       "2000-01-08  0.236259  0.968857  1.723036\n",
       "2000-01-09  1.068089  1.880266  1.194770\n",
       "2000-01-10  1.118140  0.323175  0.638887"
      ]
     },
     "execution_count": 134,
     "metadata": {},
     "output_type": "execute_result"
    }
   ],
   "source": [
    "tsdf.transform(np.abs)"
   ]
  },
  {
   "cell_type": "code",
   "execution_count": 135,
   "id": "43541e63-593b-4087-b1ef-48cffedf4aaa",
   "metadata": {},
   "outputs": [
    {
     "data": {
      "text/html": [
       "<div>\n",
       "<style scoped>\n",
       "    .dataframe tbody tr th:only-of-type {\n",
       "        vertical-align: middle;\n",
       "    }\n",
       "\n",
       "    .dataframe tbody tr th {\n",
       "        vertical-align: top;\n",
       "    }\n",
       "\n",
       "    .dataframe thead th {\n",
       "        text-align: right;\n",
       "    }\n",
       "</style>\n",
       "<table border=\"1\" class=\"dataframe\">\n",
       "  <thead>\n",
       "    <tr style=\"text-align: right;\">\n",
       "      <th></th>\n",
       "      <th>A</th>\n",
       "      <th>B</th>\n",
       "      <th>C</th>\n",
       "    </tr>\n",
       "  </thead>\n",
       "  <tbody>\n",
       "    <tr>\n",
       "      <th>2000-01-01</th>\n",
       "      <td>1.127802</td>\n",
       "      <td>0.508257</td>\n",
       "      <td>0.045769</td>\n",
       "    </tr>\n",
       "    <tr>\n",
       "      <th>2000-01-02</th>\n",
       "      <td>0.516515</td>\n",
       "      <td>0.115133</td>\n",
       "      <td>0.866696</td>\n",
       "    </tr>\n",
       "    <tr>\n",
       "      <th>2000-01-03</th>\n",
       "      <td>1.124268</td>\n",
       "      <td>1.246086</td>\n",
       "      <td>0.017015</td>\n",
       "    </tr>\n",
       "    <tr>\n",
       "      <th>2000-01-04</th>\n",
       "      <td>NaN</td>\n",
       "      <td>NaN</td>\n",
       "      <td>NaN</td>\n",
       "    </tr>\n",
       "    <tr>\n",
       "      <th>2000-01-05</th>\n",
       "      <td>NaN</td>\n",
       "      <td>NaN</td>\n",
       "      <td>NaN</td>\n",
       "    </tr>\n",
       "    <tr>\n",
       "      <th>2000-01-06</th>\n",
       "      <td>NaN</td>\n",
       "      <td>NaN</td>\n",
       "      <td>NaN</td>\n",
       "    </tr>\n",
       "    <tr>\n",
       "      <th>2000-01-07</th>\n",
       "      <td>NaN</td>\n",
       "      <td>NaN</td>\n",
       "      <td>NaN</td>\n",
       "    </tr>\n",
       "    <tr>\n",
       "      <th>2000-01-08</th>\n",
       "      <td>0.236259</td>\n",
       "      <td>0.968857</td>\n",
       "      <td>1.723036</td>\n",
       "    </tr>\n",
       "    <tr>\n",
       "      <th>2000-01-09</th>\n",
       "      <td>1.068089</td>\n",
       "      <td>1.880266</td>\n",
       "      <td>1.194770</td>\n",
       "    </tr>\n",
       "    <tr>\n",
       "      <th>2000-01-10</th>\n",
       "      <td>1.118140</td>\n",
       "      <td>0.323175</td>\n",
       "      <td>0.638887</td>\n",
       "    </tr>\n",
       "  </tbody>\n",
       "</table>\n",
       "</div>"
      ],
      "text/plain": [
       "                   A         B         C\n",
       "2000-01-01  1.127802  0.508257  0.045769\n",
       "2000-01-02  0.516515  0.115133  0.866696\n",
       "2000-01-03  1.124268  1.246086  0.017015\n",
       "2000-01-04       NaN       NaN       NaN\n",
       "2000-01-05       NaN       NaN       NaN\n",
       "2000-01-06       NaN       NaN       NaN\n",
       "2000-01-07       NaN       NaN       NaN\n",
       "2000-01-08  0.236259  0.968857  1.723036\n",
       "2000-01-09  1.068089  1.880266  1.194770\n",
       "2000-01-10  1.118140  0.323175  0.638887"
      ]
     },
     "execution_count": 135,
     "metadata": {},
     "output_type": "execute_result"
    }
   ],
   "source": [
    "tsdf.transform(\"abs\")"
   ]
  },
  {
   "cell_type": "code",
   "execution_count": 136,
   "id": "e539bfc5-a0ef-4dd8-8f0f-d136ce101aeb",
   "metadata": {},
   "outputs": [
    {
     "data": {
      "text/html": [
       "<div>\n",
       "<style scoped>\n",
       "    .dataframe tbody tr th:only-of-type {\n",
       "        vertical-align: middle;\n",
       "    }\n",
       "\n",
       "    .dataframe tbody tr th {\n",
       "        vertical-align: top;\n",
       "    }\n",
       "\n",
       "    .dataframe thead th {\n",
       "        text-align: right;\n",
       "    }\n",
       "</style>\n",
       "<table border=\"1\" class=\"dataframe\">\n",
       "  <thead>\n",
       "    <tr style=\"text-align: right;\">\n",
       "      <th></th>\n",
       "      <th>A</th>\n",
       "      <th>B</th>\n",
       "      <th>C</th>\n",
       "    </tr>\n",
       "  </thead>\n",
       "  <tbody>\n",
       "    <tr>\n",
       "      <th>2000-01-01</th>\n",
       "      <td>1.127802</td>\n",
       "      <td>0.508257</td>\n",
       "      <td>0.045769</td>\n",
       "    </tr>\n",
       "    <tr>\n",
       "      <th>2000-01-02</th>\n",
       "      <td>0.516515</td>\n",
       "      <td>0.115133</td>\n",
       "      <td>0.866696</td>\n",
       "    </tr>\n",
       "    <tr>\n",
       "      <th>2000-01-03</th>\n",
       "      <td>1.124268</td>\n",
       "      <td>1.246086</td>\n",
       "      <td>0.017015</td>\n",
       "    </tr>\n",
       "    <tr>\n",
       "      <th>2000-01-04</th>\n",
       "      <td>NaN</td>\n",
       "      <td>NaN</td>\n",
       "      <td>NaN</td>\n",
       "    </tr>\n",
       "    <tr>\n",
       "      <th>2000-01-05</th>\n",
       "      <td>NaN</td>\n",
       "      <td>NaN</td>\n",
       "      <td>NaN</td>\n",
       "    </tr>\n",
       "    <tr>\n",
       "      <th>2000-01-06</th>\n",
       "      <td>NaN</td>\n",
       "      <td>NaN</td>\n",
       "      <td>NaN</td>\n",
       "    </tr>\n",
       "    <tr>\n",
       "      <th>2000-01-07</th>\n",
       "      <td>NaN</td>\n",
       "      <td>NaN</td>\n",
       "      <td>NaN</td>\n",
       "    </tr>\n",
       "    <tr>\n",
       "      <th>2000-01-08</th>\n",
       "      <td>0.236259</td>\n",
       "      <td>0.968857</td>\n",
       "      <td>1.723036</td>\n",
       "    </tr>\n",
       "    <tr>\n",
       "      <th>2000-01-09</th>\n",
       "      <td>1.068089</td>\n",
       "      <td>1.880266</td>\n",
       "      <td>1.194770</td>\n",
       "    </tr>\n",
       "    <tr>\n",
       "      <th>2000-01-10</th>\n",
       "      <td>1.118140</td>\n",
       "      <td>0.323175</td>\n",
       "      <td>0.638887</td>\n",
       "    </tr>\n",
       "  </tbody>\n",
       "</table>\n",
       "</div>"
      ],
      "text/plain": [
       "                   A         B         C\n",
       "2000-01-01  1.127802  0.508257  0.045769\n",
       "2000-01-02  0.516515  0.115133  0.866696\n",
       "2000-01-03  1.124268  1.246086  0.017015\n",
       "2000-01-04       NaN       NaN       NaN\n",
       "2000-01-05       NaN       NaN       NaN\n",
       "2000-01-06       NaN       NaN       NaN\n",
       "2000-01-07       NaN       NaN       NaN\n",
       "2000-01-08  0.236259  0.968857  1.723036\n",
       "2000-01-09  1.068089  1.880266  1.194770\n",
       "2000-01-10  1.118140  0.323175  0.638887"
      ]
     },
     "execution_count": 136,
     "metadata": {},
     "output_type": "execute_result"
    }
   ],
   "source": [
    "tsdf.transform(lambda x: x.abs())"
   ]
  },
  {
   "cell_type": "markdown",
   "id": "ec192622-e6dd-440f-960e-2561ab414572",
   "metadata": {},
   "source": [
    "Here transform() received a single function; this is equivalent to a ufunc application."
   ]
  },
  {
   "cell_type": "code",
   "execution_count": 137,
   "id": "49e1e18b-7123-493d-b423-f4dad3dc11e7",
   "metadata": {},
   "outputs": [
    {
     "data": {
      "text/html": [
       "<div>\n",
       "<style scoped>\n",
       "    .dataframe tbody tr th:only-of-type {\n",
       "        vertical-align: middle;\n",
       "    }\n",
       "\n",
       "    .dataframe tbody tr th {\n",
       "        vertical-align: top;\n",
       "    }\n",
       "\n",
       "    .dataframe thead th {\n",
       "        text-align: right;\n",
       "    }\n",
       "</style>\n",
       "<table border=\"1\" class=\"dataframe\">\n",
       "  <thead>\n",
       "    <tr style=\"text-align: right;\">\n",
       "      <th></th>\n",
       "      <th>A</th>\n",
       "      <th>B</th>\n",
       "      <th>C</th>\n",
       "    </tr>\n",
       "  </thead>\n",
       "  <tbody>\n",
       "    <tr>\n",
       "      <th>2000-01-01</th>\n",
       "      <td>1.127802</td>\n",
       "      <td>0.508257</td>\n",
       "      <td>0.045769</td>\n",
       "    </tr>\n",
       "    <tr>\n",
       "      <th>2000-01-02</th>\n",
       "      <td>0.516515</td>\n",
       "      <td>0.115133</td>\n",
       "      <td>0.866696</td>\n",
       "    </tr>\n",
       "    <tr>\n",
       "      <th>2000-01-03</th>\n",
       "      <td>1.124268</td>\n",
       "      <td>1.246086</td>\n",
       "      <td>0.017015</td>\n",
       "    </tr>\n",
       "    <tr>\n",
       "      <th>2000-01-04</th>\n",
       "      <td>NaN</td>\n",
       "      <td>NaN</td>\n",
       "      <td>NaN</td>\n",
       "    </tr>\n",
       "    <tr>\n",
       "      <th>2000-01-05</th>\n",
       "      <td>NaN</td>\n",
       "      <td>NaN</td>\n",
       "      <td>NaN</td>\n",
       "    </tr>\n",
       "    <tr>\n",
       "      <th>2000-01-06</th>\n",
       "      <td>NaN</td>\n",
       "      <td>NaN</td>\n",
       "      <td>NaN</td>\n",
       "    </tr>\n",
       "    <tr>\n",
       "      <th>2000-01-07</th>\n",
       "      <td>NaN</td>\n",
       "      <td>NaN</td>\n",
       "      <td>NaN</td>\n",
       "    </tr>\n",
       "    <tr>\n",
       "      <th>2000-01-08</th>\n",
       "      <td>0.236259</td>\n",
       "      <td>0.968857</td>\n",
       "      <td>1.723036</td>\n",
       "    </tr>\n",
       "    <tr>\n",
       "      <th>2000-01-09</th>\n",
       "      <td>1.068089</td>\n",
       "      <td>1.880266</td>\n",
       "      <td>1.194770</td>\n",
       "    </tr>\n",
       "    <tr>\n",
       "      <th>2000-01-10</th>\n",
       "      <td>1.118140</td>\n",
       "      <td>0.323175</td>\n",
       "      <td>0.638887</td>\n",
       "    </tr>\n",
       "  </tbody>\n",
       "</table>\n",
       "</div>"
      ],
      "text/plain": [
       "                   A         B         C\n",
       "2000-01-01  1.127802  0.508257  0.045769\n",
       "2000-01-02  0.516515  0.115133  0.866696\n",
       "2000-01-03  1.124268  1.246086  0.017015\n",
       "2000-01-04       NaN       NaN       NaN\n",
       "2000-01-05       NaN       NaN       NaN\n",
       "2000-01-06       NaN       NaN       NaN\n",
       "2000-01-07       NaN       NaN       NaN\n",
       "2000-01-08  0.236259  0.968857  1.723036\n",
       "2000-01-09  1.068089  1.880266  1.194770\n",
       "2000-01-10  1.118140  0.323175  0.638887"
      ]
     },
     "execution_count": 137,
     "metadata": {},
     "output_type": "execute_result"
    }
   ],
   "source": [
    "np.abs(tsdf)"
   ]
  },
  {
   "cell_type": "markdown",
   "id": "b1fa1251-579a-470c-a670-c54bb6dfd981",
   "metadata": {},
   "source": [
    "Passing a single function to .transform() with a Series will yield a single Series in return."
   ]
  },
  {
   "cell_type": "code",
   "execution_count": 138,
   "id": "8c7a7100-1888-4b6e-8c57-4112cb1e1dee",
   "metadata": {},
   "outputs": [
    {
     "data": {
      "text/plain": [
       "2000-01-01    1.127802\n",
       "2000-01-02    0.516515\n",
       "2000-01-03    1.124268\n",
       "2000-01-04         NaN\n",
       "2000-01-05         NaN\n",
       "2000-01-06         NaN\n",
       "2000-01-07         NaN\n",
       "2000-01-08    0.236259\n",
       "2000-01-09    1.068089\n",
       "2000-01-10    1.118140\n",
       "Freq: D, Name: A, dtype: float64"
      ]
     },
     "execution_count": 138,
     "metadata": {},
     "output_type": "execute_result"
    }
   ],
   "source": [
    "tsdf[\"A\"].transform(np.abs)"
   ]
  },
  {
   "cell_type": "markdown",
   "id": "ff04f4d1-5fa6-441f-9d6e-f6299f7a1d55",
   "metadata": {},
   "source": [
    "### Transform with multiple functions\n",
    "Passing multiple functions will yield a column MultiIndexed DataFrame. The first level will be the original frame column names; the second level will be the names of the transforming functions."
   ]
  },
  {
   "cell_type": "code",
   "execution_count": 139,
   "id": "41642b2a-bc0c-4871-9ffa-1e4e892dd601",
   "metadata": {},
   "outputs": [
    {
     "data": {
      "text/html": [
       "<div>\n",
       "<style scoped>\n",
       "    .dataframe tbody tr th:only-of-type {\n",
       "        vertical-align: middle;\n",
       "    }\n",
       "\n",
       "    .dataframe tbody tr th {\n",
       "        vertical-align: top;\n",
       "    }\n",
       "\n",
       "    .dataframe thead tr th {\n",
       "        text-align: left;\n",
       "    }\n",
       "</style>\n",
       "<table border=\"1\" class=\"dataframe\">\n",
       "  <thead>\n",
       "    <tr>\n",
       "      <th></th>\n",
       "      <th colspan=\"2\" halign=\"left\">A</th>\n",
       "      <th colspan=\"2\" halign=\"left\">B</th>\n",
       "      <th colspan=\"2\" halign=\"left\">C</th>\n",
       "    </tr>\n",
       "    <tr>\n",
       "      <th></th>\n",
       "      <th>absolute</th>\n",
       "      <th>&lt;lambda&gt;</th>\n",
       "      <th>absolute</th>\n",
       "      <th>&lt;lambda&gt;</th>\n",
       "      <th>absolute</th>\n",
       "      <th>&lt;lambda&gt;</th>\n",
       "    </tr>\n",
       "  </thead>\n",
       "  <tbody>\n",
       "    <tr>\n",
       "      <th>2000-01-01</th>\n",
       "      <td>1.127802</td>\n",
       "      <td>2.127802</td>\n",
       "      <td>0.508257</td>\n",
       "      <td>1.508257</td>\n",
       "      <td>0.045769</td>\n",
       "      <td>0.954231</td>\n",
       "    </tr>\n",
       "    <tr>\n",
       "      <th>2000-01-02</th>\n",
       "      <td>0.516515</td>\n",
       "      <td>0.483485</td>\n",
       "      <td>0.115133</td>\n",
       "      <td>1.115133</td>\n",
       "      <td>0.866696</td>\n",
       "      <td>1.866696</td>\n",
       "    </tr>\n",
       "    <tr>\n",
       "      <th>2000-01-03</th>\n",
       "      <td>1.124268</td>\n",
       "      <td>2.124268</td>\n",
       "      <td>1.246086</td>\n",
       "      <td>2.246086</td>\n",
       "      <td>0.017015</td>\n",
       "      <td>0.982985</td>\n",
       "    </tr>\n",
       "    <tr>\n",
       "      <th>2000-01-04</th>\n",
       "      <td>NaN</td>\n",
       "      <td>NaN</td>\n",
       "      <td>NaN</td>\n",
       "      <td>NaN</td>\n",
       "      <td>NaN</td>\n",
       "      <td>NaN</td>\n",
       "    </tr>\n",
       "    <tr>\n",
       "      <th>2000-01-05</th>\n",
       "      <td>NaN</td>\n",
       "      <td>NaN</td>\n",
       "      <td>NaN</td>\n",
       "      <td>NaN</td>\n",
       "      <td>NaN</td>\n",
       "      <td>NaN</td>\n",
       "    </tr>\n",
       "    <tr>\n",
       "      <th>2000-01-06</th>\n",
       "      <td>NaN</td>\n",
       "      <td>NaN</td>\n",
       "      <td>NaN</td>\n",
       "      <td>NaN</td>\n",
       "      <td>NaN</td>\n",
       "      <td>NaN</td>\n",
       "    </tr>\n",
       "    <tr>\n",
       "      <th>2000-01-07</th>\n",
       "      <td>NaN</td>\n",
       "      <td>NaN</td>\n",
       "      <td>NaN</td>\n",
       "      <td>NaN</td>\n",
       "      <td>NaN</td>\n",
       "      <td>NaN</td>\n",
       "    </tr>\n",
       "    <tr>\n",
       "      <th>2000-01-08</th>\n",
       "      <td>0.236259</td>\n",
       "      <td>0.763741</td>\n",
       "      <td>0.968857</td>\n",
       "      <td>1.968857</td>\n",
       "      <td>1.723036</td>\n",
       "      <td>-0.723036</td>\n",
       "    </tr>\n",
       "    <tr>\n",
       "      <th>2000-01-09</th>\n",
       "      <td>1.068089</td>\n",
       "      <td>-0.068089</td>\n",
       "      <td>1.880266</td>\n",
       "      <td>2.880266</td>\n",
       "      <td>1.194770</td>\n",
       "      <td>-0.194770</td>\n",
       "    </tr>\n",
       "    <tr>\n",
       "      <th>2000-01-10</th>\n",
       "      <td>1.118140</td>\n",
       "      <td>2.118140</td>\n",
       "      <td>0.323175</td>\n",
       "      <td>0.676825</td>\n",
       "      <td>0.638887</td>\n",
       "      <td>1.638887</td>\n",
       "    </tr>\n",
       "  </tbody>\n",
       "</table>\n",
       "</div>"
      ],
      "text/plain": [
       "                   A                   B                   C          \n",
       "            absolute  <lambda>  absolute  <lambda>  absolute  <lambda>\n",
       "2000-01-01  1.127802  2.127802  0.508257  1.508257  0.045769  0.954231\n",
       "2000-01-02  0.516515  0.483485  0.115133  1.115133  0.866696  1.866696\n",
       "2000-01-03  1.124268  2.124268  1.246086  2.246086  0.017015  0.982985\n",
       "2000-01-04       NaN       NaN       NaN       NaN       NaN       NaN\n",
       "2000-01-05       NaN       NaN       NaN       NaN       NaN       NaN\n",
       "2000-01-06       NaN       NaN       NaN       NaN       NaN       NaN\n",
       "2000-01-07       NaN       NaN       NaN       NaN       NaN       NaN\n",
       "2000-01-08  0.236259  0.763741  0.968857  1.968857  1.723036 -0.723036\n",
       "2000-01-09  1.068089 -0.068089  1.880266  2.880266  1.194770 -0.194770\n",
       "2000-01-10  1.118140  2.118140  0.323175  0.676825  0.638887  1.638887"
      ]
     },
     "execution_count": 139,
     "metadata": {},
     "output_type": "execute_result"
    }
   ],
   "source": [
    "tsdf.transform([np.abs, lambda x: x + 1])"
   ]
  },
  {
   "cell_type": "markdown",
   "id": "137af333-e2e2-42a1-9321-2785c0c9912f",
   "metadata": {},
   "source": [
    "Passing multiple functions to a Series will yield a DataFrame. The resulting column names will be the transforming functions."
   ]
  },
  {
   "cell_type": "code",
   "execution_count": 140,
   "id": "ab13a830-60a6-4412-8360-0773d00195c6",
   "metadata": {},
   "outputs": [
    {
     "data": {
      "text/html": [
       "<div>\n",
       "<style scoped>\n",
       "    .dataframe tbody tr th:only-of-type {\n",
       "        vertical-align: middle;\n",
       "    }\n",
       "\n",
       "    .dataframe tbody tr th {\n",
       "        vertical-align: top;\n",
       "    }\n",
       "\n",
       "    .dataframe thead th {\n",
       "        text-align: right;\n",
       "    }\n",
       "</style>\n",
       "<table border=\"1\" class=\"dataframe\">\n",
       "  <thead>\n",
       "    <tr style=\"text-align: right;\">\n",
       "      <th></th>\n",
       "      <th>absolute</th>\n",
       "      <th>&lt;lambda&gt;</th>\n",
       "    </tr>\n",
       "  </thead>\n",
       "  <tbody>\n",
       "    <tr>\n",
       "      <th>2000-01-01</th>\n",
       "      <td>1.127802</td>\n",
       "      <td>2.127802</td>\n",
       "    </tr>\n",
       "    <tr>\n",
       "      <th>2000-01-02</th>\n",
       "      <td>0.516515</td>\n",
       "      <td>0.483485</td>\n",
       "    </tr>\n",
       "    <tr>\n",
       "      <th>2000-01-03</th>\n",
       "      <td>1.124268</td>\n",
       "      <td>2.124268</td>\n",
       "    </tr>\n",
       "    <tr>\n",
       "      <th>2000-01-04</th>\n",
       "      <td>NaN</td>\n",
       "      <td>NaN</td>\n",
       "    </tr>\n",
       "    <tr>\n",
       "      <th>2000-01-05</th>\n",
       "      <td>NaN</td>\n",
       "      <td>NaN</td>\n",
       "    </tr>\n",
       "    <tr>\n",
       "      <th>2000-01-06</th>\n",
       "      <td>NaN</td>\n",
       "      <td>NaN</td>\n",
       "    </tr>\n",
       "    <tr>\n",
       "      <th>2000-01-07</th>\n",
       "      <td>NaN</td>\n",
       "      <td>NaN</td>\n",
       "    </tr>\n",
       "    <tr>\n",
       "      <th>2000-01-08</th>\n",
       "      <td>0.236259</td>\n",
       "      <td>0.763741</td>\n",
       "    </tr>\n",
       "    <tr>\n",
       "      <th>2000-01-09</th>\n",
       "      <td>1.068089</td>\n",
       "      <td>-0.068089</td>\n",
       "    </tr>\n",
       "    <tr>\n",
       "      <th>2000-01-10</th>\n",
       "      <td>1.118140</td>\n",
       "      <td>2.118140</td>\n",
       "    </tr>\n",
       "  </tbody>\n",
       "</table>\n",
       "</div>"
      ],
      "text/plain": [
       "            absolute  <lambda>\n",
       "2000-01-01  1.127802  2.127802\n",
       "2000-01-02  0.516515  0.483485\n",
       "2000-01-03  1.124268  2.124268\n",
       "2000-01-04       NaN       NaN\n",
       "2000-01-05       NaN       NaN\n",
       "2000-01-06       NaN       NaN\n",
       "2000-01-07       NaN       NaN\n",
       "2000-01-08  0.236259  0.763741\n",
       "2000-01-09  1.068089 -0.068089\n",
       "2000-01-10  1.118140  2.118140"
      ]
     },
     "execution_count": 140,
     "metadata": {},
     "output_type": "execute_result"
    }
   ],
   "source": [
    "tsdf[\"A\"].transform([np.abs, lambda x: x + 1])"
   ]
  },
  {
   "cell_type": "markdown",
   "id": "129f751f-e204-450a-9b9b-63673d5f6b24",
   "metadata": {},
   "source": [
    "### Transforming with a dict\n",
    "Passing a dict of functions will allow selective transforming per column."
   ]
  },
  {
   "cell_type": "code",
   "execution_count": 141,
   "id": "8c2e666c-878e-4716-84fe-0407f42bcf9a",
   "metadata": {},
   "outputs": [
    {
     "data": {
      "text/html": [
       "<div>\n",
       "<style scoped>\n",
       "    .dataframe tbody tr th:only-of-type {\n",
       "        vertical-align: middle;\n",
       "    }\n",
       "\n",
       "    .dataframe tbody tr th {\n",
       "        vertical-align: top;\n",
       "    }\n",
       "\n",
       "    .dataframe thead th {\n",
       "        text-align: right;\n",
       "    }\n",
       "</style>\n",
       "<table border=\"1\" class=\"dataframe\">\n",
       "  <thead>\n",
       "    <tr style=\"text-align: right;\">\n",
       "      <th></th>\n",
       "      <th>A</th>\n",
       "      <th>B</th>\n",
       "    </tr>\n",
       "  </thead>\n",
       "  <tbody>\n",
       "    <tr>\n",
       "      <th>2000-01-01</th>\n",
       "      <td>1.127802</td>\n",
       "      <td>1.508257</td>\n",
       "    </tr>\n",
       "    <tr>\n",
       "      <th>2000-01-02</th>\n",
       "      <td>0.516515</td>\n",
       "      <td>1.115133</td>\n",
       "    </tr>\n",
       "    <tr>\n",
       "      <th>2000-01-03</th>\n",
       "      <td>1.124268</td>\n",
       "      <td>2.246086</td>\n",
       "    </tr>\n",
       "    <tr>\n",
       "      <th>2000-01-04</th>\n",
       "      <td>NaN</td>\n",
       "      <td>NaN</td>\n",
       "    </tr>\n",
       "    <tr>\n",
       "      <th>2000-01-05</th>\n",
       "      <td>NaN</td>\n",
       "      <td>NaN</td>\n",
       "    </tr>\n",
       "    <tr>\n",
       "      <th>2000-01-06</th>\n",
       "      <td>NaN</td>\n",
       "      <td>NaN</td>\n",
       "    </tr>\n",
       "    <tr>\n",
       "      <th>2000-01-07</th>\n",
       "      <td>NaN</td>\n",
       "      <td>NaN</td>\n",
       "    </tr>\n",
       "    <tr>\n",
       "      <th>2000-01-08</th>\n",
       "      <td>0.236259</td>\n",
       "      <td>1.968857</td>\n",
       "    </tr>\n",
       "    <tr>\n",
       "      <th>2000-01-09</th>\n",
       "      <td>1.068089</td>\n",
       "      <td>2.880266</td>\n",
       "    </tr>\n",
       "    <tr>\n",
       "      <th>2000-01-10</th>\n",
       "      <td>1.118140</td>\n",
       "      <td>0.676825</td>\n",
       "    </tr>\n",
       "  </tbody>\n",
       "</table>\n",
       "</div>"
      ],
      "text/plain": [
       "                   A         B\n",
       "2000-01-01  1.127802  1.508257\n",
       "2000-01-02  0.516515  1.115133\n",
       "2000-01-03  1.124268  2.246086\n",
       "2000-01-04       NaN       NaN\n",
       "2000-01-05       NaN       NaN\n",
       "2000-01-06       NaN       NaN\n",
       "2000-01-07       NaN       NaN\n",
       "2000-01-08  0.236259  1.968857\n",
       "2000-01-09  1.068089  2.880266\n",
       "2000-01-10  1.118140  0.676825"
      ]
     },
     "execution_count": 141,
     "metadata": {},
     "output_type": "execute_result"
    }
   ],
   "source": [
    "tsdf.transform({\"A\": np.abs, \"B\": lambda x: x + 1})"
   ]
  },
  {
   "cell_type": "markdown",
   "id": "f903188d-c7a5-4739-a87b-272826e87612",
   "metadata": {},
   "source": [
    "Passing a dict of lists will generate a MultiIndexed DataFrame with these selective transforms."
   ]
  },
  {
   "cell_type": "code",
   "execution_count": 142,
   "id": "1c0b4ad2-94aa-4c50-9bc6-452ad7e14248",
   "metadata": {},
   "outputs": [
    {
     "name": "stderr",
     "output_type": "stream",
     "text": [
      "C:\\bin\\anaconda3\\envs\\eda_dev39\\lib\\site-packages\\pandas\\core\\arraylike.py:358: RuntimeWarning: invalid value encountered in sqrt\n",
      "  result = getattr(ufunc, method)(*inputs, **kwargs)\n"
     ]
    },
    {
     "data": {
      "text/html": [
       "<div>\n",
       "<style scoped>\n",
       "    .dataframe tbody tr th:only-of-type {\n",
       "        vertical-align: middle;\n",
       "    }\n",
       "\n",
       "    .dataframe tbody tr th {\n",
       "        vertical-align: top;\n",
       "    }\n",
       "\n",
       "    .dataframe thead tr th {\n",
       "        text-align: left;\n",
       "    }\n",
       "</style>\n",
       "<table border=\"1\" class=\"dataframe\">\n",
       "  <thead>\n",
       "    <tr>\n",
       "      <th></th>\n",
       "      <th>A</th>\n",
       "      <th colspan=\"2\" halign=\"left\">B</th>\n",
       "    </tr>\n",
       "    <tr>\n",
       "      <th></th>\n",
       "      <th>absolute</th>\n",
       "      <th>&lt;lambda&gt;</th>\n",
       "      <th>sqrt</th>\n",
       "    </tr>\n",
       "  </thead>\n",
       "  <tbody>\n",
       "    <tr>\n",
       "      <th>2000-01-01</th>\n",
       "      <td>1.127802</td>\n",
       "      <td>1.508257</td>\n",
       "      <td>0.712922</td>\n",
       "    </tr>\n",
       "    <tr>\n",
       "      <th>2000-01-02</th>\n",
       "      <td>0.516515</td>\n",
       "      <td>1.115133</td>\n",
       "      <td>0.339312</td>\n",
       "    </tr>\n",
       "    <tr>\n",
       "      <th>2000-01-03</th>\n",
       "      <td>1.124268</td>\n",
       "      <td>2.246086</td>\n",
       "      <td>1.116282</td>\n",
       "    </tr>\n",
       "    <tr>\n",
       "      <th>2000-01-04</th>\n",
       "      <td>NaN</td>\n",
       "      <td>NaN</td>\n",
       "      <td>NaN</td>\n",
       "    </tr>\n",
       "    <tr>\n",
       "      <th>2000-01-05</th>\n",
       "      <td>NaN</td>\n",
       "      <td>NaN</td>\n",
       "      <td>NaN</td>\n",
       "    </tr>\n",
       "    <tr>\n",
       "      <th>2000-01-06</th>\n",
       "      <td>NaN</td>\n",
       "      <td>NaN</td>\n",
       "      <td>NaN</td>\n",
       "    </tr>\n",
       "    <tr>\n",
       "      <th>2000-01-07</th>\n",
       "      <td>NaN</td>\n",
       "      <td>NaN</td>\n",
       "      <td>NaN</td>\n",
       "    </tr>\n",
       "    <tr>\n",
       "      <th>2000-01-08</th>\n",
       "      <td>0.236259</td>\n",
       "      <td>1.968857</td>\n",
       "      <td>0.984305</td>\n",
       "    </tr>\n",
       "    <tr>\n",
       "      <th>2000-01-09</th>\n",
       "      <td>1.068089</td>\n",
       "      <td>2.880266</td>\n",
       "      <td>1.371228</td>\n",
       "    </tr>\n",
       "    <tr>\n",
       "      <th>2000-01-10</th>\n",
       "      <td>1.118140</td>\n",
       "      <td>0.676825</td>\n",
       "      <td>NaN</td>\n",
       "    </tr>\n",
       "  </tbody>\n",
       "</table>\n",
       "</div>"
      ],
      "text/plain": [
       "                   A         B          \n",
       "            absolute  <lambda>      sqrt\n",
       "2000-01-01  1.127802  1.508257  0.712922\n",
       "2000-01-02  0.516515  1.115133  0.339312\n",
       "2000-01-03  1.124268  2.246086  1.116282\n",
       "2000-01-04       NaN       NaN       NaN\n",
       "2000-01-05       NaN       NaN       NaN\n",
       "2000-01-06       NaN       NaN       NaN\n",
       "2000-01-07       NaN       NaN       NaN\n",
       "2000-01-08  0.236259  1.968857  0.984305\n",
       "2000-01-09  1.068089  2.880266  1.371228\n",
       "2000-01-10  1.118140  0.676825       NaN"
      ]
     },
     "execution_count": 142,
     "metadata": {},
     "output_type": "execute_result"
    }
   ],
   "source": [
    "tsdf.transform({\"A\": np.abs, \"B\": [lambda x: x + 1, \"sqrt\"]})"
   ]
  },
  {
   "cell_type": "markdown",
   "id": "aa9c2ab1-67de-4921-90ec-3d36bb182b1e",
   "metadata": {},
   "source": [
    "## Applying elementwise functions\n",
    "Since not all functions can be vectorized (accept NumPy arrays and return another array or value), the methods applymap() on DataFrame and analogously map() on Series accept any Python function taking a single value and returning a single value. For example:"
   ]
  },
  {
   "cell_type": "code",
   "execution_count": 143,
   "id": "d32667a0-b2d5-498e-a729-7c55617da1a9",
   "metadata": {},
   "outputs": [
    {
     "name": "stdout",
     "output_type": "stream",
     "text": [
      "        one       two     three\n",
      "a  1.394981  1.772517       NaN\n",
      "b  0.343054  1.912123 -0.050390\n",
      "c  0.695246  1.478369  1.227435\n",
      "c       NaN  0.279344 -0.613172\n"
     ]
    }
   ],
   "source": [
    "df4 = pd.DataFrame(\n",
    "    {\n",
    "        \"one\": [1.394981,  0.343054, 0.695246, np.NaN],\n",
    "        \"two\": [1.772517,  1.912123, 1.478369, 0.279344],\n",
    "        \"three\": [np.NaN, -0.050390, 1.227435, -0.613172]\n",
    "    },\n",
    "    index = [\"a\", \"b\", \"c\", \"c\"]\n",
    ")\n",
    "print(df4)"
   ]
  },
  {
   "cell_type": "code",
   "execution_count": 144,
   "id": "7d75fe46-1397-4dae-ad40-7740dd3b068e",
   "metadata": {},
   "outputs": [
    {
     "data": {
      "text/plain": [
       "a    8\n",
       "b    8\n",
       "c    8\n",
       "c    3\n",
       "Name: one, dtype: int64"
      ]
     },
     "execution_count": 144,
     "metadata": {},
     "output_type": "execute_result"
    }
   ],
   "source": [
    "def f(x):\n",
    "    return len(str(x))\n",
    "df4[\"one\"].map(f)"
   ]
  },
  {
   "cell_type": "code",
   "execution_count": 145,
   "id": "3d90a70e-b79e-4517-9d28-1cbcd92d6550",
   "metadata": {},
   "outputs": [
    {
     "data": {
      "text/html": [
       "<div>\n",
       "<style scoped>\n",
       "    .dataframe tbody tr th:only-of-type {\n",
       "        vertical-align: middle;\n",
       "    }\n",
       "\n",
       "    .dataframe tbody tr th {\n",
       "        vertical-align: top;\n",
       "    }\n",
       "\n",
       "    .dataframe thead th {\n",
       "        text-align: right;\n",
       "    }\n",
       "</style>\n",
       "<table border=\"1\" class=\"dataframe\">\n",
       "  <thead>\n",
       "    <tr style=\"text-align: right;\">\n",
       "      <th></th>\n",
       "      <th>one</th>\n",
       "      <th>two</th>\n",
       "      <th>three</th>\n",
       "    </tr>\n",
       "  </thead>\n",
       "  <tbody>\n",
       "    <tr>\n",
       "      <th>a</th>\n",
       "      <td>8</td>\n",
       "      <td>8</td>\n",
       "      <td>3</td>\n",
       "    </tr>\n",
       "    <tr>\n",
       "      <th>b</th>\n",
       "      <td>8</td>\n",
       "      <td>8</td>\n",
       "      <td>8</td>\n",
       "    </tr>\n",
       "    <tr>\n",
       "      <th>c</th>\n",
       "      <td>8</td>\n",
       "      <td>8</td>\n",
       "      <td>8</td>\n",
       "    </tr>\n",
       "    <tr>\n",
       "      <th>c</th>\n",
       "      <td>3</td>\n",
       "      <td>8</td>\n",
       "      <td>9</td>\n",
       "    </tr>\n",
       "  </tbody>\n",
       "</table>\n",
       "</div>"
      ],
      "text/plain": [
       "   one  two  three\n",
       "a    8    8      3\n",
       "b    8    8      8\n",
       "c    8    8      8\n",
       "c    3    8      9"
      ]
     },
     "execution_count": 145,
     "metadata": {},
     "output_type": "execute_result"
    }
   ],
   "source": [
    "df4.applymap(f)"
   ]
  },
  {
   "cell_type": "markdown",
   "id": "3f5beca2-774f-42a3-9a90-3e12c63e5967",
   "metadata": {},
   "source": [
    "Series.map() has an additional feature; it can be used to easily “link” or “map” values defined by a secondary series. This is closely related to merging/joining functionality:"
   ]
  },
  {
   "cell_type": "code",
   "execution_count": 146,
   "id": "01acb189-ebd3-4027-b6ba-bc8fe748646a",
   "metadata": {},
   "outputs": [
    {
     "data": {
      "text/plain": [
       "a      six\n",
       "b    seven\n",
       "c      six\n",
       "d    seven\n",
       "e      six\n",
       "dtype: object"
      ]
     },
     "execution_count": 146,
     "metadata": {},
     "output_type": "execute_result"
    }
   ],
   "source": [
    "s = pd.Series(\n",
    "    [\"six\", \"seven\", \"six\", \"seven\", \"six\"], index=[\"a\", \"b\", \"c\", \"d\", \"e\"]\n",
    ")\n",
    "t = pd.Series({\"six\": 6.0, \"seven\": 7.0})\n",
    "s"
   ]
  },
  {
   "cell_type": "code",
   "execution_count": 147,
   "id": "0f528af9-8ead-474b-9923-cdd790da5867",
   "metadata": {},
   "outputs": [
    {
     "data": {
      "text/plain": [
       "a    6.0\n",
       "b    7.0\n",
       "c    6.0\n",
       "d    7.0\n",
       "e    6.0\n",
       "dtype: float64"
      ]
     },
     "execution_count": 147,
     "metadata": {},
     "output_type": "execute_result"
    }
   ],
   "source": [
    "s.map(t)"
   ]
  },
  {
   "cell_type": "markdown",
   "id": "46263ad5-08ee-4024-8bf1-c986bce384b0",
   "metadata": {},
   "source": [
    "## Reindexing and altering labels\n",
    "reindex() is the fundamental data alignment method in pandas. It is used to implement nearly all other features relying on label-alignment functionality. To reindex means to conform the data to match a given set of labels along a particular axis. This accomplishes several things:\n",
    "\n",
    "* Reorders the existing data to match a new set of labels\n",
    "* Inserts missing value (NA) markers in label locations where no data for that label existed\n",
    "* If specified, fill data for missing labels using logic (highly relevant to working with time series data)\n",
    "\n",
    "Here is a simple example:"
   ]
  },
  {
   "cell_type": "code",
   "execution_count": 148,
   "id": "ed7fd5a4-cd14-450d-aacd-aa29f3c281b5",
   "metadata": {},
   "outputs": [
    {
     "data": {
      "text/plain": [
       "a   -0.718293\n",
       "b   -0.571085\n",
       "c   -1.762498\n",
       "d   -0.201332\n",
       "e    1.091052\n",
       "dtype: float64"
      ]
     },
     "execution_count": 148,
     "metadata": {},
     "output_type": "execute_result"
    }
   ],
   "source": [
    "s = pd.Series(np.random.randn(5), index=[\"a\", \"b\", \"c\", \"d\", \"e\"])\n",
    "s"
   ]
  },
  {
   "cell_type": "code",
   "execution_count": 149,
   "id": "eb649d9a-f67c-44c6-b2b5-4521743a8968",
   "metadata": {},
   "outputs": [
    {
     "data": {
      "text/plain": [
       "e    1.091052\n",
       "b   -0.571085\n",
       "f         NaN\n",
       "d   -0.201332\n",
       "dtype: float64"
      ]
     },
     "execution_count": 149,
     "metadata": {},
     "output_type": "execute_result"
    }
   ],
   "source": [
    "s.reindex([\"e\", \"b\", \"f\", \"d\"])"
   ]
  },
  {
   "cell_type": "markdown",
   "id": "0ab3822f-03cc-4fb2-b148-6ef79db4ec2e",
   "metadata": {},
   "source": [
    "Here, the f label was not contained in the Series and hence appears as NaN in the result.\n",
    "\n",
    "With a DataFrame, you can simultaneously reindex the index and columns:"
   ]
  },
  {
   "cell_type": "code",
   "execution_count": 150,
   "id": "cd13c34b-33b5-4808-a27b-543554ed5ec3",
   "metadata": {},
   "outputs": [
    {
     "data": {
      "text/html": [
       "<div>\n",
       "<style scoped>\n",
       "    .dataframe tbody tr th:only-of-type {\n",
       "        vertical-align: middle;\n",
       "    }\n",
       "\n",
       "    .dataframe tbody tr th {\n",
       "        vertical-align: top;\n",
       "    }\n",
       "\n",
       "    .dataframe thead th {\n",
       "        text-align: right;\n",
       "    }\n",
       "</style>\n",
       "<table border=\"1\" class=\"dataframe\">\n",
       "  <thead>\n",
       "    <tr style=\"text-align: right;\">\n",
       "      <th></th>\n",
       "      <th>one</th>\n",
       "      <th>two</th>\n",
       "      <th>three</th>\n",
       "    </tr>\n",
       "  </thead>\n",
       "  <tbody>\n",
       "    <tr>\n",
       "      <th>a</th>\n",
       "      <td>0.274727</td>\n",
       "      <td>-1.238931</td>\n",
       "      <td>NaN</td>\n",
       "    </tr>\n",
       "    <tr>\n",
       "      <th>b</th>\n",
       "      <td>1.333173</td>\n",
       "      <td>-0.655718</td>\n",
       "      <td>-0.143628</td>\n",
       "    </tr>\n",
       "    <tr>\n",
       "      <th>c</th>\n",
       "      <td>1.313766</td>\n",
       "      <td>0.487951</td>\n",
       "      <td>0.550513</td>\n",
       "    </tr>\n",
       "    <tr>\n",
       "      <th>d</th>\n",
       "      <td>NaN</td>\n",
       "      <td>0.711664</td>\n",
       "      <td>0.294667</td>\n",
       "    </tr>\n",
       "  </tbody>\n",
       "</table>\n",
       "</div>"
      ],
      "text/plain": [
       "        one       two     three\n",
       "a  0.274727 -1.238931       NaN\n",
       "b  1.333173 -0.655718 -0.143628\n",
       "c  1.313766  0.487951  0.550513\n",
       "d       NaN  0.711664  0.294667"
      ]
     },
     "execution_count": 150,
     "metadata": {},
     "output_type": "execute_result"
    }
   ],
   "source": [
    "df"
   ]
  },
  {
   "cell_type": "code",
   "execution_count": 151,
   "id": "30912d81-98ae-4c6e-b100-ba5b85a0442f",
   "metadata": {},
   "outputs": [
    {
     "data": {
      "text/html": [
       "<div>\n",
       "<style scoped>\n",
       "    .dataframe tbody tr th:only-of-type {\n",
       "        vertical-align: middle;\n",
       "    }\n",
       "\n",
       "    .dataframe tbody tr th {\n",
       "        vertical-align: top;\n",
       "    }\n",
       "\n",
       "    .dataframe thead th {\n",
       "        text-align: right;\n",
       "    }\n",
       "</style>\n",
       "<table border=\"1\" class=\"dataframe\">\n",
       "  <thead>\n",
       "    <tr style=\"text-align: right;\">\n",
       "      <th></th>\n",
       "      <th>three</th>\n",
       "      <th>two</th>\n",
       "      <th>one</th>\n",
       "    </tr>\n",
       "  </thead>\n",
       "  <tbody>\n",
       "    <tr>\n",
       "      <th>c</th>\n",
       "      <td>0.550513</td>\n",
       "      <td>0.487951</td>\n",
       "      <td>1.313766</td>\n",
       "    </tr>\n",
       "    <tr>\n",
       "      <th>f</th>\n",
       "      <td>NaN</td>\n",
       "      <td>NaN</td>\n",
       "      <td>NaN</td>\n",
       "    </tr>\n",
       "    <tr>\n",
       "      <th>b</th>\n",
       "      <td>-0.143628</td>\n",
       "      <td>-0.655718</td>\n",
       "      <td>1.333173</td>\n",
       "    </tr>\n",
       "  </tbody>\n",
       "</table>\n",
       "</div>"
      ],
      "text/plain": [
       "      three       two       one\n",
       "c  0.550513  0.487951  1.313766\n",
       "f       NaN       NaN       NaN\n",
       "b -0.143628 -0.655718  1.333173"
      ]
     },
     "execution_count": 151,
     "metadata": {},
     "output_type": "execute_result"
    }
   ],
   "source": [
    "df.reindex(index=[\"c\", \"f\", \"b\"], columns=[\"three\", \"two\", \"one\"])"
   ]
  },
  {
   "cell_type": "markdown",
   "id": "bd335a89-ba0a-48d4-ab44-6dea5b808b0a",
   "metadata": {},
   "source": [
    "You may also use reindex with an axis keyword:"
   ]
  },
  {
   "cell_type": "code",
   "execution_count": 152,
   "id": "e49a6a34-a682-4d05-ba3b-cfae1b9dc7eb",
   "metadata": {},
   "outputs": [
    {
     "data": {
      "text/html": [
       "<div>\n",
       "<style scoped>\n",
       "    .dataframe tbody tr th:only-of-type {\n",
       "        vertical-align: middle;\n",
       "    }\n",
       "\n",
       "    .dataframe tbody tr th {\n",
       "        vertical-align: top;\n",
       "    }\n",
       "\n",
       "    .dataframe thead th {\n",
       "        text-align: right;\n",
       "    }\n",
       "</style>\n",
       "<table border=\"1\" class=\"dataframe\">\n",
       "  <thead>\n",
       "    <tr style=\"text-align: right;\">\n",
       "      <th></th>\n",
       "      <th>one</th>\n",
       "      <th>two</th>\n",
       "      <th>three</th>\n",
       "    </tr>\n",
       "  </thead>\n",
       "  <tbody>\n",
       "    <tr>\n",
       "      <th>c</th>\n",
       "      <td>1.313766</td>\n",
       "      <td>0.487951</td>\n",
       "      <td>0.550513</td>\n",
       "    </tr>\n",
       "    <tr>\n",
       "      <th>f</th>\n",
       "      <td>NaN</td>\n",
       "      <td>NaN</td>\n",
       "      <td>NaN</td>\n",
       "    </tr>\n",
       "    <tr>\n",
       "      <th>b</th>\n",
       "      <td>1.333173</td>\n",
       "      <td>-0.655718</td>\n",
       "      <td>-0.143628</td>\n",
       "    </tr>\n",
       "  </tbody>\n",
       "</table>\n",
       "</div>"
      ],
      "text/plain": [
       "        one       two     three\n",
       "c  1.313766  0.487951  0.550513\n",
       "f       NaN       NaN       NaN\n",
       "b  1.333173 -0.655718 -0.143628"
      ]
     },
     "execution_count": 152,
     "metadata": {},
     "output_type": "execute_result"
    }
   ],
   "source": [
    "df.reindex([\"c\", \"f\", \"b\"], axis=\"index\")"
   ]
  },
  {
   "cell_type": "markdown",
   "id": "e407f99f-724a-4539-8203-316f261c2122",
   "metadata": {},
   "source": [
    "Note that the Index objects containing the actual axis labels can be shared between objects. So if we have a Series and a DataFrame, the following can be done:"
   ]
  },
  {
   "cell_type": "code",
   "execution_count": 153,
   "id": "988472df-3595-4d99-82ce-14fb4e722426",
   "metadata": {},
   "outputs": [
    {
     "data": {
      "text/plain": [
       "a   -0.718293\n",
       "b   -0.571085\n",
       "c   -1.762498\n",
       "d   -0.201332\n",
       "dtype: float64"
      ]
     },
     "execution_count": 153,
     "metadata": {},
     "output_type": "execute_result"
    }
   ],
   "source": [
    "rs = s.reindex(df.index)\n",
    "rs"
   ]
  },
  {
   "cell_type": "code",
   "execution_count": 154,
   "id": "059958c6-93dd-4ec2-8c4a-1a2551f292fe",
   "metadata": {},
   "outputs": [
    {
     "data": {
      "text/plain": [
       "True"
      ]
     },
     "execution_count": 154,
     "metadata": {},
     "output_type": "execute_result"
    }
   ],
   "source": [
    "rs.index is df.index"
   ]
  },
  {
   "cell_type": "markdown",
   "id": "3885ad53-1fdb-40c2-9155-92440a947d3b",
   "metadata": {},
   "source": [
    "This means that the reindexed Series’s index is the same Python object as the DataFrame’s index.\n",
    "\n",
    "DataFrame.reindex() also supports an “axis-style” calling convention, where you specify a single labels argument and the axis it applies to."
   ]
  },
  {
   "cell_type": "code",
   "execution_count": 155,
   "id": "0b2aec38-9165-480f-9177-0de8d03f8766",
   "metadata": {},
   "outputs": [
    {
     "data": {
      "text/html": [
       "<div>\n",
       "<style scoped>\n",
       "    .dataframe tbody tr th:only-of-type {\n",
       "        vertical-align: middle;\n",
       "    }\n",
       "\n",
       "    .dataframe tbody tr th {\n",
       "        vertical-align: top;\n",
       "    }\n",
       "\n",
       "    .dataframe thead th {\n",
       "        text-align: right;\n",
       "    }\n",
       "</style>\n",
       "<table border=\"1\" class=\"dataframe\">\n",
       "  <thead>\n",
       "    <tr style=\"text-align: right;\">\n",
       "      <th></th>\n",
       "      <th>one</th>\n",
       "      <th>two</th>\n",
       "      <th>three</th>\n",
       "    </tr>\n",
       "  </thead>\n",
       "  <tbody>\n",
       "    <tr>\n",
       "      <th>c</th>\n",
       "      <td>1.313766</td>\n",
       "      <td>0.487951</td>\n",
       "      <td>0.550513</td>\n",
       "    </tr>\n",
       "    <tr>\n",
       "      <th>f</th>\n",
       "      <td>NaN</td>\n",
       "      <td>NaN</td>\n",
       "      <td>NaN</td>\n",
       "    </tr>\n",
       "    <tr>\n",
       "      <th>b</th>\n",
       "      <td>1.333173</td>\n",
       "      <td>-0.655718</td>\n",
       "      <td>-0.143628</td>\n",
       "    </tr>\n",
       "  </tbody>\n",
       "</table>\n",
       "</div>"
      ],
      "text/plain": [
       "        one       two     three\n",
       "c  1.313766  0.487951  0.550513\n",
       "f       NaN       NaN       NaN\n",
       "b  1.333173 -0.655718 -0.143628"
      ]
     },
     "execution_count": 155,
     "metadata": {},
     "output_type": "execute_result"
    }
   ],
   "source": [
    "df.reindex([\"c\", \"f\", \"b\"], axis=\"index\")"
   ]
  },
  {
   "cell_type": "code",
   "execution_count": 156,
   "id": "8a49f1ca-beb8-446c-a6f0-715c13374745",
   "metadata": {},
   "outputs": [
    {
     "data": {
      "text/html": [
       "<div>\n",
       "<style scoped>\n",
       "    .dataframe tbody tr th:only-of-type {\n",
       "        vertical-align: middle;\n",
       "    }\n",
       "\n",
       "    .dataframe tbody tr th {\n",
       "        vertical-align: top;\n",
       "    }\n",
       "\n",
       "    .dataframe thead th {\n",
       "        text-align: right;\n",
       "    }\n",
       "</style>\n",
       "<table border=\"1\" class=\"dataframe\">\n",
       "  <thead>\n",
       "    <tr style=\"text-align: right;\">\n",
       "      <th></th>\n",
       "      <th>three</th>\n",
       "      <th>two</th>\n",
       "      <th>one</th>\n",
       "    </tr>\n",
       "  </thead>\n",
       "  <tbody>\n",
       "    <tr>\n",
       "      <th>a</th>\n",
       "      <td>NaN</td>\n",
       "      <td>-1.238931</td>\n",
       "      <td>0.274727</td>\n",
       "    </tr>\n",
       "    <tr>\n",
       "      <th>b</th>\n",
       "      <td>-0.143628</td>\n",
       "      <td>-0.655718</td>\n",
       "      <td>1.333173</td>\n",
       "    </tr>\n",
       "    <tr>\n",
       "      <th>c</th>\n",
       "      <td>0.550513</td>\n",
       "      <td>0.487951</td>\n",
       "      <td>1.313766</td>\n",
       "    </tr>\n",
       "    <tr>\n",
       "      <th>d</th>\n",
       "      <td>0.294667</td>\n",
       "      <td>0.711664</td>\n",
       "      <td>NaN</td>\n",
       "    </tr>\n",
       "  </tbody>\n",
       "</table>\n",
       "</div>"
      ],
      "text/plain": [
       "      three       two       one\n",
       "a       NaN -1.238931  0.274727\n",
       "b -0.143628 -0.655718  1.333173\n",
       "c  0.550513  0.487951  1.313766\n",
       "d  0.294667  0.711664       NaN"
      ]
     },
     "execution_count": 156,
     "metadata": {},
     "output_type": "execute_result"
    }
   ],
   "source": [
    "df.reindex([\"three\", \"two\", \"one\"], axis=\"columns\")"
   ]
  },
  {
   "cell_type": "markdown",
   "id": "9f8c4908-a429-47c2-b144-88bc6fcfe951",
   "metadata": {},
   "source": [
    "> See also\n",
    "> MultiIndex / Advanced Indexing is an even more concise way of doing reindexing.\n",
    "\n",
    "> Note\n",
    "> When writing performance-sensitive code, there is a good reason to spend some time becoming a reindexing ninja: many operations are faster on pre-aligned data. Adding two unaligned DataFrames internally triggers a reindexing step. For exploratory analysis you will hardly notice the difference (because reindex has been heavily optimized), but when CPU cycles matter sprinkling a few explicit reindex calls here and there can have an impact.\n",
    "\n",
    "### Reindexing to align with another object\n",
    "You may wish to take an object and reindex its axes to be labeled the same as another object. While the syntax for this is straightforward albeit verbose, it is a common enough operation that the reindex_like() method is available to make this simpler:"
   ]
  },
  {
   "cell_type": "code",
   "execution_count": 157,
   "id": "e228ffa3-85e6-4847-a947-c35e026f6fd8",
   "metadata": {},
   "outputs": [
    {
     "name": "stdout",
     "output_type": "stream",
     "text": [
      "        one       two\n",
      "a  1.262469 -1.116354\n",
      "b  0.600389 -0.215250\n",
      "c -0.732482 -0.319069\n"
     ]
    }
   ],
   "source": [
    "df2 = pd.DataFrame(\n",
    "    np.random.randn(3, 2),\n",
    "    columns=[\"one\", \"two\"],\n",
    "    index = [\"a\", \"b\", \"c\"]\n",
    ")\n",
    "print(df2)"
   ]
  },
  {
   "cell_type": "code",
   "execution_count": 158,
   "id": "2ebf2d44-87a0-4b0f-8f39-c0b6d068799e",
   "metadata": {},
   "outputs": [
    {
     "name": "stdout",
     "output_type": "stream",
     "text": [
      "        one       two\n",
      "a -1.177995 -0.632606\n",
      "b  1.441624 -0.534009\n",
      "c  0.519784 -1.229458\n"
     ]
    }
   ],
   "source": [
    "df3 = pd.DataFrame(\n",
    "    np.random.randn(3, 2),\n",
    "    columns=[\"one\", \"two\"],\n",
    "    index = [\"a\", \"b\", \"c\"]\n",
    ")\n",
    "print(df3)"
   ]
  },
  {
   "cell_type": "code",
   "execution_count": 159,
   "id": "684b4989-570e-45c0-82eb-3cb8ed0bca1e",
   "metadata": {},
   "outputs": [
    {
     "data": {
      "text/html": [
       "<div>\n",
       "<style scoped>\n",
       "    .dataframe tbody tr th:only-of-type {\n",
       "        vertical-align: middle;\n",
       "    }\n",
       "\n",
       "    .dataframe tbody tr th {\n",
       "        vertical-align: top;\n",
       "    }\n",
       "\n",
       "    .dataframe thead th {\n",
       "        text-align: right;\n",
       "    }\n",
       "</style>\n",
       "<table border=\"1\" class=\"dataframe\">\n",
       "  <thead>\n",
       "    <tr style=\"text-align: right;\">\n",
       "      <th></th>\n",
       "      <th>one</th>\n",
       "      <th>two</th>\n",
       "    </tr>\n",
       "  </thead>\n",
       "  <tbody>\n",
       "    <tr>\n",
       "      <th>a</th>\n",
       "      <td>0.274727</td>\n",
       "      <td>-1.238931</td>\n",
       "    </tr>\n",
       "    <tr>\n",
       "      <th>b</th>\n",
       "      <td>1.333173</td>\n",
       "      <td>-0.655718</td>\n",
       "    </tr>\n",
       "    <tr>\n",
       "      <th>c</th>\n",
       "      <td>1.313766</td>\n",
       "      <td>0.487951</td>\n",
       "    </tr>\n",
       "  </tbody>\n",
       "</table>\n",
       "</div>"
      ],
      "text/plain": [
       "        one       two\n",
       "a  0.274727 -1.238931\n",
       "b  1.333173 -0.655718\n",
       "c  1.313766  0.487951"
      ]
     },
     "execution_count": 159,
     "metadata": {},
     "output_type": "execute_result"
    }
   ],
   "source": [
    "df.reindex_like(df2)"
   ]
  },
  {
   "cell_type": "markdown",
   "id": "d19a0d86-3e23-4b90-85ae-ebfb89b54ce0",
   "metadata": {},
   "source": [
    "### Aligning objects with each other with align\n",
    "The align() method is the fastest way to simultaneously align two objects. It supports a join argument (related to joining and merging):\n",
    "\n",
    "* join='outer': take the union of the indexes (default)\n",
    "* join='left': use the calling object’s index\n",
    "* join='right': use the passed object’s index\n",
    "* join='inner': intersect the indexes\n",
    "\n",
    "It returns a tuple with both of the reindexed Series:"
   ]
  },
  {
   "cell_type": "code",
   "execution_count": 160,
   "id": "70103f71-9b29-422d-ac39-703108135f4b",
   "metadata": {},
   "outputs": [
    {
     "data": {
      "text/plain": [
       "(a   -2.066871\n",
       " b    1.723771\n",
       " c   -0.303024\n",
       " d   -2.686184\n",
       " e         NaN\n",
       " dtype: float64,\n",
       " a         NaN\n",
       " b    1.723771\n",
       " c   -0.303024\n",
       " d   -2.686184\n",
       " e    2.002295\n",
       " dtype: float64)"
      ]
     },
     "execution_count": 160,
     "metadata": {},
     "output_type": "execute_result"
    }
   ],
   "source": [
    "s = pd.Series(np.random.randn(5), index=[\"a\", \"b\", \"c\", \"d\", \"e\"])\n",
    "s1 = s[:4]\n",
    "s2 = s[1:]\n",
    "s1.align(s2)"
   ]
  },
  {
   "cell_type": "code",
   "execution_count": 161,
   "id": "b369d961-bba6-4a4c-8de9-75930a27c1ba",
   "metadata": {},
   "outputs": [
    {
     "data": {
      "text/plain": [
       "(b    1.723771\n",
       " c   -0.303024\n",
       " d   -2.686184\n",
       " dtype: float64,\n",
       " b    1.723771\n",
       " c   -0.303024\n",
       " d   -2.686184\n",
       " dtype: float64)"
      ]
     },
     "execution_count": 161,
     "metadata": {},
     "output_type": "execute_result"
    }
   ],
   "source": [
    "s1.align(s2, join=\"inner\")"
   ]
  },
  {
   "cell_type": "code",
   "execution_count": 162,
   "id": "722a8cff-bd7f-4c49-8cbc-77bbdfe1159e",
   "metadata": {},
   "outputs": [
    {
     "data": {
      "text/plain": [
       "(a   -2.066871\n",
       " b    1.723771\n",
       " c   -0.303024\n",
       " d   -2.686184\n",
       " dtype: float64,\n",
       " a         NaN\n",
       " b    1.723771\n",
       " c   -0.303024\n",
       " d   -2.686184\n",
       " dtype: float64)"
      ]
     },
     "execution_count": 162,
     "metadata": {},
     "output_type": "execute_result"
    }
   ],
   "source": [
    "s1.align(s2, join=\"left\")"
   ]
  },
  {
   "cell_type": "markdown",
   "id": "499236ea-51e6-4ac5-b9e2-e8e0f905df67",
   "metadata": {},
   "source": [
    "For DataFrames, the join method will be applied to both the index and the columns by default:"
   ]
  },
  {
   "cell_type": "code",
   "execution_count": 163,
   "id": "674f91d7-dcdf-4463-ac49-120180030a28",
   "metadata": {},
   "outputs": [
    {
     "data": {
      "text/plain": [
       "(        one       two\n",
       " a  0.274727 -1.238931\n",
       " b  1.333173 -0.655718\n",
       " c  1.313766  0.487951,\n",
       "         one       two\n",
       " a  1.262469 -1.116354\n",
       " b  0.600389 -0.215250\n",
       " c -0.732482 -0.319069)"
      ]
     },
     "execution_count": 163,
     "metadata": {},
     "output_type": "execute_result"
    }
   ],
   "source": [
    "df.align(df2, join=\"inner\")"
   ]
  },
  {
   "cell_type": "markdown",
   "id": "3a0293ca-319e-434f-9eef-26ca04232ece",
   "metadata": {},
   "source": [
    "You can also pass an axis option to only align on the specified axis:"
   ]
  },
  {
   "cell_type": "code",
   "execution_count": 164,
   "id": "a6bce30d-d426-45b3-a2fa-bd0e87811412",
   "metadata": {},
   "outputs": [
    {
     "data": {
      "text/plain": [
       "(        one       two     three\n",
       " a  0.274727 -1.238931       NaN\n",
       " b  1.333173 -0.655718 -0.143628\n",
       " c  1.313766  0.487951  0.550513,\n",
       "         one       two\n",
       " a  1.262469 -1.116354\n",
       " b  0.600389 -0.215250\n",
       " c -0.732482 -0.319069)"
      ]
     },
     "execution_count": 164,
     "metadata": {},
     "output_type": "execute_result"
    }
   ],
   "source": [
    "df.align(df2, join=\"inner\", axis=0)"
   ]
  },
  {
   "cell_type": "markdown",
   "id": "6a83f9f6-d769-4f02-b047-85caf31589de",
   "metadata": {},
   "source": [
    "If you pass a Series to DataFrame.align(), you can choose to align both objects either on the DataFrame’s index or columns using the axis argument:"
   ]
  },
  {
   "cell_type": "code",
   "execution_count": 165,
   "id": "18c539dc-ca1a-4765-9f7e-1bc36243f697",
   "metadata": {},
   "outputs": [
    {
     "data": {
      "text/plain": [
       "(        one     three       two\n",
       " a  0.274727       NaN -1.238931\n",
       " b  1.333173 -0.143628 -0.655718\n",
       " c  1.313766  0.550513  0.487951\n",
       " d       NaN  0.294667  0.711664,\n",
       " one      1.262469\n",
       " three         NaN\n",
       " two     -1.116354\n",
       " Name: a, dtype: float64)"
      ]
     },
     "execution_count": 165,
     "metadata": {},
     "output_type": "execute_result"
    }
   ],
   "source": [
    "df.align(df2.iloc[0], axis=1)"
   ]
  },
  {
   "cell_type": "markdown",
   "id": "c0194c04-4dcc-45fb-86ca-92c5f32e3d13",
   "metadata": {},
   "source": [
    "### Filling while reindexing\n",
    "reindex() takes an optional parameter method which is a filling method chosen from the following table:\n",
    "\n",
    "| Method           | Action                            |\n",
    "|------------------|-----------------------------------|\n",
    "|pad / ffill       | Fill values forward               |\n",
    "| bfill / backfill | Fill values backward              |\n",
    "| nearest          | Fill from the nearest index value |\n",
    "\n",
    "We illustrate these fill methods on a simple Series:"
   ]
  },
  {
   "cell_type": "code",
   "execution_count": 166,
   "id": "c719dfed-df53-41e6-a3f4-a62d2a403ea0",
   "metadata": {},
   "outputs": [
    {
     "data": {
      "text/plain": [
       "2000-01-03    0.792270\n",
       "2000-01-04    0.551853\n",
       "2000-01-05   -1.591452\n",
       "2000-01-06   -1.300273\n",
       "2000-01-07    0.643089\n",
       "2000-01-08    1.151078\n",
       "2000-01-09    1.638842\n",
       "2000-01-10    0.836428\n",
       "Freq: D, dtype: float64"
      ]
     },
     "execution_count": 166,
     "metadata": {},
     "output_type": "execute_result"
    }
   ],
   "source": [
    "rng = pd.date_range(\"1/3/2000\", periods=8)\n",
    "ts = pd.Series(np.random.randn(8), index=rng)\n",
    "ts2 = ts[[0, 3, 6]]\n",
    "ts"
   ]
  },
  {
   "cell_type": "code",
   "execution_count": 167,
   "id": "31e2a711-3e79-499f-b043-68d35c2ad12d",
   "metadata": {},
   "outputs": [
    {
     "data": {
      "text/plain": [
       "2000-01-03    0.792270\n",
       "2000-01-06   -1.300273\n",
       "2000-01-09    1.638842\n",
       "Freq: 3D, dtype: float64"
      ]
     },
     "execution_count": 167,
     "metadata": {},
     "output_type": "execute_result"
    }
   ],
   "source": [
    "ts2"
   ]
  },
  {
   "cell_type": "code",
   "execution_count": 168,
   "id": "f3981470-ab2e-4d6c-9532-d73fc6906954",
   "metadata": {},
   "outputs": [
    {
     "data": {
      "text/plain": [
       "2000-01-03    0.792270\n",
       "2000-01-04         NaN\n",
       "2000-01-05         NaN\n",
       "2000-01-06   -1.300273\n",
       "2000-01-07         NaN\n",
       "2000-01-08         NaN\n",
       "2000-01-09    1.638842\n",
       "2000-01-10         NaN\n",
       "Freq: D, dtype: float64"
      ]
     },
     "execution_count": 168,
     "metadata": {},
     "output_type": "execute_result"
    }
   ],
   "source": [
    "ts2.reindex(ts.index)"
   ]
  },
  {
   "cell_type": "code",
   "execution_count": 169,
   "id": "71b65079-7eaa-477f-9158-0790aeee6fe2",
   "metadata": {},
   "outputs": [
    {
     "data": {
      "text/plain": [
       "2000-01-03    0.792270\n",
       "2000-01-04    0.792270\n",
       "2000-01-05    0.792270\n",
       "2000-01-06   -1.300273\n",
       "2000-01-07   -1.300273\n",
       "2000-01-08   -1.300273\n",
       "2000-01-09    1.638842\n",
       "2000-01-10    1.638842\n",
       "Freq: D, dtype: float64"
      ]
     },
     "execution_count": 169,
     "metadata": {},
     "output_type": "execute_result"
    }
   ],
   "source": [
    "ts2.reindex(ts.index, method=\"ffill\")"
   ]
  },
  {
   "cell_type": "code",
   "execution_count": 170,
   "id": "20c47961-7907-4cbf-a6a4-3f3da2f133b9",
   "metadata": {},
   "outputs": [
    {
     "data": {
      "text/plain": [
       "2000-01-03    0.792270\n",
       "2000-01-04   -1.300273\n",
       "2000-01-05   -1.300273\n",
       "2000-01-06   -1.300273\n",
       "2000-01-07    1.638842\n",
       "2000-01-08    1.638842\n",
       "2000-01-09    1.638842\n",
       "2000-01-10         NaN\n",
       "Freq: D, dtype: float64"
      ]
     },
     "execution_count": 170,
     "metadata": {},
     "output_type": "execute_result"
    }
   ],
   "source": [
    "ts2.reindex(ts.index, method=\"bfill\")"
   ]
  },
  {
   "cell_type": "code",
   "execution_count": 171,
   "id": "6e634bcf-af64-4e73-b5e2-b4006ae52ca6",
   "metadata": {},
   "outputs": [
    {
     "data": {
      "text/plain": [
       "2000-01-03    0.792270\n",
       "2000-01-04    0.792270\n",
       "2000-01-05   -1.300273\n",
       "2000-01-06   -1.300273\n",
       "2000-01-07   -1.300273\n",
       "2000-01-08    1.638842\n",
       "2000-01-09    1.638842\n",
       "2000-01-10    1.638842\n",
       "Freq: D, dtype: float64"
      ]
     },
     "execution_count": 171,
     "metadata": {},
     "output_type": "execute_result"
    }
   ],
   "source": [
    "ts2.reindex(ts.index, method=\"nearest\")"
   ]
  },
  {
   "cell_type": "markdown",
   "id": "695687e2-62db-48ba-a776-350b3d713416",
   "metadata": {},
   "source": [
    "These methods require that the indexes are ordered increasing or decreasing.\n",
    "\n",
    "Note that the same result could have been achieved using fillna (except for method='nearest') or interpolate:"
   ]
  },
  {
   "cell_type": "code",
   "execution_count": 172,
   "id": "f88525bd-a99b-49a0-84f9-88ddac69bc58",
   "metadata": {},
   "outputs": [
    {
     "data": {
      "text/plain": [
       "2000-01-03    0.792270\n",
       "2000-01-04    0.792270\n",
       "2000-01-05    0.792270\n",
       "2000-01-06   -1.300273\n",
       "2000-01-07   -1.300273\n",
       "2000-01-08   -1.300273\n",
       "2000-01-09    1.638842\n",
       "2000-01-10    1.638842\n",
       "Freq: D, dtype: float64"
      ]
     },
     "execution_count": 172,
     "metadata": {},
     "output_type": "execute_result"
    }
   ],
   "source": [
    "ts2.reindex(ts.index).fillna(method=\"ffill\")"
   ]
  },
  {
   "cell_type": "markdown",
   "id": "765dfcbb-c41f-4f99-8040-46c62328cfee",
   "metadata": {},
   "source": [
    "reindex() will raise a ValueError if the index is not monotonically increasing or decreasing. fillna() and interpolate() will not perform any checks on the order of the index.\n",
    "\n",
    "### Limits on filling while reindexing\n",
    "The limit and tolerance arguments provide additional control over filling while reindexing. Limit specifies the maximum count of consecutive matches:"
   ]
  },
  {
   "cell_type": "code",
   "execution_count": 173,
   "id": "b5c91de8-3946-4c41-a239-7f53dc49560d",
   "metadata": {},
   "outputs": [
    {
     "data": {
      "text/plain": [
       "2000-01-03    0.792270\n",
       "2000-01-04    0.792270\n",
       "2000-01-05         NaN\n",
       "2000-01-06   -1.300273\n",
       "2000-01-07   -1.300273\n",
       "2000-01-08         NaN\n",
       "2000-01-09    1.638842\n",
       "2000-01-10    1.638842\n",
       "Freq: D, dtype: float64"
      ]
     },
     "execution_count": 173,
     "metadata": {},
     "output_type": "execute_result"
    }
   ],
   "source": [
    "ts2.reindex(ts.index, method=\"ffill\", limit=1)"
   ]
  },
  {
   "cell_type": "markdown",
   "id": "0b1f5781-c256-42f1-8a1f-feed8dc3834e",
   "metadata": {},
   "source": [
    "In contrast, tolerance specifies the maximum distance between the index and indexer values:"
   ]
  },
  {
   "cell_type": "code",
   "execution_count": 174,
   "id": "d3dd24fc-b41f-47ec-a8cc-bcf496e3441f",
   "metadata": {},
   "outputs": [
    {
     "data": {
      "text/plain": [
       "2000-01-03    0.792270\n",
       "2000-01-04    0.792270\n",
       "2000-01-05         NaN\n",
       "2000-01-06   -1.300273\n",
       "2000-01-07   -1.300273\n",
       "2000-01-08         NaN\n",
       "2000-01-09    1.638842\n",
       "2000-01-10    1.638842\n",
       "Freq: D, dtype: float64"
      ]
     },
     "execution_count": 174,
     "metadata": {},
     "output_type": "execute_result"
    }
   ],
   "source": [
    "ts2.reindex(ts.index, method=\"ffill\", tolerance=\"1 day\")"
   ]
  },
  {
   "cell_type": "markdown",
   "id": "ac902b30-9a13-400a-b538-8036b47b2d84",
   "metadata": {},
   "source": [
    "Notice that when used on a DatetimeIndex, TimedeltaIndex or PeriodIndex, tolerance will coerced into a Timedelta if possible. This allows you to specify tolerance with appropriate strings.\n",
    "\n",
    "### Dropping labels from an axis\n",
    "A method closely related to reindex is the drop() function. It removes a set of labels from an axis:"
   ]
  },
  {
   "cell_type": "code",
   "execution_count": 175,
   "id": "8dc36380-634d-4c04-851b-064299fbe1f7",
   "metadata": {},
   "outputs": [
    {
     "data": {
      "text/html": [
       "<div>\n",
       "<style scoped>\n",
       "    .dataframe tbody tr th:only-of-type {\n",
       "        vertical-align: middle;\n",
       "    }\n",
       "\n",
       "    .dataframe tbody tr th {\n",
       "        vertical-align: top;\n",
       "    }\n",
       "\n",
       "    .dataframe thead th {\n",
       "        text-align: right;\n",
       "    }\n",
       "</style>\n",
       "<table border=\"1\" class=\"dataframe\">\n",
       "  <thead>\n",
       "    <tr style=\"text-align: right;\">\n",
       "      <th></th>\n",
       "      <th>one</th>\n",
       "      <th>two</th>\n",
       "      <th>three</th>\n",
       "    </tr>\n",
       "  </thead>\n",
       "  <tbody>\n",
       "    <tr>\n",
       "      <th>a</th>\n",
       "      <td>0.274727</td>\n",
       "      <td>-1.238931</td>\n",
       "      <td>NaN</td>\n",
       "    </tr>\n",
       "    <tr>\n",
       "      <th>b</th>\n",
       "      <td>1.333173</td>\n",
       "      <td>-0.655718</td>\n",
       "      <td>-0.143628</td>\n",
       "    </tr>\n",
       "    <tr>\n",
       "      <th>c</th>\n",
       "      <td>1.313766</td>\n",
       "      <td>0.487951</td>\n",
       "      <td>0.550513</td>\n",
       "    </tr>\n",
       "    <tr>\n",
       "      <th>d</th>\n",
       "      <td>NaN</td>\n",
       "      <td>0.711664</td>\n",
       "      <td>0.294667</td>\n",
       "    </tr>\n",
       "  </tbody>\n",
       "</table>\n",
       "</div>"
      ],
      "text/plain": [
       "        one       two     three\n",
       "a  0.274727 -1.238931       NaN\n",
       "b  1.333173 -0.655718 -0.143628\n",
       "c  1.313766  0.487951  0.550513\n",
       "d       NaN  0.711664  0.294667"
      ]
     },
     "execution_count": 175,
     "metadata": {},
     "output_type": "execute_result"
    }
   ],
   "source": [
    "df"
   ]
  },
  {
   "cell_type": "code",
   "execution_count": 176,
   "id": "4f115129-ff5f-4cf6-b039-5b26b8ccbcbe",
   "metadata": {},
   "outputs": [
    {
     "data": {
      "text/html": [
       "<div>\n",
       "<style scoped>\n",
       "    .dataframe tbody tr th:only-of-type {\n",
       "        vertical-align: middle;\n",
       "    }\n",
       "\n",
       "    .dataframe tbody tr th {\n",
       "        vertical-align: top;\n",
       "    }\n",
       "\n",
       "    .dataframe thead th {\n",
       "        text-align: right;\n",
       "    }\n",
       "</style>\n",
       "<table border=\"1\" class=\"dataframe\">\n",
       "  <thead>\n",
       "    <tr style=\"text-align: right;\">\n",
       "      <th></th>\n",
       "      <th>one</th>\n",
       "      <th>two</th>\n",
       "      <th>three</th>\n",
       "    </tr>\n",
       "  </thead>\n",
       "  <tbody>\n",
       "    <tr>\n",
       "      <th>b</th>\n",
       "      <td>1.333173</td>\n",
       "      <td>-0.655718</td>\n",
       "      <td>-0.143628</td>\n",
       "    </tr>\n",
       "    <tr>\n",
       "      <th>c</th>\n",
       "      <td>1.313766</td>\n",
       "      <td>0.487951</td>\n",
       "      <td>0.550513</td>\n",
       "    </tr>\n",
       "  </tbody>\n",
       "</table>\n",
       "</div>"
      ],
      "text/plain": [
       "        one       two     three\n",
       "b  1.333173 -0.655718 -0.143628\n",
       "c  1.313766  0.487951  0.550513"
      ]
     },
     "execution_count": 176,
     "metadata": {},
     "output_type": "execute_result"
    }
   ],
   "source": [
    "df.drop([\"a\", \"d\"], axis=0)"
   ]
  },
  {
   "cell_type": "code",
   "execution_count": 177,
   "id": "443b992a-115a-495d-9cea-ca2bc267291c",
   "metadata": {},
   "outputs": [
    {
     "data": {
      "text/html": [
       "<div>\n",
       "<style scoped>\n",
       "    .dataframe tbody tr th:only-of-type {\n",
       "        vertical-align: middle;\n",
       "    }\n",
       "\n",
       "    .dataframe tbody tr th {\n",
       "        vertical-align: top;\n",
       "    }\n",
       "\n",
       "    .dataframe thead th {\n",
       "        text-align: right;\n",
       "    }\n",
       "</style>\n",
       "<table border=\"1\" class=\"dataframe\">\n",
       "  <thead>\n",
       "    <tr style=\"text-align: right;\">\n",
       "      <th></th>\n",
       "      <th>two</th>\n",
       "      <th>three</th>\n",
       "    </tr>\n",
       "  </thead>\n",
       "  <tbody>\n",
       "    <tr>\n",
       "      <th>a</th>\n",
       "      <td>-1.238931</td>\n",
       "      <td>NaN</td>\n",
       "    </tr>\n",
       "    <tr>\n",
       "      <th>b</th>\n",
       "      <td>-0.655718</td>\n",
       "      <td>-0.143628</td>\n",
       "    </tr>\n",
       "    <tr>\n",
       "      <th>c</th>\n",
       "      <td>0.487951</td>\n",
       "      <td>0.550513</td>\n",
       "    </tr>\n",
       "    <tr>\n",
       "      <th>d</th>\n",
       "      <td>0.711664</td>\n",
       "      <td>0.294667</td>\n",
       "    </tr>\n",
       "  </tbody>\n",
       "</table>\n",
       "</div>"
      ],
      "text/plain": [
       "        two     three\n",
       "a -1.238931       NaN\n",
       "b -0.655718 -0.143628\n",
       "c  0.487951  0.550513\n",
       "d  0.711664  0.294667"
      ]
     },
     "execution_count": 177,
     "metadata": {},
     "output_type": "execute_result"
    }
   ],
   "source": [
    "df.drop([\"one\"], axis=1)"
   ]
  },
  {
   "cell_type": "markdown",
   "id": "5073ed9a-654c-4f0c-85dd-05e4766929d4",
   "metadata": {},
   "source": [
    "Note that the following also works, but is a bit less obvious / clean:"
   ]
  },
  {
   "cell_type": "code",
   "execution_count": 178,
   "id": "c8a67338-eaca-4fc9-8d0a-e75477cdef5b",
   "metadata": {},
   "outputs": [
    {
     "data": {
      "text/html": [
       "<div>\n",
       "<style scoped>\n",
       "    .dataframe tbody tr th:only-of-type {\n",
       "        vertical-align: middle;\n",
       "    }\n",
       "\n",
       "    .dataframe tbody tr th {\n",
       "        vertical-align: top;\n",
       "    }\n",
       "\n",
       "    .dataframe thead th {\n",
       "        text-align: right;\n",
       "    }\n",
       "</style>\n",
       "<table border=\"1\" class=\"dataframe\">\n",
       "  <thead>\n",
       "    <tr style=\"text-align: right;\">\n",
       "      <th></th>\n",
       "      <th>one</th>\n",
       "      <th>two</th>\n",
       "      <th>three</th>\n",
       "    </tr>\n",
       "  </thead>\n",
       "  <tbody>\n",
       "    <tr>\n",
       "      <th>b</th>\n",
       "      <td>1.333173</td>\n",
       "      <td>-0.655718</td>\n",
       "      <td>-0.143628</td>\n",
       "    </tr>\n",
       "    <tr>\n",
       "      <th>c</th>\n",
       "      <td>1.313766</td>\n",
       "      <td>0.487951</td>\n",
       "      <td>0.550513</td>\n",
       "    </tr>\n",
       "  </tbody>\n",
       "</table>\n",
       "</div>"
      ],
      "text/plain": [
       "        one       two     three\n",
       "b  1.333173 -0.655718 -0.143628\n",
       "c  1.313766  0.487951  0.550513"
      ]
     },
     "execution_count": 178,
     "metadata": {},
     "output_type": "execute_result"
    }
   ],
   "source": [
    "df.reindex(df.index.difference([\"a\", \"d\"]))"
   ]
  },
  {
   "cell_type": "markdown",
   "id": "7bd6126e-1dfe-4445-bb62-1ecd0d617976",
   "metadata": {},
   "source": [
    "### Renaming / mapping labels\n",
    "The rename() method allows you to relabel an axis based on some mapping (a dict or Series) or an arbitrary function."
   ]
  },
  {
   "cell_type": "code",
   "execution_count": 179,
   "id": "029ae354-906b-49af-8ba8-2e343fa7d83b",
   "metadata": {},
   "outputs": [
    {
     "data": {
      "text/plain": [
       "a   -2.066871\n",
       "b    1.723771\n",
       "c   -0.303024\n",
       "d   -2.686184\n",
       "e    2.002295\n",
       "dtype: float64"
      ]
     },
     "execution_count": 179,
     "metadata": {},
     "output_type": "execute_result"
    }
   ],
   "source": [
    "s"
   ]
  },
  {
   "cell_type": "code",
   "execution_count": 180,
   "id": "fc4c086e-33ef-4139-8a95-29338ae810d6",
   "metadata": {},
   "outputs": [
    {
     "data": {
      "text/plain": [
       "A   -2.066871\n",
       "B    1.723771\n",
       "C   -0.303024\n",
       "D   -2.686184\n",
       "E    2.002295\n",
       "dtype: float64"
      ]
     },
     "execution_count": 180,
     "metadata": {},
     "output_type": "execute_result"
    }
   ],
   "source": [
    "s.rename(str.upper)"
   ]
  },
  {
   "cell_type": "markdown",
   "id": "2da67e3a-1b81-462c-bde5-cb143c95819c",
   "metadata": {},
   "source": [
    "If you pass a function, it must return a value when called with any of the labels (and must produce a set of unique values). A dict or Series can also be used:"
   ]
  },
  {
   "cell_type": "code",
   "execution_count": 181,
   "id": "cca77d59-e172-4197-ae2c-f4db4c3b744d",
   "metadata": {},
   "outputs": [
    {
     "data": {
      "text/html": [
       "<div>\n",
       "<style scoped>\n",
       "    .dataframe tbody tr th:only-of-type {\n",
       "        vertical-align: middle;\n",
       "    }\n",
       "\n",
       "    .dataframe tbody tr th {\n",
       "        vertical-align: top;\n",
       "    }\n",
       "\n",
       "    .dataframe thead th {\n",
       "        text-align: right;\n",
       "    }\n",
       "</style>\n",
       "<table border=\"1\" class=\"dataframe\">\n",
       "  <thead>\n",
       "    <tr style=\"text-align: right;\">\n",
       "      <th></th>\n",
       "      <th>foo</th>\n",
       "      <th>bar</th>\n",
       "      <th>three</th>\n",
       "    </tr>\n",
       "  </thead>\n",
       "  <tbody>\n",
       "    <tr>\n",
       "      <th>apple</th>\n",
       "      <td>0.274727</td>\n",
       "      <td>-1.238931</td>\n",
       "      <td>NaN</td>\n",
       "    </tr>\n",
       "    <tr>\n",
       "      <th>banana</th>\n",
       "      <td>1.333173</td>\n",
       "      <td>-0.655718</td>\n",
       "      <td>-0.143628</td>\n",
       "    </tr>\n",
       "    <tr>\n",
       "      <th>c</th>\n",
       "      <td>1.313766</td>\n",
       "      <td>0.487951</td>\n",
       "      <td>0.550513</td>\n",
       "    </tr>\n",
       "    <tr>\n",
       "      <th>durian</th>\n",
       "      <td>NaN</td>\n",
       "      <td>0.711664</td>\n",
       "      <td>0.294667</td>\n",
       "    </tr>\n",
       "  </tbody>\n",
       "</table>\n",
       "</div>"
      ],
      "text/plain": [
       "             foo       bar     three\n",
       "apple   0.274727 -1.238931       NaN\n",
       "banana  1.333173 -0.655718 -0.143628\n",
       "c       1.313766  0.487951  0.550513\n",
       "durian       NaN  0.711664  0.294667"
      ]
     },
     "execution_count": 181,
     "metadata": {},
     "output_type": "execute_result"
    }
   ],
   "source": [
    "df.rename(\n",
    "    columns={\"one\": \"foo\", \"two\": \"bar\"},\n",
    "    index={\"a\": \"apple\", \"b\": \"banana\", \"d\": \"durian\"},\n",
    ")"
   ]
  },
  {
   "cell_type": "markdown",
   "id": "81cc8c13-7685-498d-9896-ed7fddfb24dd",
   "metadata": {},
   "source": [
    "If the mapping doesn’t include a column/index label, it isn’t renamed. Note that extra labels in the mapping don’t throw an error.\n",
    "\n",
    "DataFrame.rename() also supports an “axis-style” calling convention, where you specify a single mapper and the axis to apply that mapping to."
   ]
  },
  {
   "cell_type": "code",
   "execution_count": 182,
   "id": "30ff4eac-79b3-40bb-a1d0-53d2d2d48d22",
   "metadata": {},
   "outputs": [
    {
     "data": {
      "text/html": [
       "<div>\n",
       "<style scoped>\n",
       "    .dataframe tbody tr th:only-of-type {\n",
       "        vertical-align: middle;\n",
       "    }\n",
       "\n",
       "    .dataframe tbody tr th {\n",
       "        vertical-align: top;\n",
       "    }\n",
       "\n",
       "    .dataframe thead th {\n",
       "        text-align: right;\n",
       "    }\n",
       "</style>\n",
       "<table border=\"1\" class=\"dataframe\">\n",
       "  <thead>\n",
       "    <tr style=\"text-align: right;\">\n",
       "      <th></th>\n",
       "      <th>foo</th>\n",
       "      <th>bar</th>\n",
       "      <th>three</th>\n",
       "    </tr>\n",
       "  </thead>\n",
       "  <tbody>\n",
       "    <tr>\n",
       "      <th>a</th>\n",
       "      <td>0.274727</td>\n",
       "      <td>-1.238931</td>\n",
       "      <td>NaN</td>\n",
       "    </tr>\n",
       "    <tr>\n",
       "      <th>b</th>\n",
       "      <td>1.333173</td>\n",
       "      <td>-0.655718</td>\n",
       "      <td>-0.143628</td>\n",
       "    </tr>\n",
       "    <tr>\n",
       "      <th>c</th>\n",
       "      <td>1.313766</td>\n",
       "      <td>0.487951</td>\n",
       "      <td>0.550513</td>\n",
       "    </tr>\n",
       "    <tr>\n",
       "      <th>d</th>\n",
       "      <td>NaN</td>\n",
       "      <td>0.711664</td>\n",
       "      <td>0.294667</td>\n",
       "    </tr>\n",
       "  </tbody>\n",
       "</table>\n",
       "</div>"
      ],
      "text/plain": [
       "        foo       bar     three\n",
       "a  0.274727 -1.238931       NaN\n",
       "b  1.333173 -0.655718 -0.143628\n",
       "c  1.313766  0.487951  0.550513\n",
       "d       NaN  0.711664  0.294667"
      ]
     },
     "execution_count": 182,
     "metadata": {},
     "output_type": "execute_result"
    }
   ],
   "source": [
    "df.rename({\"one\": \"foo\", \"two\": \"bar\"}, axis=\"columns\")"
   ]
  },
  {
   "cell_type": "code",
   "execution_count": 183,
   "id": "d2feddd5-1401-459f-8ec2-c00f26c3882a",
   "metadata": {},
   "outputs": [
    {
     "data": {
      "text/html": [
       "<div>\n",
       "<style scoped>\n",
       "    .dataframe tbody tr th:only-of-type {\n",
       "        vertical-align: middle;\n",
       "    }\n",
       "\n",
       "    .dataframe tbody tr th {\n",
       "        vertical-align: top;\n",
       "    }\n",
       "\n",
       "    .dataframe thead th {\n",
       "        text-align: right;\n",
       "    }\n",
       "</style>\n",
       "<table border=\"1\" class=\"dataframe\">\n",
       "  <thead>\n",
       "    <tr style=\"text-align: right;\">\n",
       "      <th></th>\n",
       "      <th>one</th>\n",
       "      <th>two</th>\n",
       "      <th>three</th>\n",
       "    </tr>\n",
       "  </thead>\n",
       "  <tbody>\n",
       "    <tr>\n",
       "      <th>apple</th>\n",
       "      <td>0.274727</td>\n",
       "      <td>-1.238931</td>\n",
       "      <td>NaN</td>\n",
       "    </tr>\n",
       "    <tr>\n",
       "      <th>banana</th>\n",
       "      <td>1.333173</td>\n",
       "      <td>-0.655718</td>\n",
       "      <td>-0.143628</td>\n",
       "    </tr>\n",
       "    <tr>\n",
       "      <th>c</th>\n",
       "      <td>1.313766</td>\n",
       "      <td>0.487951</td>\n",
       "      <td>0.550513</td>\n",
       "    </tr>\n",
       "    <tr>\n",
       "      <th>durian</th>\n",
       "      <td>NaN</td>\n",
       "      <td>0.711664</td>\n",
       "      <td>0.294667</td>\n",
       "    </tr>\n",
       "  </tbody>\n",
       "</table>\n",
       "</div>"
      ],
      "text/plain": [
       "             one       two     three\n",
       "apple   0.274727 -1.238931       NaN\n",
       "banana  1.333173 -0.655718 -0.143628\n",
       "c       1.313766  0.487951  0.550513\n",
       "durian       NaN  0.711664  0.294667"
      ]
     },
     "execution_count": 183,
     "metadata": {},
     "output_type": "execute_result"
    }
   ],
   "source": [
    "df.rename({\"a\": \"apple\", \"b\": \"banana\", \"d\": \"durian\"}, axis=\"index\")"
   ]
  },
  {
   "cell_type": "markdown",
   "id": "44b89bf2-f8e8-4c6f-a6c6-bdf75f7804a0",
   "metadata": {},
   "source": [
    "The rename() method also provides an inplace named parameter that is by default False and copies the underlying data. Pass inplace=True to rename the data in place.\n",
    "\n",
    "Finally, rename() also accepts a scalar or list-like for altering the Series.name attribute."
   ]
  },
  {
   "cell_type": "code",
   "execution_count": 184,
   "id": "0b7ad940-aff2-4b4a-b54a-f26df2857dfa",
   "metadata": {},
   "outputs": [
    {
     "data": {
      "text/plain": [
       "a   -2.066871\n",
       "b    1.723771\n",
       "c   -0.303024\n",
       "d   -2.686184\n",
       "e    2.002295\n",
       "Name: scalar-name, dtype: float64"
      ]
     },
     "execution_count": 184,
     "metadata": {},
     "output_type": "execute_result"
    }
   ],
   "source": [
    "s.rename(\"scalar-name\")"
   ]
  },
  {
   "cell_type": "markdown",
   "id": "2df2560f-681a-40c2-a0bf-a5c2a6ca1429",
   "metadata": {},
   "source": [
    "*New in version 0.24.0.*\n",
    "\n",
    "The methods DataFrame.rename_axis() and Series.rename_axis() allow specific names of a MultiIndex to be changed (as opposed to the labels)."
   ]
  },
  {
   "cell_type": "code",
   "execution_count": 185,
   "id": "cf7bb644-42b8-4864-b9b3-685b2fff06c2",
   "metadata": {},
   "outputs": [
    {
     "data": {
      "text/html": [
       "<div>\n",
       "<style scoped>\n",
       "    .dataframe tbody tr th:only-of-type {\n",
       "        vertical-align: middle;\n",
       "    }\n",
       "\n",
       "    .dataframe tbody tr th {\n",
       "        vertical-align: top;\n",
       "    }\n",
       "\n",
       "    .dataframe thead th {\n",
       "        text-align: right;\n",
       "    }\n",
       "</style>\n",
       "<table border=\"1\" class=\"dataframe\">\n",
       "  <thead>\n",
       "    <tr style=\"text-align: right;\">\n",
       "      <th></th>\n",
       "      <th></th>\n",
       "      <th>x</th>\n",
       "      <th>y</th>\n",
       "    </tr>\n",
       "    <tr>\n",
       "      <th>let</th>\n",
       "      <th>num</th>\n",
       "      <th></th>\n",
       "      <th></th>\n",
       "    </tr>\n",
       "  </thead>\n",
       "  <tbody>\n",
       "    <tr>\n",
       "      <th rowspan=\"2\" valign=\"top\">a</th>\n",
       "      <th>1</th>\n",
       "      <td>1</td>\n",
       "      <td>10</td>\n",
       "    </tr>\n",
       "    <tr>\n",
       "      <th>2</th>\n",
       "      <td>2</td>\n",
       "      <td>20</td>\n",
       "    </tr>\n",
       "    <tr>\n",
       "      <th rowspan=\"2\" valign=\"top\">b</th>\n",
       "      <th>1</th>\n",
       "      <td>3</td>\n",
       "      <td>30</td>\n",
       "    </tr>\n",
       "    <tr>\n",
       "      <th>2</th>\n",
       "      <td>4</td>\n",
       "      <td>40</td>\n",
       "    </tr>\n",
       "    <tr>\n",
       "      <th rowspan=\"2\" valign=\"top\">c</th>\n",
       "      <th>1</th>\n",
       "      <td>5</td>\n",
       "      <td>50</td>\n",
       "    </tr>\n",
       "    <tr>\n",
       "      <th>2</th>\n",
       "      <td>6</td>\n",
       "      <td>60</td>\n",
       "    </tr>\n",
       "  </tbody>\n",
       "</table>\n",
       "</div>"
      ],
      "text/plain": [
       "         x   y\n",
       "let num       \n",
       "a   1    1  10\n",
       "    2    2  20\n",
       "b   1    3  30\n",
       "    2    4  40\n",
       "c   1    5  50\n",
       "    2    6  60"
      ]
     },
     "execution_count": 185,
     "metadata": {},
     "output_type": "execute_result"
    }
   ],
   "source": [
    "df = pd.DataFrame(\n",
    "    {\"x\": [1, 2, 3, 4, 5, 6], \"y\": [10, 20, 30, 40, 50, 60]},\n",
    "    index=pd.MultiIndex.from_product(\n",
    "        [[\"a\", \"b\", \"c\"], [1, 2]], names=[\"let\", \"num\"]\n",
    "    ),\n",
    ")\n",
    "df"
   ]
  },
  {
   "cell_type": "code",
   "execution_count": 186,
   "id": "ab21f386-07c6-4ce9-8644-c5daba8eaaea",
   "metadata": {},
   "outputs": [
    {
     "data": {
      "text/html": [
       "<div>\n",
       "<style scoped>\n",
       "    .dataframe tbody tr th:only-of-type {\n",
       "        vertical-align: middle;\n",
       "    }\n",
       "\n",
       "    .dataframe tbody tr th {\n",
       "        vertical-align: top;\n",
       "    }\n",
       "\n",
       "    .dataframe thead th {\n",
       "        text-align: right;\n",
       "    }\n",
       "</style>\n",
       "<table border=\"1\" class=\"dataframe\">\n",
       "  <thead>\n",
       "    <tr style=\"text-align: right;\">\n",
       "      <th></th>\n",
       "      <th></th>\n",
       "      <th>x</th>\n",
       "      <th>y</th>\n",
       "    </tr>\n",
       "    <tr>\n",
       "      <th>abc</th>\n",
       "      <th>num</th>\n",
       "      <th></th>\n",
       "      <th></th>\n",
       "    </tr>\n",
       "  </thead>\n",
       "  <tbody>\n",
       "    <tr>\n",
       "      <th rowspan=\"2\" valign=\"top\">a</th>\n",
       "      <th>1</th>\n",
       "      <td>1</td>\n",
       "      <td>10</td>\n",
       "    </tr>\n",
       "    <tr>\n",
       "      <th>2</th>\n",
       "      <td>2</td>\n",
       "      <td>20</td>\n",
       "    </tr>\n",
       "    <tr>\n",
       "      <th rowspan=\"2\" valign=\"top\">b</th>\n",
       "      <th>1</th>\n",
       "      <td>3</td>\n",
       "      <td>30</td>\n",
       "    </tr>\n",
       "    <tr>\n",
       "      <th>2</th>\n",
       "      <td>4</td>\n",
       "      <td>40</td>\n",
       "    </tr>\n",
       "    <tr>\n",
       "      <th rowspan=\"2\" valign=\"top\">c</th>\n",
       "      <th>1</th>\n",
       "      <td>5</td>\n",
       "      <td>50</td>\n",
       "    </tr>\n",
       "    <tr>\n",
       "      <th>2</th>\n",
       "      <td>6</td>\n",
       "      <td>60</td>\n",
       "    </tr>\n",
       "  </tbody>\n",
       "</table>\n",
       "</div>"
      ],
      "text/plain": [
       "         x   y\n",
       "abc num       \n",
       "a   1    1  10\n",
       "    2    2  20\n",
       "b   1    3  30\n",
       "    2    4  40\n",
       "c   1    5  50\n",
       "    2    6  60"
      ]
     },
     "execution_count": 186,
     "metadata": {},
     "output_type": "execute_result"
    }
   ],
   "source": [
    "df.rename_axis(index={\"let\": \"abc\"})"
   ]
  },
  {
   "cell_type": "code",
   "execution_count": 187,
   "id": "eb3e9a3d-3f8b-49bc-9087-0919ec01624b",
   "metadata": {},
   "outputs": [
    {
     "data": {
      "text/html": [
       "<div>\n",
       "<style scoped>\n",
       "    .dataframe tbody tr th:only-of-type {\n",
       "        vertical-align: middle;\n",
       "    }\n",
       "\n",
       "    .dataframe tbody tr th {\n",
       "        vertical-align: top;\n",
       "    }\n",
       "\n",
       "    .dataframe thead th {\n",
       "        text-align: right;\n",
       "    }\n",
       "</style>\n",
       "<table border=\"1\" class=\"dataframe\">\n",
       "  <thead>\n",
       "    <tr style=\"text-align: right;\">\n",
       "      <th></th>\n",
       "      <th></th>\n",
       "      <th>x</th>\n",
       "      <th>y</th>\n",
       "    </tr>\n",
       "    <tr>\n",
       "      <th>LET</th>\n",
       "      <th>NUM</th>\n",
       "      <th></th>\n",
       "      <th></th>\n",
       "    </tr>\n",
       "  </thead>\n",
       "  <tbody>\n",
       "    <tr>\n",
       "      <th rowspan=\"2\" valign=\"top\">a</th>\n",
       "      <th>1</th>\n",
       "      <td>1</td>\n",
       "      <td>10</td>\n",
       "    </tr>\n",
       "    <tr>\n",
       "      <th>2</th>\n",
       "      <td>2</td>\n",
       "      <td>20</td>\n",
       "    </tr>\n",
       "    <tr>\n",
       "      <th rowspan=\"2\" valign=\"top\">b</th>\n",
       "      <th>1</th>\n",
       "      <td>3</td>\n",
       "      <td>30</td>\n",
       "    </tr>\n",
       "    <tr>\n",
       "      <th>2</th>\n",
       "      <td>4</td>\n",
       "      <td>40</td>\n",
       "    </tr>\n",
       "    <tr>\n",
       "      <th rowspan=\"2\" valign=\"top\">c</th>\n",
       "      <th>1</th>\n",
       "      <td>5</td>\n",
       "      <td>50</td>\n",
       "    </tr>\n",
       "    <tr>\n",
       "      <th>2</th>\n",
       "      <td>6</td>\n",
       "      <td>60</td>\n",
       "    </tr>\n",
       "  </tbody>\n",
       "</table>\n",
       "</div>"
      ],
      "text/plain": [
       "         x   y\n",
       "LET NUM       \n",
       "a   1    1  10\n",
       "    2    2  20\n",
       "b   1    3  30\n",
       "    2    4  40\n",
       "c   1    5  50\n",
       "    2    6  60"
      ]
     },
     "execution_count": 187,
     "metadata": {},
     "output_type": "execute_result"
    }
   ],
   "source": [
    "df.rename_axis(index=str.upper)"
   ]
  },
  {
   "cell_type": "markdown",
   "id": "92a13f5f-8571-4a0b-a63b-35a41a49e7eb",
   "metadata": {},
   "source": [
    "## Iteration\n",
    "The behavior of basic iteration over pandas objects depends on the type. When iterating over a Series, it is regarded as array-like, and basic iteration produces the values. DataFrames follow the dict-like convention of iterating over the “keys” of the objects.\n",
    "\n",
    "In short, basic iteration (for i in object) produces:\n",
    "\n",
    "* Series: values\n",
    "* DataFrame: column labels\n",
    "\n",
    "Thus, for example, iterating over a DataFrame gives you the column names:"
   ]
  },
  {
   "cell_type": "code",
   "execution_count": 188,
   "id": "b436b8b4-70fb-44c8-bbd8-786b46bb1716",
   "metadata": {},
   "outputs": [
    {
     "name": "stdout",
     "output_type": "stream",
     "text": [
      "col1\n",
      "col2\n"
     ]
    }
   ],
   "source": [
    "df = pd.DataFrame(\n",
    "    {\"col1\": np.random.randn(3), \"col2\": np.random.randn(3)}, index=[\"a\", \"b\", \"c\"]\n",
    ")\n",
    "\n",
    "for col in df:\n",
    "    print(col)"
   ]
  },
  {
   "cell_type": "markdown",
   "id": "3585fc9a-8b96-4522-b441-675210de32f3",
   "metadata": {},
   "source": [
    "pandas objects also have the dict-like items() method to iterate over the (key, value) pairs.\n",
    "\n",
    "To iterate over the rows of a DataFrame, you can use the following methods:\n",
    "\n",
    "* iterrows(): Iterate over the rows of a DataFrame as (index, Series) pairs. This converts the rows to Series objects, which can change the dtypes and has some performance implications.\n",
    "* itertuples(): Iterate over the rows of a DataFrame as namedtuples of the values. This is a lot faster than iterrows(), and is in most cases preferable to use to iterate over the values of a DataFrame.\n",
    "\n",
    "> **Warning**\n",
    "> Iterating through pandas objects is generally slow. In many cases, iterating manually over the rows is not needed and can be avoided with one of the following approaches:\n",
    "> \n",
    "> * Look for a vectorized solution: many operations can be performed using built-in methods or NumPy functions, (boolean) indexing, …\n",
    "> * When you have a function that cannot work on the full DataFrame/Series at once, it is better to use apply() instead of iterating over the values. See the docs on function application.\n",
    "> * If you need to do iterative manipulations on the values but performance is important, consider writing the inner loop with cython or numba. See the enhancing performance section for some examples of this approach.\n",
    "\n",
    "\n",
    "> **Warning**\n",
    "> You should never modify something you are iterating over. This is not guaranteed to work in all cases. Depending on the data types, the iterator returns a copy and not a view, and writing to it will have no effect!\n",
    "> \n",
    "> For example, in the following case setting the value has no effect:\n"
   ]
  },
  {
   "cell_type": "code",
   "execution_count": 189,
   "id": "0e6c83fe-f5dd-421f-853e-8f317891c1e7",
   "metadata": {},
   "outputs": [
    {
     "name": "stdout",
     "output_type": "stream",
     "text": [
      "   a  b\n",
      "0  1  a\n",
      "1  2  b\n",
      "2  3  c\n"
     ]
    }
   ],
   "source": [
    "df = pd.DataFrame({\"a\": [1, 2, 3], \"b\": [\"a\", \"b\", \"c\"]})\n",
    "print(df)"
   ]
  },
  {
   "cell_type": "code",
   "execution_count": 190,
   "id": "5bb3db44-0380-413a-b60a-aeb8225523c9",
   "metadata": {},
   "outputs": [
    {
     "name": "stdout",
     "output_type": "stream",
     "text": [
      "   a  b\n",
      "0  1  a\n",
      "1  2  b\n",
      "2  3  c\n"
     ]
    }
   ],
   "source": [
    "for index, row in df.iterrows():\n",
    "    row[\"a\"] = 10\n",
    "print(df)"
   ]
  },
  {
   "cell_type": "markdown",
   "id": "5b944aa4-607f-46de-a1e0-b8074ddbc6db",
   "metadata": {},
   "source": [
    "df is not changed!\n",
    "\n",
    "### items\n",
    "Consistent with the dict-like interface, items() iterates through key-value pairs:\n",
    "\n",
    "* Series: (index, scalar value) pairs\n",
    "* DataFrame: (column, Series) pairs\n",
    "\n",
    "For example:"
   ]
  },
  {
   "cell_type": "code",
   "execution_count": 191,
   "id": "06fda83a-6207-4ae5-b8f1-a708f7f1284e",
   "metadata": {},
   "outputs": [
    {
     "name": "stdout",
     "output_type": "stream",
     "text": [
      "a\n",
      "0    1\n",
      "1    2\n",
      "2    3\n",
      "Name: a, dtype: int64\n",
      "b\n",
      "0    a\n",
      "1    b\n",
      "2    c\n",
      "Name: b, dtype: object\n"
     ]
    }
   ],
   "source": [
    "for label, ser in df.items():\n",
    "    print(label)\n",
    "    print(ser)"
   ]
  },
  {
   "cell_type": "markdown",
   "id": "500b3c27-c7b9-4eb9-9cef-f662979eefc8",
   "metadata": {},
   "source": [
    "### iterrows\n",
    "iterrows() allows you to iterate through the rows of a DataFrame as Series objects. It returns an iterator yielding each index value along with a Series containing the data in each row:"
   ]
  },
  {
   "cell_type": "code",
   "execution_count": 192,
   "id": "15cd3b79-0489-4fe5-b218-1825a8145265",
   "metadata": {},
   "outputs": [
    {
     "name": "stdout",
     "output_type": "stream",
     "text": [
      "0\n",
      "a    1\n",
      "b    a\n",
      "Name: 0, dtype: object\n",
      "1\n",
      "a    2\n",
      "b    b\n",
      "Name: 1, dtype: object\n",
      "2\n",
      "a    3\n",
      "b    c\n",
      "Name: 2, dtype: object\n"
     ]
    }
   ],
   "source": [
    "for row_index, row in df.iterrows():\n",
    "    print(row_index, row, sep=\"\\n\")"
   ]
  },
  {
   "cell_type": "markdown",
   "id": "d442c20c-5d61-4afe-812e-0a167911a244",
   "metadata": {},
   "source": [
    "> Note\n",
    ">\n",
    "> Because iterrows() returns a Series for each row, it does not preserve dtypes across the rows (dtypes are preserved across columns for DataFrames). For example,"
   ]
  },
  {
   "cell_type": "code",
   "execution_count": 193,
   "id": "7c5344a4-8db2-4cbe-b117-c6dffe973798",
   "metadata": {},
   "outputs": [
    {
     "data": {
      "text/plain": [
       "int        int64\n",
       "float    float64\n",
       "dtype: object"
      ]
     },
     "execution_count": 193,
     "metadata": {},
     "output_type": "execute_result"
    }
   ],
   "source": [
    "df_orig = pd.DataFrame([[1, 1.5]], columns=[\"int\", \"float\"])\n",
    "df_orig.dtypes"
   ]
  },
  {
   "cell_type": "code",
   "execution_count": 194,
   "id": "d93c9a4f-f2ee-48e0-9ecc-cfb680a2ca80",
   "metadata": {},
   "outputs": [
    {
     "data": {
      "text/plain": [
       "int      1.0\n",
       "float    1.5\n",
       "Name: 0, dtype: float64"
      ]
     },
     "execution_count": 194,
     "metadata": {},
     "output_type": "execute_result"
    }
   ],
   "source": [
    "row = next(df_orig.iterrows())[1]\n",
    "row"
   ]
  },
  {
   "cell_type": "markdown",
   "id": "47797be7-26c8-4eef-9f08-54ce07903fd0",
   "metadata": {},
   "source": [
    "All values in row, returned as a Series, are now upcasted to floats, also the original integer value in column x:"
   ]
  },
  {
   "cell_type": "code",
   "execution_count": 195,
   "id": "9a8fa504-d2a9-4e22-aae7-2347c4fba2de",
   "metadata": {},
   "outputs": [
    {
     "data": {
      "text/plain": [
       "dtype('float64')"
      ]
     },
     "execution_count": 195,
     "metadata": {},
     "output_type": "execute_result"
    }
   ],
   "source": [
    "row[\"int\"].dtype"
   ]
  },
  {
   "cell_type": "code",
   "execution_count": 196,
   "id": "f879755b-4f32-4acd-8b77-a6c9150c009a",
   "metadata": {},
   "outputs": [
    {
     "data": {
      "text/plain": [
       "dtype('int64')"
      ]
     },
     "execution_count": 196,
     "metadata": {},
     "output_type": "execute_result"
    }
   ],
   "source": [
    "df_orig[\"int\"].dtype"
   ]
  },
  {
   "cell_type": "markdown",
   "id": "f0a69959-a3a9-4bd4-ad84-fb62aaabaebd",
   "metadata": {},
   "source": [
    "To preserve dtypes while iterating over the rows, it is better to use itertuples() which returns namedtuples of the values and which is generally much faster than iterrows().\n",
    "\n",
    "For instance, a contrived way to transpose the DataFrame would be:"
   ]
  },
  {
   "cell_type": "code",
   "execution_count": 197,
   "id": "13a90ed8-f429-4d92-8238-d8d7a6ad876d",
   "metadata": {},
   "outputs": [
    {
     "name": "stdout",
     "output_type": "stream",
     "text": [
      "   x  y\n",
      "0  1  4\n",
      "1  2  5\n",
      "2  3  6\n"
     ]
    }
   ],
   "source": [
    "df2 = pd.DataFrame({\"x\": [1, 2, 3], \"y\": [4, 5, 6]})\n",
    "print(df2)"
   ]
  },
  {
   "cell_type": "code",
   "execution_count": 198,
   "id": "2a03fc29-d026-4643-8e12-af94f6f112f8",
   "metadata": {},
   "outputs": [
    {
     "name": "stdout",
     "output_type": "stream",
     "text": [
      "   0  1  2\n",
      "x  1  2  3\n",
      "y  4  5  6\n"
     ]
    }
   ],
   "source": [
    "print(df2.T)"
   ]
  },
  {
   "cell_type": "code",
   "execution_count": 199,
   "id": "dd89887d-a6c3-4de0-a8e4-8f5493354faf",
   "metadata": {},
   "outputs": [
    {
     "name": "stdout",
     "output_type": "stream",
     "text": [
      "   0  1  2\n",
      "x  1  2  3\n",
      "y  4  5  6\n"
     ]
    }
   ],
   "source": [
    "df2_t = pd.DataFrame({idx: values for idx, values in df2.iterrows()})\n",
    "print(df2_t)"
   ]
  },
  {
   "cell_type": "markdown",
   "id": "85a82acf-5616-4f28-8745-ad2d216b39c3",
   "metadata": {},
   "source": [
    "### itertuples\n",
    "The itertuples() method will return an iterator yielding a namedtuple for each row in the DataFrame. The first element of the tuple will be the row’s corresponding index value, while the remaining values are the row values.\n",
    "\n",
    "For instance:"
   ]
  },
  {
   "cell_type": "code",
   "execution_count": 200,
   "id": "dec477a6-4def-49b7-bd30-bf0d11bb251a",
   "metadata": {},
   "outputs": [
    {
     "name": "stdout",
     "output_type": "stream",
     "text": [
      "Pandas(Index=0, a=1, b='a')\n",
      "Pandas(Index=1, a=2, b='b')\n",
      "Pandas(Index=2, a=3, b='c')\n"
     ]
    }
   ],
   "source": [
    "for row in df.itertuples():\n",
    "    print(row)"
   ]
  },
  {
   "cell_type": "markdown",
   "id": "3cba2ff2-768a-44e3-a01a-05f722bc8347",
   "metadata": {},
   "source": [
    "This method does not convert the row to a Series object; it merely returns the values inside a namedtuple. Therefore, itertuples() preserves the data type of the values and is generally faster as iterrows().\n",
    "\n",
    "> Note\n",
    ">\n",
    ">The column names will be renamed to positional names if they are invalid Python identifiers, repeated, or start with an underscore. With a large number of columns (>255), regular tuples are returned.\n",
    "\n",
    "## .dt accessor\n",
    "Series has an accessor to succinctly return datetime like properties for the values of the Series, if it is a datetime/period like Series. This will return a Series, indexed like the existing Series."
   ]
  },
  {
   "cell_type": "code",
   "execution_count": 201,
   "id": "a6a0fee7-d4f3-4ba3-9fe1-38efd881f46e",
   "metadata": {},
   "outputs": [
    {
     "data": {
      "text/plain": [
       "0   2013-01-01 09:10:12\n",
       "1   2013-01-02 09:10:12\n",
       "2   2013-01-03 09:10:12\n",
       "3   2013-01-04 09:10:12\n",
       "dtype: datetime64[ns]"
      ]
     },
     "execution_count": 201,
     "metadata": {},
     "output_type": "execute_result"
    }
   ],
   "source": [
    "# datetime\n",
    "s = pd.Series(pd.date_range(\"20130101 09:10:12\", periods=4))\n",
    "s"
   ]
  },
  {
   "cell_type": "code",
   "execution_count": 202,
   "id": "3472ccc4-5c38-400b-bca7-9a205452c78f",
   "metadata": {},
   "outputs": [
    {
     "data": {
      "text/plain": [
       "0    9\n",
       "1    9\n",
       "2    9\n",
       "3    9\n",
       "dtype: int64"
      ]
     },
     "execution_count": 202,
     "metadata": {},
     "output_type": "execute_result"
    }
   ],
   "source": [
    "s.dt.hour"
   ]
  },
  {
   "cell_type": "code",
   "execution_count": 203,
   "id": "acd86283-0189-437b-ac5b-979d5c83ccbe",
   "metadata": {},
   "outputs": [
    {
     "data": {
      "text/plain": [
       "0    12\n",
       "1    12\n",
       "2    12\n",
       "3    12\n",
       "dtype: int64"
      ]
     },
     "execution_count": 203,
     "metadata": {},
     "output_type": "execute_result"
    }
   ],
   "source": [
    "s.dt.second"
   ]
  },
  {
   "cell_type": "code",
   "execution_count": 204,
   "id": "ff97d109-01b3-4fd4-b8e0-462b2e34825f",
   "metadata": {},
   "outputs": [
    {
     "data": {
      "text/plain": [
       "0    1\n",
       "1    2\n",
       "2    3\n",
       "3    4\n",
       "dtype: int64"
      ]
     },
     "execution_count": 204,
     "metadata": {},
     "output_type": "execute_result"
    }
   ],
   "source": [
    "s.dt.day"
   ]
  },
  {
   "cell_type": "markdown",
   "id": "39679943-9d25-4850-b8b2-eee313c195f1",
   "metadata": {},
   "source": [
    "This enables nice expressions like this:"
   ]
  },
  {
   "cell_type": "code",
   "execution_count": 205,
   "id": "ce63d1af-172d-41ee-b176-1186a244c08a",
   "metadata": {},
   "outputs": [
    {
     "data": {
      "text/plain": [
       "1   2013-01-02 09:10:12\n",
       "dtype: datetime64[ns]"
      ]
     },
     "execution_count": 205,
     "metadata": {},
     "output_type": "execute_result"
    }
   ],
   "source": [
    "s[s.dt.day == 2]"
   ]
  },
  {
   "cell_type": "markdown",
   "id": "14a89cd2-e173-4886-91cf-99ada5f07b39",
   "metadata": {},
   "source": [
    "You can easily produces tz aware transformations:"
   ]
  },
  {
   "cell_type": "code",
   "execution_count": 206,
   "id": "0db043e3-fbac-4a07-ad54-cad3af0e9770",
   "metadata": {},
   "outputs": [
    {
     "data": {
      "text/plain": [
       "0   2013-01-01 09:10:12-05:00\n",
       "1   2013-01-02 09:10:12-05:00\n",
       "2   2013-01-03 09:10:12-05:00\n",
       "3   2013-01-04 09:10:12-05:00\n",
       "dtype: datetime64[ns, US/Eastern]"
      ]
     },
     "execution_count": 206,
     "metadata": {},
     "output_type": "execute_result"
    }
   ],
   "source": [
    "stz = s.dt.tz_localize(\"US/Eastern\")\n",
    "stz"
   ]
  },
  {
   "cell_type": "code",
   "execution_count": 207,
   "id": "ec7c199a-97db-464c-95aa-6365f49e7f22",
   "metadata": {},
   "outputs": [
    {
     "data": {
      "text/plain": [
       "<DstTzInfo 'US/Eastern' LMT-1 day, 19:04:00 STD>"
      ]
     },
     "execution_count": 207,
     "metadata": {},
     "output_type": "execute_result"
    }
   ],
   "source": [
    "stz.dt.tz"
   ]
  },
  {
   "cell_type": "markdown",
   "id": "137108e8-18ec-4dd0-b87a-201e3e30e2ef",
   "metadata": {},
   "source": [
    "You can also chain these types of operations:"
   ]
  },
  {
   "cell_type": "code",
   "execution_count": 208,
   "id": "8ff75267-8f59-4c49-913d-988796d7224f",
   "metadata": {},
   "outputs": [
    {
     "data": {
      "text/plain": [
       "0   2013-01-01 04:10:12-05:00\n",
       "1   2013-01-02 04:10:12-05:00\n",
       "2   2013-01-03 04:10:12-05:00\n",
       "3   2013-01-04 04:10:12-05:00\n",
       "dtype: datetime64[ns, US/Eastern]"
      ]
     },
     "execution_count": 208,
     "metadata": {},
     "output_type": "execute_result"
    }
   ],
   "source": [
    "s.dt.tz_localize(\"UTC\").dt.tz_convert(\"US/Eastern\")"
   ]
  },
  {
   "cell_type": "markdown",
   "id": "e730e4ca-7c96-42e7-b1cd-922239dd187e",
   "metadata": {},
   "source": [
    "You can also format datetime values as strings with Series.dt.strftime() which supports the same format as the standard strftime()."
   ]
  },
  {
   "cell_type": "code",
   "execution_count": 209,
   "id": "4579df2b-8c76-4cd2-9420-d0f1ae931c34",
   "metadata": {},
   "outputs": [
    {
     "data": {
      "text/plain": [
       "0   2013-01-01\n",
       "1   2013-01-02\n",
       "2   2013-01-03\n",
       "3   2013-01-04\n",
       "dtype: datetime64[ns]"
      ]
     },
     "execution_count": 209,
     "metadata": {},
     "output_type": "execute_result"
    }
   ],
   "source": [
    "# DatetimeIndex\n",
    "s = pd.Series(pd.date_range(\"20130101\", periods=4))\n",
    "s"
   ]
  },
  {
   "cell_type": "code",
   "execution_count": 210,
   "id": "dc6d1148-16b2-4486-86b4-f93c8968383b",
   "metadata": {},
   "outputs": [
    {
     "data": {
      "text/plain": [
       "0   2012-12-31 19:00:00-05:00\n",
       "1   2013-01-01 19:00:00-05:00\n",
       "2   2013-01-02 19:00:00-05:00\n",
       "3   2013-01-03 19:00:00-05:00\n",
       "dtype: datetime64[ns, US/Eastern]"
      ]
     },
     "execution_count": 210,
     "metadata": {},
     "output_type": "execute_result"
    }
   ],
   "source": [
    "s.dt.tz_localize(\"UTC\").dt.tz_convert(\"US/Eastern\")"
   ]
  },
  {
   "cell_type": "markdown",
   "id": "e07fd522-47eb-415d-88ee-4c71e8c2a392",
   "metadata": {},
   "source": [
    "You can also format datetime values as strings with Series.dt.strftime() which supports the same format as the standard strftime()."
   ]
  },
  {
   "cell_type": "code",
   "execution_count": 211,
   "id": "bf14d124-7744-4481-9ad3-0d66b6a46888",
   "metadata": {},
   "outputs": [
    {
     "data": {
      "text/plain": [
       "0   2013-01-01\n",
       "1   2013-01-02\n",
       "2   2013-01-03\n",
       "3   2013-01-04\n",
       "dtype: datetime64[ns]"
      ]
     },
     "execution_count": 211,
     "metadata": {},
     "output_type": "execute_result"
    }
   ],
   "source": [
    "# DatetimeIndex\n",
    "s = pd.Series(pd.date_range(\"20130101\", periods=4))\n",
    "s"
   ]
  },
  {
   "cell_type": "code",
   "execution_count": 212,
   "id": "588653a1-f30d-4b0e-b8d0-8a116bceb0fe",
   "metadata": {},
   "outputs": [
    {
     "data": {
      "text/plain": [
       "0    2013/01/01\n",
       "1    2013/01/02\n",
       "2    2013/01/03\n",
       "3    2013/01/04\n",
       "dtype: object"
      ]
     },
     "execution_count": 212,
     "metadata": {},
     "output_type": "execute_result"
    }
   ],
   "source": [
    "s.dt.strftime(\"%Y/%m/%d\")"
   ]
  },
  {
   "cell_type": "code",
   "execution_count": 213,
   "id": "b73c193e-f989-4689-b3f6-bfef01150952",
   "metadata": {},
   "outputs": [
    {
     "data": {
      "text/plain": [
       "0    2013-01-01\n",
       "1    2013-01-02\n",
       "2    2013-01-03\n",
       "3    2013-01-04\n",
       "dtype: period[D]"
      ]
     },
     "execution_count": 213,
     "metadata": {},
     "output_type": "execute_result"
    }
   ],
   "source": [
    "# PeriodIndex\n",
    "s = pd.Series(pd.period_range(\"20130101\", periods=4))\n",
    "s"
   ]
  },
  {
   "cell_type": "code",
   "execution_count": 214,
   "id": "77b60f8d-3e2c-4058-9317-edaeaf32c2a1",
   "metadata": {},
   "outputs": [
    {
     "data": {
      "text/plain": [
       "0    2013/01/01\n",
       "1    2013/01/02\n",
       "2    2013/01/03\n",
       "3    2013/01/04\n",
       "dtype: object"
      ]
     },
     "execution_count": 214,
     "metadata": {},
     "output_type": "execute_result"
    }
   ],
   "source": [
    "s.dt.strftime(\"%Y/%m/%d\")"
   ]
  },
  {
   "cell_type": "markdown",
   "id": "e171f1b9-ea30-45ce-9185-594b2c67cfed",
   "metadata": {},
   "source": [
    "The .dt accessor works for period and timedelta dtypes."
   ]
  },
  {
   "cell_type": "code",
   "execution_count": 215,
   "id": "0c9b6a10-9966-45a9-ad2c-6c2ef88cd403",
   "metadata": {},
   "outputs": [
    {
     "data": {
      "text/plain": [
       "0    2013-01-01\n",
       "1    2013-01-02\n",
       "2    2013-01-03\n",
       "3    2013-01-04\n",
       "dtype: period[D]"
      ]
     },
     "execution_count": 215,
     "metadata": {},
     "output_type": "execute_result"
    }
   ],
   "source": [
    "# period\n",
    "s = pd.Series(pd.period_range(\"20130101\", periods=4, freq=\"D\"))\n",
    "s"
   ]
  },
  {
   "cell_type": "code",
   "execution_count": 216,
   "id": "e589cd60-ef50-4124-866b-7a6e51dd97f8",
   "metadata": {},
   "outputs": [
    {
     "data": {
      "text/plain": [
       "0    2013\n",
       "1    2013\n",
       "2    2013\n",
       "3    2013\n",
       "dtype: int64"
      ]
     },
     "execution_count": 216,
     "metadata": {},
     "output_type": "execute_result"
    }
   ],
   "source": [
    "s.dt.year"
   ]
  },
  {
   "cell_type": "code",
   "execution_count": 217,
   "id": "d7b4a33f-2e52-4050-a08b-855e81be6cfc",
   "metadata": {},
   "outputs": [
    {
     "data": {
      "text/plain": [
       "0    1\n",
       "1    2\n",
       "2    3\n",
       "3    4\n",
       "dtype: int64"
      ]
     },
     "execution_count": 217,
     "metadata": {},
     "output_type": "execute_result"
    }
   ],
   "source": [
    "s.dt.day"
   ]
  },
  {
   "cell_type": "code",
   "execution_count": 218,
   "id": "f2dcf771-8e59-4211-86d1-6ab6027a0e48",
   "metadata": {},
   "outputs": [
    {
     "data": {
      "text/plain": [
       "0   1 days 00:00:05\n",
       "1   1 days 00:00:06\n",
       "2   1 days 00:00:07\n",
       "3   1 days 00:00:08\n",
       "dtype: timedelta64[ns]"
      ]
     },
     "execution_count": 218,
     "metadata": {},
     "output_type": "execute_result"
    }
   ],
   "source": [
    "# timedelta\n",
    "s = pd.Series(pd.timedelta_range(\"1 day 00:00:05\", periods=4, freq=\"s\"))\n",
    "s"
   ]
  },
  {
   "cell_type": "code",
   "execution_count": 219,
   "id": "5bc1eb70-f226-437b-9423-b36bc42262cb",
   "metadata": {},
   "outputs": [
    {
     "data": {
      "text/plain": [
       "0    1\n",
       "1    1\n",
       "2    1\n",
       "3    1\n",
       "dtype: int64"
      ]
     },
     "execution_count": 219,
     "metadata": {},
     "output_type": "execute_result"
    }
   ],
   "source": [
    "s.dt.days"
   ]
  },
  {
   "cell_type": "code",
   "execution_count": 220,
   "id": "ee9ab10c-27b3-40bc-9691-4905d1e5a9d3",
   "metadata": {},
   "outputs": [
    {
     "data": {
      "text/plain": [
       "0    5\n",
       "1    6\n",
       "2    7\n",
       "3    8\n",
       "dtype: int64"
      ]
     },
     "execution_count": 220,
     "metadata": {},
     "output_type": "execute_result"
    }
   ],
   "source": [
    "s.dt.seconds"
   ]
  },
  {
   "cell_type": "code",
   "execution_count": 221,
   "id": "48bf97d6-fd20-4b96-b322-1e981a9931b8",
   "metadata": {},
   "outputs": [
    {
     "data": {
      "text/html": [
       "<div>\n",
       "<style scoped>\n",
       "    .dataframe tbody tr th:only-of-type {\n",
       "        vertical-align: middle;\n",
       "    }\n",
       "\n",
       "    .dataframe tbody tr th {\n",
       "        vertical-align: top;\n",
       "    }\n",
       "\n",
       "    .dataframe thead th {\n",
       "        text-align: right;\n",
       "    }\n",
       "</style>\n",
       "<table border=\"1\" class=\"dataframe\">\n",
       "  <thead>\n",
       "    <tr style=\"text-align: right;\">\n",
       "      <th></th>\n",
       "      <th>days</th>\n",
       "      <th>hours</th>\n",
       "      <th>minutes</th>\n",
       "      <th>seconds</th>\n",
       "      <th>milliseconds</th>\n",
       "      <th>microseconds</th>\n",
       "      <th>nanoseconds</th>\n",
       "    </tr>\n",
       "  </thead>\n",
       "  <tbody>\n",
       "    <tr>\n",
       "      <th>0</th>\n",
       "      <td>1</td>\n",
       "      <td>0</td>\n",
       "      <td>0</td>\n",
       "      <td>5</td>\n",
       "      <td>0</td>\n",
       "      <td>0</td>\n",
       "      <td>0</td>\n",
       "    </tr>\n",
       "    <tr>\n",
       "      <th>1</th>\n",
       "      <td>1</td>\n",
       "      <td>0</td>\n",
       "      <td>0</td>\n",
       "      <td>6</td>\n",
       "      <td>0</td>\n",
       "      <td>0</td>\n",
       "      <td>0</td>\n",
       "    </tr>\n",
       "    <tr>\n",
       "      <th>2</th>\n",
       "      <td>1</td>\n",
       "      <td>0</td>\n",
       "      <td>0</td>\n",
       "      <td>7</td>\n",
       "      <td>0</td>\n",
       "      <td>0</td>\n",
       "      <td>0</td>\n",
       "    </tr>\n",
       "    <tr>\n",
       "      <th>3</th>\n",
       "      <td>1</td>\n",
       "      <td>0</td>\n",
       "      <td>0</td>\n",
       "      <td>8</td>\n",
       "      <td>0</td>\n",
       "      <td>0</td>\n",
       "      <td>0</td>\n",
       "    </tr>\n",
       "  </tbody>\n",
       "</table>\n",
       "</div>"
      ],
      "text/plain": [
       "   days  hours  minutes  seconds  milliseconds  microseconds  nanoseconds\n",
       "0     1      0        0        5             0             0            0\n",
       "1     1      0        0        6             0             0            0\n",
       "2     1      0        0        7             0             0            0\n",
       "3     1      0        0        8             0             0            0"
      ]
     },
     "execution_count": 221,
     "metadata": {},
     "output_type": "execute_result"
    }
   ],
   "source": [
    "s.dt.components"
   ]
  },
  {
   "cell_type": "markdown",
   "id": "19fd5d31-306a-442e-92d2-a9b594d6d8d7",
   "metadata": {},
   "source": [
    ">Note\n",
    ">\n",
    ">Series.dt will raise a TypeError if you access with a non-datetime-like values.\n",
    "\n",
    "## Vectorized string methods\n",
    "Series is equipped with a set of string processing methods that make it easy to operate on each element of the array. Perhaps most importantly, these methods exclude missing/NA values automatically. These are accessed via the Series’s str attribute and generally have names matching the equivalent (scalar) built-in string methods. For example:"
   ]
  },
  {
   "cell_type": "code",
   "execution_count": 222,
   "id": "268d6728-f369-40dd-a92d-b8bae537fa8e",
   "metadata": {},
   "outputs": [
    {
     "data": {
      "text/plain": [
       "0       a\n",
       "1       b\n",
       "2       c\n",
       "3    aaba\n",
       "4    baca\n",
       "5    <NA>\n",
       "6    caba\n",
       "7     dog\n",
       "8     cat\n",
       "dtype: string"
      ]
     },
     "execution_count": 222,
     "metadata": {},
     "output_type": "execute_result"
    }
   ],
   "source": [
    "s = pd.Series(\n",
    "    [\"A\", \"B\", \"C\", \"Aaba\", \"Baca\", np.nan, \"CABA\", \"dog\", \"cat\"], dtype=\"string\"\n",
    ")\n",
    "s.str.lower()"
   ]
  },
  {
   "cell_type": "markdown",
   "id": "0d31da0b-0863-47fe-979c-b83d48762771",
   "metadata": {},
   "source": [
    "Powerful pattern-matching methods are provided as well, but note that pattern-matching generally uses regular expressions by default (and in some cases always uses them).\n",
    "\n",
    ">Note\n",
    ">\n",
    ">Prior to pandas 1.0, string methods were only available on object -dtype Series. pandas 1.0 added the StringDtype which is dedicated to strings. See Text data types for more.\n",
    "\n",
    "Please see Vectorized String Methods for a complete description.\n",
    "\n",
    "## Sorting\n",
    "pandas supports three kinds of sorting: sorting by index labels, sorting by column values, and sorting by a combination of both.\n",
    "\n",
    "### By index\n",
    "The Series.sort_index() and DataFrame.sort_index() methods are used to sort a pandas object by its index levels."
   ]
  },
  {
   "cell_type": "code",
   "execution_count": 223,
   "id": "20b2df36-796a-4d90-bb8a-86cf08af8e2a",
   "metadata": {},
   "outputs": [
    {
     "data": {
      "text/html": [
       "<div>\n",
       "<style scoped>\n",
       "    .dataframe tbody tr th:only-of-type {\n",
       "        vertical-align: middle;\n",
       "    }\n",
       "\n",
       "    .dataframe tbody tr th {\n",
       "        vertical-align: top;\n",
       "    }\n",
       "\n",
       "    .dataframe thead th {\n",
       "        text-align: right;\n",
       "    }\n",
       "</style>\n",
       "<table border=\"1\" class=\"dataframe\">\n",
       "  <thead>\n",
       "    <tr style=\"text-align: right;\">\n",
       "      <th></th>\n",
       "      <th>three</th>\n",
       "      <th>two</th>\n",
       "      <th>one</th>\n",
       "    </tr>\n",
       "  </thead>\n",
       "  <tbody>\n",
       "    <tr>\n",
       "      <th>a</th>\n",
       "      <td>NaN</td>\n",
       "      <td>0.378064</td>\n",
       "      <td>0.037753</td>\n",
       "    </tr>\n",
       "    <tr>\n",
       "      <th>d</th>\n",
       "      <td>1.781639</td>\n",
       "      <td>0.952276</td>\n",
       "      <td>NaN</td>\n",
       "    </tr>\n",
       "    <tr>\n",
       "      <th>c</th>\n",
       "      <td>-0.315175</td>\n",
       "      <td>0.187338</td>\n",
       "      <td>0.004627</td>\n",
       "    </tr>\n",
       "    <tr>\n",
       "      <th>b</th>\n",
       "      <td>-0.010422</td>\n",
       "      <td>0.773370</td>\n",
       "      <td>0.425622</td>\n",
       "    </tr>\n",
       "  </tbody>\n",
       "</table>\n",
       "</div>"
      ],
      "text/plain": [
       "      three       two       one\n",
       "a       NaN  0.378064  0.037753\n",
       "d  1.781639  0.952276       NaN\n",
       "c -0.315175  0.187338  0.004627\n",
       "b -0.010422  0.773370  0.425622"
      ]
     },
     "execution_count": 223,
     "metadata": {},
     "output_type": "execute_result"
    }
   ],
   "source": [
    "df = pd.DataFrame(\n",
    "    {\n",
    "        \"one\": pd.Series(np.random.randn(3), index=[\"a\", \"b\", \"c\"]),\n",
    "        \"two\": pd.Series(np.random.randn(4), index=[\"a\", \"b\", \"c\", \"d\"]),\n",
    "        \"three\": pd.Series(np.random.randn(3), index=[\"b\", \"c\", \"d\"]),\n",
    "    }\n",
    ")\n",
    "\n",
    "unsorted_df = df.reindex(\n",
    "    index=[\"a\", \"d\", \"c\", \"b\"], columns=[\"three\", \"two\", \"one\"]\n",
    ")\n",
    "\n",
    "unsorted_df"
   ]
  },
  {
   "cell_type": "code",
   "execution_count": 224,
   "id": "26e90d0d-eeca-44be-8f22-d3f1fd73c72a",
   "metadata": {},
   "outputs": [
    {
     "data": {
      "text/html": [
       "<div>\n",
       "<style scoped>\n",
       "    .dataframe tbody tr th:only-of-type {\n",
       "        vertical-align: middle;\n",
       "    }\n",
       "\n",
       "    .dataframe tbody tr th {\n",
       "        vertical-align: top;\n",
       "    }\n",
       "\n",
       "    .dataframe thead th {\n",
       "        text-align: right;\n",
       "    }\n",
       "</style>\n",
       "<table border=\"1\" class=\"dataframe\">\n",
       "  <thead>\n",
       "    <tr style=\"text-align: right;\">\n",
       "      <th></th>\n",
       "      <th>three</th>\n",
       "      <th>two</th>\n",
       "      <th>one</th>\n",
       "    </tr>\n",
       "  </thead>\n",
       "  <tbody>\n",
       "    <tr>\n",
       "      <th>a</th>\n",
       "      <td>NaN</td>\n",
       "      <td>0.378064</td>\n",
       "      <td>0.037753</td>\n",
       "    </tr>\n",
       "    <tr>\n",
       "      <th>b</th>\n",
       "      <td>-0.010422</td>\n",
       "      <td>0.773370</td>\n",
       "      <td>0.425622</td>\n",
       "    </tr>\n",
       "    <tr>\n",
       "      <th>c</th>\n",
       "      <td>-0.315175</td>\n",
       "      <td>0.187338</td>\n",
       "      <td>0.004627</td>\n",
       "    </tr>\n",
       "    <tr>\n",
       "      <th>d</th>\n",
       "      <td>1.781639</td>\n",
       "      <td>0.952276</td>\n",
       "      <td>NaN</td>\n",
       "    </tr>\n",
       "  </tbody>\n",
       "</table>\n",
       "</div>"
      ],
      "text/plain": [
       "      three       two       one\n",
       "a       NaN  0.378064  0.037753\n",
       "b -0.010422  0.773370  0.425622\n",
       "c -0.315175  0.187338  0.004627\n",
       "d  1.781639  0.952276       NaN"
      ]
     },
     "execution_count": 224,
     "metadata": {},
     "output_type": "execute_result"
    }
   ],
   "source": [
    "# DataFrame\n",
    "unsorted_df.sort_index()"
   ]
  },
  {
   "cell_type": "code",
   "execution_count": 225,
   "id": "c004f24f-588c-43a4-9217-295f31aeb1a0",
   "metadata": {},
   "outputs": [
    {
     "data": {
      "text/html": [
       "<div>\n",
       "<style scoped>\n",
       "    .dataframe tbody tr th:only-of-type {\n",
       "        vertical-align: middle;\n",
       "    }\n",
       "\n",
       "    .dataframe tbody tr th {\n",
       "        vertical-align: top;\n",
       "    }\n",
       "\n",
       "    .dataframe thead th {\n",
       "        text-align: right;\n",
       "    }\n",
       "</style>\n",
       "<table border=\"1\" class=\"dataframe\">\n",
       "  <thead>\n",
       "    <tr style=\"text-align: right;\">\n",
       "      <th></th>\n",
       "      <th>three</th>\n",
       "      <th>two</th>\n",
       "      <th>one</th>\n",
       "    </tr>\n",
       "  </thead>\n",
       "  <tbody>\n",
       "    <tr>\n",
       "      <th>d</th>\n",
       "      <td>1.781639</td>\n",
       "      <td>0.952276</td>\n",
       "      <td>NaN</td>\n",
       "    </tr>\n",
       "    <tr>\n",
       "      <th>c</th>\n",
       "      <td>-0.315175</td>\n",
       "      <td>0.187338</td>\n",
       "      <td>0.004627</td>\n",
       "    </tr>\n",
       "    <tr>\n",
       "      <th>b</th>\n",
       "      <td>-0.010422</td>\n",
       "      <td>0.773370</td>\n",
       "      <td>0.425622</td>\n",
       "    </tr>\n",
       "    <tr>\n",
       "      <th>a</th>\n",
       "      <td>NaN</td>\n",
       "      <td>0.378064</td>\n",
       "      <td>0.037753</td>\n",
       "    </tr>\n",
       "  </tbody>\n",
       "</table>\n",
       "</div>"
      ],
      "text/plain": [
       "      three       two       one\n",
       "d  1.781639  0.952276       NaN\n",
       "c -0.315175  0.187338  0.004627\n",
       "b -0.010422  0.773370  0.425622\n",
       "a       NaN  0.378064  0.037753"
      ]
     },
     "execution_count": 225,
     "metadata": {},
     "output_type": "execute_result"
    }
   ],
   "source": [
    "unsorted_df.sort_index(ascending=False)"
   ]
  },
  {
   "cell_type": "code",
   "execution_count": 226,
   "id": "bc559e80-b5c4-4898-8230-5fff9b00ba11",
   "metadata": {},
   "outputs": [
    {
     "data": {
      "text/html": [
       "<div>\n",
       "<style scoped>\n",
       "    .dataframe tbody tr th:only-of-type {\n",
       "        vertical-align: middle;\n",
       "    }\n",
       "\n",
       "    .dataframe tbody tr th {\n",
       "        vertical-align: top;\n",
       "    }\n",
       "\n",
       "    .dataframe thead th {\n",
       "        text-align: right;\n",
       "    }\n",
       "</style>\n",
       "<table border=\"1\" class=\"dataframe\">\n",
       "  <thead>\n",
       "    <tr style=\"text-align: right;\">\n",
       "      <th></th>\n",
       "      <th>one</th>\n",
       "      <th>three</th>\n",
       "      <th>two</th>\n",
       "    </tr>\n",
       "  </thead>\n",
       "  <tbody>\n",
       "    <tr>\n",
       "      <th>a</th>\n",
       "      <td>0.037753</td>\n",
       "      <td>NaN</td>\n",
       "      <td>0.378064</td>\n",
       "    </tr>\n",
       "    <tr>\n",
       "      <th>d</th>\n",
       "      <td>NaN</td>\n",
       "      <td>1.781639</td>\n",
       "      <td>0.952276</td>\n",
       "    </tr>\n",
       "    <tr>\n",
       "      <th>c</th>\n",
       "      <td>0.004627</td>\n",
       "      <td>-0.315175</td>\n",
       "      <td>0.187338</td>\n",
       "    </tr>\n",
       "    <tr>\n",
       "      <th>b</th>\n",
       "      <td>0.425622</td>\n",
       "      <td>-0.010422</td>\n",
       "      <td>0.773370</td>\n",
       "    </tr>\n",
       "  </tbody>\n",
       "</table>\n",
       "</div>"
      ],
      "text/plain": [
       "        one     three       two\n",
       "a  0.037753       NaN  0.378064\n",
       "d       NaN  1.781639  0.952276\n",
       "c  0.004627 -0.315175  0.187338\n",
       "b  0.425622 -0.010422  0.773370"
      ]
     },
     "execution_count": 226,
     "metadata": {},
     "output_type": "execute_result"
    }
   ],
   "source": [
    "unsorted_df.sort_index(axis=1)"
   ]
  },
  {
   "cell_type": "code",
   "execution_count": 227,
   "id": "d7f70f0b-0741-45d2-9b40-e90a7f9c1fa5",
   "metadata": {},
   "outputs": [
    {
     "data": {
      "text/plain": [
       "a         NaN\n",
       "b   -0.010422\n",
       "c   -0.315175\n",
       "d    1.781639\n",
       "Name: three, dtype: float64"
      ]
     },
     "execution_count": 227,
     "metadata": {},
     "output_type": "execute_result"
    }
   ],
   "source": [
    "# Series\n",
    "unsorted_df[\"three\"].sort_index()"
   ]
  },
  {
   "cell_type": "markdown",
   "id": "0238284b-b3a5-4731-9f0c-e1d391e86698",
   "metadata": {},
   "source": [
    "*New in version 1.1.0.*\n",
    "\n",
    "Sorting by index also supports a key parameter that takes a callable function to apply to the index being sorted. For MultiIndex objects, the key is applied per-level to the levels specified by level."
   ]
  },
  {
   "cell_type": "code",
   "execution_count": 228,
   "id": "a80b3ca0-3038-4b64-9cb5-c6a99685ab8d",
   "metadata": {},
   "outputs": [
    {
     "data": {
      "text/html": [
       "<div>\n",
       "<style scoped>\n",
       "    .dataframe tbody tr th:only-of-type {\n",
       "        vertical-align: middle;\n",
       "    }\n",
       "\n",
       "    .dataframe tbody tr th {\n",
       "        vertical-align: top;\n",
       "    }\n",
       "\n",
       "    .dataframe thead th {\n",
       "        text-align: right;\n",
       "    }\n",
       "</style>\n",
       "<table border=\"1\" class=\"dataframe\">\n",
       "  <thead>\n",
       "    <tr style=\"text-align: right;\">\n",
       "      <th></th>\n",
       "      <th></th>\n",
       "      <th>c</th>\n",
       "    </tr>\n",
       "    <tr>\n",
       "      <th>a</th>\n",
       "      <th>b</th>\n",
       "      <th></th>\n",
       "    </tr>\n",
       "  </thead>\n",
       "  <tbody>\n",
       "    <tr>\n",
       "      <th>B</th>\n",
       "      <th>1</th>\n",
       "      <td>2</td>\n",
       "    </tr>\n",
       "    <tr>\n",
       "      <th>a</th>\n",
       "      <th>2</th>\n",
       "      <td>3</td>\n",
       "    </tr>\n",
       "    <tr>\n",
       "      <th>C</th>\n",
       "      <th>3</th>\n",
       "      <td>4</td>\n",
       "    </tr>\n",
       "  </tbody>\n",
       "</table>\n",
       "</div>"
      ],
      "text/plain": [
       "     c\n",
       "a b   \n",
       "B 1  2\n",
       "a 2  3\n",
       "C 3  4"
      ]
     },
     "execution_count": 228,
     "metadata": {},
     "output_type": "execute_result"
    }
   ],
   "source": [
    "s1 = pd.DataFrame({\"a\": [\"B\", \"a\", \"C\"], \"b\": [1, 2, 3], \"c\": [2, 3, 4]}).set_index(\n",
    "    list(\"ab\")\n",
    ")\n",
    "s1"
   ]
  },
  {
   "cell_type": "code",
   "execution_count": 229,
   "id": "8a3b1227-be1d-486c-8444-8178ab767b91",
   "metadata": {},
   "outputs": [
    {
     "data": {
      "text/html": [
       "<div>\n",
       "<style scoped>\n",
       "    .dataframe tbody tr th:only-of-type {\n",
       "        vertical-align: middle;\n",
       "    }\n",
       "\n",
       "    .dataframe tbody tr th {\n",
       "        vertical-align: top;\n",
       "    }\n",
       "\n",
       "    .dataframe thead th {\n",
       "        text-align: right;\n",
       "    }\n",
       "</style>\n",
       "<table border=\"1\" class=\"dataframe\">\n",
       "  <thead>\n",
       "    <tr style=\"text-align: right;\">\n",
       "      <th></th>\n",
       "      <th></th>\n",
       "      <th>c</th>\n",
       "    </tr>\n",
       "    <tr>\n",
       "      <th>a</th>\n",
       "      <th>b</th>\n",
       "      <th></th>\n",
       "    </tr>\n",
       "  </thead>\n",
       "  <tbody>\n",
       "    <tr>\n",
       "      <th>B</th>\n",
       "      <th>1</th>\n",
       "      <td>2</td>\n",
       "    </tr>\n",
       "    <tr>\n",
       "      <th>C</th>\n",
       "      <th>3</th>\n",
       "      <td>4</td>\n",
       "    </tr>\n",
       "    <tr>\n",
       "      <th>a</th>\n",
       "      <th>2</th>\n",
       "      <td>3</td>\n",
       "    </tr>\n",
       "  </tbody>\n",
       "</table>\n",
       "</div>"
      ],
      "text/plain": [
       "     c\n",
       "a b   \n",
       "B 1  2\n",
       "C 3  4\n",
       "a 2  3"
      ]
     },
     "execution_count": 229,
     "metadata": {},
     "output_type": "execute_result"
    }
   ],
   "source": [
    "s1.sort_index(level=\"a\")"
   ]
  },
  {
   "cell_type": "code",
   "execution_count": 230,
   "id": "8711bd13-fa5d-400e-90e8-25f868c9d676",
   "metadata": {},
   "outputs": [
    {
     "data": {
      "text/html": [
       "<div>\n",
       "<style scoped>\n",
       "    .dataframe tbody tr th:only-of-type {\n",
       "        vertical-align: middle;\n",
       "    }\n",
       "\n",
       "    .dataframe tbody tr th {\n",
       "        vertical-align: top;\n",
       "    }\n",
       "\n",
       "    .dataframe thead th {\n",
       "        text-align: right;\n",
       "    }\n",
       "</style>\n",
       "<table border=\"1\" class=\"dataframe\">\n",
       "  <thead>\n",
       "    <tr style=\"text-align: right;\">\n",
       "      <th></th>\n",
       "      <th></th>\n",
       "      <th>c</th>\n",
       "    </tr>\n",
       "    <tr>\n",
       "      <th>a</th>\n",
       "      <th>b</th>\n",
       "      <th></th>\n",
       "    </tr>\n",
       "  </thead>\n",
       "  <tbody>\n",
       "    <tr>\n",
       "      <th>a</th>\n",
       "      <th>2</th>\n",
       "      <td>3</td>\n",
       "    </tr>\n",
       "    <tr>\n",
       "      <th>B</th>\n",
       "      <th>1</th>\n",
       "      <td>2</td>\n",
       "    </tr>\n",
       "    <tr>\n",
       "      <th>C</th>\n",
       "      <th>3</th>\n",
       "      <td>4</td>\n",
       "    </tr>\n",
       "  </tbody>\n",
       "</table>\n",
       "</div>"
      ],
      "text/plain": [
       "     c\n",
       "a b   \n",
       "a 2  3\n",
       "B 1  2\n",
       "C 3  4"
      ]
     },
     "execution_count": 230,
     "metadata": {},
     "output_type": "execute_result"
    }
   ],
   "source": [
    "s1.sort_index(level=\"a\", key=lambda idx: idx.str.lower())"
   ]
  },
  {
   "cell_type": "markdown",
   "id": "e8b5013c-68b0-459f-be2b-81f5935f8eb2",
   "metadata": {},
   "source": [
    "For information on key sorting by value, see value sorting.\n",
    "\n",
    "### By values\n",
    "The Series.sort_values() method is used to sort a Series by its values. The DataFrame.sort_values() method is used to sort a DataFrame by its column or row values. The optional by parameter to DataFrame.sort_values() may used to specify one or more columns to use to determine the sorted order."
   ]
  },
  {
   "cell_type": "code",
   "execution_count": 231,
   "id": "2995d7df-3b44-4e93-990b-1c83f3f129d8",
   "metadata": {},
   "outputs": [
    {
     "data": {
      "text/html": [
       "<div>\n",
       "<style scoped>\n",
       "    .dataframe tbody tr th:only-of-type {\n",
       "        vertical-align: middle;\n",
       "    }\n",
       "\n",
       "    .dataframe tbody tr th {\n",
       "        vertical-align: top;\n",
       "    }\n",
       "\n",
       "    .dataframe thead th {\n",
       "        text-align: right;\n",
       "    }\n",
       "</style>\n",
       "<table border=\"1\" class=\"dataframe\">\n",
       "  <thead>\n",
       "    <tr style=\"text-align: right;\">\n",
       "      <th></th>\n",
       "      <th>one</th>\n",
       "      <th>two</th>\n",
       "      <th>three</th>\n",
       "    </tr>\n",
       "  </thead>\n",
       "  <tbody>\n",
       "    <tr>\n",
       "      <th>0</th>\n",
       "      <td>2</td>\n",
       "      <td>1</td>\n",
       "      <td>5</td>\n",
       "    </tr>\n",
       "    <tr>\n",
       "      <th>2</th>\n",
       "      <td>1</td>\n",
       "      <td>2</td>\n",
       "      <td>3</td>\n",
       "    </tr>\n",
       "    <tr>\n",
       "      <th>1</th>\n",
       "      <td>1</td>\n",
       "      <td>3</td>\n",
       "      <td>4</td>\n",
       "    </tr>\n",
       "    <tr>\n",
       "      <th>3</th>\n",
       "      <td>1</td>\n",
       "      <td>4</td>\n",
       "      <td>2</td>\n",
       "    </tr>\n",
       "  </tbody>\n",
       "</table>\n",
       "</div>"
      ],
      "text/plain": [
       "   one  two  three\n",
       "0    2    1      5\n",
       "2    1    2      3\n",
       "1    1    3      4\n",
       "3    1    4      2"
      ]
     },
     "execution_count": 231,
     "metadata": {},
     "output_type": "execute_result"
    }
   ],
   "source": [
    "df1 = pd.DataFrame(\n",
    "    {\"one\": [2, 1, 1, 1], \"two\": [1, 3, 2, 4], \"three\": [5, 4, 3, 2]}\n",
    ")\n",
    "df1.sort_values(by=\"two\")"
   ]
  },
  {
   "cell_type": "markdown",
   "id": "78ddbbf2-14a4-4cc2-bb47-632ac9e2eb40",
   "metadata": {},
   "source": [
    "The by parameter can take a list of column names, e.g.:"
   ]
  },
  {
   "cell_type": "code",
   "execution_count": 232,
   "id": "697dad66-fdf8-4a0f-8179-dcb06a837dac",
   "metadata": {},
   "outputs": [
    {
     "data": {
      "text/html": [
       "<div>\n",
       "<style scoped>\n",
       "    .dataframe tbody tr th:only-of-type {\n",
       "        vertical-align: middle;\n",
       "    }\n",
       "\n",
       "    .dataframe tbody tr th {\n",
       "        vertical-align: top;\n",
       "    }\n",
       "\n",
       "    .dataframe thead th {\n",
       "        text-align: right;\n",
       "    }\n",
       "</style>\n",
       "<table border=\"1\" class=\"dataframe\">\n",
       "  <thead>\n",
       "    <tr style=\"text-align: right;\">\n",
       "      <th></th>\n",
       "      <th>one</th>\n",
       "      <th>two</th>\n",
       "      <th>three</th>\n",
       "    </tr>\n",
       "  </thead>\n",
       "  <tbody>\n",
       "    <tr>\n",
       "      <th>2</th>\n",
       "      <td>1</td>\n",
       "      <td>2</td>\n",
       "      <td>3</td>\n",
       "    </tr>\n",
       "    <tr>\n",
       "      <th>1</th>\n",
       "      <td>1</td>\n",
       "      <td>3</td>\n",
       "      <td>4</td>\n",
       "    </tr>\n",
       "    <tr>\n",
       "      <th>3</th>\n",
       "      <td>1</td>\n",
       "      <td>4</td>\n",
       "      <td>2</td>\n",
       "    </tr>\n",
       "    <tr>\n",
       "      <th>0</th>\n",
       "      <td>2</td>\n",
       "      <td>1</td>\n",
       "      <td>5</td>\n",
       "    </tr>\n",
       "  </tbody>\n",
       "</table>\n",
       "</div>"
      ],
      "text/plain": [
       "   one  two  three\n",
       "2    1    2      3\n",
       "1    1    3      4\n",
       "3    1    4      2\n",
       "0    2    1      5"
      ]
     },
     "execution_count": 232,
     "metadata": {},
     "output_type": "execute_result"
    }
   ],
   "source": [
    "df1[[\"one\", \"two\", \"three\"]].sort_values(by=[\"one\", \"two\"])"
   ]
  },
  {
   "cell_type": "markdown",
   "id": "1ea05796-7e03-4578-9294-dcf47bf9e038",
   "metadata": {},
   "source": [
    "These methods have special treatment of NA values via the na_position argument:"
   ]
  },
  {
   "cell_type": "code",
   "execution_count": 233,
   "id": "dfa2308d-e219-4050-ba42-d8d9c0601a13",
   "metadata": {},
   "outputs": [
    {
     "data": {
      "text/plain": [
       "0       A\n",
       "3    Aaba\n",
       "1       B\n",
       "4    Baca\n",
       "6    CABA\n",
       "8     cat\n",
       "7     dog\n",
       "2    <NA>\n",
       "5    <NA>\n",
       "dtype: string"
      ]
     },
     "execution_count": 233,
     "metadata": {},
     "output_type": "execute_result"
    }
   ],
   "source": [
    "s[2] = np.nan\n",
    "s.sort_values()"
   ]
  },
  {
   "cell_type": "code",
   "execution_count": 234,
   "id": "a46f07a0-163e-48cd-933f-26d3398d9647",
   "metadata": {},
   "outputs": [
    {
     "data": {
      "text/plain": [
       "2    <NA>\n",
       "5    <NA>\n",
       "0       A\n",
       "3    Aaba\n",
       "1       B\n",
       "4    Baca\n",
       "6    CABA\n",
       "8     cat\n",
       "7     dog\n",
       "dtype: string"
      ]
     },
     "execution_count": 234,
     "metadata": {},
     "output_type": "execute_result"
    }
   ],
   "source": [
    "s.sort_values(na_position=\"first\")"
   ]
  },
  {
   "cell_type": "markdown",
   "id": "7b021986-4464-49b4-9ad4-4f420cffc315",
   "metadata": {},
   "source": [
    "*New in version 1.1.0.*\n",
    "\n",
    "Sorting also supports a key parameter that takes a callable function to apply to the values being sorted."
   ]
  },
  {
   "cell_type": "code",
   "execution_count": 235,
   "id": "455e4c96-1ee4-4fe0-b190-1cdb98da2f90",
   "metadata": {},
   "outputs": [
    {
     "data": {
      "text/plain": [
       "0    B\n",
       "2    C\n",
       "1    a\n",
       "dtype: object"
      ]
     },
     "execution_count": 235,
     "metadata": {},
     "output_type": "execute_result"
    }
   ],
   "source": [
    "s1 = pd.Series([\"B\", \"a\", \"C\"])\n",
    "s1.sort_values()"
   ]
  },
  {
   "cell_type": "code",
   "execution_count": 236,
   "id": "0ecdf0c5-947e-4c1a-9d44-423415125d5c",
   "metadata": {},
   "outputs": [
    {
     "data": {
      "text/plain": [
       "1    a\n",
       "0    B\n",
       "2    C\n",
       "dtype: object"
      ]
     },
     "execution_count": 236,
     "metadata": {},
     "output_type": "execute_result"
    }
   ],
   "source": [
    "s1.sort_values(key=lambda x: x.str.lower())"
   ]
  },
  {
   "cell_type": "markdown",
   "id": "af3223f7-692b-40fa-9f93-c2f0bdac74c7",
   "metadata": {},
   "source": [
    "key will be given the Series of values and should return a Series or array of the same shape with the transformed values. For DataFrame objects, the key is applied per column, so the key should still expect a Series and return a Series, e.g."
   ]
  },
  {
   "cell_type": "code",
   "execution_count": 237,
   "id": "97a8d7d5-bb9b-4b60-b89d-6c5a6672ef00",
   "metadata": {},
   "outputs": [
    {
     "data": {
      "text/html": [
       "<div>\n",
       "<style scoped>\n",
       "    .dataframe tbody tr th:only-of-type {\n",
       "        vertical-align: middle;\n",
       "    }\n",
       "\n",
       "    .dataframe tbody tr th {\n",
       "        vertical-align: top;\n",
       "    }\n",
       "\n",
       "    .dataframe thead th {\n",
       "        text-align: right;\n",
       "    }\n",
       "</style>\n",
       "<table border=\"1\" class=\"dataframe\">\n",
       "  <thead>\n",
       "    <tr style=\"text-align: right;\">\n",
       "      <th></th>\n",
       "      <th>a</th>\n",
       "      <th>b</th>\n",
       "    </tr>\n",
       "  </thead>\n",
       "  <tbody>\n",
       "    <tr>\n",
       "      <th>0</th>\n",
       "      <td>B</td>\n",
       "      <td>1</td>\n",
       "    </tr>\n",
       "    <tr>\n",
       "      <th>2</th>\n",
       "      <td>C</td>\n",
       "      <td>3</td>\n",
       "    </tr>\n",
       "    <tr>\n",
       "      <th>1</th>\n",
       "      <td>a</td>\n",
       "      <td>2</td>\n",
       "    </tr>\n",
       "  </tbody>\n",
       "</table>\n",
       "</div>"
      ],
      "text/plain": [
       "   a  b\n",
       "0  B  1\n",
       "2  C  3\n",
       "1  a  2"
      ]
     },
     "execution_count": 237,
     "metadata": {},
     "output_type": "execute_result"
    }
   ],
   "source": [
    "df = pd.DataFrame({\"a\": [\"B\", \"a\", \"C\"], \"b\": [1, 2, 3]})\n",
    "df.sort_values(by=\"a\")"
   ]
  },
  {
   "cell_type": "code",
   "execution_count": 238,
   "id": "fb97479c-3fda-460d-afd9-b14ad59208bb",
   "metadata": {},
   "outputs": [
    {
     "data": {
      "text/html": [
       "<div>\n",
       "<style scoped>\n",
       "    .dataframe tbody tr th:only-of-type {\n",
       "        vertical-align: middle;\n",
       "    }\n",
       "\n",
       "    .dataframe tbody tr th {\n",
       "        vertical-align: top;\n",
       "    }\n",
       "\n",
       "    .dataframe thead th {\n",
       "        text-align: right;\n",
       "    }\n",
       "</style>\n",
       "<table border=\"1\" class=\"dataframe\">\n",
       "  <thead>\n",
       "    <tr style=\"text-align: right;\">\n",
       "      <th></th>\n",
       "      <th>a</th>\n",
       "      <th>b</th>\n",
       "    </tr>\n",
       "  </thead>\n",
       "  <tbody>\n",
       "    <tr>\n",
       "      <th>1</th>\n",
       "      <td>a</td>\n",
       "      <td>2</td>\n",
       "    </tr>\n",
       "    <tr>\n",
       "      <th>0</th>\n",
       "      <td>B</td>\n",
       "      <td>1</td>\n",
       "    </tr>\n",
       "    <tr>\n",
       "      <th>2</th>\n",
       "      <td>C</td>\n",
       "      <td>3</td>\n",
       "    </tr>\n",
       "  </tbody>\n",
       "</table>\n",
       "</div>"
      ],
      "text/plain": [
       "   a  b\n",
       "1  a  2\n",
       "0  B  1\n",
       "2  C  3"
      ]
     },
     "execution_count": 238,
     "metadata": {},
     "output_type": "execute_result"
    }
   ],
   "source": [
    "df.sort_values(by=\"a\", key=lambda col: col.str.lower())"
   ]
  },
  {
   "cell_type": "markdown",
   "id": "2c5d6b2f-670c-4a24-b81f-6847103d6549",
   "metadata": {},
   "source": [
    "The name or type of each column can be used to apply different functions to different columns.\n",
    "\n",
    "### By indexes and values\n",
    "Strings passed as the by parameter to DataFrame.sort_values() may refer to either columns or index level names."
   ]
  },
  {
   "cell_type": "code",
   "execution_count": 239,
   "id": "9fe4ab03-d5cd-44c0-a42f-fa93e16238b4",
   "metadata": {},
   "outputs": [
    {
     "data": {
      "text/html": [
       "<div>\n",
       "<style scoped>\n",
       "    .dataframe tbody tr th:only-of-type {\n",
       "        vertical-align: middle;\n",
       "    }\n",
       "\n",
       "    .dataframe tbody tr th {\n",
       "        vertical-align: top;\n",
       "    }\n",
       "\n",
       "    .dataframe thead th {\n",
       "        text-align: right;\n",
       "    }\n",
       "</style>\n",
       "<table border=\"1\" class=\"dataframe\">\n",
       "  <thead>\n",
       "    <tr style=\"text-align: right;\">\n",
       "      <th></th>\n",
       "      <th></th>\n",
       "      <th>A</th>\n",
       "    </tr>\n",
       "    <tr>\n",
       "      <th>first</th>\n",
       "      <th>second</th>\n",
       "      <th></th>\n",
       "    </tr>\n",
       "  </thead>\n",
       "  <tbody>\n",
       "    <tr>\n",
       "      <th rowspan=\"3\" valign=\"top\">a</th>\n",
       "      <th>1</th>\n",
       "      <td>6</td>\n",
       "    </tr>\n",
       "    <tr>\n",
       "      <th>2</th>\n",
       "      <td>5</td>\n",
       "    </tr>\n",
       "    <tr>\n",
       "      <th>2</th>\n",
       "      <td>4</td>\n",
       "    </tr>\n",
       "    <tr>\n",
       "      <th rowspan=\"3\" valign=\"top\">b</th>\n",
       "      <th>2</th>\n",
       "      <td>3</td>\n",
       "    </tr>\n",
       "    <tr>\n",
       "      <th>1</th>\n",
       "      <td>2</td>\n",
       "    </tr>\n",
       "    <tr>\n",
       "      <th>1</th>\n",
       "      <td>1</td>\n",
       "    </tr>\n",
       "  </tbody>\n",
       "</table>\n",
       "</div>"
      ],
      "text/plain": [
       "              A\n",
       "first second   \n",
       "a     1       6\n",
       "      2       5\n",
       "      2       4\n",
       "b     2       3\n",
       "      1       2\n",
       "      1       1"
      ]
     },
     "execution_count": 239,
     "metadata": {},
     "output_type": "execute_result"
    }
   ],
   "source": [
    "# Build MultiIndex\n",
    "idx = pd.MultiIndex.from_tuples(\n",
    "    [(\"a\", 1), (\"a\", 2), (\"a\", 2), (\"b\", 2), (\"b\", 1), (\"b\", 1)]\n",
    ")\n",
    "\n",
    "idx.names = [\"first\", \"second\"]\n",
    "\n",
    "# Build DataFrame\n",
    "df_multi = pd.DataFrame({\"A\": np.arange(6, 0, -1)}, index=idx)\n",
    "\n",
    "df_multi"
   ]
  },
  {
   "cell_type": "markdown",
   "id": "0781d862-4d33-4a05-8155-deb8436dad52",
   "metadata": {},
   "source": [
    "Sort by ‘second’ (index) and ‘A’ (column)"
   ]
  },
  {
   "cell_type": "code",
   "execution_count": 240,
   "id": "c605ad50-e1f0-4bab-92ca-13c78b0b70e6",
   "metadata": {},
   "outputs": [
    {
     "data": {
      "text/html": [
       "<div>\n",
       "<style scoped>\n",
       "    .dataframe tbody tr th:only-of-type {\n",
       "        vertical-align: middle;\n",
       "    }\n",
       "\n",
       "    .dataframe tbody tr th {\n",
       "        vertical-align: top;\n",
       "    }\n",
       "\n",
       "    .dataframe thead th {\n",
       "        text-align: right;\n",
       "    }\n",
       "</style>\n",
       "<table border=\"1\" class=\"dataframe\">\n",
       "  <thead>\n",
       "    <tr style=\"text-align: right;\">\n",
       "      <th></th>\n",
       "      <th></th>\n",
       "      <th>A</th>\n",
       "    </tr>\n",
       "    <tr>\n",
       "      <th>first</th>\n",
       "      <th>second</th>\n",
       "      <th></th>\n",
       "    </tr>\n",
       "  </thead>\n",
       "  <tbody>\n",
       "    <tr>\n",
       "      <th rowspan=\"2\" valign=\"top\">b</th>\n",
       "      <th>1</th>\n",
       "      <td>1</td>\n",
       "    </tr>\n",
       "    <tr>\n",
       "      <th>1</th>\n",
       "      <td>2</td>\n",
       "    </tr>\n",
       "    <tr>\n",
       "      <th>a</th>\n",
       "      <th>1</th>\n",
       "      <td>6</td>\n",
       "    </tr>\n",
       "    <tr>\n",
       "      <th>b</th>\n",
       "      <th>2</th>\n",
       "      <td>3</td>\n",
       "    </tr>\n",
       "    <tr>\n",
       "      <th rowspan=\"2\" valign=\"top\">a</th>\n",
       "      <th>2</th>\n",
       "      <td>4</td>\n",
       "    </tr>\n",
       "    <tr>\n",
       "      <th>2</th>\n",
       "      <td>5</td>\n",
       "    </tr>\n",
       "  </tbody>\n",
       "</table>\n",
       "</div>"
      ],
      "text/plain": [
       "              A\n",
       "first second   \n",
       "b     1       1\n",
       "      1       2\n",
       "a     1       6\n",
       "b     2       3\n",
       "a     2       4\n",
       "      2       5"
      ]
     },
     "execution_count": 240,
     "metadata": {},
     "output_type": "execute_result"
    }
   ],
   "source": [
    "df_multi.sort_values(by=[\"second\", \"A\"])"
   ]
  },
  {
   "cell_type": "markdown",
   "id": "bc651328-b101-47a3-8e31-4b63dc97664b",
   "metadata": {},
   "source": [
    ">Note\n",
    ">\n",
    ">If a string matches both a column name and an index level name then a warning is issued and the column takes precedence. This will result in an ambiguity error in a future version.\n",
    "\n",
    "### searchsorted\n",
    "Series has the searchsorted() method, which works similarly to numpy.ndarray.searchsorted()."
   ]
  },
  {
   "cell_type": "code",
   "execution_count": 241,
   "id": "c52fc665-42da-4741-bccf-5a613858ed39",
   "metadata": {},
   "outputs": [
    {
     "data": {
      "text/plain": [
       "array([0, 2], dtype=int64)"
      ]
     },
     "execution_count": 241,
     "metadata": {},
     "output_type": "execute_result"
    }
   ],
   "source": [
    "ser = pd.Series([1, 2, 3])\n",
    "ser.searchsorted([0, 3])"
   ]
  },
  {
   "cell_type": "code",
   "execution_count": 242,
   "id": "d735f1b5-18b9-4037-b61b-d335b84b38ce",
   "metadata": {},
   "outputs": [
    {
     "data": {
      "text/plain": [
       "array([0, 3], dtype=int64)"
      ]
     },
     "execution_count": 242,
     "metadata": {},
     "output_type": "execute_result"
    }
   ],
   "source": [
    "ser.searchsorted([0, 4])"
   ]
  },
  {
   "cell_type": "code",
   "execution_count": 243,
   "id": "85e6399a-1d1b-40de-87f1-8855bf45025b",
   "metadata": {},
   "outputs": [
    {
     "data": {
      "text/plain": [
       "array([1, 3], dtype=int64)"
      ]
     },
     "execution_count": 243,
     "metadata": {},
     "output_type": "execute_result"
    }
   ],
   "source": [
    "ser.searchsorted([1, 3], side=\"right\")"
   ]
  },
  {
   "cell_type": "code",
   "execution_count": 244,
   "id": "4444fa43-b944-4b27-b5a7-5b0245f966a3",
   "metadata": {},
   "outputs": [
    {
     "data": {
      "text/plain": [
       "array([0, 2], dtype=int64)"
      ]
     },
     "execution_count": 244,
     "metadata": {},
     "output_type": "execute_result"
    }
   ],
   "source": [
    "ser.searchsorted([1, 3], side=\"left\")"
   ]
  },
  {
   "cell_type": "code",
   "execution_count": 245,
   "id": "d61554b8-c8a9-4e3e-bad5-5834195a001e",
   "metadata": {},
   "outputs": [
    {
     "data": {
      "text/plain": [
       "array([0, 2], dtype=int64)"
      ]
     },
     "execution_count": 245,
     "metadata": {},
     "output_type": "execute_result"
    }
   ],
   "source": [
    "ser = pd.Series([3, 1, 2])\n",
    "ser.searchsorted([0, 3], sorter=np.argsort(ser))"
   ]
  },
  {
   "cell_type": "markdown",
   "id": "b145d8a2-cc6b-4793-a1a3-e4542f2081ad",
   "metadata": {},
   "source": [
    "### smallest / largest values\n",
    "Series has the nsmallest() and nlargest() methods which return the smallest or largest n values. For a large Series this can be much faster than sorting the entire Series and calling head(n) on the result."
   ]
  },
  {
   "cell_type": "code",
   "execution_count": 246,
   "id": "81a5a4eb-0d13-462a-a326-a3226e2090f0",
   "metadata": {},
   "outputs": [
    {
     "data": {
      "text/plain": [
       "0    7\n",
       "1    1\n",
       "2    6\n",
       "3    4\n",
       "4    0\n",
       "5    2\n",
       "6    5\n",
       "7    9\n",
       "8    8\n",
       "9    3\n",
       "dtype: int32"
      ]
     },
     "execution_count": 246,
     "metadata": {},
     "output_type": "execute_result"
    }
   ],
   "source": [
    "s = pd.Series(np.random.permutation(10))\n",
    "s"
   ]
  },
  {
   "cell_type": "code",
   "execution_count": 247,
   "id": "b52c7b61-6a3e-4163-b296-b14192ab9673",
   "metadata": {},
   "outputs": [
    {
     "data": {
      "text/plain": [
       "4    0\n",
       "1    1\n",
       "5    2\n",
       "9    3\n",
       "3    4\n",
       "6    5\n",
       "2    6\n",
       "0    7\n",
       "8    8\n",
       "7    9\n",
       "dtype: int32"
      ]
     },
     "execution_count": 247,
     "metadata": {},
     "output_type": "execute_result"
    }
   ],
   "source": [
    "s.sort_values()"
   ]
  },
  {
   "cell_type": "code",
   "execution_count": 248,
   "id": "414862bb-e6b5-449a-8bcf-85337773074b",
   "metadata": {},
   "outputs": [
    {
     "data": {
      "text/plain": [
       "4    0\n",
       "1    1\n",
       "5    2\n",
       "dtype: int32"
      ]
     },
     "execution_count": 248,
     "metadata": {},
     "output_type": "execute_result"
    }
   ],
   "source": [
    "s.nsmallest(3)"
   ]
  },
  {
   "cell_type": "code",
   "execution_count": 249,
   "id": "8b79dfb6-f02e-49da-a96e-c873c49af403",
   "metadata": {},
   "outputs": [
    {
     "data": {
      "text/plain": [
       "7    9\n",
       "8    8\n",
       "0    7\n",
       "dtype: int32"
      ]
     },
     "execution_count": 249,
     "metadata": {},
     "output_type": "execute_result"
    }
   ],
   "source": [
    "s.nlargest(3)"
   ]
  },
  {
   "cell_type": "markdown",
   "id": "ec0f17c3-0191-484c-82c3-2b1416a9f1d3",
   "metadata": {},
   "source": [
    "DataFrame also has the nlargest and nsmallest methods."
   ]
  },
  {
   "cell_type": "code",
   "execution_count": 250,
   "id": "327f5c2e-1a3e-40cf-aea1-aabd6f527bf6",
   "metadata": {},
   "outputs": [
    {
     "data": {
      "text/html": [
       "<div>\n",
       "<style scoped>\n",
       "    .dataframe tbody tr th:only-of-type {\n",
       "        vertical-align: middle;\n",
       "    }\n",
       "\n",
       "    .dataframe tbody tr th {\n",
       "        vertical-align: top;\n",
       "    }\n",
       "\n",
       "    .dataframe thead th {\n",
       "        text-align: right;\n",
       "    }\n",
       "</style>\n",
       "<table border=\"1\" class=\"dataframe\">\n",
       "  <thead>\n",
       "    <tr style=\"text-align: right;\">\n",
       "      <th></th>\n",
       "      <th>a</th>\n",
       "      <th>b</th>\n",
       "      <th>c</th>\n",
       "    </tr>\n",
       "  </thead>\n",
       "  <tbody>\n",
       "    <tr>\n",
       "      <th>5</th>\n",
       "      <td>11</td>\n",
       "      <td>f</td>\n",
       "      <td>3.0</td>\n",
       "    </tr>\n",
       "    <tr>\n",
       "      <th>3</th>\n",
       "      <td>10</td>\n",
       "      <td>c</td>\n",
       "      <td>3.2</td>\n",
       "    </tr>\n",
       "    <tr>\n",
       "      <th>4</th>\n",
       "      <td>8</td>\n",
       "      <td>e</td>\n",
       "      <td>NaN</td>\n",
       "    </tr>\n",
       "  </tbody>\n",
       "</table>\n",
       "</div>"
      ],
      "text/plain": [
       "    a  b    c\n",
       "5  11  f  3.0\n",
       "3  10  c  3.2\n",
       "4   8  e  NaN"
      ]
     },
     "execution_count": 250,
     "metadata": {},
     "output_type": "execute_result"
    }
   ],
   "source": [
    "df = pd.DataFrame(\n",
    "    {\n",
    "        \"a\": [-2, -1, 1, 10, 8, 11, -1],\n",
    "        \"b\": list(\"abdceff\"),\n",
    "        \"c\": [1.0, 2.0, 4.0, 3.2, np.nan, 3.0, 4.0],\n",
    "    }\n",
    ")\n",
    "df.nlargest(3, \"a\")"
   ]
  },
  {
   "cell_type": "code",
   "execution_count": 251,
   "id": "4e554771-7884-4e7d-b2a3-e6663e65b9c8",
   "metadata": {},
   "outputs": [
    {
     "data": {
      "text/html": [
       "<div>\n",
       "<style scoped>\n",
       "    .dataframe tbody tr th:only-of-type {\n",
       "        vertical-align: middle;\n",
       "    }\n",
       "\n",
       "    .dataframe tbody tr th {\n",
       "        vertical-align: top;\n",
       "    }\n",
       "\n",
       "    .dataframe thead th {\n",
       "        text-align: right;\n",
       "    }\n",
       "</style>\n",
       "<table border=\"1\" class=\"dataframe\">\n",
       "  <thead>\n",
       "    <tr style=\"text-align: right;\">\n",
       "      <th></th>\n",
       "      <th>a</th>\n",
       "      <th>b</th>\n",
       "      <th>c</th>\n",
       "    </tr>\n",
       "  </thead>\n",
       "  <tbody>\n",
       "    <tr>\n",
       "      <th>5</th>\n",
       "      <td>11</td>\n",
       "      <td>f</td>\n",
       "      <td>3.0</td>\n",
       "    </tr>\n",
       "    <tr>\n",
       "      <th>3</th>\n",
       "      <td>10</td>\n",
       "      <td>c</td>\n",
       "      <td>3.2</td>\n",
       "    </tr>\n",
       "    <tr>\n",
       "      <th>4</th>\n",
       "      <td>8</td>\n",
       "      <td>e</td>\n",
       "      <td>NaN</td>\n",
       "    </tr>\n",
       "    <tr>\n",
       "      <th>2</th>\n",
       "      <td>1</td>\n",
       "      <td>d</td>\n",
       "      <td>4.0</td>\n",
       "    </tr>\n",
       "    <tr>\n",
       "      <th>6</th>\n",
       "      <td>-1</td>\n",
       "      <td>f</td>\n",
       "      <td>4.0</td>\n",
       "    </tr>\n",
       "  </tbody>\n",
       "</table>\n",
       "</div>"
      ],
      "text/plain": [
       "    a  b    c\n",
       "5  11  f  3.0\n",
       "3  10  c  3.2\n",
       "4   8  e  NaN\n",
       "2   1  d  4.0\n",
       "6  -1  f  4.0"
      ]
     },
     "execution_count": 251,
     "metadata": {},
     "output_type": "execute_result"
    }
   ],
   "source": [
    "df.nlargest(5, [\"a\", \"c\"])"
   ]
  },
  {
   "cell_type": "code",
   "execution_count": 252,
   "id": "b556da7d-94dc-4dfe-8b36-609c98b48640",
   "metadata": {},
   "outputs": [
    {
     "data": {
      "text/html": [
       "<div>\n",
       "<style scoped>\n",
       "    .dataframe tbody tr th:only-of-type {\n",
       "        vertical-align: middle;\n",
       "    }\n",
       "\n",
       "    .dataframe tbody tr th {\n",
       "        vertical-align: top;\n",
       "    }\n",
       "\n",
       "    .dataframe thead th {\n",
       "        text-align: right;\n",
       "    }\n",
       "</style>\n",
       "<table border=\"1\" class=\"dataframe\">\n",
       "  <thead>\n",
       "    <tr style=\"text-align: right;\">\n",
       "      <th></th>\n",
       "      <th>a</th>\n",
       "      <th>b</th>\n",
       "      <th>c</th>\n",
       "    </tr>\n",
       "  </thead>\n",
       "  <tbody>\n",
       "    <tr>\n",
       "      <th>0</th>\n",
       "      <td>-2</td>\n",
       "      <td>a</td>\n",
       "      <td>1.0</td>\n",
       "    </tr>\n",
       "    <tr>\n",
       "      <th>1</th>\n",
       "      <td>-1</td>\n",
       "      <td>b</td>\n",
       "      <td>2.0</td>\n",
       "    </tr>\n",
       "    <tr>\n",
       "      <th>6</th>\n",
       "      <td>-1</td>\n",
       "      <td>f</td>\n",
       "      <td>4.0</td>\n",
       "    </tr>\n",
       "  </tbody>\n",
       "</table>\n",
       "</div>"
      ],
      "text/plain": [
       "   a  b    c\n",
       "0 -2  a  1.0\n",
       "1 -1  b  2.0\n",
       "6 -1  f  4.0"
      ]
     },
     "execution_count": 252,
     "metadata": {},
     "output_type": "execute_result"
    }
   ],
   "source": [
    "df.nsmallest(3, \"a\")"
   ]
  },
  {
   "cell_type": "code",
   "execution_count": 253,
   "id": "9d8a12ad-3119-4e14-80a8-66e4a1eec701",
   "metadata": {},
   "outputs": [
    {
     "data": {
      "text/html": [
       "<div>\n",
       "<style scoped>\n",
       "    .dataframe tbody tr th:only-of-type {\n",
       "        vertical-align: middle;\n",
       "    }\n",
       "\n",
       "    .dataframe tbody tr th {\n",
       "        vertical-align: top;\n",
       "    }\n",
       "\n",
       "    .dataframe thead th {\n",
       "        text-align: right;\n",
       "    }\n",
       "</style>\n",
       "<table border=\"1\" class=\"dataframe\">\n",
       "  <thead>\n",
       "    <tr style=\"text-align: right;\">\n",
       "      <th></th>\n",
       "      <th>a</th>\n",
       "      <th>b</th>\n",
       "      <th>c</th>\n",
       "    </tr>\n",
       "  </thead>\n",
       "  <tbody>\n",
       "    <tr>\n",
       "      <th>0</th>\n",
       "      <td>-2</td>\n",
       "      <td>a</td>\n",
       "      <td>1.0</td>\n",
       "    </tr>\n",
       "    <tr>\n",
       "      <th>1</th>\n",
       "      <td>-1</td>\n",
       "      <td>b</td>\n",
       "      <td>2.0</td>\n",
       "    </tr>\n",
       "    <tr>\n",
       "      <th>6</th>\n",
       "      <td>-1</td>\n",
       "      <td>f</td>\n",
       "      <td>4.0</td>\n",
       "    </tr>\n",
       "    <tr>\n",
       "      <th>2</th>\n",
       "      <td>1</td>\n",
       "      <td>d</td>\n",
       "      <td>4.0</td>\n",
       "    </tr>\n",
       "    <tr>\n",
       "      <th>4</th>\n",
       "      <td>8</td>\n",
       "      <td>e</td>\n",
       "      <td>NaN</td>\n",
       "    </tr>\n",
       "  </tbody>\n",
       "</table>\n",
       "</div>"
      ],
      "text/plain": [
       "   a  b    c\n",
       "0 -2  a  1.0\n",
       "1 -1  b  2.0\n",
       "6 -1  f  4.0\n",
       "2  1  d  4.0\n",
       "4  8  e  NaN"
      ]
     },
     "execution_count": 253,
     "metadata": {},
     "output_type": "execute_result"
    }
   ],
   "source": [
    "df.nsmallest(5, [\"a\", \"c\"])"
   ]
  },
  {
   "cell_type": "markdown",
   "id": "22c9b61c-c73e-462a-a196-2afeb3f4f856",
   "metadata": {},
   "source": [
    "### Sorting by a MultiIndex column\n",
    "You must be explicit about sorting when the column is a MultiIndex, and fully specify all levels to by."
   ]
  },
  {
   "cell_type": "code",
   "execution_count": 254,
   "id": "9f2de5e1-063d-4a69-b3a2-3aafdb69708a",
   "metadata": {},
   "outputs": [
    {
     "data": {
      "text/html": [
       "<div>\n",
       "<style scoped>\n",
       "    .dataframe tbody tr th:only-of-type {\n",
       "        vertical-align: middle;\n",
       "    }\n",
       "\n",
       "    .dataframe tbody tr th {\n",
       "        vertical-align: top;\n",
       "    }\n",
       "\n",
       "    .dataframe thead tr th {\n",
       "        text-align: left;\n",
       "    }\n",
       "</style>\n",
       "<table border=\"1\" class=\"dataframe\">\n",
       "  <thead>\n",
       "    <tr>\n",
       "      <th></th>\n",
       "      <th colspan=\"2\" halign=\"left\">a</th>\n",
       "      <th>b</th>\n",
       "    </tr>\n",
       "    <tr>\n",
       "      <th></th>\n",
       "      <th>one</th>\n",
       "      <th>two</th>\n",
       "      <th>three</th>\n",
       "    </tr>\n",
       "  </thead>\n",
       "  <tbody>\n",
       "    <tr>\n",
       "      <th>0</th>\n",
       "      <td>2</td>\n",
       "      <td>1</td>\n",
       "      <td>5</td>\n",
       "    </tr>\n",
       "    <tr>\n",
       "      <th>2</th>\n",
       "      <td>1</td>\n",
       "      <td>2</td>\n",
       "      <td>3</td>\n",
       "    </tr>\n",
       "    <tr>\n",
       "      <th>1</th>\n",
       "      <td>1</td>\n",
       "      <td>3</td>\n",
       "      <td>4</td>\n",
       "    </tr>\n",
       "    <tr>\n",
       "      <th>3</th>\n",
       "      <td>1</td>\n",
       "      <td>4</td>\n",
       "      <td>2</td>\n",
       "    </tr>\n",
       "  </tbody>\n",
       "</table>\n",
       "</div>"
      ],
      "text/plain": [
       "    a         b\n",
       "  one two three\n",
       "0   2   1     5\n",
       "2   1   2     3\n",
       "1   1   3     4\n",
       "3   1   4     2"
      ]
     },
     "execution_count": 254,
     "metadata": {},
     "output_type": "execute_result"
    }
   ],
   "source": [
    "df1.columns = pd.MultiIndex.from_tuples(\n",
    "    [(\"a\", \"one\"), (\"a\", \"two\"), (\"b\", \"three\")]\n",
    ")\n",
    "df1.sort_values(by=(\"a\", \"two\"))"
   ]
  },
  {
   "cell_type": "markdown",
   "id": "67c5494b-8135-43b1-ac77-3472a281d419",
   "metadata": {},
   "source": [
    "## Copying\n",
    "The copy() method on pandas objects copies the underlying data (though not the axis indexes, since they are immutable) and returns a new object. Note that it is seldom necessary to copy objects. For example, there are only a handful of ways to alter a DataFrame in-place:\n",
    "\n",
    "Inserting, deleting, or modifying a column.\n",
    "\n",
    "Assigning to the index or columns attributes.\n",
    "\n",
    "For homogeneous data, directly modifying the values via the values attribute or advanced indexing.\n",
    "\n",
    "To be clear, no pandas method has the side effect of modifying your data; almost every method returns a new object, leaving the original object untouched. If the data is modified, it is because you did so explicitly.\n",
    "\n",
    "### dtypes\n",
    "For the most part, pandas uses NumPy arrays and dtypes for Series or individual columns of a DataFrame. NumPy provides support for float, int, bool, timedelta64[ns] and datetime64[ns] (note that NumPy does not support timezone-aware datetimes).\n",
    "\n",
    "pandas and third-party libraries extend NumPy’s type system in a few places. This section describes the extensions pandas has made internally. See Extension types for how to write your own extension that works with pandas. See Extension data types for a list of third-party libraries that have implemented an extension.\n",
    "\n",
    "The following table lists all of pandas extension types. For methods requiring dtype arguments, strings can be specified as indicated. See the respective documentation sections for more on each type.\n",
    "\n",
    "| Kind of Data        | Data Type        | Scalar           | Array                | String Aliases         | Documentation      |\n",
    "|---------------------|------------------|------------------|----------------------|------------------------|--------------------|\n",
    "| tz-aware datetime   | DatetimeTZDtype  | Timestamp        | arrays.DatetimeArray | 'datetime64[ns, <tz>]' | Time zone handling | \n",
    "| Categorical         | CategoricalDtype | (none)           | Categorical          | 'category'             | Categorical data   |\n",
    "| period (time spans) | PeriodDtype      | Period           | arrays.PeriodArray   | 'period[<freq>]', 'Period[<freq>]' | Time span representation | \n",
    "| sparse              | SparseDtype      | (none)           | arrays.SparseArray   | 'Sparse', 'Sparse[int]', 'Sparse[float]' | Sparse data structures | \n",
    "| intervals           | IntervalDtype    | Interval         | arrays.IntervalArray | 'interval', 'Interval', 'Interval[<numpy_dtype>]', 'Interval[datetime64[ns, <tz>]]', 'Interval[timedelta64[<freq>]]' | IntervalIndex | \n",
    "| nullable integer    | Int64Dtype, …    | (none)           | arrays.IntegerArray  | 'Int8', 'Int16', 'Int32', 'Int64', 'UInt8', 'UInt16', 'UInt32', 'UInt64' | Nullable integer data type | \n",
    "| Strings             | StringDtype      | str              | arrays.StringArray   | 'string'               | Working with text data | \n",
    "| Boolean (with NA)   | BooleanDtype     | bool             | arrays.BooleanArray  | 'boolean'              | Boolean data with missing values | \n",
    "\n",
    "pandas has two ways to store strings.\n",
    "\n",
    "1. object dtype, which can hold any Python object, including strings.\n",
    "2. StringDtype, which is dedicated to strings.\n",
    "\n",
    "Generally, we recommend using StringDtype. See Text data types for more.\n",
    "\n",
    "Finally, arbitrary objects may be stored using the object dtype, but should be avoided to the extent possible (for performance and interoperability with other libraries and methods. See object conversion).\n",
    "\n",
    "A convenient dtypes attribute for DataFrame returns a Series with the data type of each column."
   ]
  },
  {
   "cell_type": "code",
   "execution_count": 255,
   "id": "50aaa615-758b-4c61-b9ce-6bf29559faf9",
   "metadata": {},
   "outputs": [
    {
     "data": {
      "text/html": [
       "<div>\n",
       "<style scoped>\n",
       "    .dataframe tbody tr th:only-of-type {\n",
       "        vertical-align: middle;\n",
       "    }\n",
       "\n",
       "    .dataframe tbody tr th {\n",
       "        vertical-align: top;\n",
       "    }\n",
       "\n",
       "    .dataframe thead th {\n",
       "        text-align: right;\n",
       "    }\n",
       "</style>\n",
       "<table border=\"1\" class=\"dataframe\">\n",
       "  <thead>\n",
       "    <tr style=\"text-align: right;\">\n",
       "      <th></th>\n",
       "      <th>A</th>\n",
       "      <th>B</th>\n",
       "      <th>C</th>\n",
       "      <th>D</th>\n",
       "      <th>E</th>\n",
       "      <th>F</th>\n",
       "      <th>G</th>\n",
       "    </tr>\n",
       "  </thead>\n",
       "  <tbody>\n",
       "    <tr>\n",
       "      <th>0</th>\n",
       "      <td>0.326835</td>\n",
       "      <td>1</td>\n",
       "      <td>foo</td>\n",
       "      <td>2001-01-02</td>\n",
       "      <td>1.0</td>\n",
       "      <td>False</td>\n",
       "      <td>1</td>\n",
       "    </tr>\n",
       "    <tr>\n",
       "      <th>1</th>\n",
       "      <td>0.884492</td>\n",
       "      <td>1</td>\n",
       "      <td>foo</td>\n",
       "      <td>2001-01-02</td>\n",
       "      <td>1.0</td>\n",
       "      <td>False</td>\n",
       "      <td>1</td>\n",
       "    </tr>\n",
       "    <tr>\n",
       "      <th>2</th>\n",
       "      <td>0.524381</td>\n",
       "      <td>1</td>\n",
       "      <td>foo</td>\n",
       "      <td>2001-01-02</td>\n",
       "      <td>1.0</td>\n",
       "      <td>False</td>\n",
       "      <td>1</td>\n",
       "    </tr>\n",
       "  </tbody>\n",
       "</table>\n",
       "</div>"
      ],
      "text/plain": [
       "          A  B    C          D    E      F  G\n",
       "0  0.326835  1  foo 2001-01-02  1.0  False  1\n",
       "1  0.884492  1  foo 2001-01-02  1.0  False  1\n",
       "2  0.524381  1  foo 2001-01-02  1.0  False  1"
      ]
     },
     "execution_count": 255,
     "metadata": {},
     "output_type": "execute_result"
    }
   ],
   "source": [
    "dft = pd.DataFrame(\n",
    "    {\n",
    "        \"A\": np.random.rand(3),\n",
    "        \"B\": 1,\n",
    "        \"C\": \"foo\",\n",
    "        \"D\": pd.Timestamp(\"20010102\"),\n",
    "        \"E\": pd.Series([1.0] * 3).astype(\"float32\"),\n",
    "        \"F\": False,\n",
    "        \"G\": pd.Series([1] * 3, dtype=\"int8\"),\n",
    "    }\n",
    ")\n",
    "dft"
   ]
  },
  {
   "cell_type": "code",
   "execution_count": 256,
   "id": "4fb342fd-4cf3-47e2-b245-a2f2375e4053",
   "metadata": {},
   "outputs": [
    {
     "data": {
      "text/plain": [
       "A           float64\n",
       "B             int64\n",
       "C            object\n",
       "D    datetime64[ns]\n",
       "E           float32\n",
       "F              bool\n",
       "G              int8\n",
       "dtype: object"
      ]
     },
     "execution_count": 256,
     "metadata": {},
     "output_type": "execute_result"
    }
   ],
   "source": [
    "dft.dtypes"
   ]
  },
  {
   "cell_type": "markdown",
   "id": "141671de-7156-44b3-9317-f4f32e89f64a",
   "metadata": {},
   "source": [
    "On a Series object, use the dtype attribute."
   ]
  },
  {
   "cell_type": "code",
   "execution_count": 257,
   "id": "2c55290e-9151-4d86-9e4e-3c3ad468dd74",
   "metadata": {},
   "outputs": [
    {
     "data": {
      "text/plain": [
       "dtype('float64')"
      ]
     },
     "execution_count": 257,
     "metadata": {},
     "output_type": "execute_result"
    }
   ],
   "source": [
    "dft[\"A\"].dtype"
   ]
  },
  {
   "cell_type": "markdown",
   "id": "ae8d53d1-4f60-41a4-8571-60aef928ba94",
   "metadata": {},
   "source": [
    "If a pandas object contains data with multiple dtypes in a single column, the dtype of the column will be chosen to accommodate all of the data types (object is the most general)."
   ]
  },
  {
   "cell_type": "code",
   "execution_count": 258,
   "id": "12f8ed87-b84e-4e2b-93c3-6264e865d8fd",
   "metadata": {},
   "outputs": [
    {
     "data": {
      "text/plain": [
       "0    1.0\n",
       "1    2.0\n",
       "2    3.0\n",
       "3    4.0\n",
       "4    5.0\n",
       "5    6.0\n",
       "dtype: float64"
      ]
     },
     "execution_count": 258,
     "metadata": {},
     "output_type": "execute_result"
    }
   ],
   "source": [
    "# these ints are coerced to floats\n",
    "pd.Series([1, 2, 3, 4, 5, 6.0])"
   ]
  },
  {
   "cell_type": "code",
   "execution_count": 259,
   "id": "acd8cce8-831f-46f0-a7cb-db22466222cf",
   "metadata": {},
   "outputs": [
    {
     "data": {
      "text/plain": [
       "0      1\n",
       "1      2\n",
       "2      3\n",
       "3    6.0\n",
       "4    foo\n",
       "dtype: object"
      ]
     },
     "execution_count": 259,
     "metadata": {},
     "output_type": "execute_result"
    }
   ],
   "source": [
    "# string data forces an ``object`` dtype\n",
    "pd.Series([1, 2, 3, 6.0, \"foo\"])"
   ]
  },
  {
   "cell_type": "markdown",
   "id": "d9d534ef-b1d2-4264-b28e-232457ba863e",
   "metadata": {},
   "source": [
    "The number of columns of each type in a DataFrame can be found by calling DataFrame.dtypes.value_counts()."
   ]
  },
  {
   "cell_type": "code",
   "execution_count": 260,
   "id": "a0064956-4ab4-4b47-9b34-2ec6b303bb2d",
   "metadata": {},
   "outputs": [
    {
     "data": {
      "text/plain": [
       "int8              1\n",
       "float64           1\n",
       "int64             1\n",
       "float32           1\n",
       "datetime64[ns]    1\n",
       "bool              1\n",
       "object            1\n",
       "dtype: int64"
      ]
     },
     "execution_count": 260,
     "metadata": {},
     "output_type": "execute_result"
    }
   ],
   "source": [
    "dft.dtypes.value_counts()"
   ]
  },
  {
   "cell_type": "markdown",
   "id": "ded83adb-666c-4b71-9ec2-891cf7d55c2d",
   "metadata": {},
   "source": [
    "Numeric dtypes will propagate and can coexist in DataFrames. If a dtype is passed (either directly via the dtype keyword, a passed ndarray, or a passed Series), then it will be preserved in DataFrame operations. Furthermore, different numeric dtypes will NOT be combined. The following example will give you a taste."
   ]
  },
  {
   "cell_type": "code",
   "execution_count": 261,
   "id": "f5f46973-40f6-4256-b211-2a06eb3063d3",
   "metadata": {},
   "outputs": [
    {
     "data": {
      "text/html": [
       "<div>\n",
       "<style scoped>\n",
       "    .dataframe tbody tr th:only-of-type {\n",
       "        vertical-align: middle;\n",
       "    }\n",
       "\n",
       "    .dataframe tbody tr th {\n",
       "        vertical-align: top;\n",
       "    }\n",
       "\n",
       "    .dataframe thead th {\n",
       "        text-align: right;\n",
       "    }\n",
       "</style>\n",
       "<table border=\"1\" class=\"dataframe\">\n",
       "  <thead>\n",
       "    <tr style=\"text-align: right;\">\n",
       "      <th></th>\n",
       "      <th>A</th>\n",
       "    </tr>\n",
       "  </thead>\n",
       "  <tbody>\n",
       "    <tr>\n",
       "      <th>0</th>\n",
       "      <td>-0.410942</td>\n",
       "    </tr>\n",
       "    <tr>\n",
       "      <th>1</th>\n",
       "      <td>-0.090808</td>\n",
       "    </tr>\n",
       "    <tr>\n",
       "      <th>2</th>\n",
       "      <td>1.027817</td>\n",
       "    </tr>\n",
       "    <tr>\n",
       "      <th>3</th>\n",
       "      <td>-1.424471</td>\n",
       "    </tr>\n",
       "    <tr>\n",
       "      <th>4</th>\n",
       "      <td>0.044850</td>\n",
       "    </tr>\n",
       "    <tr>\n",
       "      <th>5</th>\n",
       "      <td>0.763759</td>\n",
       "    </tr>\n",
       "    <tr>\n",
       "      <th>6</th>\n",
       "      <td>-1.411651</td>\n",
       "    </tr>\n",
       "    <tr>\n",
       "      <th>7</th>\n",
       "      <td>-0.640137</td>\n",
       "    </tr>\n",
       "  </tbody>\n",
       "</table>\n",
       "</div>"
      ],
      "text/plain": [
       "          A\n",
       "0 -0.410942\n",
       "1 -0.090808\n",
       "2  1.027817\n",
       "3 -1.424471\n",
       "4  0.044850\n",
       "5  0.763759\n",
       "6 -1.411651\n",
       "7 -0.640137"
      ]
     },
     "execution_count": 261,
     "metadata": {},
     "output_type": "execute_result"
    }
   ],
   "source": [
    "df1 = pd.DataFrame(np.random.randn(8, 1), columns=[\"A\"], dtype=\"float32\")\n",
    "df1"
   ]
  },
  {
   "cell_type": "code",
   "execution_count": 262,
   "id": "c1ee47c3-c091-4300-a1d9-0e8c7ca584c4",
   "metadata": {},
   "outputs": [
    {
     "data": {
      "text/plain": [
       "A    float32\n",
       "dtype: object"
      ]
     },
     "execution_count": 262,
     "metadata": {},
     "output_type": "execute_result"
    }
   ],
   "source": [
    "df1.dtypes"
   ]
  },
  {
   "cell_type": "code",
   "execution_count": 263,
   "id": "181512f7-2819-4952-881f-09c5865ff5d4",
   "metadata": {},
   "outputs": [
    {
     "data": {
      "text/html": [
       "<div>\n",
       "<style scoped>\n",
       "    .dataframe tbody tr th:only-of-type {\n",
       "        vertical-align: middle;\n",
       "    }\n",
       "\n",
       "    .dataframe tbody tr th {\n",
       "        vertical-align: top;\n",
       "    }\n",
       "\n",
       "    .dataframe thead th {\n",
       "        text-align: right;\n",
       "    }\n",
       "</style>\n",
       "<table border=\"1\" class=\"dataframe\">\n",
       "  <thead>\n",
       "    <tr style=\"text-align: right;\">\n",
       "      <th></th>\n",
       "      <th>A</th>\n",
       "      <th>B</th>\n",
       "      <th>C</th>\n",
       "    </tr>\n",
       "  </thead>\n",
       "  <tbody>\n",
       "    <tr>\n",
       "      <th>0</th>\n",
       "      <td>0.286865</td>\n",
       "      <td>-2.053404</td>\n",
       "      <td>1</td>\n",
       "    </tr>\n",
       "    <tr>\n",
       "      <th>1</th>\n",
       "      <td>0.494629</td>\n",
       "      <td>0.322661</td>\n",
       "      <td>0</td>\n",
       "    </tr>\n",
       "    <tr>\n",
       "      <th>2</th>\n",
       "      <td>-1.197266</td>\n",
       "      <td>-0.311263</td>\n",
       "      <td>1</td>\n",
       "    </tr>\n",
       "    <tr>\n",
       "      <th>3</th>\n",
       "      <td>2.250000</td>\n",
       "      <td>-1.475976</td>\n",
       "      <td>0</td>\n",
       "    </tr>\n",
       "    <tr>\n",
       "      <th>4</th>\n",
       "      <td>2.486328</td>\n",
       "      <td>0.856748</td>\n",
       "      <td>0</td>\n",
       "    </tr>\n",
       "    <tr>\n",
       "      <th>5</th>\n",
       "      <td>-1.723633</td>\n",
       "      <td>-0.940882</td>\n",
       "      <td>0</td>\n",
       "    </tr>\n",
       "    <tr>\n",
       "      <th>6</th>\n",
       "      <td>-0.146484</td>\n",
       "      <td>0.502388</td>\n",
       "      <td>1</td>\n",
       "    </tr>\n",
       "    <tr>\n",
       "      <th>7</th>\n",
       "      <td>-0.450684</td>\n",
       "      <td>-0.016716</td>\n",
       "      <td>0</td>\n",
       "    </tr>\n",
       "  </tbody>\n",
       "</table>\n",
       "</div>"
      ],
      "text/plain": [
       "          A         B  C\n",
       "0  0.286865 -2.053404  1\n",
       "1  0.494629  0.322661  0\n",
       "2 -1.197266 -0.311263  1\n",
       "3  2.250000 -1.475976  0\n",
       "4  2.486328  0.856748  0\n",
       "5 -1.723633 -0.940882  0\n",
       "6 -0.146484  0.502388  1\n",
       "7 -0.450684 -0.016716  0"
      ]
     },
     "execution_count": 263,
     "metadata": {},
     "output_type": "execute_result"
    }
   ],
   "source": [
    "df2 = pd.DataFrame(\n",
    "    {\n",
    "        \"A\": pd.Series(np.random.randn(8), dtype=\"float16\"),\n",
    "        \"B\": pd.Series(np.random.randn(8)),\n",
    "        \"C\": pd.Series(np.array(np.random.randn(8), dtype=\"uint8\")),\n",
    "    }\n",
    ")\n",
    "df2"
   ]
  },
  {
   "cell_type": "code",
   "execution_count": 264,
   "id": "17ab1bf2-3594-4b69-b43d-e9a6df322ee2",
   "metadata": {},
   "outputs": [
    {
     "data": {
      "text/plain": [
       "A    float16\n",
       "B    float64\n",
       "C      uint8\n",
       "dtype: object"
      ]
     },
     "execution_count": 264,
     "metadata": {},
     "output_type": "execute_result"
    }
   ],
   "source": [
    "df2.dtypes"
   ]
  },
  {
   "cell_type": "markdown",
   "id": "e1ac58a7-05fb-45a4-b1b9-352ac99311db",
   "metadata": {},
   "source": [
    "### defaults\n",
    "By default integer types are int64 and float types are float64, regardless of platform (32-bit or 64-bit). The following will all result in int64 dtypes."
   ]
  },
  {
   "cell_type": "code",
   "execution_count": 265,
   "id": "6083db5f-483b-40d5-92c7-a4183a665000",
   "metadata": {},
   "outputs": [
    {
     "data": {
      "text/plain": [
       "a    int64\n",
       "dtype: object"
      ]
     },
     "execution_count": 265,
     "metadata": {},
     "output_type": "execute_result"
    }
   ],
   "source": [
    "pd.DataFrame([1, 2], columns=[\"a\"]).dtypes"
   ]
  },
  {
   "cell_type": "code",
   "execution_count": 266,
   "id": "4dc9cf53-edaf-4751-ba3e-0ba9ed39fabd",
   "metadata": {},
   "outputs": [
    {
     "data": {
      "text/plain": [
       "a    int64\n",
       "dtype: object"
      ]
     },
     "execution_count": 266,
     "metadata": {},
     "output_type": "execute_result"
    }
   ],
   "source": [
    "pd.DataFrame({\"a\": [1, 2]}).dtypes"
   ]
  },
  {
   "cell_type": "code",
   "execution_count": 267,
   "id": "69aabdf5-a483-4f47-934d-5060d60aa2af",
   "metadata": {},
   "outputs": [
    {
     "data": {
      "text/plain": [
       "a    int64\n",
       "dtype: object"
      ]
     },
     "execution_count": 267,
     "metadata": {},
     "output_type": "execute_result"
    }
   ],
   "source": [
    "pd.DataFrame({\"a\": 1}, index=list(range(2))).dtypes"
   ]
  },
  {
   "cell_type": "markdown",
   "id": "07c503e8-82c2-4e22-b23f-0d1258ab3c1b",
   "metadata": {},
   "source": [
    "Note that Numpy will choose platform-dependent types when creating arrays. The following WILL result in int32 on 32-bit platform."
   ]
  },
  {
   "cell_type": "code",
   "execution_count": 268,
   "id": "dbe8fdc5-50d0-4a16-abac-b41b99d7d165",
   "metadata": {},
   "outputs": [],
   "source": [
    "frame = pd.DataFrame(np.array([1, 2]))"
   ]
  },
  {
   "cell_type": "markdown",
   "id": "29db4ab3-6aa2-4beb-a018-bb86acf99de7",
   "metadata": {},
   "source": [
    "### upcasting\n",
    "Types can potentially be upcasted when combined with other types, meaning they are promoted from the current type (e.g. int to float)."
   ]
  },
  {
   "cell_type": "code",
   "execution_count": 269,
   "id": "3546f0bb-cb96-4240-857f-ff252f9193bc",
   "metadata": {},
   "outputs": [
    {
     "data": {
      "text/html": [
       "<div>\n",
       "<style scoped>\n",
       "    .dataframe tbody tr th:only-of-type {\n",
       "        vertical-align: middle;\n",
       "    }\n",
       "\n",
       "    .dataframe tbody tr th {\n",
       "        vertical-align: top;\n",
       "    }\n",
       "\n",
       "    .dataframe thead th {\n",
       "        text-align: right;\n",
       "    }\n",
       "</style>\n",
       "<table border=\"1\" class=\"dataframe\">\n",
       "  <thead>\n",
       "    <tr style=\"text-align: right;\">\n",
       "      <th></th>\n",
       "      <th>A</th>\n",
       "      <th>B</th>\n",
       "      <th>C</th>\n",
       "    </tr>\n",
       "  </thead>\n",
       "  <tbody>\n",
       "    <tr>\n",
       "      <th>0</th>\n",
       "      <td>-0.124077</td>\n",
       "      <td>-2.053404</td>\n",
       "      <td>1.0</td>\n",
       "    </tr>\n",
       "    <tr>\n",
       "      <th>1</th>\n",
       "      <td>0.403821</td>\n",
       "      <td>0.322661</td>\n",
       "      <td>0.0</td>\n",
       "    </tr>\n",
       "    <tr>\n",
       "      <th>2</th>\n",
       "      <td>-0.169448</td>\n",
       "      <td>-0.311263</td>\n",
       "      <td>1.0</td>\n",
       "    </tr>\n",
       "    <tr>\n",
       "      <th>3</th>\n",
       "      <td>0.825529</td>\n",
       "      <td>-1.475976</td>\n",
       "      <td>0.0</td>\n",
       "    </tr>\n",
       "    <tr>\n",
       "      <th>4</th>\n",
       "      <td>2.531179</td>\n",
       "      <td>0.856748</td>\n",
       "      <td>0.0</td>\n",
       "    </tr>\n",
       "    <tr>\n",
       "      <th>5</th>\n",
       "      <td>-0.959874</td>\n",
       "      <td>-0.940882</td>\n",
       "      <td>0.0</td>\n",
       "    </tr>\n",
       "    <tr>\n",
       "      <th>6</th>\n",
       "      <td>-1.558135</td>\n",
       "      <td>0.502388</td>\n",
       "      <td>1.0</td>\n",
       "    </tr>\n",
       "    <tr>\n",
       "      <th>7</th>\n",
       "      <td>-1.090821</td>\n",
       "      <td>-0.016716</td>\n",
       "      <td>0.0</td>\n",
       "    </tr>\n",
       "  </tbody>\n",
       "</table>\n",
       "</div>"
      ],
      "text/plain": [
       "          A         B    C\n",
       "0 -0.124077 -2.053404  1.0\n",
       "1  0.403821  0.322661  0.0\n",
       "2 -0.169448 -0.311263  1.0\n",
       "3  0.825529 -1.475976  0.0\n",
       "4  2.531179  0.856748  0.0\n",
       "5 -0.959874 -0.940882  0.0\n",
       "6 -1.558135  0.502388  1.0\n",
       "7 -1.090821 -0.016716  0.0"
      ]
     },
     "execution_count": 269,
     "metadata": {},
     "output_type": "execute_result"
    }
   ],
   "source": [
    "df3 = df1.reindex_like(df2).fillna(value=0.0) + df2\n",
    "df3"
   ]
  },
  {
   "cell_type": "code",
   "execution_count": 270,
   "id": "12d20019-02db-486e-96bc-870425e30082",
   "metadata": {},
   "outputs": [
    {
     "data": {
      "text/plain": [
       "A    float32\n",
       "B    float64\n",
       "C    float64\n",
       "dtype: object"
      ]
     },
     "execution_count": 270,
     "metadata": {},
     "output_type": "execute_result"
    }
   ],
   "source": [
    "df3.dtypes"
   ]
  },
  {
   "cell_type": "markdown",
   "id": "d9b01542-a17a-44b7-a4e3-16c1251cf629",
   "metadata": {},
   "source": [
    "DataFrame.to_numpy() will return the lower-common-denominator of the dtypes, meaning the dtype that can accommodate ALL of the types in the resulting homogeneous dtyped NumPy array. This can force some upcasting."
   ]
  },
  {
   "cell_type": "code",
   "execution_count": 271,
   "id": "d377742e-e7df-4e06-babc-82b9fbbd4b8e",
   "metadata": {},
   "outputs": [
    {
     "data": {
      "text/plain": [
       "dtype('float64')"
      ]
     },
     "execution_count": 271,
     "metadata": {},
     "output_type": "execute_result"
    }
   ],
   "source": [
    "df3.to_numpy().dtype"
   ]
  },
  {
   "cell_type": "markdown",
   "id": "f588a1cc-1559-4853-95a6-96789a801dec",
   "metadata": {},
   "source": [
    "### astype\n",
    "You can use the astype() method to explicitly convert dtypes from one to another. These will by default return a copy, even if the dtype was unchanged (pass copy=False to change this behavior). In addition, they will raise an exception if the astype operation is invalid.\n",
    "\n",
    "Upcasting is always according to the NumPy rules. If two different dtypes are involved in an operation, then the more general one will be used as the result of the operation."
   ]
  },
  {
   "cell_type": "code",
   "execution_count": 272,
   "id": "402f414c-b0d5-4fa9-8beb-3dfb4d5256df",
   "metadata": {},
   "outputs": [
    {
     "data": {
      "text/html": [
       "<div>\n",
       "<style scoped>\n",
       "    .dataframe tbody tr th:only-of-type {\n",
       "        vertical-align: middle;\n",
       "    }\n",
       "\n",
       "    .dataframe tbody tr th {\n",
       "        vertical-align: top;\n",
       "    }\n",
       "\n",
       "    .dataframe thead th {\n",
       "        text-align: right;\n",
       "    }\n",
       "</style>\n",
       "<table border=\"1\" class=\"dataframe\">\n",
       "  <thead>\n",
       "    <tr style=\"text-align: right;\">\n",
       "      <th></th>\n",
       "      <th>A</th>\n",
       "      <th>B</th>\n",
       "      <th>C</th>\n",
       "    </tr>\n",
       "  </thead>\n",
       "  <tbody>\n",
       "    <tr>\n",
       "      <th>0</th>\n",
       "      <td>-0.124077</td>\n",
       "      <td>-2.053404</td>\n",
       "      <td>1.0</td>\n",
       "    </tr>\n",
       "    <tr>\n",
       "      <th>1</th>\n",
       "      <td>0.403821</td>\n",
       "      <td>0.322661</td>\n",
       "      <td>0.0</td>\n",
       "    </tr>\n",
       "    <tr>\n",
       "      <th>2</th>\n",
       "      <td>-0.169448</td>\n",
       "      <td>-0.311263</td>\n",
       "      <td>1.0</td>\n",
       "    </tr>\n",
       "    <tr>\n",
       "      <th>3</th>\n",
       "      <td>0.825529</td>\n",
       "      <td>-1.475976</td>\n",
       "      <td>0.0</td>\n",
       "    </tr>\n",
       "    <tr>\n",
       "      <th>4</th>\n",
       "      <td>2.531179</td>\n",
       "      <td>0.856748</td>\n",
       "      <td>0.0</td>\n",
       "    </tr>\n",
       "    <tr>\n",
       "      <th>5</th>\n",
       "      <td>-0.959874</td>\n",
       "      <td>-0.940882</td>\n",
       "      <td>0.0</td>\n",
       "    </tr>\n",
       "    <tr>\n",
       "      <th>6</th>\n",
       "      <td>-1.558135</td>\n",
       "      <td>0.502388</td>\n",
       "      <td>1.0</td>\n",
       "    </tr>\n",
       "    <tr>\n",
       "      <th>7</th>\n",
       "      <td>-1.090821</td>\n",
       "      <td>-0.016716</td>\n",
       "      <td>0.0</td>\n",
       "    </tr>\n",
       "  </tbody>\n",
       "</table>\n",
       "</div>"
      ],
      "text/plain": [
       "          A         B    C\n",
       "0 -0.124077 -2.053404  1.0\n",
       "1  0.403821  0.322661  0.0\n",
       "2 -0.169448 -0.311263  1.0\n",
       "3  0.825529 -1.475976  0.0\n",
       "4  2.531179  0.856748  0.0\n",
       "5 -0.959874 -0.940882  0.0\n",
       "6 -1.558135  0.502388  1.0\n",
       "7 -1.090821 -0.016716  0.0"
      ]
     },
     "execution_count": 272,
     "metadata": {},
     "output_type": "execute_result"
    }
   ],
   "source": [
    "df3"
   ]
  },
  {
   "cell_type": "code",
   "execution_count": 273,
   "id": "3ec5170a-056a-42b2-8670-756dc917abf9",
   "metadata": {},
   "outputs": [
    {
     "data": {
      "text/plain": [
       "A    float32\n",
       "B    float64\n",
       "C    float64\n",
       "dtype: object"
      ]
     },
     "execution_count": 273,
     "metadata": {},
     "output_type": "execute_result"
    }
   ],
   "source": [
    "df3.dtypes"
   ]
  },
  {
   "cell_type": "code",
   "execution_count": 274,
   "id": "00a5bdc9-20f6-4acc-b082-f70dfe897cc3",
   "metadata": {},
   "outputs": [
    {
     "data": {
      "text/plain": [
       "A    float32\n",
       "B    float32\n",
       "C    float32\n",
       "dtype: object"
      ]
     },
     "execution_count": 274,
     "metadata": {},
     "output_type": "execute_result"
    }
   ],
   "source": [
    "# conversion of dtypes\n",
    "df3.astype(\"float32\").dtypes"
   ]
  },
  {
   "cell_type": "markdown",
   "id": "753b13ea-fe92-4d7b-9a38-d9e9155f5233",
   "metadata": {},
   "source": [
    "Convert a subset of columns to a specified type using astype()."
   ]
  },
  {
   "cell_type": "code",
   "execution_count": 275,
   "id": "301095e8-0442-4151-b82c-9f3af2950ab2",
   "metadata": {},
   "outputs": [
    {
     "data": {
      "text/html": [
       "<div>\n",
       "<style scoped>\n",
       "    .dataframe tbody tr th:only-of-type {\n",
       "        vertical-align: middle;\n",
       "    }\n",
       "\n",
       "    .dataframe tbody tr th {\n",
       "        vertical-align: top;\n",
       "    }\n",
       "\n",
       "    .dataframe thead th {\n",
       "        text-align: right;\n",
       "    }\n",
       "</style>\n",
       "<table border=\"1\" class=\"dataframe\">\n",
       "  <thead>\n",
       "    <tr style=\"text-align: right;\">\n",
       "      <th></th>\n",
       "      <th>a</th>\n",
       "      <th>b</th>\n",
       "      <th>c</th>\n",
       "    </tr>\n",
       "  </thead>\n",
       "  <tbody>\n",
       "    <tr>\n",
       "      <th>0</th>\n",
       "      <td>1</td>\n",
       "      <td>4</td>\n",
       "      <td>7</td>\n",
       "    </tr>\n",
       "    <tr>\n",
       "      <th>1</th>\n",
       "      <td>2</td>\n",
       "      <td>5</td>\n",
       "      <td>8</td>\n",
       "    </tr>\n",
       "    <tr>\n",
       "      <th>2</th>\n",
       "      <td>3</td>\n",
       "      <td>6</td>\n",
       "      <td>9</td>\n",
       "    </tr>\n",
       "  </tbody>\n",
       "</table>\n",
       "</div>"
      ],
      "text/plain": [
       "   a  b  c\n",
       "0  1  4  7\n",
       "1  2  5  8\n",
       "2  3  6  9"
      ]
     },
     "execution_count": 275,
     "metadata": {},
     "output_type": "execute_result"
    }
   ],
   "source": [
    "dft = pd.DataFrame({\"a\": [1, 2, 3], \"b\": [4, 5, 6], \"c\": [7, 8, 9]})\n",
    "dft[[\"a\", \"b\"]] = dft[[\"a\", \"b\"]].astype(np.uint8)\n",
    "dft"
   ]
  },
  {
   "cell_type": "code",
   "execution_count": 276,
   "id": "81318b7e-e3c5-4cd8-b99c-4b900be28e2b",
   "metadata": {},
   "outputs": [
    {
     "data": {
      "text/plain": [
       "a    uint8\n",
       "b    uint8\n",
       "c    int64\n",
       "dtype: object"
      ]
     },
     "execution_count": 276,
     "metadata": {},
     "output_type": "execute_result"
    }
   ],
   "source": [
    "dft.dtypes"
   ]
  },
  {
   "cell_type": "markdown",
   "id": "ca3afe43-ac5a-4557-b6ba-a34f5897592c",
   "metadata": {},
   "source": [
    "Convert certain columns to a specific dtype by passing a dict to astype()."
   ]
  },
  {
   "cell_type": "code",
   "execution_count": 277,
   "id": "2708d495-1556-44dd-a248-409b592a0ce5",
   "metadata": {},
   "outputs": [
    {
     "data": {
      "text/html": [
       "<div>\n",
       "<style scoped>\n",
       "    .dataframe tbody tr th:only-of-type {\n",
       "        vertical-align: middle;\n",
       "    }\n",
       "\n",
       "    .dataframe tbody tr th {\n",
       "        vertical-align: top;\n",
       "    }\n",
       "\n",
       "    .dataframe thead th {\n",
       "        text-align: right;\n",
       "    }\n",
       "</style>\n",
       "<table border=\"1\" class=\"dataframe\">\n",
       "  <thead>\n",
       "    <tr style=\"text-align: right;\">\n",
       "      <th></th>\n",
       "      <th>a</th>\n",
       "      <th>b</th>\n",
       "      <th>c</th>\n",
       "    </tr>\n",
       "  </thead>\n",
       "  <tbody>\n",
       "    <tr>\n",
       "      <th>0</th>\n",
       "      <td>True</td>\n",
       "      <td>4</td>\n",
       "      <td>7.0</td>\n",
       "    </tr>\n",
       "    <tr>\n",
       "      <th>1</th>\n",
       "      <td>False</td>\n",
       "      <td>5</td>\n",
       "      <td>8.0</td>\n",
       "    </tr>\n",
       "    <tr>\n",
       "      <th>2</th>\n",
       "      <td>True</td>\n",
       "      <td>6</td>\n",
       "      <td>9.0</td>\n",
       "    </tr>\n",
       "  </tbody>\n",
       "</table>\n",
       "</div>"
      ],
      "text/plain": [
       "       a  b    c\n",
       "0   True  4  7.0\n",
       "1  False  5  8.0\n",
       "2   True  6  9.0"
      ]
     },
     "execution_count": 277,
     "metadata": {},
     "output_type": "execute_result"
    }
   ],
   "source": [
    "dft1 = pd.DataFrame({\"a\": [1, 0, 1], \"b\": [4, 5, 6], \"c\": [7, 8, 9]})\n",
    "dft1 = dft1.astype({\"a\": np.bool_, \"c\": np.float64})\n",
    "dft1"
   ]
  },
  {
   "cell_type": "code",
   "execution_count": 278,
   "id": "7230cec3-4d5d-4066-8a44-a7348533f12b",
   "metadata": {},
   "outputs": [
    {
     "data": {
      "text/plain": [
       "a       bool\n",
       "b      int64\n",
       "c    float64\n",
       "dtype: object"
      ]
     },
     "execution_count": 278,
     "metadata": {},
     "output_type": "execute_result"
    }
   ],
   "source": [
    "dft1.dtypes"
   ]
  },
  {
   "cell_type": "markdown",
   "id": "063be431-47a2-432e-80af-56668e85855a",
   "metadata": {},
   "source": [
    ">Note\n",
    ">\n",
    ">When trying to convert a subset of columns to a specified type using astype() and loc(), upcasting occurs.\n",
    "\n",
    "loc() tries to fit in what we are assigning to the current dtypes, while [] will overwrite them taking the dtype from the right hand side. Therefore the following piece of code produces the unintended result."
   ]
  },
  {
   "cell_type": "code",
   "execution_count": 279,
   "id": "875d1dae-d385-4b7c-8832-86c665cda243",
   "metadata": {},
   "outputs": [
    {
     "data": {
      "text/plain": [
       "a    uint8\n",
       "b    uint8\n",
       "dtype: object"
      ]
     },
     "execution_count": 279,
     "metadata": {},
     "output_type": "execute_result"
    }
   ],
   "source": [
    "dft = pd.DataFrame({\"a\": [1, 2, 3], \"b\": [4, 5, 6], \"c\": [7, 8, 9]})\n",
    "dft.loc[:, [\"a\", \"b\"]].astype(np.uint8).dtypes"
   ]
  },
  {
   "cell_type": "code",
   "execution_count": 280,
   "id": "6ad3c27e-1023-4cbb-a100-ba7b1c684bf2",
   "metadata": {},
   "outputs": [
    {
     "data": {
      "text/plain": [
       "a    int64\n",
       "b    int64\n",
       "c    int64\n",
       "dtype: object"
      ]
     },
     "execution_count": 280,
     "metadata": {},
     "output_type": "execute_result"
    }
   ],
   "source": [
    "dft.loc[:, [\"a\", \"b\"]] = dft.loc[:, [\"a\", \"b\"]].astype(np.uint8)\n",
    "dft.dtypes"
   ]
  },
  {
   "cell_type": "markdown",
   "id": "503f077b-1344-464d-bd17-d03da463d3ad",
   "metadata": {},
   "source": [
    "### object conversion\n",
    "pandas offers various functions to try to force conversion of types from the object dtype to other types. In cases where the data is already of the correct type, but stored in an object array, the DataFrame.infer_objects() and Series.infer_objects() methods can be used to soft convert to the correct type."
   ]
  },
  {
   "cell_type": "code",
   "execution_count": 281,
   "id": "8feb07d3-d6e1-4590-ac0e-02784972ada1",
   "metadata": {},
   "outputs": [
    {
     "data": {
      "text/html": [
       "<div>\n",
       "<style scoped>\n",
       "    .dataframe tbody tr th:only-of-type {\n",
       "        vertical-align: middle;\n",
       "    }\n",
       "\n",
       "    .dataframe tbody tr th {\n",
       "        vertical-align: top;\n",
       "    }\n",
       "\n",
       "    .dataframe thead th {\n",
       "        text-align: right;\n",
       "    }\n",
       "</style>\n",
       "<table border=\"1\" class=\"dataframe\">\n",
       "  <thead>\n",
       "    <tr style=\"text-align: right;\">\n",
       "      <th></th>\n",
       "      <th>0</th>\n",
       "      <th>1</th>\n",
       "      <th>2</th>\n",
       "    </tr>\n",
       "  </thead>\n",
       "  <tbody>\n",
       "    <tr>\n",
       "      <th>0</th>\n",
       "      <td>1</td>\n",
       "      <td>a</td>\n",
       "      <td>2016-03-02</td>\n",
       "    </tr>\n",
       "    <tr>\n",
       "      <th>1</th>\n",
       "      <td>2</td>\n",
       "      <td>b</td>\n",
       "      <td>2016-03-02</td>\n",
       "    </tr>\n",
       "  </tbody>\n",
       "</table>\n",
       "</div>"
      ],
      "text/plain": [
       "   0  1          2\n",
       "0  1  a 2016-03-02\n",
       "1  2  b 2016-03-02"
      ]
     },
     "execution_count": 281,
     "metadata": {},
     "output_type": "execute_result"
    }
   ],
   "source": [
    "import datetime\n",
    "\n",
    "df = pd.DataFrame(\n",
    "    [\n",
    "        [1, 2],\n",
    "        [\"a\", \"b\"],\n",
    "        [datetime.datetime(2016, 3, 2), datetime.datetime(2016, 3, 2)],\n",
    "    ]\n",
    ")\n",
    "df = df.T\n",
    "df"
   ]
  },
  {
   "cell_type": "code",
   "execution_count": 282,
   "id": "9423de07-4d52-465f-8e6a-9096d719086e",
   "metadata": {},
   "outputs": [
    {
     "data": {
      "text/plain": [
       "0            object\n",
       "1            object\n",
       "2    datetime64[ns]\n",
       "dtype: object"
      ]
     },
     "execution_count": 282,
     "metadata": {},
     "output_type": "execute_result"
    }
   ],
   "source": [
    "df.dtypes"
   ]
  },
  {
   "cell_type": "markdown",
   "id": "d2cca5b4-d047-4594-afb6-2ae38994ff48",
   "metadata": {},
   "source": [
    "Because the data was transposed the original inference stored all columns as object, which infer_objects will correct."
   ]
  },
  {
   "cell_type": "code",
   "execution_count": 283,
   "id": "0f07a924-0122-4a28-b648-ab8e14e6a7ab",
   "metadata": {},
   "outputs": [
    {
     "data": {
      "text/plain": [
       "0             int64\n",
       "1            object\n",
       "2    datetime64[ns]\n",
       "dtype: object"
      ]
     },
     "execution_count": 283,
     "metadata": {},
     "output_type": "execute_result"
    }
   ],
   "source": [
    "df.infer_objects().dtypes"
   ]
  },
  {
   "cell_type": "markdown",
   "id": "a13d7595-6e54-42ea-88c4-d01e4bfecb2b",
   "metadata": {},
   "source": [
    "The following functions are available for one dimensional object arrays or scalars to perform hard conversion of objects to a specified type:"
   ]
  },
  {
   "cell_type": "markdown",
   "id": "72a24166-e22d-4a28-99a7-57f2e7197388",
   "metadata": {},
   "source": [
    "* to_numeric() (conversion to numeric dtypes)"
   ]
  },
  {
   "cell_type": "code",
   "execution_count": 284,
   "id": "3da5eddb-e521-4ee7-91c4-fe9e3d4939b1",
   "metadata": {},
   "outputs": [
    {
     "data": {
      "text/plain": [
       "array([1.1, 2. , 3. ])"
      ]
     },
     "execution_count": 284,
     "metadata": {},
     "output_type": "execute_result"
    }
   ],
   "source": [
    "m = [\"1.1\", 2, 3]\n",
    "pd.to_numeric(m)"
   ]
  },
  {
   "cell_type": "markdown",
   "id": "2ddee512-b755-4047-8c34-69e5ab720d9f",
   "metadata": {},
   "source": [
    "* to_datetime() (conversion to datetime objects)"
   ]
  },
  {
   "cell_type": "code",
   "execution_count": 285,
   "id": "ae429147-2d1e-41b3-b8bf-d0a23e76e2c5",
   "metadata": {},
   "outputs": [
    {
     "data": {
      "text/plain": [
       "DatetimeIndex(['2016-07-09', '2016-03-02'], dtype='datetime64[ns]', freq=None)"
      ]
     },
     "execution_count": 285,
     "metadata": {},
     "output_type": "execute_result"
    }
   ],
   "source": [
    "import datetime\n",
    "m = [\"2016-07-09\", datetime.datetime(2016, 3, 2)]\n",
    "pd.to_datetime(m)"
   ]
  },
  {
   "cell_type": "markdown",
   "id": "24b64dc1-a654-461b-9ad5-5ecb6feb2ccd",
   "metadata": {},
   "source": [
    "* to_timedelta() (conversion to timedelta objects)"
   ]
  },
  {
   "cell_type": "code",
   "execution_count": 286,
   "id": "0396c9b3-e615-426e-be22-ca924ede29cc",
   "metadata": {},
   "outputs": [
    {
     "data": {
      "text/plain": [
       "TimedeltaIndex(['0 days 00:00:00.000005', '1 days 00:00:00'], dtype='timedelta64[ns]', freq=None)"
      ]
     },
     "execution_count": 286,
     "metadata": {},
     "output_type": "execute_result"
    }
   ],
   "source": [
    "m = [\"5us\", pd.Timedelta(\"1day\")]\n",
    "pd.to_timedelta(m)"
   ]
  },
  {
   "cell_type": "markdown",
   "id": "5c7fad57-0fa9-46a6-976f-b34a4f96f36c",
   "metadata": {},
   "source": [
    "To force a conversion, we can pass in an errors argument, which specifies how pandas should deal with elements that cannot be converted to desired dtype or object. By default, errors='raise', meaning that any errors encountered will be raised during the conversion process. However, if errors='coerce', these errors will be ignored and pandas will convert problematic elements to pd.NaT (for datetime and timedelta) or np.nan (for numeric). This might be useful if you are reading in data which is mostly of the desired dtype (e.g. numeric, datetime), but occasionally has non-conforming elements intermixed that you want to represent as missing:"
   ]
  },
  {
   "cell_type": "code",
   "execution_count": 287,
   "id": "a46348a2-81c8-45a2-950a-efcacd04dcf5",
   "metadata": {},
   "outputs": [
    {
     "data": {
      "text/plain": [
       "DatetimeIndex(['NaT', '2016-03-02'], dtype='datetime64[ns]', freq=None)"
      ]
     },
     "execution_count": 287,
     "metadata": {},
     "output_type": "execute_result"
    }
   ],
   "source": [
    "import datetime\n",
    "m = [\"apple\", datetime.datetime(2016, 3, 2)]\n",
    "pd.to_datetime(m, errors=\"coerce\")"
   ]
  },
  {
   "cell_type": "code",
   "execution_count": 288,
   "id": "bbc35e67-bb27-48be-aac2-d8fe2b673fed",
   "metadata": {},
   "outputs": [
    {
     "data": {
      "text/plain": [
       "array([nan,  2.,  3.])"
      ]
     },
     "execution_count": 288,
     "metadata": {},
     "output_type": "execute_result"
    }
   ],
   "source": [
    "m = [\"apple\", 2, 3]\n",
    "pd.to_numeric(m, errors=\"coerce\")"
   ]
  },
  {
   "cell_type": "code",
   "execution_count": 289,
   "id": "d9bb29cd-cd71-49f9-b908-b80c08eb3d2c",
   "metadata": {},
   "outputs": [
    {
     "data": {
      "text/plain": [
       "TimedeltaIndex([NaT, '1 days'], dtype='timedelta64[ns]', freq=None)"
      ]
     },
     "execution_count": 289,
     "metadata": {},
     "output_type": "execute_result"
    }
   ],
   "source": [
    "m = [\"apple\", pd.Timedelta(\"1day\")]\n",
    "pd.to_timedelta(m, errors=\"coerce\")"
   ]
  },
  {
   "cell_type": "markdown",
   "id": "98bffb9d-2a9f-4564-b03c-4d07e896f1fe",
   "metadata": {},
   "source": [
    "The errors parameter has a third option of errors='ignore', which will simply return the passed in data if it encounters any errors with the conversion to a desired data type:"
   ]
  },
  {
   "cell_type": "code",
   "execution_count": 290,
   "id": "9c4ac183-e24f-461d-9aab-cdc1e99db3d5",
   "metadata": {},
   "outputs": [
    {
     "data": {
      "text/plain": [
       "Index(['apple', 2016-03-02 00:00:00], dtype='object')"
      ]
     },
     "execution_count": 290,
     "metadata": {},
     "output_type": "execute_result"
    }
   ],
   "source": [
    "import datetime\n",
    "m = [\"apple\", datetime.datetime(2016, 3, 2)]\n",
    "pd.to_datetime(m, errors=\"ignore\")"
   ]
  },
  {
   "cell_type": "code",
   "execution_count": 291,
   "id": "0a187573-a954-4ea9-ac3f-281503fd5045",
   "metadata": {},
   "outputs": [
    {
     "data": {
      "text/plain": [
       "array(['apple', 2, 3], dtype=object)"
      ]
     },
     "execution_count": 291,
     "metadata": {},
     "output_type": "execute_result"
    }
   ],
   "source": [
    "m = [\"apple\", 2, 3]\n",
    "pd.to_numeric(m, errors=\"ignore\")"
   ]
  },
  {
   "cell_type": "code",
   "execution_count": 292,
   "id": "2750f522-b3ab-4ab0-b887-91a38bcf2688",
   "metadata": {},
   "outputs": [
    {
     "data": {
      "text/plain": [
       "array(['apple', Timedelta('1 days 00:00:00')], dtype=object)"
      ]
     },
     "execution_count": 292,
     "metadata": {},
     "output_type": "execute_result"
    }
   ],
   "source": [
    "m = [\"apple\", pd.Timedelta(\"1day\")]\n",
    "pd.to_timedelta(m, errors=\"ignore\")"
   ]
  },
  {
   "cell_type": "markdown",
   "id": "3f82eb10-ee6f-45a1-b357-ec622565e11e",
   "metadata": {},
   "source": [
    "In addition to object conversion, to_numeric() provides another argument downcast, which gives the option of downcasting the newly (or already) numeric data to a smaller dtype, which can conserve memory:"
   ]
  },
  {
   "cell_type": "code",
   "execution_count": 293,
   "id": "e8495598-e11c-4e4c-a5cd-54c18d224e26",
   "metadata": {},
   "outputs": [
    {
     "data": {
      "text/plain": [
       "array([1, 2, 3], dtype=int8)"
      ]
     },
     "execution_count": 293,
     "metadata": {},
     "output_type": "execute_result"
    }
   ],
   "source": [
    "m = [\"1\", 2, 3]\n",
    "pd.to_numeric(m, downcast=\"integer\")  # smallest signed int dtype"
   ]
  },
  {
   "cell_type": "code",
   "execution_count": 294,
   "id": "bceb084f-5d61-4fd7-adfe-81bc4d5b8c78",
   "metadata": {},
   "outputs": [
    {
     "data": {
      "text/plain": [
       "array([1, 2, 3], dtype=int8)"
      ]
     },
     "execution_count": 294,
     "metadata": {},
     "output_type": "execute_result"
    }
   ],
   "source": [
    "pd.to_numeric(m, downcast=\"signed\")  # same as 'integer'"
   ]
  },
  {
   "cell_type": "code",
   "execution_count": 295,
   "id": "322a2e8a-8867-475a-9a20-9ab203c319c0",
   "metadata": {},
   "outputs": [
    {
     "data": {
      "text/plain": [
       "array([1, 2, 3], dtype=uint8)"
      ]
     },
     "execution_count": 295,
     "metadata": {},
     "output_type": "execute_result"
    }
   ],
   "source": [
    "pd.to_numeric(m, downcast=\"unsigned\")  # smallest unsigned int dtype"
   ]
  },
  {
   "cell_type": "code",
   "execution_count": 296,
   "id": "d436101a-c9b8-4512-99e9-3bf7fc3da715",
   "metadata": {},
   "outputs": [
    {
     "data": {
      "text/plain": [
       "array([1., 2., 3.], dtype=float32)"
      ]
     },
     "execution_count": 296,
     "metadata": {},
     "output_type": "execute_result"
    }
   ],
   "source": [
    "pd.to_numeric(m, downcast=\"float\")  # smallest float dtype"
   ]
  },
  {
   "cell_type": "markdown",
   "id": "2b8bc33e-83a5-40c8-8c1c-43b17b9f0aa2",
   "metadata": {},
   "source": [
    "As these methods apply only to one-dimensional arrays, lists or scalars; they cannot be used directly on multi-dimensional objects such as DataFrames. However, with apply(), we can “apply” the function over each column efficiently:"
   ]
  },
  {
   "cell_type": "code",
   "execution_count": 297,
   "id": "a7bd0e25-4df4-4a76-9ba2-df0be478cd2c",
   "metadata": {},
   "outputs": [
    {
     "data": {
      "text/html": [
       "<div>\n",
       "<style scoped>\n",
       "    .dataframe tbody tr th:only-of-type {\n",
       "        vertical-align: middle;\n",
       "    }\n",
       "\n",
       "    .dataframe tbody tr th {\n",
       "        vertical-align: top;\n",
       "    }\n",
       "\n",
       "    .dataframe thead th {\n",
       "        text-align: right;\n",
       "    }\n",
       "</style>\n",
       "<table border=\"1\" class=\"dataframe\">\n",
       "  <thead>\n",
       "    <tr style=\"text-align: right;\">\n",
       "      <th></th>\n",
       "      <th>0</th>\n",
       "      <th>1</th>\n",
       "    </tr>\n",
       "  </thead>\n",
       "  <tbody>\n",
       "    <tr>\n",
       "      <th>0</th>\n",
       "      <td>2016-07-09</td>\n",
       "      <td>2016-03-02 00:00:00</td>\n",
       "    </tr>\n",
       "    <tr>\n",
       "      <th>1</th>\n",
       "      <td>2016-07-09</td>\n",
       "      <td>2016-03-02 00:00:00</td>\n",
       "    </tr>\n",
       "  </tbody>\n",
       "</table>\n",
       "</div>"
      ],
      "text/plain": [
       "            0                    1\n",
       "0  2016-07-09  2016-03-02 00:00:00\n",
       "1  2016-07-09  2016-03-02 00:00:00"
      ]
     },
     "execution_count": 297,
     "metadata": {},
     "output_type": "execute_result"
    }
   ],
   "source": [
    "import datetime\n",
    "df = pd.DataFrame([[\"2016-07-09\", datetime.datetime(2016, 3, 2)]] * 2, dtype=\"O\")\n",
    "df"
   ]
  },
  {
   "cell_type": "code",
   "execution_count": 298,
   "id": "2623bce2-4fc8-4ccf-9c61-4f53c294af58",
   "metadata": {},
   "outputs": [
    {
     "data": {
      "text/html": [
       "<div>\n",
       "<style scoped>\n",
       "    .dataframe tbody tr th:only-of-type {\n",
       "        vertical-align: middle;\n",
       "    }\n",
       "\n",
       "    .dataframe tbody tr th {\n",
       "        vertical-align: top;\n",
       "    }\n",
       "\n",
       "    .dataframe thead th {\n",
       "        text-align: right;\n",
       "    }\n",
       "</style>\n",
       "<table border=\"1\" class=\"dataframe\">\n",
       "  <thead>\n",
       "    <tr style=\"text-align: right;\">\n",
       "      <th></th>\n",
       "      <th>0</th>\n",
       "      <th>1</th>\n",
       "    </tr>\n",
       "  </thead>\n",
       "  <tbody>\n",
       "    <tr>\n",
       "      <th>0</th>\n",
       "      <td>2016-07-09</td>\n",
       "      <td>2016-03-02</td>\n",
       "    </tr>\n",
       "    <tr>\n",
       "      <th>1</th>\n",
       "      <td>2016-07-09</td>\n",
       "      <td>2016-03-02</td>\n",
       "    </tr>\n",
       "  </tbody>\n",
       "</table>\n",
       "</div>"
      ],
      "text/plain": [
       "           0          1\n",
       "0 2016-07-09 2016-03-02\n",
       "1 2016-07-09 2016-03-02"
      ]
     },
     "execution_count": 298,
     "metadata": {},
     "output_type": "execute_result"
    }
   ],
   "source": [
    "df.apply(pd.to_datetime)"
   ]
  },
  {
   "cell_type": "code",
   "execution_count": 299,
   "id": "ff97a29f-ba1b-462a-8512-1b9fc655df89",
   "metadata": {},
   "outputs": [
    {
     "data": {
      "text/html": [
       "<div>\n",
       "<style scoped>\n",
       "    .dataframe tbody tr th:only-of-type {\n",
       "        vertical-align: middle;\n",
       "    }\n",
       "\n",
       "    .dataframe tbody tr th {\n",
       "        vertical-align: top;\n",
       "    }\n",
       "\n",
       "    .dataframe thead th {\n",
       "        text-align: right;\n",
       "    }\n",
       "</style>\n",
       "<table border=\"1\" class=\"dataframe\">\n",
       "  <thead>\n",
       "    <tr style=\"text-align: right;\">\n",
       "      <th></th>\n",
       "      <th>0</th>\n",
       "      <th>1</th>\n",
       "      <th>2</th>\n",
       "    </tr>\n",
       "  </thead>\n",
       "  <tbody>\n",
       "    <tr>\n",
       "      <th>0</th>\n",
       "      <td>1.1</td>\n",
       "      <td>2</td>\n",
       "      <td>3</td>\n",
       "    </tr>\n",
       "    <tr>\n",
       "      <th>1</th>\n",
       "      <td>1.1</td>\n",
       "      <td>2</td>\n",
       "      <td>3</td>\n",
       "    </tr>\n",
       "  </tbody>\n",
       "</table>\n",
       "</div>"
      ],
      "text/plain": [
       "     0  1  2\n",
       "0  1.1  2  3\n",
       "1  1.1  2  3"
      ]
     },
     "execution_count": 299,
     "metadata": {},
     "output_type": "execute_result"
    }
   ],
   "source": [
    "df = pd.DataFrame([[\"1.1\", 2, 3]] * 2, dtype=\"O\")\n",
    "df"
   ]
  },
  {
   "cell_type": "code",
   "execution_count": 300,
   "id": "b69da4ec-6af0-44fe-813a-a3838e1227b9",
   "metadata": {},
   "outputs": [
    {
     "data": {
      "text/html": [
       "<div>\n",
       "<style scoped>\n",
       "    .dataframe tbody tr th:only-of-type {\n",
       "        vertical-align: middle;\n",
       "    }\n",
       "\n",
       "    .dataframe tbody tr th {\n",
       "        vertical-align: top;\n",
       "    }\n",
       "\n",
       "    .dataframe thead th {\n",
       "        text-align: right;\n",
       "    }\n",
       "</style>\n",
       "<table border=\"1\" class=\"dataframe\">\n",
       "  <thead>\n",
       "    <tr style=\"text-align: right;\">\n",
       "      <th></th>\n",
       "      <th>0</th>\n",
       "      <th>1</th>\n",
       "      <th>2</th>\n",
       "    </tr>\n",
       "  </thead>\n",
       "  <tbody>\n",
       "    <tr>\n",
       "      <th>0</th>\n",
       "      <td>1.1</td>\n",
       "      <td>2</td>\n",
       "      <td>3</td>\n",
       "    </tr>\n",
       "    <tr>\n",
       "      <th>1</th>\n",
       "      <td>1.1</td>\n",
       "      <td>2</td>\n",
       "      <td>3</td>\n",
       "    </tr>\n",
       "  </tbody>\n",
       "</table>\n",
       "</div>"
      ],
      "text/plain": [
       "     0  1  2\n",
       "0  1.1  2  3\n",
       "1  1.1  2  3"
      ]
     },
     "execution_count": 300,
     "metadata": {},
     "output_type": "execute_result"
    }
   ],
   "source": [
    "df.apply(pd.to_numeric)"
   ]
  },
  {
   "cell_type": "code",
   "execution_count": 301,
   "id": "bc665af4-4805-45a7-8b84-f6203bb44454",
   "metadata": {},
   "outputs": [
    {
     "data": {
      "text/html": [
       "<div>\n",
       "<style scoped>\n",
       "    .dataframe tbody tr th:only-of-type {\n",
       "        vertical-align: middle;\n",
       "    }\n",
       "\n",
       "    .dataframe tbody tr th {\n",
       "        vertical-align: top;\n",
       "    }\n",
       "\n",
       "    .dataframe thead th {\n",
       "        text-align: right;\n",
       "    }\n",
       "</style>\n",
       "<table border=\"1\" class=\"dataframe\">\n",
       "  <thead>\n",
       "    <tr style=\"text-align: right;\">\n",
       "      <th></th>\n",
       "      <th>0</th>\n",
       "      <th>1</th>\n",
       "    </tr>\n",
       "  </thead>\n",
       "  <tbody>\n",
       "    <tr>\n",
       "      <th>0</th>\n",
       "      <td>5us</td>\n",
       "      <td>1 days 00:00:00</td>\n",
       "    </tr>\n",
       "    <tr>\n",
       "      <th>1</th>\n",
       "      <td>5us</td>\n",
       "      <td>1 days 00:00:00</td>\n",
       "    </tr>\n",
       "  </tbody>\n",
       "</table>\n",
       "</div>"
      ],
      "text/plain": [
       "     0                1\n",
       "0  5us  1 days 00:00:00\n",
       "1  5us  1 days 00:00:00"
      ]
     },
     "execution_count": 301,
     "metadata": {},
     "output_type": "execute_result"
    }
   ],
   "source": [
    "df = pd.DataFrame([[\"5us\", pd.Timedelta(\"1day\")]] * 2, dtype=\"O\")\n",
    "df"
   ]
  },
  {
   "cell_type": "code",
   "execution_count": 302,
   "id": "954087a2-9c6f-410c-831b-b8c3bd8e7733",
   "metadata": {},
   "outputs": [
    {
     "data": {
      "text/html": [
       "<div>\n",
       "<style scoped>\n",
       "    .dataframe tbody tr th:only-of-type {\n",
       "        vertical-align: middle;\n",
       "    }\n",
       "\n",
       "    .dataframe tbody tr th {\n",
       "        vertical-align: top;\n",
       "    }\n",
       "\n",
       "    .dataframe thead th {\n",
       "        text-align: right;\n",
       "    }\n",
       "</style>\n",
       "<table border=\"1\" class=\"dataframe\">\n",
       "  <thead>\n",
       "    <tr style=\"text-align: right;\">\n",
       "      <th></th>\n",
       "      <th>0</th>\n",
       "      <th>1</th>\n",
       "    </tr>\n",
       "  </thead>\n",
       "  <tbody>\n",
       "    <tr>\n",
       "      <th>0</th>\n",
       "      <td>0 days 00:00:00.000005</td>\n",
       "      <td>1 days</td>\n",
       "    </tr>\n",
       "    <tr>\n",
       "      <th>1</th>\n",
       "      <td>0 days 00:00:00.000005</td>\n",
       "      <td>1 days</td>\n",
       "    </tr>\n",
       "  </tbody>\n",
       "</table>\n",
       "</div>"
      ],
      "text/plain": [
       "                       0      1\n",
       "0 0 days 00:00:00.000005 1 days\n",
       "1 0 days 00:00:00.000005 1 days"
      ]
     },
     "execution_count": 302,
     "metadata": {},
     "output_type": "execute_result"
    }
   ],
   "source": [
    "df.apply(pd.to_timedelta)"
   ]
  },
  {
   "cell_type": "markdown",
   "id": "f9a21318-ac5f-4ea6-9168-5d9bc12344d2",
   "metadata": {},
   "source": [
    "### gotchas\n",
    "Performing selection operations on integer type data can easily upcast the data to floating. The dtype of the input data will be preserved in cases where nans are not introduced. See also Support for integer NA."
   ]
  },
  {
   "cell_type": "code",
   "execution_count": 303,
   "id": "26521b46-3512-4791-b730-e544b9bbbd43",
   "metadata": {},
   "outputs": [
    {
     "data": {
      "text/html": [
       "<div>\n",
       "<style scoped>\n",
       "    .dataframe tbody tr th:only-of-type {\n",
       "        vertical-align: middle;\n",
       "    }\n",
       "\n",
       "    .dataframe tbody tr th {\n",
       "        vertical-align: top;\n",
       "    }\n",
       "\n",
       "    .dataframe thead th {\n",
       "        text-align: right;\n",
       "    }\n",
       "</style>\n",
       "<table border=\"1\" class=\"dataframe\">\n",
       "  <thead>\n",
       "    <tr style=\"text-align: right;\">\n",
       "      <th></th>\n",
       "      <th>A</th>\n",
       "      <th>B</th>\n",
       "      <th>C</th>\n",
       "      <th>E</th>\n",
       "    </tr>\n",
       "  </thead>\n",
       "  <tbody>\n",
       "    <tr>\n",
       "      <th>0</th>\n",
       "      <td>0</td>\n",
       "      <td>-2</td>\n",
       "      <td>1</td>\n",
       "      <td>1</td>\n",
       "    </tr>\n",
       "    <tr>\n",
       "      <th>1</th>\n",
       "      <td>0</td>\n",
       "      <td>0</td>\n",
       "      <td>0</td>\n",
       "      <td>1</td>\n",
       "    </tr>\n",
       "    <tr>\n",
       "      <th>2</th>\n",
       "      <td>0</td>\n",
       "      <td>0</td>\n",
       "      <td>1</td>\n",
       "      <td>1</td>\n",
       "    </tr>\n",
       "    <tr>\n",
       "      <th>3</th>\n",
       "      <td>0</td>\n",
       "      <td>-1</td>\n",
       "      <td>0</td>\n",
       "      <td>1</td>\n",
       "    </tr>\n",
       "    <tr>\n",
       "      <th>4</th>\n",
       "      <td>2</td>\n",
       "      <td>0</td>\n",
       "      <td>0</td>\n",
       "      <td>1</td>\n",
       "    </tr>\n",
       "    <tr>\n",
       "      <th>5</th>\n",
       "      <td>0</td>\n",
       "      <td>0</td>\n",
       "      <td>0</td>\n",
       "      <td>1</td>\n",
       "    </tr>\n",
       "    <tr>\n",
       "      <th>6</th>\n",
       "      <td>-1</td>\n",
       "      <td>0</td>\n",
       "      <td>1</td>\n",
       "      <td>1</td>\n",
       "    </tr>\n",
       "    <tr>\n",
       "      <th>7</th>\n",
       "      <td>-1</td>\n",
       "      <td>0</td>\n",
       "      <td>0</td>\n",
       "      <td>1</td>\n",
       "    </tr>\n",
       "  </tbody>\n",
       "</table>\n",
       "</div>"
      ],
      "text/plain": [
       "   A  B  C  E\n",
       "0  0 -2  1  1\n",
       "1  0  0  0  1\n",
       "2  0  0  1  1\n",
       "3  0 -1  0  1\n",
       "4  2  0  0  1\n",
       "5  0  0  0  1\n",
       "6 -1  0  1  1\n",
       "7 -1  0  0  1"
      ]
     },
     "execution_count": 303,
     "metadata": {},
     "output_type": "execute_result"
    }
   ],
   "source": [
    "dfi = df3.astype(\"int32\")\n",
    "dfi[\"E\"] = 1\n",
    "dfi"
   ]
  },
  {
   "cell_type": "code",
   "execution_count": 304,
   "id": "b94ca2b7-1302-47a7-96a0-8426752a89b9",
   "metadata": {},
   "outputs": [
    {
     "data": {
      "text/plain": [
       "A    int32\n",
       "B    int32\n",
       "C    int32\n",
       "E    int64\n",
       "dtype: object"
      ]
     },
     "execution_count": 304,
     "metadata": {},
     "output_type": "execute_result"
    }
   ],
   "source": [
    "dfi.dtypes"
   ]
  },
  {
   "cell_type": "code",
   "execution_count": 305,
   "id": "5aa68177-1eb5-49ba-ad5b-423ef7def27c",
   "metadata": {},
   "outputs": [
    {
     "data": {
      "text/html": [
       "<div>\n",
       "<style scoped>\n",
       "    .dataframe tbody tr th:only-of-type {\n",
       "        vertical-align: middle;\n",
       "    }\n",
       "\n",
       "    .dataframe tbody tr th {\n",
       "        vertical-align: top;\n",
       "    }\n",
       "\n",
       "    .dataframe thead th {\n",
       "        text-align: right;\n",
       "    }\n",
       "</style>\n",
       "<table border=\"1\" class=\"dataframe\">\n",
       "  <thead>\n",
       "    <tr style=\"text-align: right;\">\n",
       "      <th></th>\n",
       "      <th>A</th>\n",
       "      <th>B</th>\n",
       "      <th>C</th>\n",
       "      <th>E</th>\n",
       "    </tr>\n",
       "  </thead>\n",
       "  <tbody>\n",
       "    <tr>\n",
       "      <th>0</th>\n",
       "      <td>NaN</td>\n",
       "      <td>NaN</td>\n",
       "      <td>1.0</td>\n",
       "      <td>1</td>\n",
       "    </tr>\n",
       "    <tr>\n",
       "      <th>1</th>\n",
       "      <td>NaN</td>\n",
       "      <td>NaN</td>\n",
       "      <td>NaN</td>\n",
       "      <td>1</td>\n",
       "    </tr>\n",
       "    <tr>\n",
       "      <th>2</th>\n",
       "      <td>NaN</td>\n",
       "      <td>NaN</td>\n",
       "      <td>1.0</td>\n",
       "      <td>1</td>\n",
       "    </tr>\n",
       "    <tr>\n",
       "      <th>3</th>\n",
       "      <td>NaN</td>\n",
       "      <td>NaN</td>\n",
       "      <td>NaN</td>\n",
       "      <td>1</td>\n",
       "    </tr>\n",
       "    <tr>\n",
       "      <th>4</th>\n",
       "      <td>2.0</td>\n",
       "      <td>NaN</td>\n",
       "      <td>NaN</td>\n",
       "      <td>1</td>\n",
       "    </tr>\n",
       "    <tr>\n",
       "      <th>5</th>\n",
       "      <td>NaN</td>\n",
       "      <td>NaN</td>\n",
       "      <td>NaN</td>\n",
       "      <td>1</td>\n",
       "    </tr>\n",
       "    <tr>\n",
       "      <th>6</th>\n",
       "      <td>NaN</td>\n",
       "      <td>NaN</td>\n",
       "      <td>1.0</td>\n",
       "      <td>1</td>\n",
       "    </tr>\n",
       "    <tr>\n",
       "      <th>7</th>\n",
       "      <td>NaN</td>\n",
       "      <td>NaN</td>\n",
       "      <td>NaN</td>\n",
       "      <td>1</td>\n",
       "    </tr>\n",
       "  </tbody>\n",
       "</table>\n",
       "</div>"
      ],
      "text/plain": [
       "     A   B    C  E\n",
       "0  NaN NaN  1.0  1\n",
       "1  NaN NaN  NaN  1\n",
       "2  NaN NaN  1.0  1\n",
       "3  NaN NaN  NaN  1\n",
       "4  2.0 NaN  NaN  1\n",
       "5  NaN NaN  NaN  1\n",
       "6  NaN NaN  1.0  1\n",
       "7  NaN NaN  NaN  1"
      ]
     },
     "execution_count": 305,
     "metadata": {},
     "output_type": "execute_result"
    }
   ],
   "source": [
    "casted = dfi[dfi > 0]\n",
    "casted"
   ]
  },
  {
   "cell_type": "code",
   "execution_count": 306,
   "id": "f4f1461f-b777-45cf-a585-cd34617f1b64",
   "metadata": {},
   "outputs": [
    {
     "data": {
      "text/plain": [
       "A    float64\n",
       "B    float64\n",
       "C    float64\n",
       "E      int64\n",
       "dtype: object"
      ]
     },
     "execution_count": 306,
     "metadata": {},
     "output_type": "execute_result"
    }
   ],
   "source": [
    "casted.dtypes"
   ]
  },
  {
   "cell_type": "markdown",
   "id": "1f06cb8d-aca0-4a94-89a7-8271cd62374d",
   "metadata": {},
   "source": [
    "While float dtypes are unchanged."
   ]
  },
  {
   "cell_type": "code",
   "execution_count": 307,
   "id": "3a2613d1-2deb-40ab-b565-3dbedf39418b",
   "metadata": {},
   "outputs": [
    {
     "data": {
      "text/plain": [
       "A    float32\n",
       "B    float64\n",
       "C    float64\n",
       "dtype: object"
      ]
     },
     "execution_count": 307,
     "metadata": {},
     "output_type": "execute_result"
    }
   ],
   "source": [
    "dfa = df3.copy()\n",
    "dfa[\"A\"] = dfa[\"A\"].astype(\"float32\")\n",
    "dfa.dtypes"
   ]
  },
  {
   "cell_type": "code",
   "execution_count": 308,
   "id": "8662e74f-66c1-41d7-a146-5b505fc6ff4b",
   "metadata": {},
   "outputs": [
    {
     "data": {
      "text/html": [
       "<div>\n",
       "<style scoped>\n",
       "    .dataframe tbody tr th:only-of-type {\n",
       "        vertical-align: middle;\n",
       "    }\n",
       "\n",
       "    .dataframe tbody tr th {\n",
       "        vertical-align: top;\n",
       "    }\n",
       "\n",
       "    .dataframe thead th {\n",
       "        text-align: right;\n",
       "    }\n",
       "</style>\n",
       "<table border=\"1\" class=\"dataframe\">\n",
       "  <thead>\n",
       "    <tr style=\"text-align: right;\">\n",
       "      <th></th>\n",
       "      <th>A</th>\n",
       "      <th>B</th>\n",
       "      <th>C</th>\n",
       "    </tr>\n",
       "  </thead>\n",
       "  <tbody>\n",
       "    <tr>\n",
       "      <th>0</th>\n",
       "      <td>-0.124077</td>\n",
       "      <td>NaN</td>\n",
       "      <td>1.0</td>\n",
       "    </tr>\n",
       "    <tr>\n",
       "      <th>1</th>\n",
       "      <td>0.403821</td>\n",
       "      <td>0.322661</td>\n",
       "      <td>NaN</td>\n",
       "    </tr>\n",
       "    <tr>\n",
       "      <th>2</th>\n",
       "      <td>NaN</td>\n",
       "      <td>NaN</td>\n",
       "      <td>1.0</td>\n",
       "    </tr>\n",
       "    <tr>\n",
       "      <th>3</th>\n",
       "      <td>0.825529</td>\n",
       "      <td>NaN</td>\n",
       "      <td>NaN</td>\n",
       "    </tr>\n",
       "    <tr>\n",
       "      <th>4</th>\n",
       "      <td>2.531179</td>\n",
       "      <td>0.856748</td>\n",
       "      <td>NaN</td>\n",
       "    </tr>\n",
       "    <tr>\n",
       "      <th>5</th>\n",
       "      <td>NaN</td>\n",
       "      <td>NaN</td>\n",
       "      <td>NaN</td>\n",
       "    </tr>\n",
       "    <tr>\n",
       "      <th>6</th>\n",
       "      <td>NaN</td>\n",
       "      <td>0.502388</td>\n",
       "      <td>1.0</td>\n",
       "    </tr>\n",
       "    <tr>\n",
       "      <th>7</th>\n",
       "      <td>NaN</td>\n",
       "      <td>NaN</td>\n",
       "      <td>NaN</td>\n",
       "    </tr>\n",
       "  </tbody>\n",
       "</table>\n",
       "</div>"
      ],
      "text/plain": [
       "          A         B    C\n",
       "0 -0.124077       NaN  1.0\n",
       "1  0.403821  0.322661  NaN\n",
       "2       NaN       NaN  1.0\n",
       "3  0.825529       NaN  NaN\n",
       "4  2.531179  0.856748  NaN\n",
       "5       NaN       NaN  NaN\n",
       "6       NaN  0.502388  1.0\n",
       "7       NaN       NaN  NaN"
      ]
     },
     "execution_count": 308,
     "metadata": {},
     "output_type": "execute_result"
    }
   ],
   "source": [
    "casted = dfa[df2 > 0]\n",
    "casted"
   ]
  },
  {
   "cell_type": "code",
   "execution_count": 309,
   "id": "fbec56bd-2c6b-4997-bcba-7d230cf989e2",
   "metadata": {},
   "outputs": [
    {
     "data": {
      "text/plain": [
       "A    float32\n",
       "B    float64\n",
       "C    float64\n",
       "dtype: object"
      ]
     },
     "execution_count": 309,
     "metadata": {},
     "output_type": "execute_result"
    }
   ],
   "source": [
    "casted.dtypes"
   ]
  },
  {
   "cell_type": "markdown",
   "id": "469062a0-e1b5-441a-b748-64e62a842271",
   "metadata": {},
   "source": [
    "## Selecting columns based on dtype\n",
    "The select_dtypes() method implements subsetting of columns based on their dtype.\n",
    "\n",
    "First, let’s create a DataFrame with a slew of different dtypes:"
   ]
  },
  {
   "cell_type": "code",
   "execution_count": 310,
   "id": "f9526e8d-5398-4722-86f3-3543099e781f",
   "metadata": {},
   "outputs": [
    {
     "data": {
      "text/html": [
       "<div>\n",
       "<style scoped>\n",
       "    .dataframe tbody tr th:only-of-type {\n",
       "        vertical-align: middle;\n",
       "    }\n",
       "\n",
       "    .dataframe tbody tr th {\n",
       "        vertical-align: top;\n",
       "    }\n",
       "\n",
       "    .dataframe thead th {\n",
       "        text-align: right;\n",
       "    }\n",
       "</style>\n",
       "<table border=\"1\" class=\"dataframe\">\n",
       "  <thead>\n",
       "    <tr style=\"text-align: right;\">\n",
       "      <th></th>\n",
       "      <th>string</th>\n",
       "      <th>int64</th>\n",
       "      <th>uint8</th>\n",
       "      <th>float64</th>\n",
       "      <th>bool1</th>\n",
       "      <th>bool2</th>\n",
       "      <th>dates</th>\n",
       "      <th>category</th>\n",
       "      <th>tdeltas</th>\n",
       "      <th>uint64</th>\n",
       "      <th>other_dates</th>\n",
       "      <th>tz_aware_dates</th>\n",
       "    </tr>\n",
       "  </thead>\n",
       "  <tbody>\n",
       "    <tr>\n",
       "      <th>0</th>\n",
       "      <td>a</td>\n",
       "      <td>1</td>\n",
       "      <td>3</td>\n",
       "      <td>4.0</td>\n",
       "      <td>True</td>\n",
       "      <td>False</td>\n",
       "      <td>2021-05-11 09:54:29.265797</td>\n",
       "      <td>A</td>\n",
       "      <td>NaT</td>\n",
       "      <td>3</td>\n",
       "      <td>2013-01-01</td>\n",
       "      <td>2013-01-01 00:00:00-05:00</td>\n",
       "    </tr>\n",
       "    <tr>\n",
       "      <th>1</th>\n",
       "      <td>b</td>\n",
       "      <td>2</td>\n",
       "      <td>4</td>\n",
       "      <td>5.0</td>\n",
       "      <td>False</td>\n",
       "      <td>True</td>\n",
       "      <td>2021-05-12 09:54:29.265797</td>\n",
       "      <td>B</td>\n",
       "      <td>1 days</td>\n",
       "      <td>4</td>\n",
       "      <td>2013-01-02</td>\n",
       "      <td>2013-01-02 00:00:00-05:00</td>\n",
       "    </tr>\n",
       "    <tr>\n",
       "      <th>2</th>\n",
       "      <td>c</td>\n",
       "      <td>3</td>\n",
       "      <td>5</td>\n",
       "      <td>6.0</td>\n",
       "      <td>True</td>\n",
       "      <td>False</td>\n",
       "      <td>2021-05-13 09:54:29.265797</td>\n",
       "      <td>C</td>\n",
       "      <td>1 days</td>\n",
       "      <td>5</td>\n",
       "      <td>2013-01-03</td>\n",
       "      <td>2013-01-03 00:00:00-05:00</td>\n",
       "    </tr>\n",
       "  </tbody>\n",
       "</table>\n",
       "</div>"
      ],
      "text/plain": [
       "  string  int64  uint8  float64  bool1  bool2                      dates  \\\n",
       "0      a      1      3      4.0   True  False 2021-05-11 09:54:29.265797   \n",
       "1      b      2      4      5.0  False   True 2021-05-12 09:54:29.265797   \n",
       "2      c      3      5      6.0   True  False 2021-05-13 09:54:29.265797   \n",
       "\n",
       "  category tdeltas  uint64 other_dates            tz_aware_dates  \n",
       "0        A     NaT       3  2013-01-01 2013-01-01 00:00:00-05:00  \n",
       "1        B  1 days       4  2013-01-02 2013-01-02 00:00:00-05:00  \n",
       "2        C  1 days       5  2013-01-03 2013-01-03 00:00:00-05:00  "
      ]
     },
     "execution_count": 310,
     "metadata": {},
     "output_type": "execute_result"
    }
   ],
   "source": [
    "df = pd.DataFrame(\n",
    "    {\n",
    "        \"string\": list(\"abc\"),\n",
    "        \"int64\": list(range(1, 4)),\n",
    "        \"uint8\": np.arange(3, 6).astype(\"u1\"),\n",
    "        \"float64\": np.arange(4.0, 7.0),\n",
    "        \"bool1\": [True, False, True],\n",
    "        \"bool2\": [False, True, False],\n",
    "        \"dates\": pd.date_range(\"now\", periods=3),\n",
    "        \"category\": pd.Series(list(\"ABC\")).astype(\"category\"),\n",
    "    }\n",
    ")\n",
    "\n",
    "df[\"tdeltas\"] = df.dates.diff()\n",
    "df[\"uint64\"] = np.arange(3, 6).astype(\"u8\")\n",
    "df[\"other_dates\"] = pd.date_range(\"20130101\", periods=3)\n",
    "df[\"tz_aware_dates\"] = pd.date_range(\"20130101\", periods=3, tz=\"US/Eastern\")\n",
    "df"
   ]
  },
  {
   "cell_type": "markdown",
   "id": "61ff820d-7209-442f-bb0d-0b0d6419b22f",
   "metadata": {},
   "source": [
    "And the dtypes:"
   ]
  },
  {
   "cell_type": "code",
   "execution_count": 311,
   "id": "9ff07572-eebd-4ad8-a401-cd02de4c2c38",
   "metadata": {},
   "outputs": [
    {
     "data": {
      "text/plain": [
       "string                                object\n",
       "int64                                  int64\n",
       "uint8                                  uint8\n",
       "float64                              float64\n",
       "bool1                                   bool\n",
       "bool2                                   bool\n",
       "dates                         datetime64[ns]\n",
       "category                            category\n",
       "tdeltas                      timedelta64[ns]\n",
       "uint64                                uint64\n",
       "other_dates                   datetime64[ns]\n",
       "tz_aware_dates    datetime64[ns, US/Eastern]\n",
       "dtype: object"
      ]
     },
     "execution_count": 311,
     "metadata": {},
     "output_type": "execute_result"
    }
   ],
   "source": [
    "df.dtypes"
   ]
  },
  {
   "cell_type": "markdown",
   "id": "82da5c9a-1c62-4540-9ef9-54d5c4a5f397",
   "metadata": {},
   "source": [
    "select_dtypes() has two parameters include and exclude that allow you to say “give me the columns with these dtypes” (include) and/or “give the columns without these dtypes” (exclude).\n",
    "\n",
    "For example, to select bool columns:"
   ]
  },
  {
   "cell_type": "code",
   "execution_count": 312,
   "id": "65098138-fc22-412d-b4d4-41ac2fb662f8",
   "metadata": {},
   "outputs": [
    {
     "data": {
      "text/html": [
       "<div>\n",
       "<style scoped>\n",
       "    .dataframe tbody tr th:only-of-type {\n",
       "        vertical-align: middle;\n",
       "    }\n",
       "\n",
       "    .dataframe tbody tr th {\n",
       "        vertical-align: top;\n",
       "    }\n",
       "\n",
       "    .dataframe thead th {\n",
       "        text-align: right;\n",
       "    }\n",
       "</style>\n",
       "<table border=\"1\" class=\"dataframe\">\n",
       "  <thead>\n",
       "    <tr style=\"text-align: right;\">\n",
       "      <th></th>\n",
       "      <th>bool1</th>\n",
       "      <th>bool2</th>\n",
       "    </tr>\n",
       "  </thead>\n",
       "  <tbody>\n",
       "    <tr>\n",
       "      <th>0</th>\n",
       "      <td>True</td>\n",
       "      <td>False</td>\n",
       "    </tr>\n",
       "    <tr>\n",
       "      <th>1</th>\n",
       "      <td>False</td>\n",
       "      <td>True</td>\n",
       "    </tr>\n",
       "    <tr>\n",
       "      <th>2</th>\n",
       "      <td>True</td>\n",
       "      <td>False</td>\n",
       "    </tr>\n",
       "  </tbody>\n",
       "</table>\n",
       "</div>"
      ],
      "text/plain": [
       "   bool1  bool2\n",
       "0   True  False\n",
       "1  False   True\n",
       "2   True  False"
      ]
     },
     "execution_count": 312,
     "metadata": {},
     "output_type": "execute_result"
    }
   ],
   "source": [
    "df.select_dtypes(include=[bool])"
   ]
  },
  {
   "cell_type": "markdown",
   "id": "afe3ab43-6ee3-4838-82ce-0d70aa68eb91",
   "metadata": {},
   "source": [
    "You can also pass the name of a dtype in the NumPy dtype hierarchy:"
   ]
  },
  {
   "cell_type": "code",
   "execution_count": 313,
   "id": "d77906ac-7b8a-469b-a382-0c9ddc227657",
   "metadata": {},
   "outputs": [
    {
     "data": {
      "text/html": [
       "<div>\n",
       "<style scoped>\n",
       "    .dataframe tbody tr th:only-of-type {\n",
       "        vertical-align: middle;\n",
       "    }\n",
       "\n",
       "    .dataframe tbody tr th {\n",
       "        vertical-align: top;\n",
       "    }\n",
       "\n",
       "    .dataframe thead th {\n",
       "        text-align: right;\n",
       "    }\n",
       "</style>\n",
       "<table border=\"1\" class=\"dataframe\">\n",
       "  <thead>\n",
       "    <tr style=\"text-align: right;\">\n",
       "      <th></th>\n",
       "      <th>bool1</th>\n",
       "      <th>bool2</th>\n",
       "    </tr>\n",
       "  </thead>\n",
       "  <tbody>\n",
       "    <tr>\n",
       "      <th>0</th>\n",
       "      <td>True</td>\n",
       "      <td>False</td>\n",
       "    </tr>\n",
       "    <tr>\n",
       "      <th>1</th>\n",
       "      <td>False</td>\n",
       "      <td>True</td>\n",
       "    </tr>\n",
       "    <tr>\n",
       "      <th>2</th>\n",
       "      <td>True</td>\n",
       "      <td>False</td>\n",
       "    </tr>\n",
       "  </tbody>\n",
       "</table>\n",
       "</div>"
      ],
      "text/plain": [
       "   bool1  bool2\n",
       "0   True  False\n",
       "1  False   True\n",
       "2   True  False"
      ]
     },
     "execution_count": 313,
     "metadata": {},
     "output_type": "execute_result"
    }
   ],
   "source": [
    "df.select_dtypes(include=[\"bool\"])"
   ]
  },
  {
   "cell_type": "markdown",
   "id": "f61cb807-4232-4ca2-8fed-2925b683df63",
   "metadata": {},
   "source": [
    "select_dtypes() also works with generic dtypes as well.\n",
    "\n",
    "For example, to select all numeric and boolean columns while excluding unsigned integers:"
   ]
  },
  {
   "cell_type": "code",
   "execution_count": 314,
   "id": "91cb27b3-891f-47c2-80c0-da2f3476a699",
   "metadata": {},
   "outputs": [
    {
     "data": {
      "text/html": [
       "<div>\n",
       "<style scoped>\n",
       "    .dataframe tbody tr th:only-of-type {\n",
       "        vertical-align: middle;\n",
       "    }\n",
       "\n",
       "    .dataframe tbody tr th {\n",
       "        vertical-align: top;\n",
       "    }\n",
       "\n",
       "    .dataframe thead th {\n",
       "        text-align: right;\n",
       "    }\n",
       "</style>\n",
       "<table border=\"1\" class=\"dataframe\">\n",
       "  <thead>\n",
       "    <tr style=\"text-align: right;\">\n",
       "      <th></th>\n",
       "      <th>int64</th>\n",
       "      <th>float64</th>\n",
       "      <th>bool1</th>\n",
       "      <th>bool2</th>\n",
       "      <th>tdeltas</th>\n",
       "    </tr>\n",
       "  </thead>\n",
       "  <tbody>\n",
       "    <tr>\n",
       "      <th>0</th>\n",
       "      <td>1</td>\n",
       "      <td>4.0</td>\n",
       "      <td>True</td>\n",
       "      <td>False</td>\n",
       "      <td>NaT</td>\n",
       "    </tr>\n",
       "    <tr>\n",
       "      <th>1</th>\n",
       "      <td>2</td>\n",
       "      <td>5.0</td>\n",
       "      <td>False</td>\n",
       "      <td>True</td>\n",
       "      <td>1 days</td>\n",
       "    </tr>\n",
       "    <tr>\n",
       "      <th>2</th>\n",
       "      <td>3</td>\n",
       "      <td>6.0</td>\n",
       "      <td>True</td>\n",
       "      <td>False</td>\n",
       "      <td>1 days</td>\n",
       "    </tr>\n",
       "  </tbody>\n",
       "</table>\n",
       "</div>"
      ],
      "text/plain": [
       "   int64  float64  bool1  bool2 tdeltas\n",
       "0      1      4.0   True  False     NaT\n",
       "1      2      5.0  False   True  1 days\n",
       "2      3      6.0   True  False  1 days"
      ]
     },
     "execution_count": 314,
     "metadata": {},
     "output_type": "execute_result"
    }
   ],
   "source": [
    "df.select_dtypes(include=[\"number\", \"bool\"], exclude=[\"unsignedinteger\"])"
   ]
  },
  {
   "cell_type": "markdown",
   "id": "2a069146-1299-4f76-9494-e8344a4475da",
   "metadata": {},
   "source": [
    "To select string columns you must use the object dtype:"
   ]
  },
  {
   "cell_type": "code",
   "execution_count": 315,
   "id": "fbf2a182-160e-410e-af98-d2edd114607f",
   "metadata": {},
   "outputs": [
    {
     "data": {
      "text/html": [
       "<div>\n",
       "<style scoped>\n",
       "    .dataframe tbody tr th:only-of-type {\n",
       "        vertical-align: middle;\n",
       "    }\n",
       "\n",
       "    .dataframe tbody tr th {\n",
       "        vertical-align: top;\n",
       "    }\n",
       "\n",
       "    .dataframe thead th {\n",
       "        text-align: right;\n",
       "    }\n",
       "</style>\n",
       "<table border=\"1\" class=\"dataframe\">\n",
       "  <thead>\n",
       "    <tr style=\"text-align: right;\">\n",
       "      <th></th>\n",
       "      <th>string</th>\n",
       "    </tr>\n",
       "  </thead>\n",
       "  <tbody>\n",
       "    <tr>\n",
       "      <th>0</th>\n",
       "      <td>a</td>\n",
       "    </tr>\n",
       "    <tr>\n",
       "      <th>1</th>\n",
       "      <td>b</td>\n",
       "    </tr>\n",
       "    <tr>\n",
       "      <th>2</th>\n",
       "      <td>c</td>\n",
       "    </tr>\n",
       "  </tbody>\n",
       "</table>\n",
       "</div>"
      ],
      "text/plain": [
       "  string\n",
       "0      a\n",
       "1      b\n",
       "2      c"
      ]
     },
     "execution_count": 315,
     "metadata": {},
     "output_type": "execute_result"
    }
   ],
   "source": [
    "df.select_dtypes(include=[\"object\"])"
   ]
  },
  {
   "cell_type": "markdown",
   "id": "df1cb53b-729c-4b62-9fa2-a3cd2146bf50",
   "metadata": {},
   "source": [
    "To see all the child dtypes of a generic dtype like numpy.number you can define a function that returns a tree of child dtypes:"
   ]
  },
  {
   "cell_type": "code",
   "execution_count": 316,
   "id": "6e3f0ca3-e2fd-4c0d-8d63-557f50ff1c0a",
   "metadata": {},
   "outputs": [],
   "source": [
    "def subdtypes(dtype):\n",
    "    subs = dtype.__subclasses__()\n",
    "    if not subs:\n",
    "        return dtype\n",
    "    return [dtype, [subdtypes(dt) for dt in subs]]"
   ]
  },
  {
   "cell_type": "markdown",
   "id": "e10fec86-4d5a-4ca4-95ae-cdca2ff679e4",
   "metadata": {},
   "source": [
    "All NumPy dtypes are subclasses of numpy.generic:"
   ]
  },
  {
   "cell_type": "code",
   "execution_count": 317,
   "id": "65f00ed7-cc94-4276-a467-f5de6dbb17b7",
   "metadata": {},
   "outputs": [
    {
     "data": {
      "text/plain": [
       "[numpy.generic,\n",
       " [[numpy.number,\n",
       "   [[numpy.integer,\n",
       "     [[numpy.signedinteger,\n",
       "       [numpy.int8,\n",
       "        numpy.int16,\n",
       "        numpy.intc,\n",
       "        numpy.int32,\n",
       "        numpy.int64,\n",
       "        numpy.timedelta64]],\n",
       "      [numpy.unsignedinteger,\n",
       "       [numpy.uint8, numpy.uint16, numpy.uintc, numpy.uint32, numpy.uint64]]]],\n",
       "    [numpy.inexact,\n",
       "     [[numpy.floating,\n",
       "       [numpy.float16, numpy.float32, numpy.float64, numpy.longdouble]],\n",
       "      [numpy.complexfloating,\n",
       "       [numpy.complex64, numpy.complex128, numpy.clongdouble]]]]]],\n",
       "  [numpy.flexible,\n",
       "   [[numpy.character, [numpy.bytes_, numpy.str_]],\n",
       "    [numpy.void, [numpy.record]]]],\n",
       "  numpy.bool_,\n",
       "  numpy.datetime64,\n",
       "  numpy.object_]]"
      ]
     },
     "execution_count": 317,
     "metadata": {},
     "output_type": "execute_result"
    }
   ],
   "source": [
    "subdtypes(np.generic)"
   ]
  },
  {
   "cell_type": "markdown",
   "id": "e01e2e2b-394a-44c2-a175-e5847452d757",
   "metadata": {},
   "source": [
    ">Note\n",
    ">\n",
    ">pandas also defines the types category, and datetime64[ns, tz], which are not integrated into the normal NumPy hierarchy and won’t show up with the above function."
   ]
  }
 ],
 "metadata": {
  "kernelspec": {
   "display_name": "eda_dev39",
   "language": "python",
   "name": "eda_dev39"
  },
  "language_info": {
   "codemirror_mode": {
    "name": "ipython",
    "version": 3
   },
   "file_extension": ".py",
   "mimetype": "text/x-python",
   "name": "python",
   "nbconvert_exporter": "python",
   "pygments_lexer": "ipython3",
   "version": "3.9.4"
  }
 },
 "nbformat": 4,
 "nbformat_minor": 5
}
